{
  "nbformat": 4,
  "nbformat_minor": 0,
  "metadata": {
    "colab": {
      "provenance": [],
      "toc_visible": true,
      "authorship_tag": "ABX9TyP1FdJTa1VUzmNdg7C/Ui2V",
      "include_colab_link": true
    },
    "kernelspec": {
      "name": "python3",
      "display_name": "Python 3"
    },
    "language_info": {
      "name": "python"
    }
  },
  "cells": [
    {
      "cell_type": "markdown",
      "metadata": {
        "id": "view-in-github",
        "colab_type": "text"
      },
      "source": [
        "<a href=\"https://colab.research.google.com/github/channmilee/Algorithm/blob/master/2_1_%EC%9E%90%EB%A3%8C%EA%B5%AC%EC%A1%B0%EC%99%80_%EB%B0%B0%EC%97%B4.ipynb\" target=\"_parent\"><img src=\"https://colab.research.google.com/assets/colab-badge.svg\" alt=\"Open In Colab\"/></a>"
      ]
    },
    {
      "cell_type": "markdown",
      "source": [
        "### 배열 개념 알아보기"
      ],
      "metadata": {
        "id": "2NBIfcHl39dW"
      }
    },
    {
      "cell_type": "markdown",
      "source": [
        "#### 실습 2-1."
      ],
      "metadata": {
        "id": "3soChCbK4RQC"
      }
    },
    {
      "cell_type": "markdown",
      "source": [
        "* 학생 5명의 시험 점수를 입력받아 합계와 평균 출력하기"
      ],
      "metadata": {
        "id": "0fuTrlLR4JBj"
      }
    },
    {
      "cell_type": "code",
      "source": [
        "print('학생 그룹 점수의 합계와 평균을 구합니다.')\n",
        "\n",
        "score1 = int(input('1번 학생의 점수를 입력하세요 : '))\n",
        "score2 = int(input('2번 학생의 점수를 입력하세요 : '))\n",
        "score3 = int(input('3번 학생의 점수를 입력하세요 : '))\n",
        "score4 = int(input('4번 학생의 점수를 입력하세요 : '))\n",
        "score5 = int(input('5번 학생의 점수를 입력하세요 : '))\n",
        "\n",
        "total = 0\n",
        "total += score1\n",
        "total += score2\n",
        "total += score3\n",
        "total += score4\n",
        "total += score5\n",
        "\n",
        "print(f'합계는 {total}점 입니다.')\n",
        "print(f'평균은 {total / 5}점 입니다.')"
      ],
      "metadata": {
        "colab": {
          "base_uri": "https://localhost:8080/"
        },
        "id": "kgr3i86z4Xek",
        "outputId": "2b83abc2-8b62-4b2d-cf92-5f450a8c3e77"
      },
      "execution_count": null,
      "outputs": [
        {
          "output_type": "stream",
          "name": "stdout",
          "text": [
            "학생 그룹 점수의 합계와 평균을 구합니다.\n",
            "1번 학생의 점수를 입력하세요 : 32\n",
            "2번 학생의 점수를 입력하세요 : 54\n",
            "3번 학생의 점수를 입력하세요 : 68\n",
            "4번 학생의 점수를 입력하세요 : 72\n",
            "5번 학생의 점수를 입력하세요 : 92\n",
            "합계는 318점 입니다.\n",
            "평균은 63.6점 입니다.\n"
          ]
        }
      ]
    },
    {
      "cell_type": "markdown",
      "source": [
        "### 리스트와 튜플 알아보기"
      ],
      "metadata": {
        "id": "xyzjSV7G4ztN"
      }
    },
    {
      "cell_type": "markdown",
      "source": [
        "* 뮤터블 자료형 : 리스트, 딕셔너리, 집합 / 값 변경 가능\n",
        "* 이뮤터블 자료형 : 수, 문자열, 튜플 / 값 변경 불가능"
      ],
      "metadata": {
        "id": "oQPVU_JNAUK0"
      }
    },
    {
      "cell_type": "markdown",
      "source": [
        "#### 리스트의 기초"
      ],
      "metadata": {
        "id": "tBJ5RVft5JDg"
      }
    },
    {
      "cell_type": "code",
      "source": [
        "list01 = []\n",
        "list01"
      ],
      "metadata": {
        "colab": {
          "base_uri": "https://localhost:8080/"
        },
        "id": "hT0Nef6n5Emg",
        "outputId": "79ed176b-d2ff-4026-bcae-31aa92439222"
      },
      "execution_count": null,
      "outputs": [
        {
          "output_type": "execute_result",
          "data": {
            "text/plain": [
              "[]"
            ]
          },
          "metadata": {},
          "execution_count": 27
        }
      ]
    },
    {
      "cell_type": "code",
      "source": [
        "list02 = [1,2,3]\n",
        "list02"
      ],
      "metadata": {
        "colab": {
          "base_uri": "https://localhost:8080/"
        },
        "id": "ujJmaLKE5Q-S",
        "outputId": "0b0fa2b1-0034-495c-b071-ac6f2a4616a7"
      },
      "execution_count": null,
      "outputs": [
        {
          "output_type": "execute_result",
          "data": {
            "text/plain": [
              "[1, 2, 3]"
            ]
          },
          "metadata": {},
          "execution_count": 4
        }
      ]
    },
    {
      "cell_type": "code",
      "source": [
        "list03 = ['A', 'B', 'C',]\n",
        "list03"
      ],
      "metadata": {
        "colab": {
          "base_uri": "https://localhost:8080/"
        },
        "id": "Zupesw0M5RcX",
        "outputId": "81b3d8ba-0a26-4800-d214-71e30a428e46"
      },
      "execution_count": null,
      "outputs": [
        {
          "output_type": "execute_result",
          "data": {
            "text/plain": [
              "['A', 'B', 'C']"
            ]
          },
          "metadata": {},
          "execution_count": 7
        }
      ]
    },
    {
      "cell_type": "markdown",
      "source": [
        "* list() 함수 사용"
      ],
      "metadata": {
        "id": "bRSTsv3o5uYq"
      }
    },
    {
      "cell_type": "code",
      "source": [
        "list04 = list()\n",
        "list04"
      ],
      "metadata": {
        "colab": {
          "base_uri": "https://localhost:8080/"
        },
        "id": "GDrNk1FI5j4R",
        "outputId": "00d28e12-9554-458e-9995-6d27416083b6"
      },
      "execution_count": null,
      "outputs": [
        {
          "output_type": "execute_result",
          "data": {
            "text/plain": [
              "[]"
            ]
          },
          "metadata": {},
          "execution_count": 9
        }
      ]
    },
    {
      "cell_type": "code",
      "source": [
        "list05 = list('ABC')\n",
        "list05"
      ],
      "metadata": {
        "colab": {
          "base_uri": "https://localhost:8080/"
        },
        "id": "BBDwfoXx5kuL",
        "outputId": "072861b4-4bec-4215-9107-506765d24373"
      },
      "execution_count": null,
      "outputs": [
        {
          "output_type": "execute_result",
          "data": {
            "text/plain": [
              "['A', 'B', 'C']"
            ]
          },
          "metadata": {},
          "execution_count": 10
        }
      ]
    },
    {
      "cell_type": "code",
      "source": [
        "list06 = list([1,2,3])\n",
        "list06"
      ],
      "metadata": {
        "colab": {
          "base_uri": "https://localhost:8080/"
        },
        "id": "hlQU0XuY5lsT",
        "outputId": "5f820a05-f425-4f58-faad-419ac43d6b49"
      },
      "execution_count": null,
      "outputs": [
        {
          "output_type": "execute_result",
          "data": {
            "text/plain": [
              "[1, 2, 3]"
            ]
          },
          "metadata": {},
          "execution_count": 11
        }
      ]
    },
    {
      "cell_type": "code",
      "source": [
        "list07 = list((1,2,3))\n",
        "list07"
      ],
      "metadata": {
        "colab": {
          "base_uri": "https://localhost:8080/"
        },
        "id": "cR2SN-U25ojs",
        "outputId": "16bb3e98-3b2b-4a39-c9f0-77d5010ecec9"
      },
      "execution_count": null,
      "outputs": [
        {
          "output_type": "execute_result",
          "data": {
            "text/plain": [
              "[1, 2, 3]"
            ]
          },
          "metadata": {},
          "execution_count": 12
        }
      ]
    },
    {
      "cell_type": "code",
      "source": [
        "list08 = list({1,2,3})\n",
        "list08"
      ],
      "metadata": {
        "colab": {
          "base_uri": "https://localhost:8080/"
        },
        "id": "b1sBbr995pwQ",
        "outputId": "7a3e1529-d93b-4870-ebac-3905f8b2ff3d"
      },
      "execution_count": null,
      "outputs": [
        {
          "output_type": "execute_result",
          "data": {
            "text/plain": [
              "[1, 2, 3]"
            ]
          },
          "metadata": {},
          "execution_count": 13
        }
      ]
    },
    {
      "cell_type": "markdown",
      "source": [
        "* range() 함수 사용"
      ],
      "metadata": {
        "id": "xF5_ugcP5xBR"
      }
    },
    {
      "cell_type": "code",
      "source": [
        "list09 = list(range(7))\n",
        "list09"
      ],
      "metadata": {
        "colab": {
          "base_uri": "https://localhost:8080/"
        },
        "id": "UsyS3Bzc54Bv",
        "outputId": "aa920310-f67c-4520-942f-d90b82d68978"
      },
      "execution_count": null,
      "outputs": [
        {
          "output_type": "execute_result",
          "data": {
            "text/plain": [
              "[0, 1, 2, 3, 4, 5, 6]"
            ]
          },
          "metadata": {},
          "execution_count": 15
        }
      ]
    },
    {
      "cell_type": "code",
      "source": [
        "list10 = list(range(3,8))\n",
        "list10"
      ],
      "metadata": {
        "colab": {
          "base_uri": "https://localhost:8080/"
        },
        "id": "W_MGMwpa54wc",
        "outputId": "b6b3d94c-5b17-4fc5-cbfe-71b3c55246d2"
      },
      "execution_count": null,
      "outputs": [
        {
          "output_type": "execute_result",
          "data": {
            "text/plain": [
              "[3, 4, 5, 6, 7]"
            ]
          },
          "metadata": {},
          "execution_count": 16
        }
      ]
    },
    {
      "cell_type": "code",
      "source": [
        "list11 = list(range(3,13,2))\n",
        "list11"
      ],
      "metadata": {
        "colab": {
          "base_uri": "https://localhost:8080/"
        },
        "id": "TDrpr5Bc55SN",
        "outputId": "bf6356aa-541a-481b-b78c-a2d062517402"
      },
      "execution_count": null,
      "outputs": [
        {
          "output_type": "execute_result",
          "data": {
            "text/plain": [
              "[3, 5, 7, 9, 11]"
            ]
          },
          "metadata": {},
          "execution_count": 17
        }
      ]
    },
    {
      "cell_type": "markdown",
      "source": [
        "* None을 활용해 원솟값을 정하지 않는 리스트 만들기"
      ],
      "metadata": {
        "id": "i_Eo2S1n5_A9"
      }
    },
    {
      "cell_type": "code",
      "source": [
        "list12 = [None]  * 5\n",
        "list12"
      ],
      "metadata": {
        "colab": {
          "base_uri": "https://localhost:8080/"
        },
        "id": "gv6ujUV86Ggt",
        "outputId": "9ff382b6-fb00-4e61-bd46-63e8f95ca95a"
      },
      "execution_count": null,
      "outputs": [
        {
          "output_type": "execute_result",
          "data": {
            "text/plain": [
              "[None, None, None, None, None]"
            ]
          },
          "metadata": {},
          "execution_count": 19
        }
      ]
    },
    {
      "cell_type": "markdown",
      "source": [
        "#### 튜플의 기초"
      ],
      "metadata": {
        "id": "kF0-JrXq6H7q"
      }
    },
    {
      "cell_type": "code",
      "source": [
        "tuple01 = ()\n",
        "tuple01"
      ],
      "metadata": {
        "colab": {
          "base_uri": "https://localhost:8080/"
        },
        "id": "7d89aeSz6O7m",
        "outputId": "f782dff6-a4bb-41fa-aea2-877cadb3aa58"
      },
      "execution_count": null,
      "outputs": [
        {
          "output_type": "execute_result",
          "data": {
            "text/plain": [
              "()"
            ]
          },
          "metadata": {},
          "execution_count": 21
        }
      ]
    },
    {
      "cell_type": "code",
      "source": [
        "# 원소가 하나인 경우 원소 뒤에 쉼표를 반드시 입력해야 함\n",
        "tuple02 = 1,\n",
        "tuple02"
      ],
      "metadata": {
        "colab": {
          "base_uri": "https://localhost:8080/"
        },
        "id": "dwqvYGWI6QE1",
        "outputId": "449512e7-5346-4ad0-c231-698743588e63"
      },
      "execution_count": null,
      "outputs": [
        {
          "output_type": "execute_result",
          "data": {
            "text/plain": [
              "(1,)"
            ]
          },
          "metadata": {},
          "execution_count": 22
        }
      ]
    },
    {
      "cell_type": "code",
      "source": [
        "# 원소가 하나인 경우 원소 뒤에 쉼표를 반드시 입력해야 함\n",
        "tuple03 = (1,)\n",
        "tuple03"
      ],
      "metadata": {
        "colab": {
          "base_uri": "https://localhost:8080/"
        },
        "id": "-CrYxYEe6Q0S",
        "outputId": "f44fb841-4af5-46b2-d218-7de8d6964749"
      },
      "execution_count": null,
      "outputs": [
        {
          "output_type": "execute_result",
          "data": {
            "text/plain": [
              "(1,)"
            ]
          },
          "metadata": {},
          "execution_count": 23
        }
      ]
    },
    {
      "cell_type": "code",
      "source": [
        "# 튜플이 아닌 하나의 값을 가진 int형 변수\n",
        "v01 = 1\n",
        "v01"
      ],
      "metadata": {
        "colab": {
          "base_uri": "https://localhost:8080/"
        },
        "id": "Sc8Ai2TC9L2_",
        "outputId": "18e41b3a-2d26-4769-f963-2dfef387b91c"
      },
      "execution_count": null,
      "outputs": [
        {
          "output_type": "execute_result",
          "data": {
            "text/plain": [
              "1"
            ]
          },
          "metadata": {},
          "execution_count": 33
        }
      ]
    },
    {
      "cell_type": "code",
      "source": [
        "tuple04 = 1,2,3\n",
        "tuple04"
      ],
      "metadata": {
        "colab": {
          "base_uri": "https://localhost:8080/"
        },
        "id": "D-lhL82w6efG",
        "outputId": "71b9a3c3-645e-4240-d6e9-7a4528412961"
      },
      "execution_count": null,
      "outputs": [
        {
          "output_type": "execute_result",
          "data": {
            "text/plain": [
              "(1, 2, 3)"
            ]
          },
          "metadata": {},
          "execution_count": 26
        }
      ]
    },
    {
      "cell_type": "code",
      "source": [
        "tuple05 = 1,2,3,\n",
        "tuple05"
      ],
      "metadata": {
        "colab": {
          "base_uri": "https://localhost:8080/"
        },
        "id": "wudVvJwv6hpD",
        "outputId": "f07a3738-cec0-4abf-e97b-5ee1d412a1b2"
      },
      "execution_count": null,
      "outputs": [
        {
          "output_type": "execute_result",
          "data": {
            "text/plain": [
              "(1, 2, 3)"
            ]
          },
          "metadata": {},
          "execution_count": 28
        }
      ]
    },
    {
      "cell_type": "code",
      "source": [
        "tuple06 = (1,2,3)\n",
        "tuple06"
      ],
      "metadata": {
        "colab": {
          "base_uri": "https://localhost:8080/"
        },
        "id": "bxg-6cFi84UZ",
        "outputId": "1e103b1e-c214-47b9-c8c4-56cec96a69b8"
      },
      "execution_count": null,
      "outputs": [
        {
          "output_type": "execute_result",
          "data": {
            "text/plain": [
              "(1, 2, 3)"
            ]
          },
          "metadata": {},
          "execution_count": 29
        }
      ]
    },
    {
      "cell_type": "code",
      "source": [
        "tuple07 = (1,2,3,)\n",
        "tuple07"
      ],
      "metadata": {
        "colab": {
          "base_uri": "https://localhost:8080/"
        },
        "id": "yXr_ZHbk86R_",
        "outputId": "b4aae742-a865-4b8b-a381-75b66509fa81"
      },
      "execution_count": null,
      "outputs": [
        {
          "output_type": "execute_result",
          "data": {
            "text/plain": [
              "(1, 2, 3)"
            ]
          },
          "metadata": {},
          "execution_count": 30
        }
      ]
    },
    {
      "cell_type": "code",
      "source": [
        "tuple08 = 'A', 'B', 'C',\n",
        "tuple08"
      ],
      "metadata": {
        "colab": {
          "base_uri": "https://localhost:8080/"
        },
        "id": "7uQPx2t788c2",
        "outputId": "15f321a1-c7f4-4c8b-b004-3dfcb1fd318d"
      },
      "execution_count": null,
      "outputs": [
        {
          "output_type": "execute_result",
          "data": {
            "text/plain": [
              "('A', 'B', 'C')"
            ]
          },
          "metadata": {},
          "execution_count": 32
        }
      ]
    },
    {
      "cell_type": "markdown",
      "source": [
        "* tuple 함수 사용"
      ],
      "metadata": {
        "id": "LKTosAs19XeM"
      }
    },
    {
      "cell_type": "code",
      "source": [
        "tuple09 = tuple()\n",
        "tuple09"
      ],
      "metadata": {
        "colab": {
          "base_uri": "https://localhost:8080/"
        },
        "id": "m4S_LQyj89dg",
        "outputId": "d25d26a2-483f-4601-e655-2307044a2b59"
      },
      "execution_count": null,
      "outputs": [
        {
          "output_type": "execute_result",
          "data": {
            "text/plain": [
              "()"
            ]
          },
          "metadata": {},
          "execution_count": 34
        }
      ]
    },
    {
      "cell_type": "code",
      "source": [
        "tuple10 = tuple('ABC')\n",
        "tuple10"
      ],
      "metadata": {
        "colab": {
          "base_uri": "https://localhost:8080/"
        },
        "id": "UGE66fHY9epN",
        "outputId": "b2536017-ce79-4628-8205-c9519300c889"
      },
      "execution_count": null,
      "outputs": [
        {
          "output_type": "execute_result",
          "data": {
            "text/plain": [
              "('A', 'B', 'C')"
            ]
          },
          "metadata": {},
          "execution_count": 35
        }
      ]
    },
    {
      "cell_type": "code",
      "source": [
        "tuple11 = tuple([1,2,3])\n",
        "tuple11"
      ],
      "metadata": {
        "colab": {
          "base_uri": "https://localhost:8080/"
        },
        "id": "Hh9f7F3X9hG1",
        "outputId": "9498da6f-6470-45cd-bd07-7a211b315020"
      },
      "execution_count": null,
      "outputs": [
        {
          "output_type": "execute_result",
          "data": {
            "text/plain": [
              "(1, 2, 3)"
            ]
          },
          "metadata": {},
          "execution_count": 36
        }
      ]
    },
    {
      "cell_type": "code",
      "source": [
        "tuple12 = tuple({1,2,3})\n",
        "tuple12"
      ],
      "metadata": {
        "colab": {
          "base_uri": "https://localhost:8080/"
        },
        "id": "Db_yl71u9jgi",
        "outputId": "40e6cf5c-95ae-42b1-dfea-604f2fdb3bfc"
      },
      "execution_count": null,
      "outputs": [
        {
          "output_type": "execute_result",
          "data": {
            "text/plain": [
              "(1, 2, 3)"
            ]
          },
          "metadata": {},
          "execution_count": 37
        }
      ]
    },
    {
      "cell_type": "markdown",
      "source": [
        "* range() 함수 사용"
      ],
      "metadata": {
        "id": "hK90xZ_l9oJB"
      }
    },
    {
      "cell_type": "code",
      "source": [
        "tuple13 = tuple(range(7))\n",
        "tuple13"
      ],
      "metadata": {
        "colab": {
          "base_uri": "https://localhost:8080/"
        },
        "id": "WQMg-3Xm9rCK",
        "outputId": "9fd06057-c4e3-4fbf-d38c-c2c7f78898cb"
      },
      "execution_count": null,
      "outputs": [
        {
          "output_type": "execute_result",
          "data": {
            "text/plain": [
              "(0, 1, 2, 3, 4, 5, 6)"
            ]
          },
          "metadata": {},
          "execution_count": 38
        }
      ]
    },
    {
      "cell_type": "code",
      "source": [
        "tuple14 = tuple(range(3,8))\n",
        "tuple14"
      ],
      "metadata": {
        "colab": {
          "base_uri": "https://localhost:8080/"
        },
        "id": "3mKKrZtg9u_T",
        "outputId": "1980741e-e3ec-4012-9419-93522ef07fac"
      },
      "execution_count": null,
      "outputs": [
        {
          "output_type": "execute_result",
          "data": {
            "text/plain": [
              "(3, 4, 5, 6, 7)"
            ]
          },
          "metadata": {},
          "execution_count": 39
        }
      ]
    },
    {
      "cell_type": "code",
      "source": [
        "tuple15 = tuple(range(3,13,2))\n",
        "tuple15"
      ],
      "metadata": {
        "colab": {
          "base_uri": "https://localhost:8080/"
        },
        "id": "Wxs0nJo99x_p",
        "outputId": "07bab877-3fb7-4a68-c06c-8296b86c98aa"
      },
      "execution_count": null,
      "outputs": [
        {
          "output_type": "execute_result",
          "data": {
            "text/plain": [
              "(3, 5, 7, 9, 11)"
            ]
          },
          "metadata": {},
          "execution_count": 40
        }
      ]
    },
    {
      "cell_type": "markdown",
      "source": [
        "#### 리스트와 튜플 풀어내기"
      ],
      "metadata": {
        "id": "gIh1Vw0M91QC"
      }
    },
    {
      "cell_type": "code",
      "source": [
        "X = [1,2,3]\n",
        "a,b,c = X   # X를 언팩하여 변수 a,b,c에 대입\n",
        "a,b,c"
      ],
      "metadata": {
        "colab": {
          "base_uri": "https://localhost:8080/"
        },
        "id": "GolG5SN894rC",
        "outputId": "c6c621e4-952f-43a0-e6fe-9eef012dabbd"
      },
      "execution_count": null,
      "outputs": [
        {
          "output_type": "execute_result",
          "data": {
            "text/plain": [
              "(1, 2, 3)"
            ]
          },
          "metadata": {},
          "execution_count": 41
        }
      ]
    },
    {
      "cell_type": "markdown",
      "source": [
        "#### 인덱스로 원소에 접근하기"
      ],
      "metadata": {
        "id": "g8RtA6WM-D3M"
      }
    },
    {
      "cell_type": "markdown",
      "source": [
        "* 인덱스식 사용하기"
      ],
      "metadata": {
        "id": "2GwGV5WL-LdD"
      }
    },
    {
      "cell_type": "code",
      "source": [
        "x = [11,22,33,44,55,66,77]"
      ],
      "metadata": {
        "id": "nwXzcCyG9_Ww"
      },
      "execution_count": null,
      "outputs": []
    },
    {
      "cell_type": "code",
      "source": [
        "# 리스트 x의 앞에서 3번째 원소 출력\n",
        "x[2]"
      ],
      "metadata": {
        "colab": {
          "base_uri": "https://localhost:8080/"
        },
        "id": "UBMtaWu4-Pnp",
        "outputId": "2c02e179-386d-4cb1-922c-4ca44f6b5d4f"
      },
      "execution_count": null,
      "outputs": [
        {
          "output_type": "execute_result",
          "data": {
            "text/plain": [
              "33"
            ]
          },
          "metadata": {},
          "execution_count": 43
        }
      ]
    },
    {
      "cell_type": "code",
      "source": [
        "# 리스트 x의 뒤에서 3번째 원소 출력\n",
        "x[-3]"
      ],
      "metadata": {
        "colab": {
          "base_uri": "https://localhost:8080/"
        },
        "id": "0ddDsE6J-QGH",
        "outputId": "6c4d43d8-6723-4278-8d1f-f1103b0b70ba"
      },
      "execution_count": null,
      "outputs": [
        {
          "output_type": "execute_result",
          "data": {
            "text/plain": [
              "55"
            ]
          },
          "metadata": {},
          "execution_count": 44
        }
      ]
    },
    {
      "cell_type": "code",
      "source": [
        "# 리스트 x의 뒤에서 4번째 원소에 새로운 값 대입\n",
        "x[-4] = 3.14\n",
        "x"
      ],
      "metadata": {
        "colab": {
          "base_uri": "https://localhost:8080/"
        },
        "id": "YBONpy8r-RfX",
        "outputId": "4797c5c5-f5a8-49c1-fc38-94e6c902f071"
      },
      "execution_count": null,
      "outputs": [
        {
          "output_type": "execute_result",
          "data": {
            "text/plain": [
              "[11, 22, 33, 3.14, 55, 66, 77]"
            ]
          },
          "metadata": {},
          "execution_count": 45
        }
      ]
    },
    {
      "cell_type": "code",
      "source": [
        "# 존재하지 않는 인덱스이므로 오류 출력\n",
        "x[7]"
      ],
      "metadata": {
        "colab": {
          "base_uri": "https://localhost:8080/",
          "height": 175
        },
        "id": "sBaG_TPP-TuI",
        "outputId": "9f9939b0-9031-4dcf-db37-1920ebdf0045"
      },
      "execution_count": null,
      "outputs": [
        {
          "output_type": "error",
          "ename": "IndexError",
          "evalue": "ignored",
          "traceback": [
            "\u001b[0;31m---------------------------------------------------------------------------\u001b[0m",
            "\u001b[0;31mIndexError\u001b[0m                                Traceback (most recent call last)",
            "\u001b[0;32m<ipython-input-46-1515eb8c000f>\u001b[0m in \u001b[0;36m<module>\u001b[0;34m\u001b[0m\n\u001b[0;32m----> 1\u001b[0;31m \u001b[0mx\u001b[0m\u001b[0;34m[\u001b[0m\u001b[0;36m7\u001b[0m\u001b[0;34m]\u001b[0m\u001b[0;34m\u001b[0m\u001b[0;34m\u001b[0m\u001b[0m\n\u001b[0m",
            "\u001b[0;31mIndexError\u001b[0m: list index out of range"
          ]
        }
      ]
    },
    {
      "cell_type": "code",
      "source": [
        "# x[7]은 존재하지 않기 때문에 대입 불가\n",
        "x[7] = 3.14"
      ],
      "metadata": {
        "colab": {
          "base_uri": "https://localhost:8080/",
          "height": 193
        },
        "id": "_erasnE7-WJB",
        "outputId": "869cb2bc-becd-4700-c648-3bfa4a0e8fe1"
      },
      "execution_count": null,
      "outputs": [
        {
          "output_type": "error",
          "ename": "IndexError",
          "evalue": "ignored",
          "traceback": [
            "\u001b[0;31m---------------------------------------------------------------------------\u001b[0m",
            "\u001b[0;31mIndexError\u001b[0m                                Traceback (most recent call last)",
            "\u001b[0;32m<ipython-input-47-35e3f0c9f56c>\u001b[0m in \u001b[0;36m<module>\u001b[0;34m\u001b[0m\n\u001b[1;32m      1\u001b[0m \u001b[0;31m# x[7]은 존재하지 않기 때문에 대입 불가\u001b[0m\u001b[0;34m\u001b[0m\u001b[0;34m\u001b[0m\u001b[0;34m\u001b[0m\u001b[0m\n\u001b[0;32m----> 2\u001b[0;31m \u001b[0mx\u001b[0m\u001b[0;34m[\u001b[0m\u001b[0;36m7\u001b[0m\u001b[0;34m]\u001b[0m \u001b[0;34m=\u001b[0m \u001b[0;36m3.14\u001b[0m\u001b[0;34m\u001b[0m\u001b[0;34m\u001b[0m\u001b[0m\n\u001b[0m",
            "\u001b[0;31mIndexError\u001b[0m: list assignment index out of range"
          ]
        }
      ]
    },
    {
      "cell_type": "markdown",
      "source": [
        "#### 슬라이스식으로 원소에 접근하기"
      ],
      "metadata": {
        "id": "fnywiAPz-zJD"
      }
    },
    {
      "cell_type": "markdown",
      "source": [
        "* 슬라이스식으로 원소 꺼내기"
      ],
      "metadata": {
        "id": "8nYV_WXa-qVp"
      }
    },
    {
      "cell_type": "code",
      "source": [
        "s = [11,22,33,44,55,66,77,88,99]"
      ],
      "metadata": {
        "id": "KeZUaIBj-327"
      },
      "execution_count": null,
      "outputs": []
    },
    {
      "cell_type": "code",
      "source": [
        "# 리스트 s의 0번째부터 5번째 원소 출력\n",
        "s[0:6]"
      ],
      "metadata": {
        "colab": {
          "base_uri": "https://localhost:8080/"
        },
        "id": "s7S_ee9A-8my",
        "outputId": "81c6450d-c044-4fe0-b74e-344c90fb7e3e"
      },
      "execution_count": null,
      "outputs": [
        {
          "output_type": "execute_result",
          "data": {
            "text/plain": [
              "[11, 22, 33, 44, 55, 66]"
            ]
          },
          "metadata": {},
          "execution_count": 49
        }
      ]
    },
    {
      "cell_type": "code",
      "source": [
        "# 리스트 s의 0번째부터 6번째 원소 출력\n",
        "s[0:7]"
      ],
      "metadata": {
        "colab": {
          "base_uri": "https://localhost:8080/"
        },
        "id": "n91nQplj-94P",
        "outputId": "f9def479-a721-430c-e656-87f3874081dd"
      },
      "execution_count": null,
      "outputs": [
        {
          "output_type": "execute_result",
          "data": {
            "text/plain": [
              "[11, 22, 33, 44, 55, 66, 77]"
            ]
          },
          "metadata": {},
          "execution_count": 50
        }
      ]
    },
    {
      "cell_type": "code",
      "source": [
        "# 리스트 s의 0번째 원소부터 6번째 원소 중 2씩 건너뛰며 원소 출력\n",
        "s[0:7:2]"
      ],
      "metadata": {
        "colab": {
          "base_uri": "https://localhost:8080/"
        },
        "id": "o5-Mf3Eb_H7X",
        "outputId": "edc6a6b1-1826-42a2-c834-78f69006c11c"
      },
      "execution_count": null,
      "outputs": [
        {
          "output_type": "execute_result",
          "data": {
            "text/plain": [
              "[11, 33, 55, 77]"
            ]
          },
          "metadata": {},
          "execution_count": 51
        }
      ]
    },
    {
      "cell_type": "code",
      "source": [
        "# 리스트 s의 뒤에서 4번째 원소부터 뒤에서 2번째 원소 출력\n",
        "s[-4:-2]"
      ],
      "metadata": {
        "colab": {
          "base_uri": "https://localhost:8080/"
        },
        "id": "4F73Wimz_QYw",
        "outputId": "04549200-656d-4384-a20a-54b061b4265c"
      },
      "execution_count": null,
      "outputs": [
        {
          "output_type": "execute_result",
          "data": {
            "text/plain": [
              "[66, 77]"
            ]
          },
          "metadata": {},
          "execution_count": 52
        }
      ]
    },
    {
      "cell_type": "code",
      "source": [
        "# 큰 수가 먼저 와도 오류는 발생하지 않음\n",
        "s[3:1]"
      ],
      "metadata": {
        "colab": {
          "base_uri": "https://localhost:8080/"
        },
        "id": "GgGYJjh2_YIv",
        "outputId": "eeae2c51-b6e0-4c41-d679-8a12868e3fb8"
      },
      "execution_count": null,
      "outputs": [
        {
          "output_type": "execute_result",
          "data": {
            "text/plain": [
              "[]"
            ]
          },
          "metadata": {},
          "execution_count": 53
        }
      ]
    },
    {
      "cell_type": "code",
      "source": [
        "# 리스트 s의 원소 중 맨 끝에서부터 전부 출력\n",
        "s[::-1]"
      ],
      "metadata": {
        "colab": {
          "base_uri": "https://localhost:8080/"
        },
        "id": "nmuC3c1n_e7g",
        "outputId": "fc09a095-ff61-4e5d-b670-5c6d258a9af7"
      },
      "execution_count": null,
      "outputs": [
        {
          "output_type": "execute_result",
          "data": {
            "text/plain": [
              "[99, 88, 77, 66, 55, 44, 33, 22, 11]"
            ]
          },
          "metadata": {},
          "execution_count": 54
        }
      ]
    },
    {
      "cell_type": "markdown",
      "source": [
        "### 자료구조의 개념 알아보기"
      ],
      "metadata": {
        "id": "IH2eaJ2zAsws"
      }
    },
    {
      "cell_type": "markdown",
      "source": [
        "* 자료구조 \n",
        "  * 데이터 단위와 데이터 자체 사이의 물리적 또는 논리적인 관계\n",
        "  * 데이터가 모여 있는 구조"
      ],
      "metadata": {
        "id": "JJhrNaE5Azsw"
      }
    },
    {
      "cell_type": "markdown",
      "source": [
        "#### 배열"
      ],
      "metadata": {
        "id": "aZQTk2u4BaZc"
      }
    },
    {
      "cell_type": "markdown",
      "source": [
        "* 파이썬의 자료형인 리스트, 튜플은 자료구조에 포함시켜 배열이라고 할 수 있음"
      ],
      "metadata": {
        "id": "hxIXFnv5BhYF"
      }
    },
    {
      "cell_type": "code",
      "source": [
        "# 빈 배열 판단하기\n",
        "x = [1,2,3]\n",
        "\n",
        "if x:\n",
        "  print('x가 비어 있지 않으면(True) 실행')\n",
        "else:\n",
        "  print('x가 비어 있으면(False) 실행')"
      ],
      "metadata": {
        "colab": {
          "base_uri": "https://localhost:8080/"
        },
        "id": "Znec6PGiBhC_",
        "outputId": "467f539e-30cd-44a6-f74c-61cf2cab21dd"
      },
      "execution_count": null,
      "outputs": [
        {
          "output_type": "stream",
          "name": "stdout",
          "text": [
            "x가 비어 있지 않으면(True) 실행\n"
          ]
        }
      ]
    },
    {
      "cell_type": "code",
      "source": [
        "# 비교 연산자로 배열의 대소 또는 등가 관계 판단하기\n",
        "\n",
        "\n",
        "[1,2,3] == [1,2,3]\n",
        "[1,2,3,] < [1,2,4]\n",
        "[1,2,3] < [1,2,3,4,5] < [1,2,3,4,5,6]"
      ],
      "metadata": {
        "colab": {
          "base_uri": "https://localhost:8080/"
        },
        "id": "ES25vhusCI5a",
        "outputId": "18ebc69b-9c1f-4ce8-eead-73b896739983"
      },
      "execution_count": null,
      "outputs": [
        {
          "output_type": "execute_result",
          "data": {
            "text/plain": [
              "True"
            ]
          },
          "metadata": {},
          "execution_count": 59
        }
      ]
    },
    {
      "cell_type": "markdown",
      "source": [
        "* 등가성 vs 동일성\n",
        "  * 등가성 비교 : 좌변, 우변이 같은지 비교 (==) \n",
        "  * 동일성 비교 : 값은 물론 객체의 식별 번호까지 같은지 비교 (is)"
      ],
      "metadata": {
        "id": "EmmtEpAtCaem"
      }
    },
    {
      "cell_type": "markdown",
      "source": [
        "* 내포 표기 생성"
      ],
      "metadata": {
        "id": "irdEA6t9DYPO"
      }
    },
    {
      "cell_type": "code",
      "source": [
        "number = [1,2,3,4,5]\n",
        "twise = [num * 2 for num in number if num % 2 == 1]\n",
        "twise"
      ],
      "metadata": {
        "colab": {
          "base_uri": "https://localhost:8080/"
        },
        "id": "NsKBjk5-DZwU",
        "outputId": "c8e85525-7c25-4ad2-f598-7b4c74366ef9"
      },
      "execution_count": null,
      "outputs": [
        {
          "output_type": "execute_result",
          "data": {
            "text/plain": [
              "[2, 6, 10]"
            ]
          },
          "metadata": {},
          "execution_count": 60
        }
      ]
    }
  ]
}