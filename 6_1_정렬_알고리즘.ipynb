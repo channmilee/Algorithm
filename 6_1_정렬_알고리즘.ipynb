{
  "nbformat": 4,
  "nbformat_minor": 0,
  "metadata": {
    "colab": {
      "provenance": [],
      "authorship_tag": "ABX9TyMBXSt2zlSLDL0E4h0J5Fsa",
      "include_colab_link": true
    },
    "kernelspec": {
      "name": "python3",
      "display_name": "Python 3"
    },
    "language_info": {
      "name": "python"
    }
  },
  "cells": [
    {
      "cell_type": "markdown",
      "metadata": {
        "id": "view-in-github",
        "colab_type": "text"
      },
      "source": [
        "<a href=\"https://colab.research.google.com/github/channmilee/Algorithm/blob/master/6_1_%EC%A0%95%EB%A0%AC_%EC%95%8C%EA%B3%A0%EB%A6%AC%EC%A6%98.ipynb\" target=\"_parent\"><img src=\"https://colab.research.google.com/assets/colab-badge.svg\" alt=\"Open In Colab\"/></a>"
      ]
    },
    {
      "cell_type": "markdown",
      "source": [
        "## 정렬이란?"
      ],
      "metadata": {
        "id": "D-bEOzWylxQI"
      }
    },
    {
      "cell_type": "markdown",
      "source": [
        "* 정렬 : 이름, 학번, 학점 등의 키(key) 항목값의 대소 관계에 따라 데이터 집합을 일정한 순서로 바꾸어 늘어놓는 작업\n",
        "* 데이터 정렬을 하면 더 쉽게 검색할 수 있음"
      ],
      "metadata": {
        "id": "_pcG8W_glJbe"
      }
    },
    {
      "cell_type": "markdown",
      "source": [
        "* **정렬 알고리즘의 안정성**\n",
        "  * 안정적인 알고리즘 : 값이 같은 원소의 순서가 정렬한 후에도 유지\n",
        "  * 안정적이지 않은 알고리즘 : 정렬한 후에도 원래의 순서가 유지된다는 보장을 할 수 없음"
      ],
      "metadata": {
        "id": "XzwCtZ3BmATy"
      }
    },
    {
      "cell_type": "markdown",
      "source": [
        "* 내부 정렬 : 정렬할 모든 데이터를 하나의 배열에 저장할 수 있는 경우에 사용하는 알고리즘\n",
        "* 외부 정렬 : 정렬할 데이터가 많아서 하나의 배열에 저장할 수 없는 경우에 사용하는 알고리즘\n",
        "  * 외부 정렬은 내부 정렬을 응용한 것으로 외부 정렬을 구현하려면 별도로 작업용 파일이 필요하고 알고리즘이 복잡함"
      ],
      "metadata": {
        "id": "ohYrJxjBmXkU"
      }
    }
  ]
}