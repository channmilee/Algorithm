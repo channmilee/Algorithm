{
  "cells": [
    {
      "cell_type": "markdown",
      "metadata": {
        "id": "view-in-github",
        "colab_type": "text"
      },
      "source": [
        "<a href=\"https://colab.research.google.com/github/channmilee/Algorithm/blob/master/5_4_8%ED%80%B8_%EB%AC%B8%EC%A0%9C.ipynb\" target=\"_parent\"><img src=\"https://colab.research.google.com/assets/colab-badge.svg\" alt=\"Open In Colab\"/></a>"
      ]
    },
    {
      "cell_type": "markdown",
      "source": [
        "## 분기 작업으로 문제 해결하기"
      ],
      "metadata": {
        "id": "6PYSIrV6iloY"
      }
    },
    {
      "cell_type": "markdown",
      "metadata": {
        "id": "TRJiLJ70xpHX"
      },
      "source": [
        "### 실습 5-7."
      ]
    },
    {
      "cell_type": "markdown",
      "metadata": {
        "id": "VHJmgPZlxowh"
      },
      "source": [
        "* 각 열에 퀸을 1개 배치하는 조합을 재귀적으로 나열하기"
      ]
    },
    {
      "cell_type": "code",
      "execution_count": null,
      "metadata": {
        "colab": {
          "background_save": true
        },
        "id": "CYfQquiewQXH"
      },
      "outputs": [],
      "source": [
        "pos = [0] * 8   # 각 열에서 퀸의 위치 배열\n",
        "\n",
        "def put() -> None:\n",
        "  \"\"\"각 열에 배치한 퀸의 위치 출력\"\"\"\n",
        "  for i in range(8):\n",
        "    print(f'{pos[i]:2}', end = '')\n",
        "  print()\n",
        "\n",
        "def set(i: int) -> None:\n",
        "  \"\"\"i 열에 퀸 배치\"\"\"\n",
        "  for j in range(8):\n",
        "    pos[i] = j          # 퀸을 j행에 배치\n",
        "    if i == 7:          # 모든 열에 퀸 배치 종료\n",
        "      put()\n",
        "    else:\n",
        "      set(i + 1)        # 다음 열에 퀸 배치\n",
        "\n",
        "set(0)  # 0열에 퀸 배치"
      ]
    },
    {
      "cell_type": "markdown",
      "source": [
        "## 한정 작업과 분기 한정법"
      ],
      "metadata": {
        "id": "M36u1c2CirYK"
      }
    },
    {
      "cell_type": "markdown",
      "metadata": {
        "id": "CcI5d2yn0Cmb"
      },
      "source": [
        "### 실습 5-8."
      ]
    },
    {
      "cell_type": "markdown",
      "metadata": {
        "id": "zRo0aeTfzQW6"
      },
      "source": [
        "* 행과 열에 퀸을 1개 배치하는 조합을 재귀적으로 나열하기"
      ]
    },
    {
      "cell_type": "code",
      "execution_count": null,
      "metadata": {
        "id": "KM8i6W4m0ISy"
      },
      "outputs": [],
      "source": [
        "pos = [0] * 8           # 각 열에서 퀸의 위치\n",
        "flag = [False] * 8      # 각 행에 퀸을 배치했는지 체크\n",
        "\n",
        "def put() -> None:\n",
        "  \"\"\"각 열에 배치한 퀸의 위치를 출력\"\"\"\n",
        "  for i in range(8):\n",
        "    print(f'{pos[i]:2}', end = '')\n",
        "  print()\n",
        "\n",
        "def set(i:int) -> None:\n",
        "  \"\"\"i열의 알맞은 위치에 퀸을 배치\"\"\"\n",
        "  for j in range(8):\n",
        "    if not flag[j]:      # j행에 퀸을 배치하지 않았으면\n",
        "      pos[i] = j         # 퀸을 j행에 배치\n",
        "      if i == 7:         # 모든 열에 퀸 배치 완료\n",
        "        put()\n",
        "      else:\n",
        "        flag[j] = True\n",
        "        set(i + 1)"
      ]
    },
    {
      "cell_type": "markdown",
      "source": [
        "## 8퀸 문제 해결 프로그램 만들기"
      ],
      "metadata": {
        "id": "HrPYz642iwtr"
      }
    },
    {
      "cell_type": "markdown",
      "metadata": {
        "id": "paFJNedi1wrN"
      },
      "source": [
        "### 실습 5-9."
      ]
    },
    {
      "cell_type": "markdown",
      "metadata": {
        "id": "6Kc4oOR91zIE"
      },
      "source": [
        "* 8퀸 문제 알고리즘 구현하기"
      ]
    },
    {
      "cell_type": "code",
      "execution_count": null,
      "metadata": {
        "id": "TZUYMd8I11Y4"
      },
      "outputs": [],
      "source": [
        "pos = [0] * 8              # 각 열에 배치한 퀸의 크기\n",
        "flag_a = [False] * 8       # 각 행에 퀸을 배치했는지 체크\n",
        "flag_b = [False] * 15      # 대각선 방향으로 퀸을 배치했는지 체크\n",
        "flag_c = [False] * 15      # 대각선 방향으로 퀸을 배치했는지 체크\n",
        "\n",
        "def put() -> None:\n",
        "  \"\"\"각 열에 배치한 퀸의 위치 출력\"\"\"\n",
        "  for i in range(8):\n",
        "    print(f'{pos[i]:2}', end = '')\n",
        "  print()\n",
        "\n",
        "def set(i: int) -> None:\n",
        "  \"\"\"i열의 알맞은 위치에 퀸 배치\"\"\"\n",
        "  for j in range(8):\n",
        "    if(    not flag_a[j]            # j행에 퀸이 배치되어 있지 않았다면\n",
        "       and not flag_b[i + j]        # 대각선 방향으로 퀸이 배치되지 않았다면\n",
        "       and not flag_c[i - j + 7]):  # 대각선 방향으로 퀸이 배치되지 않았다면\n",
        "      pos[i] = j                    # 퀸을 j행에 배치\n",
        "      if i == 7:                    # 모든 열에 퀸 배치 완료\n",
        "        put()\n",
        "      else:\n",
        "        flag_a[j] = flag_b[i+j] = flag_c[i - j + 7] = True\n",
        "        set(i + 1)\n",
        "        flag_a[j] = flag_b[i+j] = flag_c[i - j + 7] = False\n",
        "\n",
        "set(0)"
      ]
    },
    {
      "cell_type": "code",
      "execution_count": null,
      "metadata": {
        "id": "xGZyNS284Mxc"
      },
      "outputs": [],
      "source": [
        "pos = [0] * 8              # 각 열에 배치한 퀸의 크기\n",
        "flag_a = [False] * 8       # 각 행에 퀸을 배치했는지 체크\n",
        "flag_b = [False] * 15      # 대각선 방향으로 퀸을 배치했는지 체크\n",
        "flag_c = [False] * 15      # 대각선 방향으로 퀸을 배치했는지 체크\n",
        "\n",
        "def put() -> None:\n",
        "  \"\"\"퀸의 배치를 □와 ■로 출력\"\"\"\n",
        "  for i in range(8):\n",
        "    for i in range(8):\n",
        "      print('■' if pos[i] == j else '□', end = '')\n",
        "    print()\n",
        "  print()\n",
        "\n",
        "def set(i: int) -> None:\n",
        "  \"\"\"i열의 알맞은 위치에 퀸 배치\"\"\"\n",
        "  for j in range(8):\n",
        "    if(    not flag_a[j]            # j행에 퀸이 배치되어 있지 않았다면\n",
        "       and not flag_b[i + j]        # 대각선 방향으로 퀸이 배치되지 않았다면\n",
        "       and not flag_c[i - j + 7]):  # 대각선 방향으로 퀸이 배치되지 않았다면ㄴ\n",
        "      pos[i] = j                    # 퀸을 j행에 배치\n",
        "      if i == 7:                    # 모든 열에 퀸 배치 완료\n",
        "        put()\n",
        "      else:\n",
        "        flag_a[j] = flag_b[i+j] = flag_c[i - j + 7] = True\n",
        "        set(i + 1)\n",
        "        flag_a[j] = flag_b[i+j] = flag_c[i - j + 7] = False\n",
        "\n",
        "set(0)"
      ]
    }
  ],
  "metadata": {
    "colab": {
      "provenance": [],
      "authorship_tag": "ABX9TyMWzyJ6ASxeELxn/FnqP1zJ",
      "include_colab_link": true
    },
    "kernelspec": {
      "display_name": "Python 3",
      "name": "python3"
    },
    "language_info": {
      "name": "python"
    }
  },
  "nbformat": 4,
  "nbformat_minor": 0
}