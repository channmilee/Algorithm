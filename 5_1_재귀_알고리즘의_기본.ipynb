{
  "nbformat": 4,
  "nbformat_minor": 0,
  "metadata": {
    "colab": {
      "provenance": [],
      "authorship_tag": "ABX9TyM9qDFccpc/mbK2OS1fxqI9",
      "include_colab_link": true
    },
    "kernelspec": {
      "name": "python3",
      "display_name": "Python 3"
    },
    "language_info": {
      "name": "python"
    }
  },
  "cells": [
    {
      "cell_type": "markdown",
      "metadata": {
        "id": "view-in-github",
        "colab_type": "text"
      },
      "source": [
        "<a href=\"https://colab.research.google.com/github/channmilee/Algorithm/blob/master/5_1_%EC%9E%AC%EA%B7%80_%EC%95%8C%EA%B3%A0%EB%A6%AC%EC%A6%98%EC%9D%98_%EA%B8%B0%EB%B3%B8.ipynb\" target=\"_parent\"><img src=\"https://colab.research.google.com/assets/colab-badge.svg\" alt=\"Open In Colab\"/></a>"
      ]
    },
    {
      "cell_type": "markdown",
      "source": [
        "## 재귀 알아보기"
      ],
      "metadata": {
        "id": "oTeSDlgbwGdA"
      }
    },
    {
      "cell_type": "markdown",
      "source": [
        "* 재귀 : 어떠한 이벤트에서 자기 자신을 포함하고 다시 자기 자신을 사용하여 정으되는 경우\n",
        "> 재귀 개념을 이용한 자연수의 정의\n",
        "  * 1은 자연수\n",
        "  * 어떤 자연수의 바로 다음 수도 자연수\n",
        "\n",
        "\n"
      ],
      "metadata": {
        "id": "LLBlN_LLwRg4"
      }
    },
    {
      "cell_type": "markdown",
      "source": [
        "* 재귀 호출 함수 기본"
      ],
      "metadata": {
        "id": "WL9yDGkkz7qz"
      }
    },
    {
      "cell_type": "code",
      "source": [
        "def einstein():\n",
        "  print('나는 천재야')\n",
        "  einstein()\n",
        "\n",
        "# make_conf()를 실행하면 print 함수가 무한 출력됨"
      ],
      "metadata": {
        "id": "pTDyScyrynwd"
      },
      "execution_count": 11,
      "outputs": []
    },
    {
      "cell_type": "markdown",
      "source": [
        "* 반환 조건 추가"
      ],
      "metadata": {
        "id": "-XsoEq_tz4YL"
      }
    },
    {
      "cell_type": "code",
      "source": [
        "def einstein():\n",
        "  global count\n",
        "  print('나는 천재야')\n",
        "  count -= 1\n",
        "  if count == 0:\n",
        "    print('진짜?')\n",
        "    return          # einstein() 함수의 print('응 진짜')로 돌아감\n",
        "  einstein()\n",
        "  print('응 진짜')\n",
        "\n",
        "count = 4\n",
        "einstein()"
      ],
      "metadata": {
        "colab": {
          "base_uri": "https://localhost:8080/"
        },
        "id": "H0M_7mfBz35t",
        "outputId": "7d7cde15-ad7f-4b7d-9915-575c1e3de0d7"
      },
      "execution_count": 13,
      "outputs": [
        {
          "output_type": "stream",
          "name": "stdout",
          "text": [
            "나는 천재야\n",
            "나는 천재야\n",
            "나는 천재야\n",
            "나는 천재야\n",
            "진짜?\n",
            "응 진짜\n",
            "응 진짜\n",
            "응 진짜\n"
          ]
        }
      ]
    },
    {
      "cell_type": "markdown",
      "source": [
        "## 팩토리얼 알아보기"
      ],
      "metadata": {
        "id": "cu_t9zYLwuvP"
      }
    },
    {
      "cell_type": "markdown",
      "source": [
        "* 팩토리얼 n!의 정의 (n은 양의 정수)\n",
        "  * 양의 정수를 순서대로 곱한다는 의미로 순차 곱셈이라고도 함\n",
        "\n",
        "    ```\n",
        "0! = 1\n",
        "n > 0 이면 n! = n x (n - 1)!\n",
        "```\n",
        "\n"
      ],
      "metadata": {
        "id": "AW9WY8WiwhVL"
      }
    },
    {
      "cell_type": "markdown",
      "source": [
        "### 실습 5-1."
      ],
      "metadata": {
        "id": "GjhZaXoyxRbQ"
      }
    },
    {
      "cell_type": "markdown",
      "source": [
        "* 양의 정수 n의 팩토리얼 구하기"
      ],
      "metadata": {
        "id": "exW7fiP2w_gb"
      }
    },
    {
      "cell_type": "code",
      "source": [
        "def factorial(n: int) -> int:\n",
        "  \"\"\"양의 정수 n의 팩토리얼 값을 재귀적으로 구함\"\"\"\n",
        "  if n > 0:\n",
        "    return n * factorial(n-1)\n",
        "  else:\n",
        "    return 1\n",
        "\n",
        "if __name__ == '__main__':\n",
        "  n = int(input('출력할 팩토리얼 값을 입력하세요 : '))\n",
        "  print(f'{n}의 팩토리얼은 {factorial(n)} 입니다.')"
      ],
      "metadata": {
        "colab": {
          "base_uri": "https://localhost:8080/"
        },
        "id": "v7GV1Rd4xVfI",
        "outputId": "d37bb314-7f70-4b35-95d2-6f6825060cb0"
      },
      "execution_count": 2,
      "outputs": [
        {
          "output_type": "stream",
          "name": "stdout",
          "text": [
            "출력할 팩토리얼 값을 입력하세요 : 3\n",
            "3의 팩토리얼은 6 입니다.\n"
          ]
        }
      ]
    },
    {
      "cell_type": "code",
      "source": [
        "factorial(3)"
      ],
      "metadata": {
        "colab": {
          "base_uri": "https://localhost:8080/"
        },
        "id": "TJtUVKHExwUu",
        "outputId": "ef78cd65-7f99-4952-cd0b-acbfad51fa8b"
      },
      "execution_count": 3,
      "outputs": [
        {
          "output_type": "execute_result",
          "data": {
            "text/plain": [
              "6"
            ]
          },
          "metadata": {},
          "execution_count": 3
        }
      ]
    },
    {
      "cell_type": "markdown",
      "source": [
        "* 팩토리얼 이해하기"
      ],
      "metadata": {
        "id": "jzfdWuv01jM0"
      }
    },
    {
      "cell_type": "code",
      "source": [
        "def understand_fact(n):\n",
        "  if n <= 1:\n",
        "    print('1 반환')\n",
        "    return 1\n",
        "  print(f'{n} * {n -1}! 호출')\n",
        "  retVal = understand_fact(n - 1)\n",
        "\n",
        "  print(f'{n} * {n-1}!(={retVal}) 반환')\n",
        "  return n * retVal\n",
        "\n",
        "print('\\n3! = ', understand_fact(3) )"
      ],
      "metadata": {
        "colab": {
          "base_uri": "https://localhost:8080/"
        },
        "id": "Ck6PgGSY1ixg",
        "outputId": "a1ac5dad-04fd-4db3-d9be-eb5b72036740"
      },
      "execution_count": 16,
      "outputs": [
        {
          "output_type": "stream",
          "name": "stdout",
          "text": [
            "3 * 2! 호출\n",
            "2 * 1! 호출\n",
            "1 반환\n",
            "2 * 1!(=1) 반환\n",
            "3 * 2!(=2) 반환\n",
            "\n",
            "3! =  6\n"
          ]
        }
      ]
    },
    {
      "cell_type": "markdown",
      "source": [
        "* **재귀 호출** : 자기 자신과 똑같은 함수 호출\n",
        "* 직접 재귀 vs 간접 재귀\n",
        "  * 직접 재귀 : 자신과 똑같은 함수 호출. a() 함수가 a() 함수 호출.  \n",
        "  * 간접 재귀 : a() 함수가 b() 함수 호출하고 다시 b() 함수가 a() 함수 호출하는 구조"
      ],
      "metadata": {
        "id": "jHiKAN3TyeAi"
      }
    },
    {
      "cell_type": "markdown",
      "source": [
        "## 유클리드 호제법 알아보기"
      ],
      "metadata": {
        "id": "HdVAIoiqzDpQ"
      }
    },
    {
      "cell_type": "markdown",
      "source": [
        "### 실습 5-2."
      ],
      "metadata": {
        "id": "d57nrZIMx6fJ"
      }
    },
    {
      "cell_type": "markdown",
      "source": [
        "* 유클리드 호제법으로 최대 공약수 구하기\n",
        "* [유클리드 호제법 그림으로 이해하기](https://ddrt44al.tistory.com/48)"
      ],
      "metadata": {
        "id": "BdM7zZJGzaFz"
      }
    },
    {
      "cell_type": "code",
      "source": [
        "def gcd(x: int, y: int) -> int:\n",
        "  \"\"\"정수 x와 y의 최대 공약수 반환\"\"\"\n",
        "  if y == 0:\n",
        "    return x\n",
        "  else:\n",
        "    return gcd(y, x % y)\n",
        "\n",
        "if __name__ == '__main__':\n",
        "  print('두 정수의 최대 공약수를 구합니다.')\n",
        "  x = int(input('첫 번째 정수 : '))\n",
        "  y = int(input('두 번째 정수 : '))\n",
        "\n",
        "  print(f'두 정수의 최대 공약수는 {gcd(x,y)}입니다.')"
      ],
      "metadata": {
        "colab": {
          "base_uri": "https://localhost:8080/"
        },
        "id": "3lB-niSozckT",
        "outputId": "378bfa0c-0215-488f-ad1b-09edc38beba7"
      },
      "execution_count": null,
      "outputs": [
        {
          "output_type": "stream",
          "name": "stdout",
          "text": [
            "두 정수의 최대 공약수를 구합니다.\n",
            "첫 번째 정수 : 22\n",
            "두 번째 정수 : 8\n",
            "두 정수의 최대 공약수는 2입니다.\n"
          ]
        }
      ]
    },
    {
      "cell_type": "code",
      "source": [
        "gcd(8, 22)"
      ],
      "metadata": {
        "colab": {
          "base_uri": "https://localhost:8080/"
        },
        "id": "BWV_PYPx3JuY",
        "outputId": "0666ac6a-9fca-4ec4-d95f-d4df6bf2d640"
      },
      "execution_count": null,
      "outputs": [
        {
          "output_type": "execute_result",
          "data": {
            "text/plain": [
              "2"
            ]
          },
          "metadata": {},
          "execution_count": 4
        }
      ]
    },
    {
      "cell_type": "code",
      "source": [
        "gcd(0,0)"
      ],
      "metadata": {
        "id": "J4xPPbnl3LlB",
        "outputId": "1ca57989-4f7e-4a82-a410-115a82ff0079",
        "colab": {
          "base_uri": "https://localhost:8080/"
        }
      },
      "execution_count": null,
      "outputs": [
        {
          "output_type": "execute_result",
          "data": {
            "text/plain": [
              "0"
            ]
          },
          "metadata": {},
          "execution_count": 5
        }
      ]
    },
    {
      "cell_type": "markdown",
      "source": [
        "## 활용 예시"
      ],
      "metadata": {
        "id": "eQOdugN83eO8"
      }
    },
    {
      "cell_type": "markdown",
      "source": [
        "### 우주선 발사 카운트 다운"
      ],
      "metadata": {
        "id": "sMPC5Sk33hTi"
      }
    },
    {
      "cell_type": "code",
      "source": [
        "def countdown(n):\n",
        "  if n == 0:\n",
        "    print('발사')\n",
        "  else:\n",
        "    print(n)\n",
        "    countdown(n-1)\n",
        "\n",
        "countdown(5)"
      ],
      "metadata": {
        "colab": {
          "base_uri": "https://localhost:8080/"
        },
        "id": "wOspGDhe3gnh",
        "outputId": "2f6d6ab2-426b-4e52-a245-4c55b7785966"
      },
      "execution_count": 17,
      "outputs": [
        {
          "output_type": "stream",
          "name": "stdout",
          "text": [
            "5\n",
            "4\n",
            "3\n",
            "2\n",
            "1\n",
            "발사\n"
          ]
        }
      ]
    },
    {
      "cell_type": "markdown",
      "source": [
        "### 별 모양 출력하기"
      ],
      "metadata": {
        "id": "KFCa9jNw3x0n"
      }
    },
    {
      "cell_type": "code",
      "source": [
        "def printStar(n):\n",
        "  if n > 0:\n",
        "    printStar(n - 1)\n",
        "    print('★'*n)\n",
        "\n",
        "printStar(5)"
      ],
      "metadata": {
        "colab": {
          "base_uri": "https://localhost:8080/"
        },
        "id": "qCTt-P6I3u-2",
        "outputId": "36dfcdf7-3951-474a-a5f5-f66fd65603a0"
      },
      "execution_count": 19,
      "outputs": [
        {
          "output_type": "stream",
          "name": "stdout",
          "text": [
            "★\n",
            "★★\n",
            "★★★\n",
            "★★★★\n",
            "★★★★★\n"
          ]
        }
      ]
    },
    {
      "cell_type": "markdown",
      "source": [
        "### n 제곱 계산하기"
      ],
      "metadata": {
        "id": "28ZjZeMK4K1S"
      }
    },
    {
      "cell_type": "code",
      "source": [
        "tab = ''\n",
        "def pow(x, n):\n",
        "  global tab\n",
        "  tab += '  '\n",
        "  if n == 0:\n",
        "    return 1\n",
        "  print(tab + f'{x}*{x}^({n}-{1})')\n",
        "  return x * pow(x, n-1)\n",
        "\n",
        "print('2^4')\n",
        "print('답 --->', pow(2,4))"
      ],
      "metadata": {
        "colab": {
          "base_uri": "https://localhost:8080/"
        },
        "id": "ojJ_P9ld39fL",
        "outputId": "e9c78579-4712-48ad-9e0f-82666e94e715"
      },
      "execution_count": 21,
      "outputs": [
        {
          "output_type": "stream",
          "name": "stdout",
          "text": [
            "2^4\n",
            "  2*2^(4-1)\n",
            "    2*2^(3-1)\n",
            "      2*2^(2-1)\n",
            "        2*2^(1-1)\n",
            "답 ---> 16\n"
          ]
        }
      ]
    },
    {
      "cell_type": "markdown",
      "source": [
        "### 배열의 합 계산하기"
      ],
      "metadata": {
        "id": "kPVssvcQ4-m4"
      }
    },
    {
      "cell_type": "code",
      "source": [
        "import random\n",
        "\n",
        "def ary_sum(arr, n):\n",
        "  if n <= 0:\n",
        "    return arr[0]\n",
        "  return ary_sum(arr, n-1) + arr[n]\n",
        "\n",
        "ary = [random.randint(0, 255) for _ in range(random.randint(10,20))]\n",
        "print(ary)\n",
        "print('배열 합계 --->', ary_sum(ary, len(ary) - 1))"
      ],
      "metadata": {
        "colab": {
          "base_uri": "https://localhost:8080/"
        },
        "id": "qJTRiBNc4xQj",
        "outputId": "3213691b-c1c2-4690-8ef9-5e1098ebb803"
      },
      "execution_count": 22,
      "outputs": [
        {
          "output_type": "stream",
          "name": "stdout",
          "text": [
            "[100, 103, 122, 253, 211, 64, 78, 183, 219, 175, 192, 67, 107, 221, 199]\n",
            "배열 합계 ---> 2294\n"
          ]
        }
      ]
    }
  ]
}