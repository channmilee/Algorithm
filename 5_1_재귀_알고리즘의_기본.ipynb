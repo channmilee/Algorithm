{
  "nbformat": 4,
  "nbformat_minor": 0,
  "metadata": {
    "colab": {
      "provenance": [],
      "authorship_tag": "ABX9TyNPqzB8f19ZomUghB1fJvsK",
      "include_colab_link": true
    },
    "kernelspec": {
      "name": "python3",
      "display_name": "Python 3"
    },
    "language_info": {
      "name": "python"
    }
  },
  "cells": [
    {
      "cell_type": "markdown",
      "metadata": {
        "id": "view-in-github",
        "colab_type": "text"
      },
      "source": [
        "<a href=\"https://colab.research.google.com/github/channmilee/Algorithm/blob/master/5_1_%EC%9E%AC%EA%B7%80_%EC%95%8C%EA%B3%A0%EB%A6%AC%EC%A6%98%EC%9D%98_%EA%B8%B0%EB%B3%B8.ipynb\" target=\"_parent\"><img src=\"https://colab.research.google.com/assets/colab-badge.svg\" alt=\"Open In Colab\"/></a>"
      ]
    },
    {
      "cell_type": "markdown",
      "source": [
        "## 재귀 알아보기"
      ],
      "metadata": {
        "id": "oTeSDlgbwGdA"
      }
    },
    {
      "cell_type": "markdown",
      "source": [
        "* 재귀 : 어떠한 이벤트에서 자기 자신을 포함하고 다시 자기 자신을 사용하여 정으되는 경우\n",
        "> 재귀 개념을 이용한 자연수의 정의\n",
        "  * 1은 자연수\n",
        "  * 어떤 자연수의 바로 다음 수도 자연수\n",
        "\n",
        "\n"
      ],
      "metadata": {
        "id": "LLBlN_LLwRg4"
      }
    },
    {
      "cell_type": "markdown",
      "source": [
        "## 팩토리얼 알아보기"
      ],
      "metadata": {
        "id": "cu_t9zYLwuvP"
      }
    },
    {
      "cell_type": "markdown",
      "source": [
        "* 팩토리얼 n!의 정의 (n은 양의 정수)\n",
        "  * 양의 정수를 순서대로 곱한다는 의미로 순차 곱셈이라고도 함\n",
        "\n",
        "    ```\n",
        "0! = 1\n",
        "n > 0 이면 n! = n x (n - 1)!\n",
        "```\n",
        "\n"
      ],
      "metadata": {
        "id": "AW9WY8WiwhVL"
      }
    },
    {
      "cell_type": "markdown",
      "source": [
        "### 실습 5-1."
      ],
      "metadata": {
        "id": "GjhZaXoyxRbQ"
      }
    },
    {
      "cell_type": "markdown",
      "source": [
        "* 양의 정수 n의 팩토리얼 구하기"
      ],
      "metadata": {
        "id": "exW7fiP2w_gb"
      }
    },
    {
      "cell_type": "code",
      "source": [
        "def factorial(n: int) -> int:\n",
        "  \"\"\"양의 정수 n의 팩토리얼 값을 재귀적으로 구함\"\"\"\n",
        "  if n > 0:\n",
        "    return n * factorial(n-1)\n",
        "  else:\n",
        "    return 1\n",
        "\n",
        "if __name__ == '__main__':\n",
        "  n = int(input('출력할 팩토리얼 값을 입력하세요 : '))\n",
        "  print(f'{n}의 팩토리얼은 {factorial(n)} 입니다.')"
      ],
      "metadata": {
        "colab": {
          "base_uri": "https://localhost:8080/"
        },
        "id": "v7GV1Rd4xVfI",
        "outputId": "5d839826-db87-4c8a-8443-d1dab41f616f"
      },
      "execution_count": 1,
      "outputs": [
        {
          "output_type": "stream",
          "name": "stdout",
          "text": [
            "출력할 팩토리얼 값을 입력하세요 : 3\n",
            "3의 팩토리얼은 6 입니다.\n"
          ]
        }
      ]
    },
    {
      "cell_type": "code",
      "source": [
        "factorial(3)"
      ],
      "metadata": {
        "colab": {
          "base_uri": "https://localhost:8080/"
        },
        "id": "TJtUVKHExwUu",
        "outputId": "70aa077f-3efe-4aae-cfab-21b11bfaa76c"
      },
      "execution_count": 2,
      "outputs": [
        {
          "output_type": "execute_result",
          "data": {
            "text/plain": [
              "6"
            ]
          },
          "metadata": {},
          "execution_count": 2
        }
      ]
    },
    {
      "cell_type": "markdown",
      "source": [
        "* **재귀 호출** : 자기 자신과 똑같은 함수 호출\n",
        "* 직접 재귀 vs 간접 재귀\n",
        "  * 직접 재귀 : 자신과 똑같은 함수 호출. a() 함수가 a() 함수 호출.  \n",
        "  * 간접 재귀 : a() 함수가 b() 함수 호출하고 다시 b() 함수가 a() 함수 호출하는 구조"
      ],
      "metadata": {
        "id": "jHiKAN3TyeAi"
      }
    },
    {
      "cell_type": "markdown",
      "source": [
        "## 유클리드 호제법 알아보기"
      ],
      "metadata": {
        "id": "HdVAIoiqzDpQ"
      }
    },
    {
      "cell_type": "markdown",
      "source": [
        "### 실습 5-2."
      ],
      "metadata": {
        "id": "d57nrZIMx6fJ"
      }
    },
    {
      "cell_type": "markdown",
      "source": [
        "* 유클리드 호제법으로 최대 공약수 구하기\n",
        "* [유클리드 호제법 그림으로 이해하기](https://ddrt44al.tistory.com/48)"
      ],
      "metadata": {
        "id": "BdM7zZJGzaFz"
      }
    },
    {
      "cell_type": "code",
      "source": [
        "def gcd(x: int, y: int) -> int:\n",
        "  \"\"\"정수 x와 y의 최대 공약수 반환\"\"\"\n",
        "  if y == 0:\n",
        "    return x\n",
        "  else:\n",
        "    return gcd(y, x % y)\n",
        "\n",
        "if __name__ == '__main__':\n",
        "  print('두 정수의 최대 공약수를 구합니다.')\n",
        "  x = int(input('첫 번째 정수 : '))\n",
        "  y = int(input('두 번째 정수 : '))\n",
        "\n",
        "  print(f'두 정수의 최대 공약수는 {gcd(x,y)}입니다.')"
      ],
      "metadata": {
        "colab": {
          "base_uri": "https://localhost:8080/"
        },
        "id": "3lB-niSozckT",
        "outputId": "378bfa0c-0215-488f-ad1b-09edc38beba7"
      },
      "execution_count": 3,
      "outputs": [
        {
          "output_type": "stream",
          "name": "stdout",
          "text": [
            "두 정수의 최대 공약수를 구합니다.\n",
            "첫 번째 정수 : 22\n",
            "두 번째 정수 : 8\n",
            "두 정수의 최대 공약수는 2입니다.\n"
          ]
        }
      ]
    },
    {
      "cell_type": "code",
      "source": [
        "gcd(8, 22)"
      ],
      "metadata": {
        "colab": {
          "base_uri": "https://localhost:8080/"
        },
        "id": "BWV_PYPx3JuY",
        "outputId": "0666ac6a-9fca-4ec4-d95f-d4df6bf2d640"
      },
      "execution_count": 4,
      "outputs": [
        {
          "output_type": "execute_result",
          "data": {
            "text/plain": [
              "2"
            ]
          },
          "metadata": {},
          "execution_count": 4
        }
      ]
    },
    {
      "cell_type": "code",
      "source": [
        "gcd(0,0)"
      ],
      "metadata": {
        "colab": {
          "base_uri": "https://localhost:8080/"
        },
        "id": "J4xPPbnl3LlB",
        "outputId": "1ca57989-4f7e-4a82-a410-115a82ff0079"
      },
      "execution_count": 5,
      "outputs": [
        {
          "output_type": "execute_result",
          "data": {
            "text/plain": [
              "0"
            ]
          },
          "metadata": {},
          "execution_count": 5
        }
      ]
    }
  ]
}