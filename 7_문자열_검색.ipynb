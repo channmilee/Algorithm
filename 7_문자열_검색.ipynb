{
  "nbformat": 4,
  "nbformat_minor": 0,
  "metadata": {
    "colab": {
      "provenance": [],
      "authorship_tag": "ABX9TyMSfmqf5Bf2goomMWxMkMyF",
      "include_colab_link": true
    },
    "kernelspec": {
      "name": "python3",
      "display_name": "Python 3"
    },
    "language_info": {
      "name": "python"
    }
  },
  "cells": [
    {
      "cell_type": "markdown",
      "metadata": {
        "id": "view-in-github",
        "colab_type": "text"
      },
      "source": [
        "<a href=\"https://colab.research.google.com/github/channmilee/Algorithm/blob/master/7_%EB%AC%B8%EC%9E%90%EC%97%B4_%EA%B2%80%EC%83%89.ipynb\" target=\"_parent\"><img src=\"https://colab.research.google.com/assets/colab-badge.svg\" alt=\"Open In Colab\"/></a>"
      ]
    },
    {
      "cell_type": "markdown",
      "source": [
        "## 07-1 브루트 포스법"
      ],
      "metadata": {
        "id": "NaSZ_T35ZRuJ"
      }
    },
    {
      "cell_type": "markdown",
      "source": [
        "* 선형 검색을 단순하게 확장한 알고리즘 --> 단순법\n",
        "* 이미 검사한 위치를 기억하지 못하기 때문에 효율이 좋지 않음"
      ],
      "metadata": {
        "id": "miCfdGu8TDRK"
      }
    },
    {
      "cell_type": "markdown",
      "source": [
        "### 실습 7-1"
      ],
      "metadata": {
        "id": "-PSXw22jZwPg"
      }
    },
    {
      "cell_type": "markdown",
      "source": [
        "* 브루트 포스법으로 문자열 검색"
      ],
      "metadata": {
        "id": "rK-6w_aNZzsM"
      }
    },
    {
      "cell_type": "code",
      "source": [
        "def bf_match(txt: str, pat: str) -> int:\n",
        "  \"\"\"브루토 포스법으로 문자열 검색\"\"\"\n",
        "  pt = 0               # txt 따라가는 커서\n",
        "  pp = 0               # pat 따라가는 커서\n",
        "\n",
        "  while pt != len(txt) and pp != len(pat):\n",
        "    if txt[pt] == pat[pp]:\n",
        "      pt += 1\n",
        "      pp += 1\n",
        "    else:       # 다시 다음 문자부터 비교하기 위함\n",
        "      pt = pt - pp + 1\n",
        "      pp = 0\n",
        "  \n",
        "  return pt - pp if pp == len(pat) else -1\n",
        "\n",
        "if __name__ == '__main__':\n",
        "  s1 = input('텍스트를 입력하세요 : ')  # 텍스트용 문자열\n",
        "  s2 = input('패턴을 입력하세요 : ')    # 패턴용 문자열\n",
        "\n",
        "  idx = bf_match(s1, s2)\n",
        "\n",
        "  if idx == -1:\n",
        "    print('텍스트 안에 패턴이 존재하지 않습니다.')\n",
        "\n",
        "  else:\n",
        "    print(f'{(idx + 1)}번째 문자가 일치합니다.')"
      ],
      "metadata": {
        "colab": {
          "base_uri": "https://localhost:8080/"
        },
        "id": "UhEVQvqUZu1g",
        "outputId": "c00f2136-333e-4081-a766-0d5e124ef141"
      },
      "execution_count": 1,
      "outputs": [
        {
          "output_type": "stream",
          "name": "stdout",
          "text": [
            "텍스트를 입력하세요 : ABABCDEFGHA\n",
            "패턴을 입력하세요 : ABC\n",
            "3번째 문자가 일치합니다.\n"
          ]
        }
      ]
    },
    {
      "cell_type": "markdown",
      "source": [
        "## 07-2 KMP법"
      ],
      "metadata": {
        "id": "rAJP1xLHbUCP"
      }
    },
    {
      "cell_type": "markdown",
      "source": [
        "* 이전에 검색했던 결과를 버리지 않고 효율적으로 활용하는 알고리즘\n",
        "* 보이어,무어법 보다 성능이 같거나 낮지만 복잡하기 때문에 활용도가 떨어짐"
      ],
      "metadata": {
        "id": "0Iig3kIjba1z"
      }
    },
    {
      "cell_type": "markdown",
      "source": [
        "### 실습 07-2"
      ],
      "metadata": {
        "id": "iBF6fi_Ib6HP"
      }
    },
    {
      "cell_type": "markdown",
      "source": [
        "* KMP법으로 문자열 검색"
      ],
      "metadata": {
        "id": "K5ZownaHasbV"
      }
    },
    {
      "cell_type": "code",
      "source": [
        "def kmp_match(txt: str, pat: str) -> int:\n",
        "  \"\"\"KMP법으로 문자열 검색\"\"\"\n",
        "  pt = 1               # txt 따라가는 커서\n",
        "  pp = 0               # pat 따라가는 커서\n",
        "  skip = [0] * (len(pat) + 1)\n",
        "\n",
        "  # 건너뛰기 표 만들기\n",
        "  skip[pt] = 0\n",
        "  while pt != len(pat):\n",
        "    if pat[pt] == pat[pp]:\n",
        "      pt += 1\n",
        "      pp += 1\n",
        "      skip[pt] = pp\n",
        "    elif pp == 0:\n",
        "      pt += 1\n",
        "      skip[pt] = pp\n",
        "    else:\n",
        "      pp = skip[pp]\n",
        "\n",
        "  # 문자열 검색하기\n",
        "  pt = pp = 0\n",
        "  while pt != len(txt) and pp != len(pat):\n",
        "    if txt[pt] == pat[pp]:\n",
        "      pt += 1\n",
        "      pp += 1\n",
        "    elif pp == 0:\n",
        "      pt += 1\n",
        "    else:\n",
        "      pp = skip[pp]\n",
        "  \n",
        "  return pt - pp if pp == len(pat) else -1\n",
        "\n",
        "if __name__ == '__main__':\n",
        "  s1 = input('텍스트를 입력하세요 : ')  # 텍스트용 문자열\n",
        "  s2 = input('패턴을 입력하세요 : ')    # 패턴용 문자열\n",
        "\n",
        "  idx = kmp_match(s1, s2)\n",
        "\n",
        "  if idx == -1:\n",
        "    print('텍스트 안에 패턴이 존재하지 않습니다.')\n",
        "\n",
        "  else:\n",
        "    print(f'{(idx + 1)}번째 문자가 일치합니다.')"
      ],
      "metadata": {
        "colab": {
          "base_uri": "https://localhost:8080/"
        },
        "id": "HsTTH2CMb_iB",
        "outputId": "04655f30-5411-4458-f507-5cdac802f8ff"
      },
      "execution_count": 2,
      "outputs": [
        {
          "output_type": "stream",
          "name": "stdout",
          "text": [
            "텍스트를 입력하세요 : ABABCDEFGHA\n",
            "패턴을 입력하세요 : ABC\n",
            "3번째 문자가 일치합니다.\n"
          ]
        }
      ]
    },
    {
      "cell_type": "markdown",
      "source": [
        "## 07-3 보이어,무어법"
      ],
      "metadata": {
        "id": "nppf67YddpiD"
      }
    },
    {
      "cell_type": "markdown",
      "source": [
        "* 패턴의 끝문자에서 시작해 앞쪽을 향해 검사 수행\n",
        "* 일치하지 않는 문자 발견시 미리 준비한 표를 바탕으로 패턴이 이동하는 값 결정\n",
        "\n",
        "> 패턴 문자열 길이가 n 일 때\n",
        "* 패턴에 포함되지 않는 문자를 만난 경우  \n",
        "  -> 패턴 이동량이 n\n",
        "* 패턴에 포함되는 문자를 만난 경우  \n",
        "  -> 마지막에 나오는 위치 인덱스가 k 면 이동량은 n - k - 1  \n",
        "  -> 같은 문자가 패턴 안에 중복 존재하지 않으면 패턴의 맨 끝 문자의 이동량은 n\n",
        "\n",
        "\n",
        "\n",
        "\n",
        " \n"
      ],
      "metadata": {
        "id": "OeLwHgTwdzaf"
      }
    },
    {
      "cell_type": "markdown",
      "source": [
        "### 실습 7-3"
      ],
      "metadata": {
        "id": "DN5TkiaYe2nY"
      }
    },
    {
      "cell_type": "markdown",
      "source": [
        "* 보이어, 무어법으로 문자열 검색하기"
      ],
      "metadata": {
        "id": "WJ8vE2e2dzMM"
      }
    },
    {
      "cell_type": "code",
      "source": [
        "def bm_match(txt: str, pat: str) -> int:\n",
        "  \"\"\"보이어, 무어법으로 문자열 검색\"\"\"\n",
        "  skip = [None] * 256           # 건너뛰기 표\n",
        "\n",
        "  # 건너뛰기 표 만들기\n",
        "  for pt in range(256):\n",
        "    skip[pt] = len(pat)\n",
        "  for pt in range(len(pat)):\n",
        "    skip[ord(pat[pt])] = len(pat) - pt - 1\n",
        "  \n",
        "  # 검색하기\n",
        "  while pt < len(txt) :\n",
        "    pp = len(pat) - 1\n",
        "    while txt[pt] == pat[pp]:\n",
        "      if pp == 0:\n",
        "        return pt\n",
        "      pt -= 1\n",
        "      pp -= 1\n",
        "    \n",
        "    pt += skip[ord(txt[pt])] if skip[ord(txt[pt])] > len(pat) - pp else len(pat) - pp\n",
        "\n",
        "  return -1\n",
        "\n",
        "if __name__ == '__main__':\n",
        "  s1 = input('텍스트를 입력하세요 : ')  # 텍스트용 문자열\n",
        "  s2 = input('패턴을 입력하세요 : ')    # 패턴용 문자열\n",
        "\n",
        "  idx = bm_match(s1, s2)\n",
        "\n",
        "  if idx == -1:\n",
        "    print('텍스트 안에 패턴이 존재하지 않습니다.')\n",
        "\n",
        "  else:\n",
        "    print(f'{(idx + 1)}번째 문자가 일치합니다.')"
      ],
      "metadata": {
        "colab": {
          "base_uri": "https://localhost:8080/"
        },
        "id": "-HfQ3jVbdfey",
        "outputId": "f6772b03-cde8-42bb-e575-a2b3bb0aaebe"
      },
      "execution_count": 3,
      "outputs": [
        {
          "output_type": "stream",
          "name": "stdout",
          "text": [
            "텍스트를 입력하세요 : ABABCDEFGHA\n",
            "패턴을 입력하세요 : ABC\n",
            "3번째 문자가 일치합니다.\n"
          ]
        }
      ]
    }
  ]
}