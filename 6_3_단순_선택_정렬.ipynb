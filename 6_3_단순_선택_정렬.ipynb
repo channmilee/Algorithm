{
  "nbformat": 4,
  "nbformat_minor": 0,
  "metadata": {
    "colab": {
      "provenance": [],
      "authorship_tag": "ABX9TyOg2TkmylJjvbd+6Zsad7+c",
      "include_colab_link": true
    },
    "kernelspec": {
      "name": "python3",
      "display_name": "Python 3"
    },
    "language_info": {
      "name": "python"
    }
  },
  "cells": [
    {
      "cell_type": "markdown",
      "metadata": {
        "id": "view-in-github",
        "colab_type": "text"
      },
      "source": [
        "<a href=\"https://colab.research.google.com/github/channmilee/Algorithm/blob/master/6_3_%EB%8B%A8%EC%88%9C_%EC%84%A0%ED%83%9D_%EC%A0%95%EB%A0%AC.ipynb\" target=\"_parent\"><img src=\"https://colab.research.google.com/assets/colab-badge.svg\" alt=\"Open In Colab\"/></a>"
      ]
    },
    {
      "cell_type": "markdown",
      "source": [
        "## 단순 선택 정렬 알아보기"
      ],
      "metadata": {
        "id": "xgUBo3yjwaOS"
      }
    },
    {
      "cell_type": "markdown",
      "source": [
        "* **단순 선택 정렬** : 가장 작은 원소부터 선택해 알맞은 위치로 옮기는 작업을 반복하며 정렬하는 알고리즘  \n",
        "[단순 선택 정렬 알고리즘 이해하기](https://ddrt44al.tistory.com/51)\n",
        "\n",
        "\n",
        "> **단순 선택 정렬 교환 과정**\n",
        "1. 아직 정렬하지 않은 부분에서 값이 가장 작은 원소 a[min] 선택\n",
        "2. a[min]과 아직 정렬하지 않은 부분에서 맨 앞에 있는 원소 선택"
      ],
      "metadata": {
        "id": "qXy55AiqwT0K"
      }
    },
    {
      "cell_type": "markdown",
      "source": [
        "### 실습 6-6."
      ],
      "metadata": {
        "id": "8LpGaIpM4XJB"
      }
    },
    {
      "cell_type": "markdown",
      "source": [
        "* 단순 선택 정렬 알고리즘 구현"
      ],
      "metadata": {
        "id": "BUax-PzNwixt"
      }
    },
    {
      "cell_type": "code",
      "source": [
        "from typing import MutableSequence\n",
        "\n",
        "def selection_sort(a: MutableSequence) -> None:\n",
        "  \"\"\"단순 선택 정렬\"\"\"\n",
        "  n = len(a)\n",
        "  for i in range(n-1):\n",
        "    min = i     # 정렬할 부분에서 가장 작은 원소의 인덱스\n",
        "    for j in range(i + 1, n):\n",
        "      if a[j] < a[min]:\n",
        "        min = j\n",
        "    a[i], a[min] = a[min], a[i]  # 정렬할 부분에서 맨 앞의 원소와 가장 작은 원소 교환\n",
        "    \n",
        "if __name__ == '__main__':\n",
        "    print('단순 선택 정렬을 수행합니다.')\n",
        "    num = int(input('원소 수를 입력하세요.: '))\n",
        "    x = [None] * num  # 원소 수가 num인 배열을 생성\n",
        "\n",
        "    for i in range(num):\n",
        "        x[i] = int(input(f'x[{i}] : '))\n",
        "\n",
        "    selection_sort(x)  # 배열 x를 단순 선택 정렬\n",
        "\n",
        "    print('오름차순으로 정렬했습니다.')\n",
        "    for i in range(num):\n",
        "        print(f'x[{i}] = {x[i]}')"
      ],
      "metadata": {
        "colab": {
          "base_uri": "https://localhost:8080/"
        },
        "id": "EvFXZd0X4anN",
        "outputId": "15957fec-4503-4355-d633-e1867b4be383"
      },
      "execution_count": 1,
      "outputs": [
        {
          "output_type": "stream",
          "name": "stdout",
          "text": [
            "단순 선택 정렬을 수행합니다.\n",
            "원소 수를 입력하세요.: 7\n",
            "x[0] : 6\n",
            "x[1] : 4\n",
            "x[2] : 8\n",
            "x[3] : 3\n",
            "x[4] : 1\n",
            "x[5] : 9\n",
            "x[6] : 7\n",
            "오름차순으로 정렬했습니다.\n",
            "x[0] = 1\n",
            "x[1] = 3\n",
            "x[2] = 4\n",
            "x[3] = 6\n",
            "x[4] = 7\n",
            "x[5] = 8\n",
            "x[6] = 9\n"
          ]
        }
      ]
    },
    {
      "cell_type": "markdown",
      "source": [
        "* 서로 이웃하지 않는 떨어져 있는 원소를 교환하므로 안정적이지 않음"
      ],
      "metadata": {
        "id": "me959bwd7VIV"
      }
    },
    {
      "cell_type": "code",
      "source": [
        "a = [6,4,8,3,1,9,7]\n",
        "print(a, '\\n')\n",
        "\n",
        "n = len(a)\n",
        "for i in range(n-1):\n",
        "  min = i\n",
        "  print(f'min = {min} / a[min] = {a[min]}')\n",
        "  for j in range(i + 1, n):\n",
        "    if a[j] < a[min]:\n",
        "      min = j\n",
        "      print(f'min = {min} / a[min] = {a[min]}')\n",
        "  a[i], a[min] = a[min], a[i]\n",
        "  print(a,'\\n')"
      ],
      "metadata": {
        "colab": {
          "base_uri": "https://localhost:8080/"
        },
        "id": "21qF3hMdIslp",
        "outputId": "003ee802-005f-4ae3-c0ee-67932f5d4146"
      },
      "execution_count": 11,
      "outputs": [
        {
          "output_type": "stream",
          "name": "stdout",
          "text": [
            "[6, 4, 8, 3, 1, 9, 7] \n",
            "\n",
            "min = 0 / a[min] = 6\n",
            "min = 1 / a[min] = 4\n",
            "min = 3 / a[min] = 3\n",
            "min = 4 / a[min] = 1\n",
            "[1, 4, 8, 3, 6, 9, 7] \n",
            "\n",
            "min = 1 / a[min] = 4\n",
            "min = 3 / a[min] = 3\n",
            "[1, 3, 8, 4, 6, 9, 7] \n",
            "\n",
            "min = 2 / a[min] = 8\n",
            "min = 3 / a[min] = 4\n",
            "[1, 3, 4, 8, 6, 9, 7] \n",
            "\n",
            "min = 3 / a[min] = 8\n",
            "min = 4 / a[min] = 6\n",
            "[1, 3, 4, 6, 8, 9, 7] \n",
            "\n",
            "min = 4 / a[min] = 8\n",
            "min = 6 / a[min] = 7\n",
            "[1, 3, 4, 6, 7, 9, 8] \n",
            "\n",
            "min = 5 / a[min] = 9\n",
            "min = 6 / a[min] = 8\n",
            "[1, 3, 4, 6, 7, 8, 9] \n",
            "\n"
          ]
        }
      ]
    }
  ]
}