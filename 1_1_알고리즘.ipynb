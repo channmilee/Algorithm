{
  "nbformat": 4,
  "nbformat_minor": 0,
  "metadata": {
    "colab": {
      "provenance": [],
      "collapsed_sections": [
        "rgndH3fu6Rxt",
        "oEukhl3_3YyZ",
        "wmJZJeQM_ydH"
      ],
      "toc_visible": true,
      "authorship_tag": "ABX9TyNRcMXP+bKjgpa/ukBcPPIm",
      "include_colab_link": true
    },
    "kernelspec": {
      "name": "python3",
      "display_name": "Python 3"
    },
    "language_info": {
      "name": "python"
    }
  },
  "cells": [
    {
      "cell_type": "markdown",
      "metadata": {
        "id": "view-in-github",
        "colab_type": "text"
      },
      "source": [
        "<a href=\"https://colab.research.google.com/github/channmilee/Algorithm/blob/master/1_1_%EC%95%8C%EA%B3%A0%EB%A6%AC%EC%A6%98.ipynb\" target=\"_parent\"><img src=\"https://colab.research.google.com/assets/colab-badge.svg\" alt=\"Open In Colab\"/></a>"
      ]
    },
    {
      "cell_type": "markdown",
      "source": [
        "## 1-1. 알고리즘이란?"
      ],
      "metadata": {
        "id": "KRhfCEkdz3UL"
      }
    },
    {
      "cell_type": "markdown",
      "source": [
        "* **알고리즘** : 어떠한 문제를 해결하기 위해 정해 놓은 일련의 절차\n",
        "* **올바른 알고리즘** : 어떠한 경우에도 실행 결과가 똑같이 나오는 것"
      ],
      "metadata": {
        "id": "5nm8FCGz21AI"
      }
    },
    {
      "cell_type": "markdown",
      "source": [
        "### 세 정수의 최댓값 구하기"
      ],
      "metadata": {
        "id": "rgndH3fu6Rxt"
      }
    },
    {
      "cell_type": "markdown",
      "source": [
        "#### 실습 1-1."
      ],
      "metadata": {
        "id": "gvZChpFnz8vx"
      }
    },
    {
      "cell_type": "markdown",
      "source": [
        "* 세 정수를 입력받아 최댓값 구하기"
      ],
      "metadata": {
        "id": "c8p06MI80EOB"
      }
    },
    {
      "cell_type": "code",
      "execution_count": null,
      "metadata": {
        "colab": {
          "base_uri": "https://localhost:8080/"
        },
        "id": "WvyXbWTvxpeF",
        "outputId": "f680b1f0-326b-4a30-c101-b0a61d1587a8"
      },
      "outputs": [
        {
          "output_type": "stream",
          "name": "stdout",
          "text": [
            "세 정수의 최댓값을 구합니다.\n",
            "정수 a의 값을 입력하세요 : 10\n",
            "정수 b의 값을 입력하세요 : 20\n",
            "정수 c의 값을 입력하세요 : 30\n",
            "최댓값은 30입니다.\n"
          ]
        }
      ],
      "source": [
        "print('세 정수의 최댓값을 구합니다.')\n",
        "\n",
        "a = int(input('정수 a의 값을 입력하세요 : '))\n",
        "b = int(input('정수 b의 값을 입력하세요 : '))\n",
        "c = int(input('정수 c의 값을 입력하세요 : '))\n",
        "\n",
        "maximum = a\n",
        "if b > maximum : maximum = b\n",
        "if c > maximum : maximum = c\n",
        "\n",
        "print(f'최댓값은 {maximum}입니다.')"
      ]
    },
    {
      "cell_type": "markdown",
      "source": [
        "* 순차 구조 : 한 문장씩 순서대로 처리되는 구조\n",
        "* 선택 구조 : 조건식으로 평가한 결과에 따라 프로그램의 실행 흐름이 변경되는 구조\n",
        "* 양 갈래 선택 : 조건식에 따라 알고리즘 흐름이 두 갈래로 나뉘는 것"
      ],
      "metadata": {
        "id": "s0shmkBg1Fcx"
      }
    },
    {
      "cell_type": "markdown",
      "source": [
        "\n",
        "\n",
        "---\n",
        "\n",
        "\n",
        "##### 복합문의 구조\n",
        "\n",
        "  * 헤더 : if나 while과 같은 키워드로 시작하여 클론으로 끝나는 부분\n",
        "  * 스위트 (suite) : 헤더와 한 세트로 따라다니는 실행문을 의미\n",
        "\n"
      ],
      "metadata": {
        "id": "oEukhl3_3YyZ"
      }
    },
    {
      "cell_type": "code",
      "source": [
        "if a < b:\n",
        "  min2 = a\n",
        "  max2 = b\n",
        "\n",
        "if a < b : min2 = a\n",
        "if a < b : min2 = a; max2 = b"
      ],
      "metadata": {
        "id": "_BJKl2Xn4VPE"
      },
      "execution_count": null,
      "outputs": []
    },
    {
      "cell_type": "markdown",
      "source": [
        "#### 실습 1-2."
      ],
      "metadata": {
        "id": "bvuCZCj_1mEm"
      }
    },
    {
      "cell_type": "code",
      "source": [
        "def max3(a,b,c):\n",
        "  \"\"\" a,b,c의 최대값을 구하여 반환\"\"\"\n",
        "  maximum = a\n",
        "  if b > maximum : maximum = b\n",
        "  if c > maximum : maximum = c\n",
        "  return maximum\n",
        "\n",
        "print(f'max3(3,2,1) = {max3(3,2,1)}')\n",
        "print(f'max3(3,2,2) = {max3(3,2,2)}')\n",
        "print(f'max3(3,1,2) = {max3(3,1,2)}')\n",
        "print(f'max3(3,2,3) = {max3(3,2,3)}')\n",
        "print(f'max3(2,1,3) = {max3(2,1,3)}')\n",
        "print(f'max3(3,3,2) = {max3(3,3,2)}')\n",
        "print(f'max3(3,3,3) = {max3(3,3,3)}')\n",
        "print(f'max3(2,2,3) = {max3(2,2,3)}')\n",
        "print(f'max3(2,3,1) = {max3(2,3,1)}')\n",
        "print(f'max3(2,3,2) = {max3(2,3,2)}')\n",
        "print(f'max3(1,3,2) = {max3(1,3,2)}')\n",
        "print(f'max3(2,3,3) = {max3(2,3,3)}')\n",
        "print(f'max3(1,2,3) = {max3(1,2,3)}')"
      ],
      "metadata": {
        "colab": {
          "base_uri": "https://localhost:8080/"
        },
        "id": "SJ1D4-Qb0kD5",
        "outputId": "067fac05-663c-46eb-8596-197df1bf1ae7"
      },
      "execution_count": null,
      "outputs": [
        {
          "output_type": "stream",
          "name": "stdout",
          "text": [
            "max3(3,2,1) = 3\n",
            "max3(3,2,2) = 3\n",
            "max3(3,1,2) = 3\n",
            "max3(3,2,3) = 3\n",
            "max3(2,1,3) = 3\n",
            "max3(3,3,2) = 3\n",
            "max3(3,3,3) = 3\n",
            "max3(2,2,3) = 3\n",
            "max3(2,3,1) = 3\n",
            "max3(2,3,2) = 3\n",
            "max3(1,3,2) = 3\n",
            "max3(2,3,3) = 3\n",
            "max3(1,2,3) = 3\n"
          ]
        }
      ]
    },
    {
      "cell_type": "markdown",
      "source": [
        "#### 실습 1c-2."
      ],
      "metadata": {
        "id": "4rL_u6cN6Agw"
      }
    },
    {
      "cell_type": "markdown",
      "source": [
        "* 세 정수를 입력받아 중앙값 구하기 1"
      ],
      "metadata": {
        "id": "OCZTm1-_6EB2"
      }
    },
    {
      "cell_type": "code",
      "source": [
        "def med3(a,b,c):\n",
        "  if a >= b:\n",
        "    if b >= c:\n",
        "      return b\n",
        "    elif c >= a:\n",
        "      return a\n",
        "    else:\n",
        "      return c\n",
        "  elif a > c:\n",
        "    return a\n",
        "  elif b > c:\n",
        "    return c\n",
        "  else:\n",
        "    return b\n",
        "\n",
        "print(\"세 정수의 중앙값을 구합니다.\")\n",
        "a = int(input('정수 a의 값을 입력하세요 : '))\n",
        "b = int(input('정수 b의 값을 입력하세요 : '))\n",
        "c = int(input('정수 c의 값을 입력하세요 : '))\n",
        "\n",
        "print(f'중앙값은 {med3(a,b,c)}입니다.')"
      ],
      "metadata": {
        "colab": {
          "base_uri": "https://localhost:8080/"
        },
        "id": "et7H0SRd2piI",
        "outputId": "c14b37c2-0674-48f2-b4c8-f8ad8cce94fe"
      },
      "execution_count": null,
      "outputs": [
        {
          "output_type": "stream",
          "name": "stdout",
          "text": [
            "세 정수의 중앙값을 구합니다.\n",
            "정수 a의 값을 입력하세요 : 10\n",
            "정수 b의 값을 입력하세요 : 20\n",
            "정수 c의 값을 입력하세요 : 30\n",
            "중앙값은 20입니다.\n"
          ]
        }
      ]
    },
    {
      "cell_type": "markdown",
      "source": [
        "* 세 정수를 입력받아 중앙값 구하기 2\n",
        "  * 이 코드는 길이가 짧은 대신 위 코드보다 효율적이지 않음\n",
        "  * if 문의 조건식이 성립하지 않으면 이어지는 elif문은 이 판단을 수행할 필요가 없음 (if 조건식을 뒤집은 판단이 elif 조건식이기 때문)\n",
        "  * a와 b의 비교를 마친 상태에서 다시 비교하는 것은 비효율적"
      ],
      "metadata": {
        "id": "o6THB7b371Qp"
      }
    },
    {
      "cell_type": "code",
      "source": [
        "def med3(a,b,c):\n",
        "  if (b >= a and a >= c) or (b <= a and c >= a):\n",
        "    return a\n",
        "  elif (a > b and b > c) or (b > a and c > b):\n",
        "    return b\n",
        "  else:\n",
        "    return c\n",
        "    \n",
        "print(\"세 정수의 중앙값을 구합니다.\")\n",
        "a = int(input('정수 a의 값을 입력하세요 : '))\n",
        "b = int(input('정수 b의 값을 입력하세요 : '))\n",
        "c = int(input('정수 c의 값을 입력하세요 : '))\n",
        "\n",
        "print(f'중앙값은 {med3(a,b,c)}입니다.')"
      ],
      "metadata": {
        "colab": {
          "base_uri": "https://localhost:8080/"
        },
        "id": "Nt-6-qWt70c8",
        "outputId": "e5bcbbbe-cd2d-440d-8f13-a2ac4b46b701"
      },
      "execution_count": null,
      "outputs": [
        {
          "output_type": "stream",
          "name": "stdout",
          "text": [
            "세 정수의 중앙값을 구합니다.\n",
            "정수 a의 값을 입력하세요 : 10\n",
            "정수 b의 값을 입력하세요 : 20\n",
            "정수 c의 값을 입력하세요 : 30\n",
            "중앙값은 20입니다.\n"
          ]
        }
      ]
    },
    {
      "cell_type": "markdown",
      "source": [
        "### 조건문과 분기"
      ],
      "metadata": {
        "id": "SaphvEbG8usb"
      }
    },
    {
      "cell_type": "markdown",
      "source": [
        "#### 실습 1-3."
      ],
      "metadata": {
        "id": "0DZ4VoE19FDT"
      }
    },
    {
      "cell_type": "markdown",
      "source": [
        "* 입력받은 정수의 부호(양수, 음수, 0) 출력하기"
      ],
      "metadata": {
        "id": "9w-TpsNu9HQa"
      }
    },
    {
      "cell_type": "code",
      "source": [
        "n = int(input('정수를 입력하세요 : '))\n",
        "\n",
        "if n > 0 :\n",
        "  print('양수')\n",
        "elif n < 0:\n",
        "  print('음수')\n",
        "else:\n",
        "  print('0')"
      ],
      "metadata": {
        "colab": {
          "base_uri": "https://localhost:8080/"
        },
        "id": "AZaADwWD8V6S",
        "outputId": "99df468d-8c6f-438c-8f3a-3cd30678c376"
      },
      "execution_count": null,
      "outputs": [
        {
          "output_type": "stream",
          "name": "stdout",
          "text": [
            "정수를 입력하세요 : 17\n",
            "양수\n"
          ]
        }
      ]
    },
    {
      "cell_type": "markdown",
      "source": [
        "#### 실습 1-4."
      ],
      "metadata": {
        "id": "NyEX1n6q9gMz"
      }
    },
    {
      "cell_type": "markdown",
      "source": [
        "* 3개로 분기하는 조건문\n",
        "  * n이 1,2가 아니면 모두 C를 출력함"
      ],
      "metadata": {
        "id": "4mJkaNby9jRn"
      }
    },
    {
      "cell_type": "code",
      "source": [
        "n = int(input('정수를 입력하세요 : '))\n",
        "\n",
        "if n == 1:\n",
        "  print('A')\n",
        "elif n == 2:\n",
        "  print('B')\n",
        "else:\n",
        "  print('C')"
      ],
      "metadata": {
        "colab": {
          "base_uri": "https://localhost:8080/"
        },
        "id": "pqN8eNaR9XOJ",
        "outputId": "c453fa23-fb16-4222-c236-dfa02c98e714"
      },
      "execution_count": null,
      "outputs": [
        {
          "output_type": "stream",
          "name": "stdout",
          "text": [
            "정수를 입력하세요 : 3\n",
            "C\n"
          ]
        }
      ]
    },
    {
      "cell_type": "markdown",
      "source": [
        "#### 실습 1-5."
      ],
      "metadata": {
        "id": "EohLPoea91k5"
      }
    },
    {
      "cell_type": "markdown",
      "source": [
        "* 4개로 분기하는 조건문\n",
        "  * n이 1,2,3 이 아니면 아무것도 출력하지 않음"
      ],
      "metadata": {
        "id": "BTdABQCl93pK"
      }
    },
    {
      "cell_type": "code",
      "source": [
        "n = int(input('정수를 입력하세요 : '))\n",
        "\n",
        "if n == 1:\n",
        "  print('A')\n",
        "elif n == 2:\n",
        "  print('B')\n",
        "elif n == 3:\n",
        "  print('C')"
      ],
      "metadata": {
        "colab": {
          "base_uri": "https://localhost:8080/"
        },
        "id": "Luwwzf059ud-",
        "outputId": "25487fec-c351-45a7-d761-46a623084ce2"
      },
      "execution_count": null,
      "outputs": [
        {
          "name": "stdout",
          "output_type": "stream",
          "text": [
            "정수를 입력하세요 : 4\n"
          ]
        }
      ]
    },
    {
      "cell_type": "markdown",
      "source": [
        "#### 실습 1-6."
      ],
      "metadata": {
        "id": "bGd5yQZO-Mvd"
      }
    },
    {
      "cell_type": "markdown",
      "source": [
        "* 실습 1-5의 원래 모습"
      ],
      "metadata": {
        "id": "V-NMBp_5-Pjh"
      }
    },
    {
      "cell_type": "code",
      "source": [
        "n = int(input('정수를 입력하세요 : '))\n",
        "\n",
        "if n == 1:\n",
        "  print('A')\n",
        "elif n == 2:\n",
        "  print('B')\n",
        "elif n == 3:\n",
        "  print('C')\n",
        "else:\n",
        "  pass"
      ],
      "metadata": {
        "colab": {
          "base_uri": "https://localhost:8080/"
        },
        "id": "t_-V8ZPp-FDt",
        "outputId": "c7df7943-9636-4d08-baa2-e0864c090df2"
      },
      "execution_count": null,
      "outputs": [
        {
          "name": "stdout",
          "output_type": "stream",
          "text": [
            "정수를 입력하세요 : 4\n"
          ]
        }
      ]
    },
    {
      "cell_type": "markdown",
      "source": [
        "\n",
        "\n",
        "---\n",
        "##### 연산자와 피연산자\n",
        "* 연산자 : +, - 등의 기호\n",
        "  * 연산자는 피연산자의 개수에 따라 3가지로 분류됨\n",
        "    * 단항 연산자 : 피연산자 1개 ex) -a\n",
        "    * 이항 연산자 : 피연산자 2개 ex) a < b\n",
        "    * 삼항 연산자 : 피연산자 3개 ex) a if b else c\n",
        "* 피연산자 : 연산 대상\n"
      ],
      "metadata": {
        "id": "wmJZJeQM_ydH"
      }
    },
    {
      "cell_type": "code",
      "source": [
        "# a if b else c (b를 평가한 값이 참이면 a, 거짓이면 c)\n",
        "c = 0\n",
        "print('c는 0입니다.' if c == 0 else 'c는 0이 아닙니다.')"
      ],
      "metadata": {
        "colab": {
          "base_uri": "https://localhost:8080/"
        },
        "id": "3lD3MWmxAZU9",
        "outputId": "ab733a8d-6d3e-448b-9f29-4e14474fab94"
      },
      "execution_count": null,
      "outputs": [
        {
          "output_type": "stream",
          "name": "stdout",
          "text": [
            "c는 0입니다.\n"
          ]
        }
      ]
    },
    {
      "cell_type": "markdown",
      "source": [
        "### 순서도 기호 살펴보기"
      ],
      "metadata": {
        "id": "ACsm6S_mA5GL"
      }
    },
    {
      "cell_type": "markdown",
      "source": [
        "* 순서도 : 문제를 정의, 분석하고 해결하는 방법을 그림으로 표현\n",
        "  * 실제로 실행할 연산을 나타내는 기호\n",
        "  * 제어 흐름을 나타내는 선 기호\n",
        "  * 프로그램 순서도를 이해하거나 작성하는 데 편리한 특수 기호\n",
        "  "
      ],
      "metadata": {
        "id": "fR8FYogaBChj"
      }
    }
  ]
}