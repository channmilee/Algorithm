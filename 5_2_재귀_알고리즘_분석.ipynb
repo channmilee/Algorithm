{
  "nbformat": 4,
  "nbformat_minor": 0,
  "metadata": {
    "colab": {
      "provenance": [],
      "authorship_tag": "ABX9TyNhMfJojug2t0KwXUq+rC9l",
      "include_colab_link": true
    },
    "kernelspec": {
      "name": "python3",
      "display_name": "Python 3"
    },
    "language_info": {
      "name": "python"
    }
  },
  "cells": [
    {
      "cell_type": "markdown",
      "metadata": {
        "id": "view-in-github",
        "colab_type": "text"
      },
      "source": [
        "<a href=\"https://colab.research.google.com/github/channmilee/Algorithm/blob/master/5_2_%EC%9E%AC%EA%B7%80_%EC%95%8C%EA%B3%A0%EB%A6%AC%EC%A6%98_%EB%B6%84%EC%84%9D.ipynb\" target=\"_parent\"><img src=\"https://colab.research.google.com/assets/colab-badge.svg\" alt=\"Open In Colab\"/></a>"
      ]
    },
    {
      "cell_type": "markdown",
      "source": [
        "## 재귀 알고리즘 2가지 분석 방법"
      ],
      "metadata": {
        "id": "nHgYA4BAKzp7"
      }
    },
    {
      "cell_type": "markdown",
      "source": [
        "### 실습 5-3."
      ],
      "metadata": {
        "id": "xcomtT1KKinM"
      }
    },
    {
      "cell_type": "markdown",
      "source": [
        "* 순수한 재귀 함수 구현하기"
      ],
      "metadata": {
        "id": "yLYamaOgK6PE"
      }
    },
    {
      "cell_type": "markdown",
      "source": [
        "**--`recur() 함수`**\n",
        "* 함수 안에서 재귀 호출 2번 실행\n",
        "* 순수한 재귀 : 재귀 호출을 여러번 실행하는 함수\n",
        "* [재귀 알고리즘 이해하기](https://ddrt44al.tistory.com/49)"
      ],
      "metadata": {
        "id": "n5HlVaoCLUe3"
      }
    },
    {
      "cell_type": "code",
      "source": [
        "def recur(n: int) -> int:\n",
        "  \"\"\"순수한 재귀 함수 recur 구현\"\"\"\n",
        "  if n > 0:\n",
        "    recur(n-1)\n",
        "    print(n)\n",
        "    recur(n-2)\n",
        "\n",
        "x = int(input('정수를 입력하세요 : '))\n",
        "\n",
        "recur(x)"
      ],
      "metadata": {
        "colab": {
          "base_uri": "https://localhost:8080/"
        },
        "id": "F5nQQrZ7K72D",
        "outputId": "dc97731f-3c34-4e85-a65b-63304aef7182"
      },
      "execution_count": 10,
      "outputs": [
        {
          "output_type": "stream",
          "name": "stdout",
          "text": [
            "정수를 입력하세요 : 4\n",
            "1\n",
            "2\n",
            "3\n",
            "1\n",
            "4\n",
            "1\n",
            "2\n"
          ]
        }
      ]
    },
    {
      "cell_type": "markdown",
      "source": [
        "### 하향식 분석"
      ],
      "metadata": {
        "id": "5ZVUxSl-LifP"
      }
    },
    {
      "cell_type": "markdown",
      "source": [
        "**-- `recur(4)`의 실행 과정**\n",
        "1. `recur(3)` 실행\n",
        "2. 4 출력\n",
        "3. `recur(2)` 실행"
      ],
      "metadata": {
        "id": "PXGys20VL9h8"
      }
    },
    {
      "cell_type": "markdown",
      "source": [
        "### 상향식 분석"
      ],
      "metadata": {
        "id": "87l-MEm_MNjy"
      }
    },
    {
      "cell_type": "markdown",
      "source": [
        "**-- `recur(1)`의 실행 과정**\n",
        "1. `recur(0)` 실행 -- 아무것도 하지 않음\n",
        "2. 1 출력\n",
        "3. `recur(-1)` 실행 -- 아무것도 하지 않음"
      ],
      "metadata": {
        "id": "Yt47vRS2MT-G"
      }
    },
    {
      "cell_type": "markdown",
      "source": [
        "**-- `recur(2)`의 실행 과정**\n",
        "1. `recur(1)` 실행 -- 1 출력\n",
        "2. 2 출력\n",
        "3. `recur(0)` 실행 -- 아무것도 하지 않음"
      ],
      "metadata": {
        "id": "rkqXNMAwMXzn"
      }
    },
    {
      "cell_type": "markdown",
      "source": [
        "## 재귀 알고리즘의 비재귀적 표현"
      ],
      "metadata": {
        "id": "YS3CLjY5VE4o"
      }
    },
    {
      "cell_type": "markdown",
      "source": [
        "### 실습 5-4."
      ],
      "metadata": {
        "id": "8TyNnJRBVTDo"
      }
    },
    {
      "cell_type": "markdown",
      "source": [
        "* 비재귀적으로 재귀 함수 구현하기 (꼬리 재귀를 제거)\n",
        "\n",
        "> recur() 함수 맨 끝에서 재귀 호출하는 꼬리 재귀 `recur(n - 2)` 함수 의미  \n",
        "* 인수로 n - 2 의 값을 전달하고 recur() 함수 호출\n",
        "\n",
        "\n",
        "\n",
        "> 위 호출을 다음 동작으로 바꾸기\n",
        "* n의 값을 n - 2로 업데이트하고 함수의 시작 지점으로 돌아감\n",
        "* 이렇게 하면 recur() 함수의 맨 끝에서 실행된 재귀 호출인 꼬리 재귀를 쉽게 제거 가능\n",
        "\n",
        "\n"
      ],
      "metadata": {
        "id": "h4MTIDoaVWjV"
      }
    },
    {
      "cell_type": "code",
      "source": [
        "def recur(n: int) -> int:\n",
        "  \"\"\"꼬리 재귀를 제거한 recur() 함수\"\"\"\n",
        "  while n > 0:\n",
        "    recur(n-1)\n",
        "    print(n)\n",
        "    n = n - 2\n",
        "\n",
        "x = int(input('정수를 입력하세요 : '))\n",
        "\n",
        "recur(x)"
      ],
      "metadata": {
        "colab": {
          "base_uri": "https://localhost:8080/"
        },
        "id": "tcQZYMyHLIir",
        "outputId": "0ce440e6-fe1a-44c4-e163-17e512bc84ba"
      },
      "execution_count": 11,
      "outputs": [
        {
          "output_type": "stream",
          "name": "stdout",
          "text": [
            "정수를 입력하세요 : 4\n",
            "1\n",
            "2\n",
            "3\n",
            "1\n",
            "4\n",
            "1\n",
            "2\n"
          ]
        }
      ]
    },
    {
      "cell_type": "markdown",
      "source": [
        "### 실습 5-5."
      ],
      "metadata": {
        "id": "c992VvaYXQq3"
      }
    },
    {
      "cell_type": "markdown",
      "source": [
        "* 스택으로 재귀 함수 구현하기 (재귀를 제거)"
      ],
      "metadata": {
        "id": "KucERu4CV6pT"
      }
    },
    {
      "cell_type": "code",
      "source": [
        "from google.colab import drive\n",
        "drive.mount('/content/drive')"
      ],
      "metadata": {
        "colab": {
          "base_uri": "https://localhost:8080/"
        },
        "id": "UFPOgc9NXXWB",
        "outputId": "499d57b5-874a-4003-a722-bfbc26f2ff88"
      },
      "execution_count": 5,
      "outputs": [
        {
          "output_type": "stream",
          "name": "stdout",
          "text": [
            "Mounted at /content/drive\n"
          ]
        }
      ]
    },
    {
      "cell_type": "code",
      "source": [
        "cd '/content/drive/MyDrive/Colab Notebooks/study/자료구조 알고리즘/[예제소스]/chap04'"
      ],
      "metadata": {
        "colab": {
          "base_uri": "https://localhost:8080/"
        },
        "id": "PG5x_gU3XoDl",
        "outputId": "8f2cc3f8-516a-46b4-aa8d-2058e465cfea"
      },
      "execution_count": 6,
      "outputs": [
        {
          "output_type": "stream",
          "name": "stdout",
          "text": [
            "/content/drive/MyDrive/Colab Notebooks/study/자료구조 알고리즘/[예제소스]/chap04\n"
          ]
        }
      ]
    },
    {
      "cell_type": "code",
      "source": [
        "from stack import Stack\n",
        "\n",
        "def recur(n:int) -> int:\n",
        "  \"\"\"재귀를 제거한 recur() 함수\"\"\"\n",
        "  s = Stack(n)\n",
        "\n",
        "  while True:\n",
        "    if n > 0:\n",
        "      s.push(n)\n",
        "      n = n - 1\n",
        "      continue\n",
        "    if not s.is_empty():    # 스택이 비어 있지 않으면\n",
        "      n = s.pop()           # 저장한 값을 n에 pop\n",
        "      print(n)\n",
        "      n = n - 2\n",
        "      continue\n",
        "    break\n",
        "\n",
        "x = int(input('정수를 입력하세요 : '))\n",
        "\n",
        "recur(x)"
      ],
      "metadata": {
        "colab": {
          "base_uri": "https://localhost:8080/"
        },
        "id": "5Ga_yHFIXUX_",
        "outputId": "449b55d5-8a1b-4868-e85d-a9f8a23a2fff"
      },
      "execution_count": 9,
      "outputs": [
        {
          "output_type": "stream",
          "name": "stdout",
          "text": [
            "정수를 입력하세요 : 4\n",
            "1\n",
            "2\n",
            "3\n",
            "1\n",
            "4\n",
            "1\n",
            "2\n"
          ]
        }
      ]
    }
  ]
}