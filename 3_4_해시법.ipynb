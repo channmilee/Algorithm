{
  "nbformat": 4,
  "nbformat_minor": 0,
  "metadata": {
    "colab": {
      "provenance": [],
      "toc_visible": true,
      "authorship_tag": "ABX9TyPeicLOzQtOi4cgIaJaWiHp",
      "include_colab_link": true
    },
    "kernelspec": {
      "name": "python3",
      "display_name": "Python 3"
    },
    "language_info": {
      "name": "python"
    }
  },
  "cells": [
    {
      "cell_type": "markdown",
      "metadata": {
        "id": "view-in-github",
        "colab_type": "text"
      },
      "source": [
        "<a href=\"https://colab.research.google.com/github/channmilee/Algorithm/blob/master/3_4_%ED%95%B4%EC%8B%9C%EB%B2%95.ipynb\" target=\"_parent\"><img src=\"https://colab.research.google.com/assets/colab-badge.svg\" alt=\"Open In Colab\"/></a>"
      ]
    },
    {
      "cell_type": "markdown",
      "source": [
        "## 정렬된 배열에서 원소 추가하기"
      ],
      "metadata": {
        "id": "IDKWD_1wrSBk"
      }
    },
    {
      "cell_type": "code",
      "source": [
        "x = [0,1,2,3,4,6,7]\n",
        "x"
      ],
      "metadata": {
        "colab": {
          "base_uri": "https://localhost:8080/"
        },
        "id": "UGoVe8KBrXXH",
        "outputId": "b726712f-4f2d-4a63-9c42-f9c2e0157d46"
      },
      "execution_count": null,
      "outputs": [
        {
          "output_type": "execute_result",
          "data": {
            "text/plain": [
              "[0, 1, 2, 3, 4, 6, 7]"
            ]
          },
          "metadata": {},
          "execution_count": 4
        }
      ]
    },
    {
      "cell_type": "markdown",
      "source": [
        "* 5 추가하기\n",
        "  * x[4]와 x[5]사이에 추가되도록 이진 검색법으로 검사\n",
        "  * x[5] 이후의 모든 원소는 한 칸씩 뒤로 이동\n",
        "  * x[5]에 5 대입"
      ],
      "metadata": {
        "id": "cbNGgP3crebx"
      }
    },
    {
      "cell_type": "code",
      "source": [
        "x = [0,1,2,3,4,5,6,7]\n",
        "x"
      ],
      "metadata": {
        "colab": {
          "base_uri": "https://localhost:8080/"
        },
        "id": "YFhF4GASrhZe",
        "outputId": "d50640a2-4bf0-4a75-a4fa-37dd00f03df9"
      },
      "execution_count": null,
      "outputs": [
        {
          "output_type": "execute_result",
          "data": {
            "text/plain": [
              "[0, 1, 2, 3, 4, 5, 6, 7]"
            ]
          },
          "metadata": {},
          "execution_count": 5
        }
      ]
    },
    {
      "cell_type": "markdown",
      "source": [
        "## 해시법"
      ],
      "metadata": {
        "id": "u8Q28pPX_g-R"
      }
    },
    {
      "cell_type": "markdown",
      "source": [
        "* `데이터를 저장할 위치 = 인덱스`를 간단한 연산으로 구하는 방법\n",
        "* 원소 검색, 추가, 삭제도 효율적으로 가능  \n",
        "* [해시법 정리](https://ddrt44al.tistory.com/45)"
      ],
      "metadata": {
        "id": "qO6i996E_YNF"
      }
    },
    {
      "cell_type": "markdown",
      "source": [
        "## 해시 충돌"
      ],
      "metadata": {
        "id": "DpBv9vsh0Xra"
      }
    },
    {
      "cell_type": "markdown",
      "source": [
        "* 저장할 버킷이 중복되는 현상\n",
        "  * 대처 방법  \n",
        "\n",
        "    1.   **체인법** : 해시값이 같은 원소를 연결 리스트로 관리\n",
        "    2.   **오픈 주소법** :  빈 버킷을 찾을 떄까지 해시를 반복"
      ],
      "metadata": {
        "id": "OkLmH6XK0boU"
      }
    },
    {
      "cell_type": "markdown",
      "source": [
        "## 체인법"
      ],
      "metadata": {
        "id": "r-6RjrZd098c"
      }
    },
    {
      "cell_type": "markdown",
      "source": [
        "### 실습 3-5[A]"
      ],
      "metadata": {
        "id": "aeOR0ou51fLW"
      }
    },
    {
      "cell_type": "markdown",
      "source": [
        "* 체인법으로 해시 함수 구현하기"
      ],
      "metadata": {
        "id": "0YWZIDLb1BgI"
      }
    },
    {
      "cell_type": "markdown",
      "source": [
        "-- **Node 클래스 만들기**\n",
        "  * **key** : 키(임의의 자료형)\n",
        "  * **value** : 값(임의의 자료형)\n",
        "  * **next** : 뒤쪽 노드 참조(Node형)\n",
        "  * Node 클래스는 키와 값이 짝을 이루는 구조. 키에 해시 함수를 적용하여 해시값을 구함\n"
      ],
      "metadata": {
        "id": "Pj8kk9Vk2dEp"
      }
    },
    {
      "cell_type": "code",
      "source": [
        "from __future__ import annotations\n",
        "from typing import Any, Type\n",
        "import hashlib\n",
        "\n",
        "class Node:\n",
        "  \"\"\"해시를 구성하는 노드\"\"\"\n",
        "\n",
        "  def __init__(self, key:Any, value:Any, next:Node) -> None:\n",
        "    \"\"\"초기화\"\"\"\n",
        "    self.key = key      # 키\n",
        "    self.value = value  # 값\n",
        "    self.next = next    # 뒤쪽 노드를 참조"
      ],
      "metadata": {
        "id": "osbPMoJHsDKI"
      },
      "execution_count": 1,
      "outputs": []
    },
    {
      "cell_type": "markdown",
      "source": [
        "### 실습 3-5.[B]"
      ],
      "metadata": {
        "id": "aD5upehT3KUG"
      }
    },
    {
      "cell_type": "markdown",
      "source": [
        "**-- ChaindeHash 클래스 만들기**\n",
        "  * **capacity** : 해시 테이블의 크기(배열 table의 원소 수를 나타냄)\n",
        "  * **table** : 해시 테이블을 저장하는 list형 배열을 나타냄"
      ],
      "metadata": {
        "id": "aZFN8n-Y4tGf"
      }
    },
    {
      "cell_type": "markdown",
      "source": [
        "**-- `__init__()` 함수로 초기화하기**\n",
        "  * `__init__()` 함수는 빈 해시 테이블을 생성함\n",
        "  * 매개변수 capacity에 전달받는 것은 해시 테이블의 크기\n",
        "  * 원소 수가 capacity인 list형의 배열 table을 생성하고 모든 원소를 None으로 함"
      ],
      "metadata": {
        "id": "dsI3mkia5Hb3"
      }
    },
    {
      "cell_type": "markdown",
      "source": [
        "**-- `hash_value()` 해시 함수 만들기**\n",
        "  * `hash_value()` 해시 함수는 인수 key에 대응하는 해시 값을 구함\n",
        "    * **key가 int형인 경우** : key를 해시의 크기 capacity로 나눈 나머지를 해시값으로 함\n",
        "    * **key가 int형이 아닌 경우** : key가 정수가 아닌 경우 (문자열, 리스트, 클래스형 등) 그 값을 바로 나눌 수 없음. 표준 라이브러리를 이용해 형 변환이 필요함\n",
        "      * sha256 알고리즘\n",
        "      * encode() 함수\n",
        "      * hexdigest() 함수\n",
        "      * int() 함수\n",
        "\n"
      ],
      "metadata": {
        "id": "SJNgPPSi5b31"
      }
    },
    {
      "cell_type": "code",
      "source": [
        "class ChainedHash:\n",
        "  \"\"\"체인법으로 해시 클래스 구현\"\"\"\n",
        "\n",
        "  def __init__(self, capacity: int) -> None:\n",
        "    \"\"\"초기화\"\"\"\n",
        "    self.capacity = capacity             # 해시 테이블의 크기 지정\n",
        "    self.table = [None] * self.capacity  # 해시 테이블(리스트) 선언\n",
        "\n",
        "  def hash_value(self, key: Any) -> int:\n",
        "    \"\"\"해시값을 구함\"\"\"\n",
        "    if isinstance(key, int):\n",
        "      return key % self.capacity\n",
        "    return(int(hashlib.sha256(str(key).encode()).hexdigest(), 16) % self.capacity)"
      ],
      "metadata": {
        "id": "XczWVnBu3QAO"
      },
      "execution_count": 2,
      "outputs": []
    },
    {
      "cell_type": "markdown",
      "source": [
        "### 실습 3-5.[C]"
      ],
      "metadata": {
        "id": "X8L95Q8W765w"
      }
    },
    {
      "cell_type": "markdown",
      "source": [
        "**-- 키로 원소를 검색하는 `search() 함수`**\n",
        "  * hash_value() 함수를 사용하여 키를 해시값으로 변환\n",
        "  * 해시값을 인덱스로 하는 버킷에 주목\n",
        "  * 버킷이 참조하는 연결 리스트를 맨 앞부터 차례로 스캔.  \n",
        "  키와 같은 값이 발견되면 검색에 성공, 원소의 맨 끝까지 스캔해서 발견되지 않으면 검색 실패"
      ],
      "metadata": {
        "id": "Qym2sHQ39-LL"
      }
    },
    {
      "cell_type": "code",
      "source": [
        "def search(self, key: Any) -> Any:\n",
        "  \"\"\"키가 key인 원소를 검색하여 값을 반환\"\"\"\n",
        "  hash = self.hash_value(key)     # 검색하는 키의 해시값\n",
        "  p = self.table[hash]           # 노드 주목\n",
        "\n",
        "  while p is not None:\n",
        "    if p.key == key:\n",
        "      return p.value             # 검색 성공\n",
        "    p = p.next                   # 뒤쪽 노드 주목\n",
        "  return None                    # 검색 실패"
      ],
      "metadata": {
        "id": "h-Y4MK8x4cyK"
      },
      "execution_count": 3,
      "outputs": []
    },
    {
      "cell_type": "markdown",
      "source": [
        "**-- 원소를 추가하는 `add() 함수`**\n",
        "  * 해시 함수를 사용하여 키를 해시값으로 변환\n",
        "  * 해시값을 인덱스로 하는 버킷에 주목\n",
        "  * 버킷이 참조하는 연결 리스트를 맨 앞부터 차례로 선형 검색  \n",
        "  키와 같은 값이 발견되면 키가 이미 등록된 경우이므로 추가에 실패  \n",
        "  원소의 맨 끝까지 발견되지 않으면 해시값인 리스트의 맨 앞에 노드 추가"
      ],
      "metadata": {
        "id": "NLhP7wBg_Kx9"
      }
    },
    {
      "cell_type": "code",
      "source": [
        "def add(self, key: Any, value: Any) -> bool:\n",
        "  \"\"\"키가 key이고 값이 value인 원소를 추가\"\"\"\n",
        "  hash = self.hash_vale(key)     # 검색하는 키의 해시값\n",
        "  p = self.table[hash]           # 노드 주목\n",
        "  \n",
        "  while p is not None:\n",
        "    if p.key == key:\n",
        "      return False               # 추가 실패\n",
        "    p = p.next                   # 뒤쪽 노드 주목\n",
        "\n",
        "  temp = Node(key, value, self.table[hash])\n",
        "  self.table[hash] = temp        # 노드 추가\n",
        "  return True                    # 추가 성공"
      ],
      "metadata": {
        "id": "cdWOckiX95na"
      },
      "execution_count": 4,
      "outputs": []
    },
    {
      "cell_type": "markdown",
      "source": [
        "### 실습 3-5.[D]"
      ],
      "metadata": {
        "id": "bUVjs1Aa_ufx"
      }
    },
    {
      "cell_type": "markdown",
      "source": [
        "**-- 원소를 삭제하는 `remove() 함수`**\n",
        "  * 해시 함수를 사용하여 키를 해시값으로 변환\n",
        "  * 해시값을 인덱스로 하는 버킷에 주목\n",
        "  * 버킷이 참조하는 연결 리스트를 맨 앞부터 차례로 선형 검색  \n",
        "  키와 같은 값이 발견되면 그 노드를 리스트에서 삭제  \n",
        "  그렇지 않으면 삭제에 실패  \n",
        "\n",
        "\n",
        "    <69를 삭제하려면>\n",
        "    * 69의 해시값 4로 변환\n",
        "    * table[4]에 주목. 이 노드의 뒤쪽 노드는 17을 저장하고 있음 [69]->[17]\n",
        "    * 17을 저장한 노드에 대한 참조를 table[4] 버킷에 대입하면 69 노드가 삭제됨\n"
      ],
      "metadata": {
        "id": "Qyv_2EaLAtDw"
      }
    },
    {
      "cell_type": "code",
      "source": [
        "def remove(self, key: Any) -> bool:\n",
        "  \"\"\"키가 key인 원소 삭제\"\"\"\n",
        "  hash = self.hash_value(key)     # 삭제할 key의 해시값\n",
        "  p = self.table[hash]            # 노드 주목\n",
        "  pp = None                       # 바로 앞의 노드 주목\n",
        "\n",
        "  while p is not None:\n",
        "    if p.key == key:             # 키를 발견하면 아래 실행\n",
        "      if pp is None:\n",
        "        self.table[hash] = p.next\n",
        "      else:\n",
        "        pp.next = p.next\n",
        "      return True                # key 삭제 성공\n",
        "    pp = p\n",
        "    p = p.next                   # 뒤쪽 노드 주목\n",
        "  return False                   # 삭제 실패(key가 존재하지 않음)"
      ],
      "metadata": {
        "id": "5HdRqDNU_KV6"
      },
      "execution_count": 5,
      "outputs": []
    },
    {
      "cell_type": "markdown",
      "source": [
        "-- 원소를 출력하는 `dump() 함수`\n",
        "  * 해시 테이블의 내용을 한꺼번에 출력\n",
        "  * 해시 테이블의 모든 원소인 table[0] ~ table[capacity - 1]까지 뒤쪽 노드를 찾아가면서 각 노드의 키와 값을 출력하는 작업 반복\n",
        "  * 해시값이 같은 버킷을 화살표(→)로 연결하여 연결 리스트에 의해 체인 모양으로 묶인 모습 확인"
      ],
      "metadata": {
        "id": "AD4OioYxyOTV"
      }
    },
    {
      "cell_type": "code",
      "source": [
        "def dump(self) -> None:\n",
        "  \"\"\"해시 테이블을 덤프\"\"\"\n",
        "  for i in range(self.capacity):\n",
        "    p = self.table[i]\n",
        "    print(i, end = '')\n",
        "    while p is not None:\n",
        "      print(f'  → {p.key} ({p.value})', end = '')\n",
        "      p = p.next\n",
        "    print()"
      ],
      "metadata": {
        "id": "2TD5brFCAb3L"
      },
      "execution_count": 6,
      "outputs": []
    },
    {
      "cell_type": "markdown",
      "source": [
        "### 실습 3-6."
      ],
      "metadata": {
        "id": "HCBQxU8300oX"
      }
    },
    {
      "cell_type": "markdown",
      "source": [
        "* 체인법을 구현하는 해시 클래스 ChainedHash의 사용"
      ],
      "metadata": {
        "id": "_67Xv3rA07Q5"
      }
    },
    {
      "cell_type": "code",
      "source": [
        "from google.colab import drive\n",
        "drive.mount('/content/drive')"
      ],
      "metadata": {
        "colab": {
          "base_uri": "https://localhost:8080/"
        },
        "id": "uahoZpX71JFD",
        "outputId": "d2f41907-f195-44f8-f956-f5d5c5a7dacf"
      },
      "execution_count": 9,
      "outputs": [
        {
          "output_type": "stream",
          "name": "stdout",
          "text": [
            "Mounted at /content/drive\n"
          ]
        }
      ]
    },
    {
      "cell_type": "code",
      "source": [
        "cd '/content/drive/MyDrive/Colab Notebooks/study/자료구조 알고리즘/[예제소스]/chap03'"
      ],
      "metadata": {
        "colab": {
          "base_uri": "https://localhost:8080/"
        },
        "id": "29IH0Lzd1TY2",
        "outputId": "f0161cfd-dc87-4321-df5b-69f110e0ad71"
      },
      "execution_count": 10,
      "outputs": [
        {
          "output_type": "stream",
          "name": "stdout",
          "text": [
            "/content/drive/MyDrive/Colab Notebooks/study/자료구조 알고리즘/[예제소스]/chap03\n"
          ]
        }
      ]
    },
    {
      "cell_type": "code",
      "source": [
        "from enum import Enum\n",
        "from chained_hash import ChainedHash\n",
        "\n",
        "Menu = Enum('Menu', ['추가','삭제','검색','덤프','종료'])   # 메뉴 선언\n",
        "\n",
        "def select_menu() -> Menu:\n",
        "  \"\"\"메뉴 선택\"\"\"\n",
        "  s = [f'({m.value}){m.name}' for m in Menu]\n",
        "  while True:\n",
        "    print(*s, sep = '   ', end = '')\n",
        "    n = int(input(':  '))\n",
        "    if 1 <= n <= len(Menu):\n",
        "      return Menu(n)\n",
        "\n",
        "# 크기가 13인 해시 테이블 생성\n",
        "hash = ChainedHash(13)\n",
        "\n",
        "while True:\n",
        "  menu = select_menu()      # 메뉴 선택\n",
        "\n",
        "  if menu == Menu.추가 :    # 추가\n",
        "    key = int(input('추가할 키를 입력하세요 : '))\n",
        "    val = input('추가할 값을 입력하세요 : ')\n",
        "    if not hash.add(key, val):\n",
        "      print('추가를 실패했습니다!!')\n",
        "  \n",
        "  elif menu == Menu.삭제:   # 삭제\n",
        "    key = int(input('삭제할 키를 입력하세요 : '))\n",
        "    if not hash.remove(key):\n",
        "      print('삭제를 실패했습니다.')\n",
        "  \n",
        "  elif menu == Menu.검색:   # 검색\n",
        "    key = int(input('검색할 키를 입력하세요 : '))\n",
        "    t = hash.search(key)\n",
        "    if t is not None:\n",
        "      print(f'검색한 키를 갖는 값은 {t} 입니다.')\n",
        "    else:\n",
        "      print('검색할 데이터가 없습니다.')\n",
        "  \n",
        "  elif menu == Menu.덤프:   # 덤프\n",
        "    hash.dump()\n",
        "  \n",
        "  else:\n",
        "    break                   # 종료"
      ],
      "metadata": {
        "colab": {
          "base_uri": "https://localhost:8080/"
        },
        "id": "ta15-F_L02hN",
        "outputId": "b3628a3e-cb68-46ae-be0b-5c0c7a377a4f"
      },
      "execution_count": 12,
      "outputs": [
        {
          "name": "stdout",
          "output_type": "stream",
          "text": [
            "(1)추가   (2)삭제   (3)검색   (4)덤프   (5)종료:  1\n",
            "추가할 키를 입력하세요 : 1\n",
            "추가할 값을 입력하세요 : 수연\n",
            "(1)추가   (2)삭제   (3)검색   (4)덤프   (5)종료:  1\n",
            "추가할 키를 입력하세요 : 5\n",
            "추가할 값을 입력하세요 : 동혁\n",
            "(1)추가   (2)삭제   (3)검색   (4)덤프   (5)종료:  1\n",
            "추가할 키를 입력하세요 : 10\n",
            "추가할 값을 입력하세요 : 예지\n",
            "(1)추가   (2)삭제   (3)검색   (4)덤프   (5)종료:  1\n",
            "추가할 키를 입력하세요 : 12\n",
            "추가할 값을 입력하세요 : 원준\n",
            "(1)추가   (2)삭제   (3)검색   (4)덤프   (5)종료:  1\n",
            "추가할 키를 입력하세요 : 14\n",
            "추가할 값을 입력하세요 : 민서\n",
            "(1)추가   (2)삭제   (3)검색   (4)덤프   (5)종료:  3\n",
            "검색할 키를 입력하세요 : 5\n",
            "검색한 키를 갖는 값은 동혁 입니다.\n",
            "(1)추가   (2)삭제   (3)검색   (4)덤프   (5)종료:  4\n",
            "0\n",
            "1  → 14 (민서)  → 1 (수연)\n",
            "2\n",
            "3\n",
            "4\n",
            "5  → 5 (동혁)\n",
            "6\n",
            "7\n",
            "8\n",
            "9\n",
            "10  → 10 (예지)\n",
            "11\n",
            "12  → 12 (원준)\n",
            "(1)추가   (2)삭제   (3)검색   (4)덤프   (5)종료:  2\n",
            "삭제할 키를 입력하세요 : 14\n",
            "(1)추가   (2)삭제   (3)검색   (4)덤프   (5)종료:  4\n",
            "0\n",
            "1  → 1 (수연)\n",
            "2\n",
            "3\n",
            "4\n",
            "5  → 5 (동혁)\n",
            "6\n",
            "7\n",
            "8\n",
            "9\n",
            "10  → 10 (예지)\n",
            "11\n",
            "12  → 12 (원준)\n",
            "(1)추가   (2)삭제   (3)검색   (4)덤프   (5)종료:  5\n"
          ]
        }
      ]
    },
    {
      "cell_type": "markdown",
      "source": [
        "#### 실습 3-6 자세히 살펴보기"
      ],
      "metadata": {
        "id": "az9IpJYD36Zh"
      }
    },
    {
      "cell_type": "code",
      "source": [
        "Menu = Enum('Menu', ['추가','삭제','검색','덤프','종료'])   # 메뉴 선언\n",
        "\n",
        "def select_menu() -> Menu:\n",
        "  \"\"\"메뉴 선택\"\"\"\n",
        "  s = [f'({m.value}){m.name}' for m in Menu]\n",
        "  while True:\n",
        "    print(*s, sep = '   ', end = '')\n",
        "    n = int(input(':  '))\n",
        "    if 1 <= n <= len(Menu):\n",
        "      return Menu(n)"
      ],
      "metadata": {
        "id": "LoecPmZp1DcO"
      },
      "execution_count": 34,
      "outputs": []
    },
    {
      "cell_type": "code",
      "source": [
        "s = [f'({m.value}){m.name}' for m in Menu]\n",
        "s"
      ],
      "metadata": {
        "colab": {
          "base_uri": "https://localhost:8080/"
        },
        "id": "Xyiwkufz7vbL",
        "outputId": "bf50de83-392c-4a66-c400-a0282ca8ef2f"
      },
      "execution_count": 33,
      "outputs": [
        {
          "output_type": "execute_result",
          "data": {
            "text/plain": [
              "['(1)추가', '(2)삭제', '(3)검색', '(4)덤프', '(5)종료']"
            ]
          },
          "metadata": {},
          "execution_count": 33
        }
      ]
    },
    {
      "cell_type": "code",
      "source": [
        "print(*s, sep = '   ', end = '')"
      ],
      "metadata": {
        "colab": {
          "base_uri": "https://localhost:8080/"
        },
        "id": "ELQEfFwg8Bjq",
        "outputId": "e38f49fe-63cc-4043-b2e0-457794309fe5"
      },
      "execution_count": 35,
      "outputs": [
        {
          "output_type": "stream",
          "name": "stdout",
          "text": [
            "(1)추가   (2)삭제   (3)검색   (4)덤프   (5)종료"
          ]
        }
      ]
    },
    {
      "cell_type": "code",
      "source": [
        "print(s, sep = '   ', end = '')"
      ],
      "metadata": {
        "colab": {
          "base_uri": "https://localhost:8080/"
        },
        "id": "SQPgUYqb8Q1Y",
        "outputId": "e11ddf68-7645-4f72-ee59-bad76136365e"
      },
      "execution_count": 36,
      "outputs": [
        {
          "output_type": "stream",
          "name": "stdout",
          "text": [
            "['(1)추가', '(2)삭제', '(3)검색', '(4)덤프', '(5)종료']"
          ]
        }
      ]
    },
    {
      "cell_type": "code",
      "source": [
        "n = int(input(':  '))\n",
        "if 1 <= n <= len(Menu):\n",
        "  print(Menu(n))"
      ],
      "metadata": {
        "colab": {
          "base_uri": "https://localhost:8080/"
        },
        "id": "aNJ2qmQu8UTd",
        "outputId": "5e36c12b-13e5-4dbe-a5c1-c57f7ec31bfe"
      },
      "execution_count": 38,
      "outputs": [
        {
          "output_type": "stream",
          "name": "stdout",
          "text": [
            ":  1\n",
            "Menu.추가\n"
          ]
        }
      ]
    },
    {
      "cell_type": "markdown",
      "source": [
        "##### Enum() 함수"
      ],
      "metadata": {
        "id": "ZC3eKRnz41r0"
      }
    },
    {
      "cell_type": "code",
      "source": [
        "from enum import Enum\n",
        "\n",
        "class Fruit(Enum):\n",
        "  Apple = 1\n",
        "  Banana = 2\n",
        "  Cherry = 3\n",
        "\n",
        "print(type(Fruit.Apple))\n",
        "print(Fruit.Apple)\n",
        "print(Fruit.Apple.name)\n",
        "print(Fruit.Apple.value)"
      ],
      "metadata": {
        "colab": {
          "base_uri": "https://localhost:8080/"
        },
        "id": "Z4UM5KOb44d1",
        "outputId": "f2886b8f-fcbc-4c80-de01-d8ec66b64566"
      },
      "execution_count": 28,
      "outputs": [
        {
          "output_type": "stream",
          "name": "stdout",
          "text": [
            "<enum 'Fruit'>\n",
            "Fruit.Apple\n",
            "Apple\n",
            "1\n"
          ]
        }
      ]
    },
    {
      "cell_type": "code",
      "source": [
        "for f in Fruit:\n",
        "  print(f'({f.value}) {f.name}')"
      ],
      "metadata": {
        "colab": {
          "base_uri": "https://localhost:8080/"
        },
        "id": "6YihoRDd6nCm",
        "outputId": "694ffb6e-3b76-4638-9ac8-72d0fda899c1"
      },
      "execution_count": 27,
      "outputs": [
        {
          "output_type": "stream",
          "name": "stdout",
          "text": [
            "(1) Apple\n",
            "(2) Banana\n",
            "(3) Cherry\n"
          ]
        }
      ]
    },
    {
      "cell_type": "code",
      "source": [
        "for m in Menu:\n",
        "  print(f'({m.value}){m.name}')"
      ],
      "metadata": {
        "colab": {
          "base_uri": "https://localhost:8080/"
        },
        "id": "cc2DtuM83v9N",
        "outputId": "42b9bcc5-e721-4dc9-818f-ee382dd253bb"
      },
      "execution_count": 14,
      "outputs": [
        {
          "output_type": "stream",
          "name": "stdout",
          "text": [
            "(1)추가\n",
            "(2)삭제\n",
            "(3)검색\n",
            "(4)덤프\n",
            "(5)종료\n"
          ]
        }
      ]
    },
    {
      "cell_type": "code",
      "source": [
        "from enum import Enum, auto\n",
        "\n",
        "class Fruit(Enum):\n",
        "  Apple = auto()\n",
        "  Banana = auto()\n",
        "  Cherry = auto()\n",
        "\n",
        "  print(list(Fruit))"
      ],
      "metadata": {
        "colab": {
          "base_uri": "https://localhost:8080/"
        },
        "id": "BBC5AjeF7KnN",
        "outputId": "65a7814e-ba58-4d7c-d1f7-728180c3f793"
      },
      "execution_count": 29,
      "outputs": [
        {
          "output_type": "stream",
          "name": "stdout",
          "text": [
            "[<Fruit.Apple: 1>, <Fruit.Banana: 2>, <Fruit.Cherry: 3>]\n"
          ]
        }
      ]
    },
    {
      "cell_type": "markdown",
      "source": [
        "## 오픈 주소법"
      ],
      "metadata": {
        "id": "zJTTTVR18njz"
      }
    },
    {
      "cell_type": "markdown",
      "source": [
        "### 실습 3-7."
      ],
      "metadata": {
        "id": "qUxw7TCnES1x"
      }
    },
    {
      "cell_type": "markdown",
      "source": [
        "* 오픈 주소법으로 해시 함수 구현하기"
      ],
      "metadata": {
        "id": "YTN7mpCt8vSk"
      }
    },
    {
      "cell_type": "code",
      "source": [
        "from __future__ import annotations\n",
        "from typing import Any, Type\n",
        "from enum import Enum\n",
        "import hashlib\n",
        "\n",
        "# 버킷 속성\n",
        "class Status(Enum):\n",
        "  OCCUPIED = 0      # 데이터 저장\n",
        "  EMPTY = 1         # 비어 있음\n",
        "  DELETED = 2       # 삭제 완료\n",
        "\n",
        "class Bucket:\n",
        "  \"\"\"해시를 구성하는 버킷\"\"\"\n",
        "\n",
        "  def __init__(self, key: Any = None, value: Any = None, stat: Status = Status.EMPTY) -> None:\n",
        "    \"\"\"초기화\"\"\"\n",
        "    self.key = key       # 키\n",
        "    self.value = value   # 값\n",
        "    self.stat = stat     # 속성\n",
        "\n",
        "  def set(self, key: Any, value: Any, stat: Status) -> None:\n",
        "    \"\"\"모든 필드에 값을 설정\"\"\"\n",
        "    self.key = key       # 키\n",
        "    self.value = value   # 값\n",
        "    self.stat = stat     # 속성\n",
        "  \n",
        "  def set_status(self, stat: Status) -> None:\n",
        "    \"\"\"속성을 설정\"\"\"\n",
        "    self.stat = stat\n",
        "\n",
        "class OpenHash:\n",
        "  \"\"\"오픈 주소법으로 구현하는 해시 클래스\"\"\"\n",
        "\n",
        "  def __init__(self, capacity: int) -> None:\n",
        "    \"\"\"초기화\"\"\"\n",
        "    self.capacity = capacity                  # 해시 테이블의 크기 지정\n",
        "    self.table = [Bucket()] * self.capacity   # 해시 테이블\n",
        "\n",
        "  def hash_value(self, key: Any) -> int:\n",
        "    \"\"\"해시값을 구함\"\"\"\n",
        "    if isinstance(key, int):\n",
        "      return key % self.capacity\n",
        "    return(int(hashlib.md5(str(key).encode()).hexdigest(), 16) % self.capacity)\n",
        "\n",
        "  def rehash_value(self, key: Any) -> int:\n",
        "    \"\"\"재해시값을 구함\"\"\"\n",
        "    return(self.hash_value(key) + 1) % self.capacity\n",
        "\n",
        "  def serach_node(self, key: Any) -> Any:\n",
        "    \"\"\"키가 key인 버킷을 검색\"\"\"\n",
        "    hash = self.hash_value(key)    # 검색하는 키의 해시값\n",
        "    p = self.table[hash]           # 버킷을 주목\n",
        "\n",
        "    for i in range(self.capacity):\n",
        "      if p.stat == Status.EMPTY:\n",
        "        break\n",
        "      elif p.stat == Status.OCCUPIED and p.key == key:\n",
        "        return p\n",
        "      hash = self.rehash_value(hash)  # 재해시\n",
        "      p = self.table[hash]\n",
        "    return None\n",
        "  \n",
        "  def search(self, key: Any) -> Any:\n",
        "    \"\"\"키가 key인 원소를 검색하여 값을 반환\"\"\"\n",
        "    p = self.search_node(key)\n",
        "    if p is not None:\n",
        "      return p.value                 # 검색 성공\n",
        "    else:\n",
        "      return None                    # 검색 실패\n",
        "\n",
        "  def add(self, key: Any, value: Any) -> bool:\n",
        "    \"\"\"키가 key이고 값이 value인 원소 추가\"\"\"\n",
        "    if self.search(key) is not None:\n",
        "      return False                   # 이미 등록된 키\n",
        "    \n",
        "    hash = self.hash_value(key)\n",
        "    p = self.table[hash]\n",
        "    for i in range(self.capacity):\n",
        "      if p.stat == Status.Empty or p.stat == Status.DELETED:\n",
        "        self.table[hash] = Bucket(key, value, Status.OCCUPIED)\n",
        "        return True\n",
        "      hash = self.rehash_value(hash) # 재해시\n",
        "      p = self.table[hash]\n",
        "    return False                     # 해시 테이블이 가득 참\n",
        "\n",
        "  def remove(self, key: Any) -> int:\n",
        "    \"\"\"키가 key인 원소를 삭제\"\"\"\n",
        "    p = self.search_node(key)        # 버킷 주목\n",
        "    if p is None:\n",
        "      return False                   # 이 키는 등록되어 있지 안흠\n",
        "    p.set_status(Status.DELETED)\n",
        "    return True\n",
        "\n",
        "  def dump(self) -> None:\n",
        "    \"\"\"해시 테이블 텀프\"\"\"\n",
        "    for i in range(self.capacity):\n",
        "      print(f'{i:2}', end = '')\n",
        "      if self.table[i].stat == Status.OCCUPIED:\n",
        "        print(f'{self.table[i].key} ({self.table[i].value})')\n",
        "      elif self.table[i].stat == Status.EMPTY:\n",
        "        print('--미등록--')\n",
        "      elif self.table[i].stat == Status.DELETED:\n",
        "        print('--삭제완료--')"
      ],
      "metadata": {
        "id": "dgu9tLtYEWZ2"
      },
      "execution_count": 41,
      "outputs": []
    },
    {
      "cell_type": "markdown",
      "source": [
        "### 실습 3-8."
      ],
      "metadata": {
        "id": "uZgcprdDJ_Cw"
      }
    },
    {
      "cell_type": "markdown",
      "source": [
        "* 오픈 주소법을 구현하는 해시 클래스 Openhash 사용"
      ],
      "metadata": {
        "id": "aYy9xHEpJBse"
      }
    },
    {
      "cell_type": "code",
      "source": [
        "from enum import Enum\n",
        "from open_hash import OpenHash\n",
        "\n",
        "Menu = Enum('Menu', ['추가', '삭제', '검색', '덤프', '종료'])   # 메뉴 선언\n",
        "\n",
        "def select_menu() -> Menu:\n",
        "  \"\"\"메뉴 선택\"\"\"\n",
        "  s = [f'({m.value}){m.name}' for m in Menu]\n",
        "  while True:\n",
        "    print(*s, sep = ' ', end = '')\n",
        "    n = int(input(':  '))\n",
        "    if 1 <= n <= len(Menu):\n",
        "      return Menu(n)\n",
        "\n",
        "# 크기가 13인 해시 테이블 생성\n",
        "hash = OpenHash(13)\n",
        "\n",
        "while True:\n",
        "  menu = select_menu()      # 메뉴 선택\n",
        "\n",
        "  if menu == Menu.추가 :    # 추가\n",
        "    key = int(input('추가할 키를 입력하세요 : '))\n",
        "    val = input('추가할 값을 입력하세요 : ')\n",
        "    if not hash.add(key, val):\n",
        "      print('추가를 실패했습니다!!')\n",
        "  \n",
        "  elif menu == Menu.삭제:   # 삭제\n",
        "    key = int(input('삭제할 키를 입력하세요 : '))\n",
        "    if not hash.remove(key):\n",
        "      print('삭제를 실패했습니다.')\n",
        "  \n",
        "  elif menu == Menu.검색:   # 검색\n",
        "    key = int(input('검색할 키를 입력하세요 : '))\n",
        "    t = hash.search(key)\n",
        "    if t is not None:\n",
        "      print(f'검색한 키를 갖는 값은 {t} 입니다.')\n",
        "    else:\n",
        "      print('검색할 데이터가 없습니다.')\n",
        "  \n",
        "  elif menu == Menu.덤프:   # 덤프\n",
        "    hash.dump()\n",
        "  \n",
        "  else:\n",
        "    break                   # 종료"
      ],
      "metadata": {
        "colab": {
          "base_uri": "https://localhost:8080/"
        },
        "id": "kInDlXUqKEkh",
        "outputId": "2fe81e39-81b5-40eb-cb08-3894f890f4bb"
      },
      "execution_count": 48,
      "outputs": [
        {
          "name": "stdout",
          "output_type": "stream",
          "text": [
            "(1)추가 (2)삭제 (3)검색 (4)덤프 (5)종료:  1\n",
            "추가할 키를 입력하세요 : 1\n",
            "추가할 값을 입력하세요 : 수연\n",
            "(1)추가 (2)삭제 (3)검색 (4)덤프 (5)종료:  1\n",
            "추가할 키를 입력하세요 : 5\n",
            "추가할 값을 입력하세요 : 동혁\n",
            "(1)추가 (2)삭제 (3)검색 (4)덤프 (5)종료:  1\n",
            "추가할 키를 입력하세요 : 10\n",
            "추가할 값을 입력하세요 : 예지\n",
            "(1)추가 (2)삭제 (3)검색 (4)덤프 (5)종료:  1\n",
            "추가할 키를 입력하세요 : 12\n",
            "추가할 값을 입력하세요 : 원준\n",
            "(1)추가 (2)삭제 (3)검색 (4)덤프 (5)종료:  1\n",
            "추가할 키를 입력하세요 : 14\n",
            "추가할 값을 입력하세요 : 민서\n",
            "(1)추가 (2)삭제 (3)검색 (4)덤프 (5)종료:  3\n",
            "검색할 키를 입력하세요 : 5\n",
            "검색한 키를 갖는 값은 동혁 입니다.\n",
            "(1)추가 (2)삭제 (3)검색 (4)덤프 (5)종료:  4\n",
            " 0 -- 미등록 --\n",
            " 1 1 (수연)\n",
            " 2 14 (민서)\n",
            " 3 -- 미등록 --\n",
            " 4 -- 미등록 --\n",
            " 5 5 (동혁)\n",
            " 6 -- 미등록 --\n",
            " 7 -- 미등록 --\n",
            " 8 -- 미등록 --\n",
            " 9 -- 미등록 --\n",
            "10 10 (예지)\n",
            "11 -- 미등록 --\n",
            "12 12 (원준)\n",
            "(1)추가 (2)삭제 (3)검색 (4)덤프 (5)종료:  2\n",
            "삭제할 키를 입력하세요 : 14\n",
            "(1)추가 (2)삭제 (3)검색 (4)덤프 (5)종료:  4\n",
            " 0 -- 미등록 --\n",
            " 1 1 (수연)\n",
            " 2 -- 삭제 완료 --\n",
            " 3 -- 미등록 --\n",
            " 4 -- 미등록 --\n",
            " 5 5 (동혁)\n",
            " 6 -- 미등록 --\n",
            " 7 -- 미등록 --\n",
            " 8 -- 미등록 --\n",
            " 9 -- 미등록 --\n",
            "10 10 (예지)\n",
            "11 -- 미등록 --\n",
            "12 12 (원준)\n",
            "(1)추가 (2)삭제 (3)검색 (4)덤프 (5)종료:  5\n"
          ]
        }
      ]
    }
  ]
}