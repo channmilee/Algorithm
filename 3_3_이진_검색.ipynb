{
  "nbformat": 4,
  "nbformat_minor": 0,
  "metadata": {
    "colab": {
      "provenance": [],
      "authorship_tag": "ABX9TyNSrHSggbYQ1gpX1zqia+BY",
      "include_colab_link": true
    },
    "kernelspec": {
      "name": "python3",
      "display_name": "Python 3"
    },
    "language_info": {
      "name": "python"
    }
  },
  "cells": [
    {
      "cell_type": "markdown",
      "metadata": {
        "id": "view-in-github",
        "colab_type": "text"
      },
      "source": [
        "<a href=\"https://colab.research.google.com/github/channmilee/Algorithm/blob/master/3_3_%EC%9D%B4%EC%A7%84_%EA%B2%80%EC%83%89.ipynb\" target=\"_parent\"><img src=\"https://colab.research.google.com/assets/colab-badge.svg\" alt=\"Open In Colab\"/></a>"
      ]
    },
    {
      "cell_type": "markdown",
      "source": [
        "## 이진 검색"
      ],
      "metadata": {
        "id": "VANe7u2Czvud"
      }
    },
    {
      "cell_type": "markdown",
      "source": [
        "* 원소가 오름차순이나 내림차순으로 정렬된 배열에서 좀 더 효율적으로 검색 할 수 있는 알고리즘\n",
        "* **검색 범위 좁히는 과정**\n",
        "  > pl : 검색 범위 맨 앞  \n",
        "pr : 검색 범위 맨 뒤  \n",
        "pc : 중앙 인덱스\n",
        "\n",
        "\n",
        "\n",
        "\n",
        "\n",
        "  1. **a[pc] < key**\n",
        "    * 중앙(pc)에서 오른쪽으로 한 칸 이동하여 새로운 왼쪽 끝 pl 지정, 검색 범위를 뒤쪽 절반으로 좁힘\n",
        "  2. **a[pc] > key**\n",
        "    * 중앙(pc)에서 왼쪽으로 한 칸 이동하여 새로운 왼쪽 끝 pl 지정, 검색 범위를 앞쪽 절반으로 좁힘\n",
        "\n",
        "* 이진 검색의 종료 조건\n",
        "  1. a[pc] == key\n",
        "  2. 검색 범위가 더 이상 없는 경우"
      ],
      "metadata": {
        "id": "wo1rW2uGzyl1"
      }
    },
    {
      "cell_type": "markdown",
      "source": [
        "### 실습 3-4."
      ],
      "metadata": {
        "id": "iOKfGUVT0kDI"
      }
    },
    {
      "cell_type": "markdown",
      "source": [
        "* 이진 검색 알고리즘"
      ],
      "metadata": {
        "id": "2JR8mFm9zsm1"
      }
    },
    {
      "cell_type": "code",
      "source": [
        "from typing import Any, Sequence\n",
        "\n",
        "def bin_search(a: Sequence, key: Any) -> int:\n",
        "  \"\"\"시퀀스 a에서 key와 일치하는 원소를 이진 검색\"\"\"\n",
        "  pl = 0                 # 검색 범위 맨 앞 원소 인덱스\n",
        "  pr = len(a) - 1        # 검색 범위 맨 끝 원소 인덱스\n",
        "\n",
        "  while True:\n",
        "    pc = (pl + pr) // 2  # 중앙 원소 인덱스\n",
        "    if a[pc] == key :\n",
        "      return pc          # 검색 성공\n",
        "    elif a[pc] < key :\n",
        "      pl = pc + 1        # 검색 범위를 뒤쪽 절반으로 좁힘\n",
        "    else:\n",
        "      pr = pc - 1        # 검색 범위를 앞쪽 절반으로 좁힘\n",
        "    if pl > pr :\n",
        "      break\n",
        "      return -1            # 검색 실패\n",
        "\n",
        "if __name__ == '__main__':\n",
        "  num = int(input('원소 수를 입력하세요 : '))\n",
        "  x = [None] * num\n",
        "\n",
        "  print('배열 데이터를 오름차순으로 입력하세요.')\n",
        "\n",
        "  x[0] = int(input('x[0] : '))\n",
        "\n",
        "  for i in range(1, num):\n",
        "    while True:\n",
        "      x[i] = int(input(f'x[{i}] : '))\n",
        "      if x[i] >= x[i - 1]:            # 바로 직전에 입력한 원솟값보다 큰 값을 입력 \n",
        "        break\n",
        "  \n",
        "  ky = int(input('검색할 값을 입력하세요 : '))\n",
        "\n",
        "  idx = bin_search(x, ky)\n",
        "\n",
        "  if idx == -1:\n",
        "    print('검색 값을 갖는 원소가 존재하지 않습니다.')\n",
        "  else:\n",
        "    print(f'검색 값은 x[{idx}]에 있습니다.')"
      ],
      "metadata": {
        "colab": {
          "base_uri": "https://localhost:8080/"
        },
        "id": "1ddIQP_81fM1",
        "outputId": "895c6e4b-bb83-4b66-90ff-22f9bd30334b"
      },
      "execution_count": 10,
      "outputs": [
        {
          "output_type": "stream",
          "name": "stdout",
          "text": [
            "원소 수를 입력하세요 : 7\n",
            "배열 데이터를 오름차순으로 입력하세요.\n",
            "x[0] : 1\n",
            "x[1] : 2\n",
            "x[2] : 3\n",
            "x[3] : 5\n",
            "x[4] : 7\n",
            "x[5] : 8\n",
            "x[6] : 9\n",
            "검색할 값을 입력하세요 : 5\n",
            "검색 값은 x[3]에 있습니다.\n"
          ]
        }
      ]
    },
    {
      "cell_type": "markdown",
      "source": [
        "* 검색 평균 횟수 = log n\n",
        "  * 검색에 실패하면 log(n+1)\n",
        "  * 검색에 성공하면 logn -1"
      ],
      "metadata": {
        "id": "Bo7pUdME5oQk"
      }
    },
    {
      "cell_type": "markdown",
      "source": [
        "### 실습 3c-3."
      ],
      "metadata": {
        "id": "9Z9VBjlS9H58"
      }
    },
    {
      "cell_type": "markdown",
      "source": [
        "* 이진 검색의 실행 과정 출력"
      ],
      "metadata": {
        "id": "1ukQN3Pf8FWS"
      }
    },
    {
      "cell_type": "code",
      "source": [
        "from typing import Any, Sequence\n",
        "\n",
        "def bin_search(a: Sequence, key: Any) -> int:\n",
        "  \"\"\"시퀀스 a에서 key와 일치하는 원소를 이진 검색\"\"\"\n",
        "  pl = 0                 # 검색 범위 맨 앞 원소 인덱스\n",
        "  pr = len(a) - 1        # 검색 범위 맨 끝 원소 인덱스\n",
        "\n",
        "  print('   |', end = '')\n",
        "  for i in range(len(a)):\n",
        "    print(f'{i : 4}', end = '')\n",
        "  print()\n",
        "  print('---+' + (4 * len(a) + 2) * '-')\n",
        "\n",
        "  while True:\n",
        "    pc = (pl + pr) // 2  # 중앙 원소 인덱스\n",
        "\n",
        "    print('   |', end = '')\n",
        "    if pl != pc:         # pl 원소 위에 <- 출력\n",
        "      print((pl * 4 + 1) * ' ' + '<-' + ((pc - pl) * 4) * ' ' + '+', end = '')\n",
        "    else:\n",
        "      print((pc * 4 + 1) * ' ' + '<+', end = '')\n",
        "    if pc != pr:        # pr 원소 위에 -> 출력\n",
        "      print(((pr - pc) * 4 - 2) * ' ' + '->')\n",
        "    else:\n",
        "      print('->')\n",
        "    print(f'{pc:3}|', end = '')\n",
        "    for i in range(len(a)):\n",
        "      print(f'{a[i]:4}',end = '')\n",
        "    print('\\n   |')\n",
        "\n",
        "    if a[pc] == key :\n",
        "      return pc          # 검색 성공\n",
        "    elif a[pc] < key :\n",
        "      pl = pc + 1        # 검색 범위를 뒤쪽 절반으로 좁힘\n",
        "    else:\n",
        "      pr = pc - 1        # 검색 범위를 앞쪽 절반으로 좁힘\n",
        "    if pl > pr :\n",
        "      break\n",
        "      return -1            # 검색 실패\n",
        "\n",
        "if __name__ == '__main__':\n",
        "  num = int(input('원소 수를 입력하세요 : '))\n",
        "  x = [None] * num\n",
        "\n",
        "  print('배열 데이터를 오름차순으로 입력하세요.')\n",
        "\n",
        "  x[0] = int(input('x[0] : '))\n",
        "\n",
        "  for i in range(1, num):\n",
        "    while True:\n",
        "      x[i] = int(input(f'x[{i}] : '))\n",
        "      if x[i] >= x[i - 1]:            # 바로 직전에 입력한 원솟값보다 큰 값을 입력 \n",
        "        break\n",
        "  \n",
        "  ky = int(input('검색할 값을 입력하세요 : '))\n",
        "\n",
        "  idx = bin_search(x, ky)\n",
        "\n",
        "  if idx == -1:\n",
        "    print('검색 값을 갖는 원소가 존재하지 않습니다.')\n",
        "  else:\n",
        "    print(f'검색 값은 x[{idx}]에 있습니다.')"
      ],
      "metadata": {
        "colab": {
          "base_uri": "https://localhost:8080/"
        },
        "id": "g_7QylEW9Sce",
        "outputId": "d6d77d22-9088-4fc8-f517-92d11ed4de28"
      },
      "execution_count": 23,
      "outputs": [
        {
          "output_type": "stream",
          "name": "stdout",
          "text": [
            "원소 수를 입력하세요 : 11\n",
            "배열 데이터를 오름차순으로 입력하세요.\n",
            "x[0] : 1\n",
            "x[1] : 2\n",
            "x[2] : 3\n",
            "x[3] : 4\n",
            "x[4] : 5\n",
            "x[5] : 6\n",
            "x[6] : 7\n",
            "x[7] : 8\n",
            "x[8] : 9\n",
            "x[9] : 10\n",
            "x[10] : 11\n",
            "검색할 값을 입력하세요 : 8\n",
            "   |   0   1   2   3   4   5   6   7   8   9  10\n",
            "---+----------------------------------------------\n",
            "   | <-                    +                  ->\n",
            "  5|   1   2   3   4   5   6   7   8   9  10  11\n",
            "   |\n",
            "   |                         <-        +      ->\n",
            "  8|   1   2   3   4   5   6   7   8   9  10  11\n",
            "   |\n",
            "   |                         <+  ->\n",
            "  6|   1   2   3   4   5   6   7   8   9  10  11\n",
            "   |\n",
            "   |                             <+->\n",
            "  7|   1   2   3   4   5   6   7   8   9  10  11\n",
            "   |\n",
            "검색 값은 x[7]에 있습니다.\n"
          ]
        }
      ]
    },
    {
      "cell_type": "markdown",
      "source": [
        "## 복잡도"
      ],
      "metadata": {
        "id": "SKHlyyMl6Tra"
      }
    },
    {
      "cell_type": "markdown",
      "source": [
        "* 복잡도 : 알고리즘 성능을 객관적으로 평가하는 기준\n",
        "  * 시간 복잡도 : 실행하는 데 필요한 시간 평가\n",
        "  * 공간 복잡도 : 메모리와 파일 공간이 얼마나 필요한지 평가"
      ],
      "metadata": {
        "id": "KJinOoNX6Xb0"
      }
    },
    {
      "cell_type": "markdown",
      "source": [
        "* 복잡도 계산  \n",
        "`O(f(n)) + O(g(n)) = O(max(f(n), g(n))`\n",
        "\n",
        "  * 2가지 계산으로 구성된 알고리즘의 복잡도는 차원이 더 높은 쪽의 복잡도를 우선으로 함.   \n",
        "  즉, 전체 복잡도는 차원이 가장 높은 복잡도를 선택\n",
        "  * 수가 클수록 알고리즘의 실행 시간이 길어지고 복잡도가 높아짐\n"
      ],
      "metadata": {
        "id": "tNAN82rn7eIp"
      }
    },
    {
      "cell_type": "markdown",
      "source": [
        "* 선형 검색의 시간 복잡도 = `O(n)`\n",
        "* 이진 검색의 시간 복잡도 = `O(log n)`"
      ],
      "metadata": {
        "id": "f2TtGZ_W8eTU"
      }
    }
  ]
}