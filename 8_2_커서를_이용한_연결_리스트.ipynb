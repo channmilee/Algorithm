{
  "nbformat": 4,
  "nbformat_minor": 0,
  "metadata": {
    "colab": {
      "provenance": [],
      "authorship_tag": "ABX9TyPqESc4rik7hfStKat1JXZm",
      "include_colab_link": true
    },
    "kernelspec": {
      "name": "python3",
      "display_name": "Python 3"
    },
    "language_info": {
      "name": "python"
    }
  },
  "cells": [
    {
      "cell_type": "markdown",
      "metadata": {
        "id": "view-in-github",
        "colab_type": "text"
      },
      "source": [
        "<a href=\"https://colab.research.google.com/github/channmilee/Algorithm/blob/master/8_2_%EC%BB%A4%EC%84%9C%EB%A5%BC_%EC%9D%B4%EC%9A%A9%ED%95%9C_%EC%97%B0%EA%B2%B0_%EB%A6%AC%EC%8A%A4%ED%8A%B8.ipynb\" target=\"_parent\"><img src=\"https://colab.research.google.com/assets/colab-badge.svg\" alt=\"Open In Colab\"/></a>"
      ]
    },
    {
      "cell_type": "markdown",
      "source": [
        "## 커서로 연결 리스트 만들기"
      ],
      "metadata": {
        "id": "7Qx6LA9RNRnN"
      }
    },
    {
      "cell_type": "markdown",
      "source": [
        "* 노드의 삽입과 삭제에 따른 원소 이동이 처음부터 불필요하다는 점에서 포인터를 이용한 연결 리스트와 다름"
      ],
      "metadata": {
        "id": "GPKv8fkmN7aI"
      }
    },
    {
      "cell_type": "markdown",
      "source": [
        "### 실습 8-3"
      ],
      "metadata": {
        "id": "vmcgaNVDNtg0"
      }
    },
    {
      "cell_type": "markdown",
      "source": [
        "* 커서로 연결 리스트 구현하기"
      ],
      "metadata": {
        "id": "F-R6z6DTNv9n"
      }
    },
    {
      "cell_type": "code",
      "execution_count": 1,
      "metadata": {
        "id": "R1nQfy5UuQvN"
      },
      "outputs": [],
      "source": [
        "from __future__ import annotations\n",
        "from typing import Any, Type\n",
        "\n",
        "Null = -1\n",
        "\n",
        "class Node:\n",
        "    \"\"\"선형 리스트용 노드 클래스(배열 커서 버전)\"\"\"\n",
        "\n",
        "    def __init__(self, data = Null, next = Null, dnext = Null):\n",
        "        \"\"\"초기화\"\"\"\n",
        "        self.data  = data   # 데이터\n",
        "        self.next  = next   # 리스트의 뒤쪽 포인터\n",
        "        self.dnext = dnext  # 프리 리스트의 뒤쪽 포인터\n",
        "\n",
        "class ArrayLinkedList:\n",
        "    \"\"\"선형 리스트 클래스(배열 커서 버전)\"\"\"\n",
        "\n",
        "    def __init__(self, capacity: int):\n",
        "        \"\"\"초기화\"\"\"\n",
        "        self.head = Null                   # 머리 노드\n",
        "        self.current = Null                # 주목 노드\n",
        "        self.max = Null                    # 사용 중인 맨끝 레코드\n",
        "        self.deleted = Null                # 프리 리스트의 머리 노드\n",
        "        self.capacity = capacity           # 리스트의 크기\n",
        "        self.n = [Node()] * self.capacity  # 리스트 본체\n",
        "        self.no = 0\n",
        "\n",
        "\n",
        "    def __len__(self) -> int:\n",
        "        \"\"\"선형 리스트의 노드 수를 반환\"\"\"\n",
        "        return self.no\n",
        "\n",
        "    def get_insert_index(self):\n",
        "        \"\"\"다음에 삽입할 레코드의 첨자를 구합니다\"\"\"\n",
        "        if self.deleted == Null:  # 삭제 레코드는 존재하지 않습니다\n",
        "            if self.max+1 < self.capacity:\n",
        "                self.max += 1\n",
        "                return self.max   # 새 레코드를 사용\n",
        "            else:\n",
        "                return Null       # 크기 초과\n",
        "        else:\n",
        "            rec = self.deleted                # 프리 리스트에서\n",
        "            self.deleted = self.n[rec].dnext  # 맨 앞 rec를 꺼내기\n",
        "            return rec\n",
        "\n",
        "    def delete_index(self, idx: int) -> None:\n",
        "        \"\"\"레코드 idx를 프리 리스트에 등록\"\"\"\n",
        "        if self.deleted == Null:      # 삭제 레코드는 존재하지 않습니다\n",
        "            self.deleted = idx        # idx를 프리 리스트의\n",
        "            self.n[idx].dnext = Null  # 맨 앞에 등록\n",
        "        else:\n",
        "            rec = self.deleted        # idx를 프리 리스트의\n",
        "            self.deleted = idx        # 맨 앞에 삽입\n",
        "            self.n[idx].dnext = rec\n",
        "\n",
        "    def search(self, data: Any) -> int:\n",
        "        \"\"\"data와 값이 같은 노드를 검색\"\"\"\n",
        "        cnt = 0\n",
        "        ptr = self.head             # 현재 스캔 중인 노드\n",
        "        while ptr != Null:\n",
        "            if self.n[ptr].data == data:\n",
        "                self.current = ptr\n",
        "                return cnt          # 검색 성공\n",
        "            cnt += 1\n",
        "            ptr = self.n[ptr].next  # 뒤쪽 노드에 주목\n",
        "        return Null                 # 검색 실패\n",
        "\n",
        "    def __contains__(self, data: Any) -> bool:\n",
        "        \"\"\"선형 리스트에 data가 포함되어 있는지 확인\"\"\"\n",
        "        return self.search(data) >= 0\n",
        "\n",
        "    def add_first(self, data: Any):\n",
        "        \"\"\"머리 노드에 삽입\"\"\"\n",
        "        ptr = self.head                     # 삽입하기 전의 머리 노드\n",
        "        rec = self.get_insert_index()\n",
        "        if rec != Null:\n",
        "            self.head = self.current = rec  # rec번째 레코드에 삽입\n",
        "            self.n[self.head] = Node(data, ptr)\n",
        "            self.no += 1\n",
        "\n",
        "    def add_last(self, data: Any) -> None:\n",
        "        \"\"\"꼬리 노드에 삽입\"\"\"\n",
        "        if self.head == Null:     # 리스트가 비어 있으면\n",
        "            self.add_first(data)  # 맨 앞에 노드 삽입\n",
        "        else:\n",
        "            ptr = self.head\n",
        "            while self.n[ptr].next != Null:\n",
        "                ptr = self.n[ptr].next\n",
        "            rec = self.get_insert_index()\n",
        "\n",
        "            if rec != Null:       # rec번째 레코드에 삽입\n",
        "                self.n[ptr].next = self.current = rec\n",
        "                self.n[rec] = Node(data)\n",
        "                self.no += 1\n",
        "\n",
        "    def remove_first(self) -> None:\n",
        "        \"\"\"머리 노드를 삭제\"\"\"\n",
        "        if self.head != Null:  # 리스트가 비어 있으면\n",
        "            ptr = self.n[self.head].next\n",
        "            self.delete_index(self.head)\n",
        "            self.head = self.current = ptr\n",
        "            self.no -= 1\n",
        "\n",
        "    def remove_last(self) -> None:\n",
        "        \"\"\"꼬리 노드를 삭제\"\"\"\n",
        "        if self.head != Null:\n",
        "            if self.n[self.head].next == Null:  # 노드가 1개 뿐이면\n",
        "                self.remove_first()             # 머리 노드를 삭제\n",
        "            else:\n",
        "                ptr = self.head                 # 스캔 중인 노드\n",
        "                pre = self.head                 # 스캔 중인 노드의 앞쪽 노드\n",
        "\n",
        "                while self.n[ptr].next != Null:\n",
        "                    pre = ptr\n",
        "                    ptr = self.n[ptr].next\n",
        "                self.n[pre].next = Null  # pre는 삭제한 뒤의 꼬리 노드\n",
        "                self.delete_index(ptr)\n",
        "                self.current = pre\n",
        "                self.no -= 1\n",
        "\n",
        "    def remove(self, p: int) -> None:\n",
        "        \"\"\"레코드 p를 삭제\"\"\"\n",
        "        if self.head != Null:\n",
        "            if p == self.head:       # p가 머리 노드면\n",
        "                self.remove_first()  # 머리 노드를 삭제\n",
        "            else:\n",
        "                ptr = self.head\n",
        "\n",
        "                while self.n[ptr].next != p:\n",
        "                    ptr = self.n[ptr].next\n",
        "                    if ptr == Null:\n",
        "                        return  # p는 리스트에 존재하지 않음\n",
        "                #self.n[ptr].next = Null\n",
        "                self.delete_index(p)\n",
        "                self.n[ptr].next = self.n[p].next\n",
        "                self.current = ptr\n",
        "                self.no -= 1\n",
        "\n",
        "    def remove_current_node(self) -> None:\n",
        "        \"\"\"주목 노드를 삭제\"\"\"\n",
        "        self.remove(self.current)\n",
        "\n",
        "    def clear(self) -> None:\n",
        "        \"\"\"모든 노드를 삭제\"\"\"\n",
        "        while self.head != Null:  # 리스트 전체가 빌 때까지\n",
        "            self.remove_first()   # 머리 노드를 삭제\n",
        "        self.current = Null\n",
        "\n",
        "    def next(self) -> bool:\n",
        "        \"\"\"주목 노드를 한 칸 뒤로 진행\"\"\"\n",
        "        if self.current == Null or self.n[self.current].next == Null:\n",
        "            return False  # 진행할 수 없음\n",
        "        self.current = self.n[self.current].next\n",
        "        return True\n",
        "\n",
        "\n",
        "    def print_current_node(self) -> None:\n",
        "        \"\"\"주목 노드를 출력\"\"\"\n",
        "        if self.current == Null:\n",
        "            print('주목 노드가 없습니다.')\n",
        "        else:\n",
        "            print(self.n[self.current].data)\n",
        "\n",
        "    def print(self) -> None:\n",
        "        \"\"\"모든 노드를 출력\"\"\"\n",
        "        ptr = self.head\n",
        "\n",
        "        while ptr != Null:\n",
        "            print(self.n[ptr].data)\n",
        "            ptr = self.n[ptr].next\n",
        "\n",
        "    def dump(self) -> None:\n",
        "        \"\"\"배열을 덤프\"\"\"\n",
        "        for i in self.n:\n",
        "            print(f'[{i}]  {i.data} {i.next} {i.dnext}')\n",
        "\n",
        "    def __iter__(self) -> ArrayLinkedListIterator:\n",
        "        \"\"\"이터레이터를 반환\"\"\"\n",
        "        return ArrayLinkedListIterator(self.n, self.head)\n",
        "\n",
        "class ArrayLinkedListIterator:\n",
        "    \"\"\"클래스 ArrayLinkedList의 이터레이터용 클래스\"\"\"\n",
        "\n",
        "    def __init__(self, n: int, head: int):\n",
        "        self.n = n\n",
        "        self.current = head\n",
        "\n",
        "    def __iter__(self) -> ArrayLinkedListIterator:\n",
        "        return self\n",
        "\n",
        "    def __next__(self) -> Any:\n",
        "        if self.current == Null:\n",
        "            raise StopIteration\n",
        "        else:\n",
        "            data = self.n[self.current].data\n",
        "            self.current = self.n[self.current].next\n",
        "            return data"
      ]
    },
    {
      "cell_type": "markdown",
      "source": [
        "### 실습 8-4"
      ],
      "metadata": {
        "id": "xqFbabdrPQzR"
      }
    },
    {
      "cell_type": "markdown",
      "source": [
        "* 커서를 이용한 연결 리스트 클래스 ArrayLinkedList 사용하기"
      ],
      "metadata": {
        "id": "DaVvnHjxPVRN"
      }
    },
    {
      "cell_type": "code",
      "source": [
        "from google.colab import drive\n",
        "drive.mount('/content/drive')"
      ],
      "metadata": {
        "colab": {
          "base_uri": "https://localhost:8080/"
        },
        "id": "6xSF2Xw-PND0",
        "outputId": "a1f8b0e8-9c4b-4cec-e480-6c21067b6600"
      },
      "execution_count": 2,
      "outputs": [
        {
          "output_type": "stream",
          "name": "stdout",
          "text": [
            "Mounted at /content/drive\n"
          ]
        }
      ]
    },
    {
      "cell_type": "code",
      "source": [
        "cd '/content/drive/MyDrive/study/자료구조 알고리즘/[예제소스]/chap08'"
      ],
      "metadata": {
        "colab": {
          "base_uri": "https://localhost:8080/"
        },
        "id": "2-ujQDbDPUez",
        "outputId": "4edad067-659f-44c4-eef4-1c64b4f13d31"
      },
      "execution_count": 3,
      "outputs": [
        {
          "output_type": "stream",
          "name": "stdout",
          "text": [
            "/content/drive/MyDrive/study/자료구조 알고리즘/[예제소스]/chap08\n"
          ]
        }
      ]
    },
    {
      "cell_type": "code",
      "source": [
        "from enum import Enum\n",
        "from array_list import ArrayLinkedList\n",
        "\n",
        "Menu = Enum('Menu', ['머리에노드삽입', '꼬리에노드삽입', '머리노드삭제',\n",
        "                     '꼬리노드삭제', '주목노드출력', '주목노드이동',\n",
        "                     '주목노드삭제', '모든노드삭제', '검색', '멤버십판단',\n",
        "                     '모든노드출력', '스캔', '종료'])\n",
        "\n",
        "def select_Menu() -> Menu:\n",
        "    \"\"\"메뉴 선택\"\"\"\n",
        "    s = [f'({m.value}){m.name}' for m in Menu]\n",
        "    while True:\n",
        "        print(*s, sep = '  ', end='')\n",
        "        n = int(input(' : '))\n",
        "        if 1 <= n <= len(Menu):\n",
        "            return Menu(n)\n",
        "\n",
        "lst = ArrayLinkedList(100)  # 선형 리스트를 생성\n",
        "\n",
        "while True:\n",
        "    menu = select_Menu()  # 메뉴 선택\n",
        "\n",
        "    if menu == Menu.머리에노드삽입:               # 맨 앞에 노드 삽입\n",
        "        lst.add_first(int(input('머리 노드에 넣을 값을 입력하세요.: ')))\n",
        "                                    \n",
        "    elif menu == Menu.꼬리에노드삽입:             # 맨 끝에 노드 삽입\n",
        "        lst.add_last(int(input('꼬리 노드에 넣을 값을 입력하세요.: ')))\n",
        "\n",
        "    elif menu == Menu.머리노드삭제:             # 맨 앞 노드를 삭제\n",
        "        lst.remove_first()\n",
        "\n",
        "    elif menu == Menu.꼬리노드삭제:             # 맨 끝 노드를 삭제\n",
        "        lst.remove_last()\n",
        "\n",
        "    elif menu == Menu.주목노드출력:             # 주목 노드를 출력\n",
        "        lst.print_current_node()\n",
        "\n",
        "    elif menu == Menu.주목노드이동:             # 주목 노드를 한 칸 뒤로 이동\n",
        "        lst.next()\n",
        "\n",
        "    elif menu == Menu.주목노드삭제:             # 주목 노드를 삭제\n",
        "        lst.remove_current_node()\n",
        "\n",
        "    elif menu == Menu.모든노드삭제:             # 모두 삭제\n",
        "        lst.clear()\n",
        "\n",
        "    elif menu == Menu.검색:                     # 검색\n",
        "        pos = lst.search(int(input('검색할 값을 입력하세요.: ')))\n",
        "        if pos >= 0:\n",
        "            print(f'이 키를 갖는 데이터는 {pos + 1}번째에 있습니다.')\n",
        "        else:\n",
        "            print('해당 데이터가 없습니다.')\n",
        "\n",
        "    elif menu == Menu.멤버십판단:               # 멤버십을 판단\n",
        "        print('그 값의 데이터는 포함되어'\n",
        "              +('있습니다.' if int(input('판단할 값을 입력하세요.')) in lst else ' 있지 않습니다.'))\n",
        "\n",
        "    elif menu == Menu.모든노드출력:             # 모든 노드를 출력\n",
        "        lst.print()\n",
        "\n",
        "    elif menu == Menu.스캔:                     # 모든 노드 스캔\n",
        "        for e in lst:\n",
        "             print(e)\n",
        "\n",
        "    else:                                       # 종료\n",
        "        break"
      ],
      "metadata": {
        "colab": {
          "base_uri": "https://localhost:8080/"
        },
        "id": "75yIzoq7N28G",
        "outputId": "b2a7e12b-7fd5-4b04-d492-30405bf3b05f"
      },
      "execution_count": 5,
      "outputs": [
        {
          "name": "stdout",
          "output_type": "stream",
          "text": [
            "(1)머리에노드삽입  (2)꼬리에노드삽입  (3)머리노드삭제  (4)꼬리노드삭제  (5)주목노드출력  (6)주목노드이동  (7)주목노드삭제  (8)모든노드삭제  (9)검색  (10)멤버십판단  (11)모든노드출력  (12)스캔  (13)종료 : 1\n",
            "머리 노드에 넣을 값을 입력하세요.: 1\n",
            "(1)머리에노드삽입  (2)꼬리에노드삽입  (3)머리노드삭제  (4)꼬리노드삭제  (5)주목노드출력  (6)주목노드이동  (7)주목노드삭제  (8)모든노드삭제  (9)검색  (10)멤버십판단  (11)모든노드출력  (12)스캔  (13)종료 : 2\n",
            "꼬리 노드에 넣을 값을 입력하세요.: 5\n",
            "(1)머리에노드삽입  (2)꼬리에노드삽입  (3)머리노드삭제  (4)꼬리노드삭제  (5)주목노드출력  (6)주목노드이동  (7)주목노드삭제  (8)모든노드삭제  (9)검색  (10)멤버십판단  (11)모든노드출력  (12)스캔  (13)종료 : 1\n",
            "머리 노드에 넣을 값을 입력하세요.: 10\n",
            "(1)머리에노드삽입  (2)꼬리에노드삽입  (3)머리노드삭제  (4)꼬리노드삭제  (5)주목노드출력  (6)주목노드이동  (7)주목노드삭제  (8)모든노드삭제  (9)검색  (10)멤버십판단  (11)모든노드출력  (12)스캔  (13)종료 : 2\n",
            "꼬리 노드에 넣을 값을 입력하세요.: 12\n",
            "(1)머리에노드삽입  (2)꼬리에노드삽입  (3)머리노드삭제  (4)꼬리노드삭제  (5)주목노드출력  (6)주목노드이동  (7)주목노드삭제  (8)모든노드삭제  (9)검색  (10)멤버십판단  (11)모든노드출력  (12)스캔  (13)종료 : 1\n",
            "머리 노드에 넣을 값을 입력하세요.: 14\n",
            "(1)머리에노드삽입  (2)꼬리에노드삽입  (3)머리노드삭제  (4)꼬리노드삭제  (5)주목노드출력  (6)주목노드이동  (7)주목노드삭제  (8)모든노드삭제  (9)검색  (10)멤버십판단  (11)모든노드출력  (12)스캔  (13)종료 : 4\n",
            "(1)머리에노드삽입  (2)꼬리에노드삽입  (3)머리노드삭제  (4)꼬리노드삭제  (5)주목노드출력  (6)주목노드이동  (7)주목노드삭제  (8)모든노드삭제  (9)검색  (10)멤버십판단  (11)모든노드출력  (12)스캔  (13)종료 : 9\n",
            "검색할 값을 입력하세요.: 12\n",
            "해당 데이터가 없습니다.\n",
            "(1)머리에노드삽입  (2)꼬리에노드삽입  (3)머리노드삭제  (4)꼬리노드삭제  (5)주목노드출력  (6)주목노드이동  (7)주목노드삭제  (8)모든노드삭제  (9)검색  (10)멤버십판단  (11)모든노드출력  (12)스캔  (13)종료 : 9\n",
            "검색할 값을 입력하세요.: 10\n",
            "이 키를 갖는 데이터는 2번째에 있습니다.\n",
            "(1)머리에노드삽입  (2)꼬리에노드삽입  (3)머리노드삭제  (4)꼬리노드삭제  (5)주목노드출력  (6)주목노드이동  (7)주목노드삭제  (8)모든노드삭제  (9)검색  (10)멤버십판단  (11)모든노드출력  (12)스캔  (13)종료 : 5\n",
            "10\n",
            "(1)머리에노드삽입  (2)꼬리에노드삽입  (3)머리노드삭제  (4)꼬리노드삭제  (5)주목노드출력  (6)주목노드이동  (7)주목노드삭제  (8)모든노드삭제  (9)검색  (10)멤버십판단  (11)모든노드출력  (12)스캔  (13)종료 : 11\n",
            "14\n",
            "10\n",
            "1\n",
            "5\n",
            "(1)머리에노드삽입  (2)꼬리에노드삽입  (3)머리노드삭제  (4)꼬리노드삭제  (5)주목노드출력  (6)주목노드이동  (7)주목노드삭제  (8)모든노드삭제  (9)검색  (10)멤버십판단  (11)모든노드출력  (12)스캔  (13)종료 : 9\n",
            "검색할 값을 입력하세요.: 1\n",
            "이 키를 갖는 데이터는 3번째에 있습니다.\n",
            "(1)머리에노드삽입  (2)꼬리에노드삽입  (3)머리노드삭제  (4)꼬리노드삭제  (5)주목노드출력  (6)주목노드이동  (7)주목노드삭제  (8)모든노드삭제  (9)검색  (10)멤버십판단  (11)모든노드출력  (12)스캔  (13)종료 : 7\n",
            "(1)머리에노드삽입  (2)꼬리에노드삽입  (3)머리노드삭제  (4)꼬리노드삭제  (5)주목노드출력  (6)주목노드이동  (7)주목노드삭제  (8)모든노드삭제  (9)검색  (10)멤버십판단  (11)모든노드출력  (12)스캔  (13)종료 : 3\n",
            "(1)머리에노드삽입  (2)꼬리에노드삽입  (3)머리노드삭제  (4)꼬리노드삭제  (5)주목노드출력  (6)주목노드이동  (7)주목노드삭제  (8)모든노드삭제  (9)검색  (10)멤버십판단  (11)모든노드출력  (12)스캔  (13)종료 : 11\n",
            "10\n",
            "5\n",
            "(1)머리에노드삽입  (2)꼬리에노드삽입  (3)머리노드삭제  (4)꼬리노드삭제  (5)주목노드출력  (6)주목노드이동  (7)주목노드삭제  (8)모든노드삭제  (9)검색  (10)멤버십판단  (11)모든노드출력  (12)스캔  (13)종료 : 9\n",
            "검색할 값을 입력하세요.: 10\n",
            "이 키를 갖는 데이터는 1번째에 있습니다.\n",
            "(1)머리에노드삽입  (2)꼬리에노드삽입  (3)머리노드삭제  (4)꼬리노드삭제  (5)주목노드출력  (6)주목노드이동  (7)주목노드삭제  (8)모든노드삭제  (9)검색  (10)멤버십판단  (11)모든노드출력  (12)스캔  (13)종료 : 6\n",
            "(1)머리에노드삽입  (2)꼬리에노드삽입  (3)머리노드삭제  (4)꼬리노드삭제  (5)주목노드출력  (6)주목노드이동  (7)주목노드삭제  (8)모든노드삭제  (9)검색  (10)멤버십판단  (11)모든노드출력  (12)스캔  (13)종료 : 5\n",
            "5\n",
            "(1)머리에노드삽입  (2)꼬리에노드삽입  (3)머리노드삭제  (4)꼬리노드삭제  (5)주목노드출력  (6)주목노드이동  (7)주목노드삭제  (8)모든노드삭제  (9)검색  (10)멤버십판단  (11)모든노드출력  (12)스캔  (13)종료 : 10\n",
            "판단할 값을 입력하세요.7\n",
            "그 값의 데이터는 포함되어 있지 않습니다.\n",
            "(1)머리에노드삽입  (2)꼬리에노드삽입  (3)머리노드삭제  (4)꼬리노드삭제  (5)주목노드출력  (6)주목노드이동  (7)주목노드삭제  (8)모든노드삭제  (9)검색  (10)멤버십판단  (11)모든노드출력  (12)스캔  (13)종료 : 12\n",
            "10\n",
            "5\n",
            "(1)머리에노드삽입  (2)꼬리에노드삽입  (3)머리노드삭제  (4)꼬리노드삭제  (5)주목노드출력  (6)주목노드이동  (7)주목노드삭제  (8)모든노드삭제  (9)검색  (10)멤버십판단  (11)모든노드출력  (12)스캔  (13)종료 : 13\n"
          ]
        }
      ]
    }
  ]
}