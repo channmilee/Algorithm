{
  "nbformat": 4,
  "nbformat_minor": 0,
  "metadata": {
    "colab": {
      "provenance": [],
      "authorship_tag": "ABX9TyO2Z1qbgSP/+aIR+uJEoUcR",
      "include_colab_link": true
    },
    "kernelspec": {
      "name": "python3",
      "display_name": "Python 3"
    },
    "language_info": {
      "name": "python"
    }
  },
  "cells": [
    {
      "cell_type": "markdown",
      "metadata": {
        "id": "view-in-github",
        "colab_type": "text"
      },
      "source": [
        "<a href=\"https://colab.research.google.com/github/channmilee/Algorithm/blob/master/6_7_%EB%B3%91%ED%95%A9_%EC%A0%95%EB%A0%AC.ipynb\" target=\"_parent\"><img src=\"https://colab.research.google.com/assets/colab-badge.svg\" alt=\"Open In Colab\"/></a>"
      ]
    },
    {
      "cell_type": "markdown",
      "source": [
        "## 병합 정렬 알아보기"
      ],
      "metadata": {
        "id": "LbDdOnJvGDrd"
      }
    },
    {
      "cell_type": "markdown",
      "source": [
        "* **병합 정렬** : 배열을 앞 부분과 뒷 부분의 두 그룹으로 나누어 각각 정렬한 후 병합하는 작업을 반복하는 알고리즘"
      ],
      "metadata": {
        "id": "NZVLkYzyF_Uv"
      }
    },
    {
      "cell_type": "markdown",
      "source": [
        "## 정렬을 마친 배열의 병합"
      ],
      "metadata": {
        "id": "KE_wMn6CGLGK"
      }
    },
    {
      "cell_type": "markdown",
      "source": [
        "### 실습 6-14"
      ],
      "metadata": {
        "id": "Tt_lqvT7GNv8"
      }
    },
    {
      "cell_type": "markdown",
      "source": [
        "* 정렬을 마친 두 배열을 병합하기"
      ],
      "metadata": {
        "id": "qP3wv7wuHM6r"
      }
    },
    {
      "cell_type": "code",
      "source": [
        "from typing import Sequence, MutableSequence\n",
        "\n",
        "def merge_sorted_list(a: Sequence, b: Sequence, c: MutableSequence) -> None:\n",
        "  \"\"\"정렬을 마친 배열 a와 b를 병합하여 c에 저장\"\"\"\n",
        "  pa, pb, pc = 0,0,0                       # 각 배열의 커서\n",
        "  na, nb, nc = len(a), len(b), len(c)      # 각 배열의 원소 수\n",
        "\n",
        "  while pa < na and pb < nb:               # pa와 pb를 비교하여 작은 값을 pc에 저장\n",
        "    if a[pa] <= b [pb]:\n",
        "      c[pc] = a[pa]\n",
        "      pa += 1\n",
        "    else:\n",
        "      c[pc] = b[pb]\n",
        "      pb += 1\n",
        "    pc += 1\n",
        "\n",
        "  while pa < na:                            # a에 남은 원소를 c에 복사\n",
        "    c[pc] = a[pa]\n",
        "    pa += 1\n",
        "    pc += 1\n",
        "  \n",
        "  while pb < na:                            # b에 남은 원소를 c에 복사\n",
        "    c[pc] = b[pb]\n",
        "    pb += 1\n",
        "    pc += 1\n",
        "\n",
        "if __name__ == '__main__':\n",
        "  a = [2,4,6,8,11,13]\n",
        "  b = [1,2,3,4,9,16,21]\n",
        "  c = [None] * (len(a) + len(b))\n",
        "  print('정렬을 마친 두 배열의 병합을 수행합니다.')\n",
        "\n",
        "  merge_sorted_list(a,b,c)\n",
        "\n",
        "  print('배열 a와 b를 병합하여 배열 c에 저장했습니다.')\n",
        "  print(f'배열 : {a}')\n",
        "  print(f'배열 : {b}')\n",
        "  print(f'배열 : {c}')"
      ],
      "metadata": {
        "colab": {
          "base_uri": "https://localhost:8080/"
        },
        "id": "V3WrTUtbHOnf",
        "outputId": "96d35aff-759b-43f8-bb7a-02429df2c5d7"
      },
      "execution_count": null,
      "outputs": [
        {
          "output_type": "stream",
          "name": "stdout",
          "text": [
            "정렬을 마친 두 배열의 병합을 수행합니다.\n",
            "배열 a와 b를 병합하여 배열 c에 저장했습니다.\n",
            "배열 : [2, 4, 6, 8, 11, 13]\n",
            "배열 : [1, 2, 3, 4, 9, 16, 21]\n",
            "배열 : [1, 2, 2, 3, 4, 4, 6, 8, 9, 11, 13, 16, None]\n"
          ]
        }
      ]
    },
    {
      "cell_type": "markdown",
      "source": [
        "### sorted() 함수로 병합 정렬하기"
      ],
      "metadata": {
        "id": "_E-3S0BjI6zr"
      }
    },
    {
      "cell_type": "code",
      "source": [
        "import heapq\n",
        "\n",
        "a = [2,4,6,8,11,13]\n",
        "b = [1,2,3,4,9,16,21]\n",
        "\n",
        "c = list(heapq.merge(a,b))\n",
        "c"
      ],
      "metadata": {
        "colab": {
          "base_uri": "https://localhost:8080/"
        },
        "id": "831WqnMHIqvc",
        "outputId": "3ca2b647-0426-4df6-f58d-a610aed628ee"
      },
      "execution_count": null,
      "outputs": [
        {
          "output_type": "execute_result",
          "data": {
            "text/plain": [
              "[1, 2, 2, 3, 4, 4, 6, 8, 9, 11, 13, 16, 21]"
            ]
          },
          "metadata": {},
          "execution_count": 5
        }
      ]
    },
    {
      "cell_type": "markdown",
      "source": [
        "## 병합 정렬 만들기"
      ],
      "metadata": {
        "id": "4OoX1chiJPl_"
      }
    },
    {
      "cell_type": "markdown",
      "source": [
        "### 실습 6-15"
      ],
      "metadata": {
        "id": "aXxoBZ2YVtKe"
      }
    },
    {
      "cell_type": "markdown",
      "source": [
        "* 병합 정렬 알고리즘 구현하기"
      ],
      "metadata": {
        "id": "LWy_x2LTJCZE"
      }
    },
    {
      "cell_type": "code",
      "source": [
        "from typing import MutableSequence\n",
        "\n",
        "def merge_sort(a: MutableSequence) -> None:\n",
        "    \"\"\"병합 정렬\"\"\"\n",
        "\n",
        "    def _merge_sort(a: MutableSequence, left: int, right: int) -> None:\n",
        "        \"\"\"a[left] ~ a[right]를 재귀적으로 병합 정렬\"\"\"\n",
        "        if left < right:\n",
        "            center = (left + right) // 2\n",
        "\n",
        "            _merge_sort(a, left, center)            # 배열 앞부분을 병합 정렬\n",
        "            _merge_sort(a, center + 1, right)       # 배열 뒷부분을 병합 정렬\n",
        "\n",
        "            # 앞부분과 뒷부분 병합 과정\n",
        "            p = j = 0\n",
        "            i = k = left\n",
        "\n",
        "            while i <= center:\n",
        "                 buff[p] = a[i]\n",
        "                 p += 1\n",
        "                 i += 1\n",
        "\n",
        "            while i <= right and j < p:\n",
        "                 if buff[j] <= a[i]:\n",
        "                     a[k] = buff[j]\n",
        "                     j += 1\n",
        "                 else:\n",
        "                     a[k] = a[i]\n",
        "                     i += 1\n",
        "                 k += 1\n",
        "\n",
        "            while j < p:\n",
        "                a[k] = buff[j]\n",
        "                k += 1\n",
        "                j += 1\n",
        "\n",
        "    n = len(a)\n",
        "    buff = [None] * n           # 작업용 배열을 생성\n",
        "    _merge_sort(a, 0, n - 1)    # 배열 전체를 병합 정렬\n",
        "    del buff                    # 작업용 배열을 소멸\n",
        "\n",
        "if __name__ == '__main__':\n",
        "    print('병합 정렬을 수행합니다')\n",
        "    num = int(input('원소 수를 입력하세요.: '))\n",
        "    x = [None] * num    # 원소 수가 num인 배열을 생성\n",
        "\n",
        "    for i in range(num):\n",
        "        x[i] = int(input(f'x[{i}]: '))\n",
        "\n",
        "    merge_sort(x)       # 배열 x를 병합 정렬\n",
        "\n",
        "    print('오름차순으로 정렬했습니다.')\n",
        "\n",
        "    for i in range(num):\n",
        "        print(f'x[{i}] = {x[i]}')"
      ],
      "metadata": {
        "id": "awuBXOg7VwYQ",
        "colab": {
          "base_uri": "https://localhost:8080/"
        },
        "outputId": "ffa23c00-036b-4594-dbdf-c3ab7d54c8e4"
      },
      "execution_count": 5,
      "outputs": [
        {
          "output_type": "stream",
          "name": "stdout",
          "text": [
            "병합 정렬을 수행합니다\n",
            "원소 수를 입력하세요.: 9\n",
            "x[0]: 5\n",
            "x[1]: 8\n",
            "x[2]: 4\n",
            "x[3]: 2\n",
            "x[4]: 6\n",
            "x[5]: 1\n",
            "x[6]: 3\n",
            "x[7]: 9\n",
            "x[8]: 7\n",
            "오름차순으로 정렬했습니다.\n",
            "x[0] = 1\n",
            "x[1] = 2\n",
            "x[2] = 3\n",
            "x[3] = 4\n",
            "x[4] = 5\n",
            "x[5] = 6\n",
            "x[6] = 7\n",
            "x[7] = 8\n",
            "x[8] = 9\n"
          ]
        }
      ]
    },
    {
      "cell_type": "markdown",
      "source": [
        "* 배열 병합의 시간 복잡도는 O(n)\n",
        "* 데이터 원소 수가 n일 때, 배열 정렬의 단계는 log n만큼 필요 -> 전체 시간 복잡도는 O(n log n)\n",
        "* 병합 정렬 알고리즘은 서로 떨어져 있는 원소를 교환하는 것이 아니므로 안정적"
      ],
      "metadata": {
        "id": "ceKlSaKsGOkr"
      }
    }
  ]
}