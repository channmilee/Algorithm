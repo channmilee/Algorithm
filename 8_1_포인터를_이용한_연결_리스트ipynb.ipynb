{
  "nbformat": 4,
  "nbformat_minor": 0,
  "metadata": {
    "colab": {
      "provenance": [],
      "authorship_tag": "ABX9TyOXscswOhO37eJzt4kAhemT",
      "include_colab_link": true
    },
    "kernelspec": {
      "name": "python3",
      "display_name": "Python 3"
    },
    "language_info": {
      "name": "python"
    }
  },
  "cells": [
    {
      "cell_type": "markdown",
      "metadata": {
        "id": "view-in-github",
        "colab_type": "text"
      },
      "source": [
        "<a href=\"https://colab.research.google.com/github/channmilee/Algorithm/blob/master/8_1_%ED%8F%AC%EC%9D%B8%ED%84%B0%EB%A5%BC_%EC%9D%B4%EC%9A%A9%ED%95%9C_%EC%97%B0%EA%B2%B0_%EB%A6%AC%EC%8A%A4%ED%8A%B8ipynb.ipynb\" target=\"_parent\"><img src=\"https://colab.research.google.com/assets/colab-badge.svg\" alt=\"Open In Colab\"/></a>"
      ]
    },
    {
      "cell_type": "markdown",
      "source": [
        "## 연결 리스트 알아보기"
      ],
      "metadata": {
        "id": "XxbP33-Bg80O"
      }
    },
    {
      "cell_type": "markdown",
      "source": [
        "* 선형 리스트 (linear list), 연결 리스트 (linked list)\n",
        "* 노드 : 연결 리스트의 원소\n",
        "  * 노드는 데이터와 뒤쪽 노드를 참조하는 포인터로 구성\n",
        "* 머리 노드 vs 꼬리 노드\n",
        "* 앞쪽 노드 vs 뒤쪽 노드"
      ],
      "metadata": {
        "id": "I34uvIFVgg9v"
      }
    },
    {
      "cell_type": "markdown",
      "source": [
        "## 포인터를 이용한 연결 리스트"
      ],
      "metadata": {
        "id": "QMFW2HXdhc3T"
      }
    },
    {
      "cell_type": "markdown",
      "source": [
        "### 실습 8-1"
      ],
      "metadata": {
        "id": "yWAHG5im8hkJ"
      }
    },
    {
      "cell_type": "markdown",
      "source": [
        "* 포인터로 연결 리스트 구현하기"
      ],
      "metadata": {
        "id": "LhLklCwN8mYS"
      }
    },
    {
      "cell_type": "code",
      "source": [
        "from __future__ import annotations\n",
        "from typing import Any, Type\n",
        "\n",
        "class Node:\n",
        "  \"\"\"연결 리스트용 노드 클래스\"\"\"\n",
        "\n",
        "  def __init__(self, data: Any = None, next: Node = None):\n",
        "    \"\"\"초기화\"\"\"\n",
        "    self.data = data        # 데이터\n",
        "    self.next = next        # 뒤쪽 포인터\n",
        "\n",
        "class LinkedList:\n",
        "  \"\"\"연결 리스트 클래스\"\"\"\n",
        "\n",
        "  def __init__(self) -> None:\n",
        "    \"\"\"초기화\"\"\"\n",
        "    self.no = 0           # 노드의 개수\n",
        "    self.head = None      # 머리 노드\n",
        "    self.current = None   # 주목 노드\n",
        "  \n",
        "  def __len__(self) -> int:\n",
        "    \"\"\"연결 리스트의 노드 개수를 반환\"\"\"\n",
        "    return self.no\n",
        "  \n",
        "  def search(self, data: Any) -> int:\n",
        "    \"\"\"data와 값이 같은 노드 검색\"\"\"\n",
        "    cnt = 0\n",
        "    ptr = self.head\n",
        "\n",
        "    while ptr is not None:\n",
        "      if ptr.data == data:\n",
        "        self.current = ptr\n",
        "        return cnt\n",
        "      cnt += 1\n",
        "      ptr = ptr.next\n",
        "    return -1\n",
        "  \n",
        "  def __contains__(self, data:Any) -> bool:\n",
        "    \"\"\"연결 리스트에 data가 포함되어 있는지 확인\"\"\"\n",
        "    return self.search(data) >= 0\n",
        "  \n",
        "  def add_first(self, data:Any) -> None:\n",
        "    \"\"\"맨 앞에 노드를 삽입\"\"\"\n",
        "    ptr = self.head      # 삽입하기 전의 머리 노드\n",
        "    self.head = self.current = Node(data, ptr)\n",
        "    self.no += 1\n",
        "\n",
        "  def add_last(self, data: Any):\n",
        "    \"\"\"맨 끝에 노드 삽입\"\"\"\n",
        "    if self.head is None:     # 리스트가 비어 있으면\n",
        "      self.add_first(data)    # 맨 앞에 노드를 삽입\n",
        "    else:\n",
        "      ptr = self.head\n",
        "      while ptr.next is not None:\n",
        "        ptr = ptr.next\n",
        "      ptr.next = self.current = Node(data, None)\n",
        "      self.no += 1\n",
        "  \n",
        "  def remove_first(self) -> None:\n",
        "    \"\"\"머리 노드 삭제\"\"\"\n",
        "    if self.head is not None:      # 리스트가 비어 있으면\n",
        "      self.head = self.current = self.head.next\n",
        "    self.no -= 1\n",
        "\n",
        "  \n",
        "  def remove_last(self):\n",
        "    \"\"\"꼬리 노드 삭제\"\"\"\n",
        "    if self.head is not None:\n",
        "      if self.head.next is None:   # 노드가 1개 뿐이라면\n",
        "        self.remove_first()        # 머리 노드를 삭제\n",
        "      else:\n",
        "        ptr = self.head            # 스캔 중인 노드\n",
        "        pre = self.head            # 스캔 중인 노드의 앞쪽 노드\n",
        "\n",
        "        while ptr.next is not None:\n",
        "          pre = ptr\n",
        "          ptr = ptr.next\n",
        "        \n",
        "        pre.next = None            # pre는 삭제 뒤 꼬리 노드\n",
        "        self.current = pre\n",
        "        self.no -= 1\n",
        "\n",
        "  def remove_last(self):\n",
        "    \"\"\"꼬리 노드 삭제\"\"\"\n",
        "    if self.head is not None:\n",
        "      if self.head.next is None:   # 노드가 1개 뿐이라면\n",
        "        self.remove_first()\n",
        "      else:\n",
        "        ptr = self.head            # 스캔 중인 노드\n",
        "        pre = self.head            # 스캔 중인 노드의 앞쪽 노드\n",
        "\n",
        "      while ptr.next is not None:\n",
        "        pre = ptr\n",
        "        ptr = ptr.next\n",
        "      pre.next = None              # pre는 삭제 뒤 꼬리 노드\n",
        "      self.current = pre\n",
        "      self.no -= 1\n",
        "  \n",
        "  def remove(self, p : Node) -> None:\n",
        "    \"\"\"노드 p를 삭제\"\"\"\n",
        "    if self.head is not None:\n",
        "      if p is self.head:           # p가 머리 노드이면\n",
        "        self.remove_first()        # 머리 노드를 삭제\n",
        "      else:\n",
        "        ptr = self.head\n",
        "\n",
        "        while ptr.next is not p:\n",
        "          ptr = ptr.next\n",
        "          if ptr is None:\n",
        "            return                # ptr은 리스트에 존재하지 않음\n",
        "\n",
        "        ptr.next = p.next\n",
        "        self.current = pre\n",
        "        self.no -= 1\n",
        "\n",
        "  def remove_current_node(self) -> None:\n",
        "    \"\"\"주목 노드를 삭제\"\"\"\n",
        "    self.remove(self.current)\n",
        "  \n",
        "  def clear(self) -> None:\n",
        "    \"\"\"전체 노드 삭제\"\"\"\n",
        "    while self.head is not None:     # 전체가 비어 있을 때까지\n",
        "      self.remove_first()            # 머리 노드 삭제\n",
        "    self.current = None\n",
        "    self.no = 0\n",
        "  \n",
        "  def next(self) -> bool:\n",
        "    \"\"\"주목 노드를 한 칸 뒤로 이동\"\"\"\n",
        "    if self.current is None or self.current.next is None:\n",
        "      return False                  # 이동 불가\n",
        "    self.current = self.current.next\n",
        "    return True\n",
        "  \n",
        "  def print_current_node(self) -> None:\n",
        "    \"\"\"주목 노드 출력\"\"\"\n",
        "    if self.current is None:\n",
        "      print('주목 노드가 존재하지 않습니다.')\n",
        "    else:\n",
        "      print(self.current.data)\n",
        "    \n",
        "  def print(self) -> None:\n",
        "    \"\"\"모든 노드 출력\"\"\"\n",
        "    ptr = self.head\n",
        "\n",
        "    while ptr is not None:\n",
        "      print(ptr.data)\n",
        "      ptr = ptr.next\n",
        "  \n",
        "  def __iter__(self) -> LinkedListIterator:\n",
        "    \"\"\"이터레이터 반환\"\"\"\n",
        "    return LinkedListIterator(self.head)\n",
        "\n",
        "class LinkedListIterator:\n",
        "  \"\"\"클래스 LinkedList의 이터레이터용 클래스\"\"\"\n",
        "\n",
        "  def __init__(self, head: None):\n",
        "    self.current = head\n",
        "  \n",
        "  def __iter__(self) -> LinkedListIterator:\n",
        "    return self\n",
        "  \n",
        "  def __next__(self) -> Any:\n",
        "    if self.current is None:\n",
        "      raise StopIteration\n",
        "    else:\n",
        "      data = self.current.data\n",
        "      self.current = self.current.next\n",
        "      return data"
      ],
      "metadata": {
        "id": "tJ3XDtWZhV6w"
      },
      "execution_count": 3,
      "outputs": []
    },
    {
      "cell_type": "markdown",
      "source": [
        "### 실습 8-2"
      ],
      "metadata": {
        "id": "3Ar2il2AGsvQ"
      }
    },
    {
      "cell_type": "markdown",
      "source": [
        "* 포인터를 이용한 연결 리스트 클래스 LinkedList 사용하기"
      ],
      "metadata": {
        "id": "9-a6GpGMGaSp"
      }
    },
    {
      "cell_type": "code",
      "source": [
        "from google.colab import drive\n",
        "drive.mount('/content/drive')"
      ],
      "metadata": {
        "colab": {
          "base_uri": "https://localhost:8080/"
        },
        "id": "Aq54VqNOLL3x",
        "outputId": "cf8e5042-e526-46a4-c4df-6a2fa85c5d2d"
      },
      "execution_count": 5,
      "outputs": [
        {
          "output_type": "stream",
          "name": "stdout",
          "text": [
            "Mounted at /content/drive\n"
          ]
        }
      ]
    },
    {
      "cell_type": "code",
      "source": [
        "cd '/content/drive/MyDrive/study/자료구조 알고리즘/[예제소스]/chap08'"
      ],
      "metadata": {
        "colab": {
          "base_uri": "https://localhost:8080/"
        },
        "id": "EWhNEyPYLVy1",
        "outputId": "91cb72f5-771f-4a67-e64a-571e05a73442"
      },
      "execution_count": 7,
      "outputs": [
        {
          "output_type": "stream",
          "name": "stdout",
          "text": [
            "/content/drive/MyDrive/study/자료구조 알고리즘/[예제소스]/chap08\n"
          ]
        }
      ]
    },
    {
      "cell_type": "code",
      "source": [
        "from enum import Enum\n",
        "from linked_list import LinkedList\n",
        "\n",
        "Menu = Enum('Menu', ['머리에노드삽입', '꼬리에노드삽입', '머리노드삭제',\n",
        "                     '꼬리노드삭제', '주목노드출력', '주목노드이동',\n",
        "                     '주목노드삭제', '모든노드삭제', '검색', '멤버십판단',\n",
        "                     '모든노드출력', '스캔', '종료',])\n",
        "\n",
        "def select_Menu() -> Menu:\n",
        "    \"\"\"메뉴 선택\"\"\"\n",
        "    s = [f'({m.value}){m.name}' for m in Menu]\n",
        "    while True:\n",
        "        print(*s, sep='  ', end='')\n",
        "        n = int(input(': '))\n",
        "        if 1 <= n <= len(Menu):\n",
        "            return Menu(n)\n",
        "\n",
        "\n",
        "lst = LinkedList()  # 연결 리스트를 생성\n",
        "\n",
        "while True:\n",
        "    menu = select_Menu()  # 메뉴 선택\n",
        "\n",
        "    if menu == Menu.머리에노드삽입:  # 맨 앞에 노드 삽입\n",
        "        lst.add_first(int(input('머리에 넣을 값을 입력하세요.: ')))\n",
        "\n",
        "    elif menu == Menu.꼬리에노드삽입:  # 맨 끝에 노드 삽입\n",
        "        lst.add_last(int(input('꼬리에 넣을 값을 입력하세요.: ')))\n",
        "\n",
        "    elif menu == Menu.머리노드삭제:  # 맨 앞 노드 삭제\n",
        "        lst.remove_first()\n",
        "\n",
        "    elif menu == Menu.꼬리노드삭제:  # 맨 끝 노드 삭제\n",
        "        lst.remove_last()\n",
        "\n",
        "    elif menu == Menu.주목노드출력:  # 주목 노드 출력\n",
        "        lst.print_current_node()\n",
        "\n",
        "    elif menu == Menu.주목노드이동:  # 주목 노드를 한 칸 뒤로 이동\n",
        "        lst.next()\n",
        "\n",
        "    elif menu == Menu.주목노드삭제:  # 주목 노드 삭제\n",
        "        lst.remove_current_node()\n",
        "\n",
        "    elif menu == Menu.모든노드삭제:  # 모든 노드를 삭제\n",
        "        lst.clear()\n",
        "\n",
        "    elif menu == Menu.검색:  # 노드를 검색\n",
        "        pos = lst.search(int(input('검색할 값을 입력하세요.: ')))\n",
        "        if pos >= 0:\n",
        "            print(f'그 값의 데이터는 {pos + 1}번째에 있습니다.')\n",
        "        else:\n",
        "            print('해당 데이터가 없습니다.')\n",
        "\n",
        "    elif menu == Menu.멤버십판단:  # 멤버십 판단\n",
        "        print('그 값의 데이터는 포함되어' + (' 있습니다.' if int(input('멤버십 판단할 값을 입력하세요.: ')) in lst else ' 있지 않습니다.'))\n",
        "\n",
        "    elif menu == Menu.모든노드출력:  # 모든 노드 출력\n",
        "        lst.print()\n",
        "\n",
        "    elif menu == Menu.스캔:  # 모든 노드 스캔\n",
        "        for e in lst:\n",
        "            print(e)\n",
        "\n",
        "    else:  # 종료\n",
        "        break"
      ],
      "metadata": {
        "colab": {
          "base_uri": "https://localhost:8080/"
        },
        "id": "D3GX-nyaGxI0",
        "outputId": "9527f232-b697-4266-a5c5-fe65e7e84057"
      },
      "execution_count": 8,
      "outputs": [
        {
          "name": "stdout",
          "output_type": "stream",
          "text": [
            "(1)머리에노드삽입  (2)꼬리에노드삽입  (3)머리노드삭제  (4)꼬리노드삭제  (5)주목노드출력  (6)주목노드이동  (7)주목노드삭제  (8)모든노드삭제  (9)검색  (10)멤버십판단  (11)모든노드출력  (12)스캔  (13)종료: 1\n",
            "머리에 넣을 값을 입력하세요.: 1\n",
            "(1)머리에노드삽입  (2)꼬리에노드삽입  (3)머리노드삭제  (4)꼬리노드삭제  (5)주목노드출력  (6)주목노드이동  (7)주목노드삭제  (8)모든노드삭제  (9)검색  (10)멤버십판단  (11)모든노드출력  (12)스캔  (13)종료: 2\n",
            "꼬리에 넣을 값을 입력하세요.: 5\n",
            "(1)머리에노드삽입  (2)꼬리에노드삽입  (3)머리노드삭제  (4)꼬리노드삭제  (5)주목노드출력  (6)주목노드이동  (7)주목노드삭제  (8)모든노드삭제  (9)검색  (10)멤버십판단  (11)모든노드출력  (12)스캔  (13)종료: 1\n",
            "머리에 넣을 값을 입력하세요.: 10\n",
            "(1)머리에노드삽입  (2)꼬리에노드삽입  (3)머리노드삭제  (4)꼬리노드삭제  (5)주목노드출력  (6)주목노드이동  (7)주목노드삭제  (8)모든노드삭제  (9)검색  (10)멤버십판단  (11)모든노드출력  (12)스캔  (13)종료: 2\n",
            "꼬리에 넣을 값을 입력하세요.: 12\n",
            "(1)머리에노드삽입  (2)꼬리에노드삽입  (3)머리노드삭제  (4)꼬리노드삭제  (5)주목노드출력  (6)주목노드이동  (7)주목노드삭제  (8)모든노드삭제  (9)검색  (10)멤버십판단  (11)모든노드출력  (12)스캔  (13)종료: 1\n",
            "머리에 넣을 값을 입력하세요.: 14\n",
            "(1)머리에노드삽입  (2)꼬리에노드삽입  (3)머리노드삭제  (4)꼬리노드삭제  (5)주목노드출력  (6)주목노드이동  (7)주목노드삭제  (8)모든노드삭제  (9)검색  (10)멤버십판단  (11)모든노드출력  (12)스캔  (13)종료: 4\n",
            "(1)머리에노드삽입  (2)꼬리에노드삽입  (3)머리노드삭제  (4)꼬리노드삭제  (5)주목노드출력  (6)주목노드이동  (7)주목노드삭제  (8)모든노드삭제  (9)검색  (10)멤버십판단  (11)모든노드출력  (12)스캔  (13)종료: 9\n",
            "검색할 값을 입력하세요.: 12\n",
            "해당 데이터가 없습니다.\n",
            "(1)머리에노드삽입  (2)꼬리에노드삽입  (3)머리노드삭제  (4)꼬리노드삭제  (5)주목노드출력  (6)주목노드이동  (7)주목노드삭제  (8)모든노드삭제  (9)검색  (10)멤버십판단  (11)모든노드출력  (12)스캔  (13)종료: 9\n",
            "검색할 값을 입력하세요.: 10\n",
            "그 값의 데이터는 2번째에 있습니다.\n",
            "(1)머리에노드삽입  (2)꼬리에노드삽입  (3)머리노드삭제  (4)꼬리노드삭제  (5)주목노드출력  (6)주목노드이동  (7)주목노드삭제  (8)모든노드삭제  (9)검색  (10)멤버십판단  (11)모든노드출력  (12)스캔  (13)종료: 5\n",
            "10\n",
            "(1)머리에노드삽입  (2)꼬리에노드삽입  (3)머리노드삭제  (4)꼬리노드삭제  (5)주목노드출력  (6)주목노드이동  (7)주목노드삭제  (8)모든노드삭제  (9)검색  (10)멤버십판단  (11)모든노드출력  (12)스캔  (13)종료: 11\n",
            "14\n",
            "10\n",
            "1\n",
            "5\n",
            "(1)머리에노드삽입  (2)꼬리에노드삽입  (3)머리노드삭제  (4)꼬리노드삭제  (5)주목노드출력  (6)주목노드이동  (7)주목노드삭제  (8)모든노드삭제  (9)검색  (10)멤버십판단  (11)모든노드출력  (12)스캔  (13)종료: 9\n",
            "검색할 값을 입력하세요.: 1\n",
            "그 값의 데이터는 3번째에 있습니다.\n",
            "(1)머리에노드삽입  (2)꼬리에노드삽입  (3)머리노드삭제  (4)꼬리노드삭제  (5)주목노드출력  (6)주목노드이동  (7)주목노드삭제  (8)모든노드삭제  (9)검색  (10)멤버십판단  (11)모든노드출력  (12)스캔  (13)종료: 7\n",
            "(1)머리에노드삽입  (2)꼬리에노드삽입  (3)머리노드삭제  (4)꼬리노드삭제  (5)주목노드출력  (6)주목노드이동  (7)주목노드삭제  (8)모든노드삭제  (9)검색  (10)멤버십판단  (11)모든노드출력  (12)스캔  (13)종료: 3\n",
            "(1)머리에노드삽입  (2)꼬리에노드삽입  (3)머리노드삭제  (4)꼬리노드삭제  (5)주목노드출력  (6)주목노드이동  (7)주목노드삭제  (8)모든노드삭제  (9)검색  (10)멤버십판단  (11)모든노드출력  (12)스캔  (13)종료: 11\n",
            "10\n",
            "5\n",
            "(1)머리에노드삽입  (2)꼬리에노드삽입  (3)머리노드삭제  (4)꼬리노드삭제  (5)주목노드출력  (6)주목노드이동  (7)주목노드삭제  (8)모든노드삭제  (9)검색  (10)멤버십판단  (11)모든노드출력  (12)스캔  (13)종료: 9\n",
            "검색할 값을 입력하세요.: 10\n",
            "그 값의 데이터는 1번째에 있습니다.\n",
            "(1)머리에노드삽입  (2)꼬리에노드삽입  (3)머리노드삭제  (4)꼬리노드삭제  (5)주목노드출력  (6)주목노드이동  (7)주목노드삭제  (8)모든노드삭제  (9)검색  (10)멤버십판단  (11)모든노드출력  (12)스캔  (13)종료: 6\n",
            "(1)머리에노드삽입  (2)꼬리에노드삽입  (3)머리노드삭제  (4)꼬리노드삭제  (5)주목노드출력  (6)주목노드이동  (7)주목노드삭제  (8)모든노드삭제  (9)검색  (10)멤버십판단  (11)모든노드출력  (12)스캔  (13)종료: 5\n",
            "5\n",
            "(1)머리에노드삽입  (2)꼬리에노드삽입  (3)머리노드삭제  (4)꼬리노드삭제  (5)주목노드출력  (6)주목노드이동  (7)주목노드삭제  (8)모든노드삭제  (9)검색  (10)멤버십판단  (11)모든노드출력  (12)스캔  (13)종료: 5\n",
            "5\n",
            "(1)머리에노드삽입  (2)꼬리에노드삽입  (3)머리노드삭제  (4)꼬리노드삭제  (5)주목노드출력  (6)주목노드이동  (7)주목노드삭제  (8)모든노드삭제  (9)검색  (10)멤버십판단  (11)모든노드출력  (12)스캔  (13)종료: 10\n",
            "멤버십 판단할 값을 입력하세요.: 7\n",
            "그 값의 데이터는 포함되어 있지 않습니다.\n",
            "(1)머리에노드삽입  (2)꼬리에노드삽입  (3)머리노드삭제  (4)꼬리노드삭제  (5)주목노드출력  (6)주목노드이동  (7)주목노드삭제  (8)모든노드삭제  (9)검색  (10)멤버십판단  (11)모든노드출력  (12)스캔  (13)종료: 12\n",
            "10\n",
            "5\n",
            "(1)머리에노드삽입  (2)꼬리에노드삽입  (3)머리노드삭제  (4)꼬리노드삭제  (5)주목노드출력  (6)주목노드이동  (7)주목노드삭제  (8)모든노드삭제  (9)검색  (10)멤버십판단  (11)모든노드출력  (12)스캔  (13)종료: 13\n"
          ]
        }
      ]
    }
  ]
}