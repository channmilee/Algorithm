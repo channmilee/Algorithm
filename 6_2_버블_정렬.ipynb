{
  "nbformat": 4,
  "nbformat_minor": 0,
  "metadata": {
    "colab": {
      "provenance": [],
      "authorship_tag": "ABX9TyMSu12eMG8cfYpMKRObpkBr",
      "include_colab_link": true
    },
    "kernelspec": {
      "name": "python3",
      "display_name": "Python 3"
    },
    "language_info": {
      "name": "python"
    }
  },
  "cells": [
    {
      "cell_type": "markdown",
      "metadata": {
        "id": "view-in-github",
        "colab_type": "text"
      },
      "source": [
        "<a href=\"https://colab.research.google.com/github/channmilee/Algorithm/blob/master/6_2_%EB%B2%84%EB%B8%94_%EC%A0%95%EB%A0%AC.ipynb\" target=\"_parent\"><img src=\"https://colab.research.google.com/assets/colab-badge.svg\" alt=\"Open In Colab\"/></a>"
      ]
    },
    {
      "cell_type": "markdown",
      "source": [
        "## 버블 정렬 알아보기"
      ],
      "metadata": {
        "id": "S0zH1bmAsxUB"
      }
    },
    {
      "cell_type": "markdown",
      "source": [
        "* 버블 정렬 \n",
        "  * 이웃한 두 원소의 대소 관계를 비교하여 필요에 따라 교환을 반복하는 알고리즘\n",
        "  * 단순 교환 정렬이라고도 함\n",
        "  * 패스 : 비교, 교환하는 과정. 모든 정렬이 끝나려면 패스를 n-1번 수행해야 함\n",
        "  * [버블 정렬 이해하기](https://ddrt44al.tistory.com/50)"
      ],
      "metadata": {
        "id": "89AKABkussu0"
      }
    },
    {
      "cell_type": "markdown",
      "source": [
        "### 실습  6-1."
      ],
      "metadata": {
        "id": "aGSLaur80oQZ"
      }
    },
    {
      "cell_type": "markdown",
      "source": [
        "* 버블 정렬 알고리즘 구현하기"
      ],
      "metadata": {
        "id": "C0Wy-atps6Gm"
      }
    },
    {
      "cell_type": "code",
      "source": [
        "from typing import MutableSequence\n",
        "\n",
        "def bubble_sort(a: MutableSequence) -> None:\n",
        "  \"\"\"버블 정렬\"\"\"\n",
        "  n = len(a)\n",
        "  for i in range(n-1):\n",
        "    ### 패스 ###\n",
        "    for j in range(n - 1, i, -1):\n",
        "      if a[j - 1] > a[j]:\n",
        "        a[j - 1], a[j] = a[j], a[j - 1]\n",
        "\n",
        "if __name__ == '__main__':\n",
        "  print('버블 정렬을 수행합니다.')\n",
        "  num = int(input('원소 수를 입력하세요: '))\n",
        "  x = [None] * num\n",
        "\n",
        "  for i in range(num):\n",
        "    x[i] = int(input(f'x[{i}] : '))\n",
        "  \n",
        "  bubble_sort(x)    # 배열 x를 버블 정렬\n",
        "\n",
        "  print('오름차순으로 정렬했습니다.')\n",
        "  for i in range(num):\n",
        "    print(f'x[{i}] = {x[i]}')"
      ],
      "metadata": {
        "colab": {
          "base_uri": "https://localhost:8080/"
        },
        "id": "Pi5cBvJ70tp2",
        "outputId": "b98dca5c-9e9b-476e-dbcb-082fe0189322"
      },
      "execution_count": 1,
      "outputs": [
        {
          "output_type": "stream",
          "name": "stdout",
          "text": [
            "버블 정렬을 수행합니다.\n",
            "원소 수를 입력하세요: 7\n",
            "x[0] : 6\n",
            "x[1] : 4\n",
            "x[2] : 3\n",
            "x[3] : 7\n",
            "x[4] : 1\n",
            "x[5] : 9\n",
            "x[6] : 8\n",
            "오름차순으로 정렬했습니다.\n",
            "x[0] = 1\n",
            "x[1] = 3\n",
            "x[2] = 4\n",
            "x[3] = 6\n",
            "x[4] = 7\n",
            "x[5] = 8\n",
            "x[6] = 9\n"
          ]
        }
      ]
    },
    {
      "cell_type": "markdown",
      "source": [
        "-- 원소 교환 횟수 : n(n-1)/2  \n",
        "-- 배열 원소값에 영향을 받으므로 실제 원소 교환 횟수 : n(n-1)4"
      ],
      "metadata": {
        "id": "ShCSQmAl3SNY"
      }
    },
    {
      "cell_type": "markdown",
      "source": [
        "### 실습 6-2."
      ],
      "metadata": {
        "id": "1f_xhEAf3iKi"
      }
    },
    {
      "cell_type": "markdown",
      "source": [
        "* 버블 정렬 알고리즘 구현하기 (교환 과정 출력)"
      ],
      "metadata": {
        "id": "zHuopgOF2aju"
      }
    },
    {
      "cell_type": "code",
      "source": [
        "from typing import MutableSequence\n",
        "\n",
        "def bubble_sort_verbose(a: MutableSequence) -> None:\n",
        "    \"\"\"버블 정렬(정렬 과정을 출력)\"\"\"\n",
        "    ccnt = 0  # 비교 횟수\n",
        "    scnt = 0  # 교환 횟수\n",
        "    n = len(a)\n",
        "\n",
        "    for i in range(n - 1):\n",
        "        print(f'패스 {i + 1}')\n",
        "        for j in range(n - 1, i, -1):\n",
        "            for m in range(0, n - 1):\n",
        "               print(f'{a[m]:2}' + ('  ' if m != j - 1 else\n",
        "                                    ' +' if a[j - 1] > a[j] else ' -'),    # 교환 o -> +, 교환 x -> - 출력\n",
        "                                    end='')\n",
        "            print(f'{a[n - 1]:2}')\n",
        "            ccnt += 1\n",
        "            if a[j - 1] > a[j]:\n",
        "                scnt += 1\n",
        "                a[j - 1], a[j] = a[j], a[j - 1]\n",
        "        for m in range(0, n - 1):\n",
        "           print(f'{a[m]:2}', end='  ')\n",
        "        print(f'{a[n - 1]:2}')\n",
        "    print(f'비교를 {ccnt}번 했습니다.')\n",
        "    print(f'교환을 {scnt}번 했습니다.')\n",
        "\n",
        "\n",
        "\n",
        "if __name__ == '__main__':\n",
        "    print('버블 정렬을 수행합니다.')\n",
        "    num = int(input('원소 수를 입력하세요.: '))\n",
        "    x = [None] * num  # 원소 수가 num인 배열을 생성\n",
        "\n",
        "    for i in range(num):\n",
        "        x[i] = int(input(f'x[{i}]: '))\n",
        "\n",
        "    bubble_sort_verbose(x)  # 배열 x를 버블 정렬\n",
        "\n",
        "    print('오름차순으로 정렬했습니다.')\n",
        "    for i in range(num):\n",
        "        print(f'x[{i}] = {x[i]}')"
      ],
      "metadata": {
        "colab": {
          "base_uri": "https://localhost:8080/"
        },
        "id": "9k-qeQzk3pKg",
        "outputId": "1fc9768f-f063-4605-ac3e-01f8b142e99a"
      },
      "execution_count": 8,
      "outputs": [
        {
          "output_type": "stream",
          "name": "stdout",
          "text": [
            "버블 정렬을 수행합니다.\n",
            "원소 수를 입력하세요.: 7\n",
            "x[0]: 6\n",
            "x[1]: 4\n",
            "x[2]: 3\n",
            "x[3]: 7\n",
            "x[4]: 1\n",
            "x[5]: 9\n",
            "x[6]: 8\n",
            "패스 1\n",
            " 6   4   3   7   1   9 + 8\n",
            " 6   4   3   7   1 - 8   9\n",
            " 6   4   3   7 + 1   8   9\n",
            " 6   4   3 + 1   7   8   9\n",
            " 6   4 + 1   3   7   8   9\n",
            " 6 + 1   4   3   7   8   9\n",
            " 1   6   4   3   7   8   9\n",
            "패스 2\n",
            " 1   6   4   3   7   8 - 9\n",
            " 1   6   4   3   7 - 8   9\n",
            " 1   6   4   3 - 7   8   9\n",
            " 1   6   4 + 3   7   8   9\n",
            " 1   6 + 3   4   7   8   9\n",
            " 1   3   6   4   7   8   9\n",
            "패스 3\n",
            " 1   3   6   4   7   8 - 9\n",
            " 1   3   6   4   7 - 8   9\n",
            " 1   3   6   4 - 7   8   9\n",
            " 1   3   6 + 4   7   8   9\n",
            " 1   3   4   6   7   8   9\n",
            "패스 4\n",
            " 1   3   4   6   7   8 - 9\n",
            " 1   3   4   6   7 - 8   9\n",
            " 1   3   4   6 - 7   8   9\n",
            " 1   3   4   6   7   8   9\n",
            "패스 5\n",
            " 1   3   4   6   7   8 - 9\n",
            " 1   3   4   6   7 - 8   9\n",
            " 1   3   4   6   7   8   9\n",
            "패스 6\n",
            " 1   3   4   6   7   8 - 9\n",
            " 1   3   4   6   7   8   9\n",
            "비교를 21번 했습니다.\n",
            "교환을 8번 했습니다.\n",
            "오름차순으로 정렬했습니다.\n",
            "x[0] = 1\n",
            "x[1] = 3\n",
            "x[2] = 4\n",
            "x[3] = 6\n",
            "x[4] = 7\n",
            "x[5] = 8\n",
            "x[6] = 9\n"
          ]
        }
      ]
    },
    {
      "cell_type": "markdown",
      "source": [
        "* 4번째 패스부터 원소 교환이 이루어지지 않고 있음\n",
        "* 어떤 패스의 원소 교환 횟수가 0이면 모든 원소가 정렬을 완료한 경우이므로 그 이후 패스는 불필요하다고 판단하여 정렬을 중단함"
      ],
      "metadata": {
        "id": "1u1sxjOk8RRT"
      }
    },
    {
      "cell_type": "markdown",
      "source": [
        "### 실습 6-3."
      ],
      "metadata": {
        "id": "L6TX8jX-8iOf"
      }
    },
    {
      "cell_type": "markdown",
      "source": [
        "* 버블 정렬 알고리즘 구현하기 (알고리즘 개선 1)"
      ],
      "metadata": {
        "id": "RMWfvii57ud4"
      }
    },
    {
      "cell_type": "code",
      "source": [
        "from typing import MutableSequence\n",
        "\n",
        "def bubble_sort(a: MutableSequence) -> None:\n",
        "  \"\"\"버블 정렬(교환 횟수에 따른 중단)\"\"\"\n",
        "  n = len(a)\n",
        "  for i in range(n - 1):\n",
        "    exchng = 0   # 패스에서 교횐 횟수\n",
        "    for j in range(n-1, i, -1):\n",
        "      if a[j-1] > a[j]:\n",
        "        a[j-1], a[j] = a[j], a[j-1]\n",
        "        exchng += 1\n",
        "    if exchng == 0:\n",
        "      break"
      ],
      "metadata": {
        "id": "vn9nRQne8mHV"
      },
      "execution_count": 18,
      "outputs": []
    },
    {
      "cell_type": "markdown",
      "source": [
        "* 버블 정렬 알고리즘 구현하기 (알고리즘 개선 1 -> 과정 출력)"
      ],
      "metadata": {
        "id": "josgVH889mBf"
      }
    },
    {
      "cell_type": "code",
      "source": [
        "from typing import MutableSequence\n",
        "\n",
        "def bubble_sort2_verbose(a: MutableSequence) -> None:\n",
        "    \"\"\"버블 정렬(교환 횟수에 따른 중단)\"\"\"\n",
        "    ccnt = 0  # 비교 횟수\n",
        "    scnt = 0  # 교환 횟수\n",
        "    n = len(a)\n",
        "    for i in range(n - 1):\n",
        "        print(f\"패스 {i + 1}\")\n",
        "        exchng = 0  # 패스에서의 교환 횟수\n",
        "        for j in range(n - 1, i, -1):\n",
        "            for m in range(0, n - 1):\n",
        "                print(\n",
        "                    f\"{a[m]:2}\"\n",
        "                    + (\"  \" if m != j - 1 else \" +\" if a[j - 1] > a[j] else \" -\"),\n",
        "                    end=\"\",\n",
        "                )\n",
        "            print(f\"{a[n - 1]:2}\")\n",
        "            ccnt += 1\n",
        "            if a[j - 1] > a[j]:\n",
        "                scnt += 1\n",
        "                a[j - 1], a[j] = a[j], a[j - 1]\n",
        "                exchng += 1\n",
        "        for m in range(0, n - 1):\n",
        "            print(f\"{a[m]:2}\", end=\"  \")\n",
        "        print(f\"{a[n - 1]:2}\")\n",
        "        if exchng == 0:  # 교환이 수행되지 않았으면 작업을 중단\n",
        "            break\n",
        "    print(f\"비교를 {ccnt}번 했습니다.\")\n",
        "    print(f\"교환을 {scnt}번 했습니다.\")\n",
        "\n",
        "if __name__ == \"__main__\":\n",
        "    print(\"버블 정렬을 수행합니다\")\n",
        "    num = int(input(\"원소 수를 입력하세요.: \"))\n",
        "    x = [None] * num        # 원소 수가 num인 배열을 생성\n",
        "\n",
        "    for i in range(num):\n",
        "        x[i] = int(input(f\"x[{i}]: \"))\n",
        "\n",
        "    bubble_sort2_verbose(x)  # 배열 x를 버블 정렬\n",
        "\n",
        "    print(\"오름차순으로 정렬했습니다.\")\n",
        "    for i in range(num):\n",
        "        print(f\"x[{i}] = {x[i]}\")"
      ],
      "metadata": {
        "colab": {
          "base_uri": "https://localhost:8080/"
        },
        "id": "RmcKx42O9IQ8",
        "outputId": "810faece-951e-48e9-afb1-e22c57db611e"
      },
      "execution_count": 19,
      "outputs": [
        {
          "output_type": "stream",
          "name": "stdout",
          "text": [
            "버블 정렬을 수행합니다\n",
            "원소 수를 입력하세요.: 7\n",
            "x[0]: 6\n",
            "x[1]: 4\n",
            "x[2]: 3\n",
            "x[3]: 7\n",
            "x[4]: 1\n",
            "x[5]: 9\n",
            "x[6]: 8\n",
            "패스 1\n",
            " 6   4   3   7   1   9 + 8\n",
            " 6   4   3   7   1 - 8   9\n",
            " 6   4   3   7 + 1   8   9\n",
            " 6   4   3 + 1   7   8   9\n",
            " 6   4 + 1   3   7   8   9\n",
            " 6 + 1   4   3   7   8   9\n",
            " 1   6   4   3   7   8   9\n",
            "패스 2\n",
            " 1   6   4   3   7   8 - 9\n",
            " 1   6   4   3   7 - 8   9\n",
            " 1   6   4   3 - 7   8   9\n",
            " 1   6   4 + 3   7   8   9\n",
            " 1   6 + 3   4   7   8   9\n",
            " 1   3   6   4   7   8   9\n",
            "패스 3\n",
            " 1   3   6   4   7   8 - 9\n",
            " 1   3   6   4   7 - 8   9\n",
            " 1   3   6   4 - 7   8   9\n",
            " 1   3   6 + 4   7   8   9\n",
            " 1   3   4   6   7   8   9\n",
            "패스 4\n",
            " 1   3   4   6   7   8 - 9\n",
            " 1   3   4   6   7 - 8   9\n",
            " 1   3   4   6 - 7   8   9\n",
            " 1   3   4   6   7   8   9\n",
            "비교를 18번 했습니다.\n",
            "교환을 8번 했습니다.\n",
            "오름차순으로 정렬했습니다.\n",
            "x[0] = 1\n",
            "x[1] = 3\n",
            "x[2] = 4\n",
            "x[3] = 6\n",
            "x[4] = 7\n",
            "x[5] = 8\n",
            "x[6] = 9\n"
          ]
        }
      ]
    },
    {
      "cell_type": "markdown",
      "source": [
        "### 실습 6-4."
      ],
      "metadata": {
        "id": "bMYYuDIP97QM"
      }
    },
    {
      "cell_type": "markdown",
      "source": [
        "* 버블 정렬 알고리즘 구현하기 (알고리즘 개선 2)\n",
        "  * 하나의 패스를 마친 시점에 last의 값을 k에 대입하여 다음 수행할 패스의 스캔 범위를 a[k]로 제한"
      ],
      "metadata": {
        "id": "yJzwUuaO9gPw"
      }
    },
    {
      "cell_type": "code",
      "source": [
        "from typing import MutableSequence\n",
        "\n",
        "def bubble_sort(a: MutableSequence) -> None:\n",
        "  \"\"\"버블 정렬 (스캔 범위 제한)\"\"\"\n",
        "  n = len(a)\n",
        "  k = 0\n",
        "  while k < n - 1:\n",
        "    last = n - 1\n",
        "    for j in range(n-1, k, -1):\n",
        "      if a[j-1] > a[j]:\n",
        "        a[j-1], a[j] = a[j], a[j-1]\n",
        "        last = j\n",
        "    k = last       "
      ],
      "metadata": {
        "id": "HjLHXHrp-Al7"
      },
      "execution_count": 20,
      "outputs": []
    },
    {
      "cell_type": "markdown",
      "source": [
        "* 버블 정렬 알고리즘 구현하기 (알고리즘 개선 2 -> 과정 출력)"
      ],
      "metadata": {
        "id": "_XPr4c53B1hC"
      }
    },
    {
      "cell_type": "code",
      "source": [
        "from typing import MutableSequence\n",
        "\n",
        "def bubble_sort3_verbose(a: MutableSequence) -> None:\n",
        "    \"\"\"버블 정렬(스캔 범위를 제한)\"\"\"\n",
        "    ccnt = 0  # 비교 횟수\n",
        "    scnt = 0  # 교환 횟수\n",
        "    n = len(a)\n",
        "    k = 0\n",
        "    i = 0\n",
        "    while k < n - 1:\n",
        "        print(f'패스 {i + 1}')\n",
        "        i += 1\n",
        "        last = n - 1\n",
        "        for j in range(n - 1, k, -1):\n",
        "            for m in range(0, n - 1):\n",
        "               print(f'{a[m]:2}' + ('  ' if m != j - 1 else\n",
        "                                    ' +' if a[j - 1] > a[j] else ' -'),\n",
        "                     end='')\n",
        "            print(f'{a[n - 1]:2}')\n",
        "            ccnt += 1\n",
        "            if a[j - 1] > a[j]:\n",
        "                scnt += 1\n",
        "                a[j - 1], a[j] = a[j], a[j - 1]\n",
        "                last = j\n",
        "        k = last\n",
        "        for m in range(0, n - 1):\n",
        "           print(f'{a[m]:2}', end='  ')\n",
        "        print(f'{a[n - 1]:2}')\n",
        "    print(f'비교를 {ccnt}번 했습니다.')\n",
        "    print(f'교환을 {scnt}번 했습니다.')\n",
        "\n",
        "if __name__ == '__main__':\n",
        "    print('버블 정렬을 수행합니다')\n",
        "    num = int(input('원소 수를 입력하세요.: '))\n",
        "    x = [None] * num  # 원소 수 num인 배열을 생성\n",
        "\n",
        "    for i in range(num):\n",
        "        x[i] = int(input(f'x[{i}] : '))\n",
        "\n",
        "    bubble_sort3_verbose(x)  # 배열 x를 버블\n",
        "\n",
        "    print('오름차순으로 정렬했습니다.')\n",
        "    for i in range(num):\n",
        "        print(f'x[{i}] = {x[i]}')"
      ],
      "metadata": {
        "colab": {
          "base_uri": "https://localhost:8080/"
        },
        "id": "8Z0CpsOF-bJy",
        "outputId": "e0f5a96d-55a2-4518-a837-31379546280b"
      },
      "execution_count": 21,
      "outputs": [
        {
          "output_type": "stream",
          "name": "stdout",
          "text": [
            "버블 정렬을 수행합니다\n",
            "원소 수를 입력하세요.: 7\n",
            "x[0] : 6\n",
            "x[1] : 4\n",
            "x[2] : 3\n",
            "x[3] : 7\n",
            "x[4] : 1\n",
            "x[5] : 9\n",
            "x[6] : 8\n",
            "패스 1\n",
            " 6   4   3   7   1   9 + 8\n",
            " 6   4   3   7   1 - 8   9\n",
            " 6   4   3   7 + 1   8   9\n",
            " 6   4   3 + 1   7   8   9\n",
            " 6   4 + 1   3   7   8   9\n",
            " 6 + 1   4   3   7   8   9\n",
            " 1   6   4   3   7   8   9\n",
            "패스 2\n",
            " 1   6   4   3   7   8 - 9\n",
            " 1   6   4   3   7 - 8   9\n",
            " 1   6   4   3 - 7   8   9\n",
            " 1   6   4 + 3   7   8   9\n",
            " 1   6 + 3   4   7   8   9\n",
            " 1   3   6   4   7   8   9\n",
            "패스 3\n",
            " 1   3   6   4   7   8 - 9\n",
            " 1   3   6   4   7 - 8   9\n",
            " 1   3   6   4 - 7   8   9\n",
            " 1   3   6 + 4   7   8   9\n",
            " 1   3   4   6   7   8   9\n",
            "패스 4\n",
            " 1   3   4   6   7   8 - 9\n",
            " 1   3   4   6   7 - 8   9\n",
            " 1   3   4   6 - 7   8   9\n",
            " 1   3   4   6   7   8   9\n",
            "비교를 18번 했습니다.\n",
            "교환을 8번 했습니다.\n",
            "오름차순으로 정렬했습니다.\n",
            "x[0] = 1\n",
            "x[1] = 3\n",
            "x[2] = 4\n",
            "x[3] = 6\n",
            "x[4] = 7\n",
            "x[5] = 8\n",
            "x[6] = 9\n"
          ]
        }
      ]
    },
    {
      "cell_type": "markdown",
      "source": [
        "## 셰이커 정렬 알아보기"
      ],
      "metadata": {
        "id": "LP5Hx09KCEU-"
      }
    },
    {
      "cell_type": "markdown",
      "source": [
        "* 정렬이 거의 완료된 배열을 버블 정렬 프로그램으로 실행할 경우 정렬 작업이 빠르게 완료되지 않음\n",
        "* 가장 큰 원소인 9가 한 패스에 하나씩 뒤로 이동하기 때문임"
      ],
      "metadata": {
        "id": "fvVo0kBjCSLV"
      }
    },
    {
      "cell_type": "code",
      "source": [
        "a = [9, 1, 3, 4, 6, 7, 8]\n",
        "a"
      ],
      "metadata": {
        "colab": {
          "base_uri": "https://localhost:8080/"
        },
        "id": "yuyl0f-JB28V",
        "outputId": "9aebd108-4822-498b-f604-92f23ccd6975"
      },
      "execution_count": 22,
      "outputs": [
        {
          "output_type": "execute_result",
          "data": {
            "text/plain": [
              "[9, 1, 3, 4, 6, 7, 8]"
            ]
          },
          "metadata": {},
          "execution_count": 22
        }
      ]
    },
    {
      "cell_type": "code",
      "source": [
        "if __name__ == '__main__':\n",
        "    print('버블 정렬을 수행합니다')\n",
        "    num = int(input('원소 수를 입력하세요.: '))\n",
        "    x = [None] * num  # 원소 수 num인 배열을 생성\n",
        "\n",
        "    for i in range(num):\n",
        "        x[i] = int(input(f'x[{i}] : '))\n",
        "\n",
        "    bubble_sort3_verbose(x)  # 배열 x를 버블\n",
        "\n",
        "    print('오름차순으로 정렬했습니다.')\n",
        "    for i in range(num):\n",
        "        print(f'x[{i}] = {x[i]}')"
      ],
      "metadata": {
        "colab": {
          "base_uri": "https://localhost:8080/"
        },
        "id": "fXfMxxmlCcJX",
        "outputId": "f593a781-81fc-49ff-85d1-82ee8571293a"
      },
      "execution_count": 23,
      "outputs": [
        {
          "output_type": "stream",
          "name": "stdout",
          "text": [
            "버블 정렬을 수행합니다\n",
            "원소 수를 입력하세요.: 7\n",
            "x[0] : 9\n",
            "x[1] : 1\n",
            "x[2] : 3\n",
            "x[3] : 4\n",
            "x[4] : 6\n",
            "x[5] : 7\n",
            "x[6] : 8\n",
            "패스 1\n",
            " 9   1   3   4   6   7 - 8\n",
            " 9   1   3   4   6 - 7   8\n",
            " 9   1   3   4 - 6   7   8\n",
            " 9   1   3 - 4   6   7   8\n",
            " 9   1 - 3   4   6   7   8\n",
            " 9 + 1   3   4   6   7   8\n",
            " 1   9   3   4   6   7   8\n",
            "패스 2\n",
            " 1   9   3   4   6   7 - 8\n",
            " 1   9   3   4   6 - 7   8\n",
            " 1   9   3   4 - 6   7   8\n",
            " 1   9   3 - 4   6   7   8\n",
            " 1   9 + 3   4   6   7   8\n",
            " 1   3   9   4   6   7   8\n",
            "패스 3\n",
            " 1   3   9   4   6   7 - 8\n",
            " 1   3   9   4   6 - 7   8\n",
            " 1   3   9   4 - 6   7   8\n",
            " 1   3   9 + 4   6   7   8\n",
            " 1   3   4   9   6   7   8\n",
            "패스 4\n",
            " 1   3   4   9   6   7 - 8\n",
            " 1   3   4   9   6 - 7   8\n",
            " 1   3   4   9 + 6   7   8\n",
            " 1   3   4   6   9   7   8\n",
            "패스 5\n",
            " 1   3   4   6   9   7 - 8\n",
            " 1   3   4   6   9 + 7   8\n",
            " 1   3   4   6   7   9   8\n",
            "패스 6\n",
            " 1   3   4   6   7   9 + 8\n",
            " 1   3   4   6   7   8   9\n",
            "비교를 21번 했습니다.\n",
            "교환을 6번 했습니다.\n",
            "오름차순으로 정렬했습니다.\n",
            "x[0] = 1\n",
            "x[1] = 3\n",
            "x[2] = 4\n",
            "x[3] = 6\n",
            "x[4] = 7\n",
            "x[5] = 8\n",
            "x[6] = 9\n"
          ]
        }
      ]
    },
    {
      "cell_type": "markdown",
      "source": [
        "### 실습 6-5."
      ],
      "metadata": {
        "id": "QO6RqnGmCxZQ"
      }
    },
    {
      "cell_type": "markdown",
      "source": [
        "* 셰이커 정렬 알고리즘 구현하기\n",
        "  * 홀수 패스 -- 가장 작은 원소를 맨 앞으로 이동\n",
        "  * 짝수 패스 -- 가장 큰 원소를 맨 뒤로 이동"
      ],
      "metadata": {
        "id": "IbcG_LUuCpt_"
      }
    },
    {
      "cell_type": "code",
      "source": [
        "from typing import MutableSequence\n",
        "\n",
        "def shaker_sort(a: MutableSequence) -> None:\n",
        "  \"\"\"셰이커 정렬\"\"\"\n",
        "  left = 0\n",
        "  right = len(a) - 1\n",
        "  last = right\n",
        "  while left < right:\n",
        "    for j in range(right, left, -1):\n",
        "      if a[j-1] > a[j]:\n",
        "        a[j-1], a[j] = a[j], a[j-1]\n",
        "        last = j\n",
        "    left = last\n",
        "    for j in range(left, right):\n",
        "      if a[j] > a[j+1]:\n",
        "        a[j], a[j+1] = a[j+1], a[j]\n",
        "        last = j\n",
        "    right = last"
      ],
      "metadata": {
        "id": "-1bAfDHGC0i8"
      },
      "execution_count": 24,
      "outputs": []
    },
    {
      "cell_type": "markdown",
      "source": [
        "* 셰이커 정렬 알고리즘 구현하기 (과정 출력)"
      ],
      "metadata": {
        "id": "A6Rvo6CMD2gC"
      }
    },
    {
      "cell_type": "code",
      "source": [
        "from typing import MutableSequence\n",
        "\n",
        "def shaker_sort_verbose(a: MutableSequence) -> None:\n",
        "    \"\"\"\"셰이커 정렬(정렬 과정을 출력)\"\"\"\n",
        "    ccnt = 0  # 비교 횟수\n",
        "    scnt = 0  # 교환 횟수\n",
        "    left = 0\n",
        "    n = len(a)\n",
        "    right = len(a) - 1\n",
        "    last = right\n",
        "    i = 0\n",
        "    while left < right:\n",
        "        print(f'패스{i + 1}')\n",
        "        i += 1\n",
        "        for j in range(right, left, -1):\n",
        "            for m in range(0, n - 1):\n",
        "               print(f'{a[m]:2}' + ('  ' if m != j - 1 else\n",
        "                                    ' +' if a[j - 1] > a[j] else ' -'),\n",
        "                     end='')\n",
        "            print(f'{a[n - 1]:2}')\n",
        "            ccnt += 1\n",
        "            if a[j - 1] > a[j]:\n",
        "                scnt += 1\n",
        "                a[j - 1], a[j] = a[j], a[j - 1]\n",
        "                last = j\n",
        "        left = last\n",
        "        for m in range(0, n - 1):\n",
        "           print(f'{a[m]:2}', end='  ')\n",
        "        print(f'{a[n - 1]:2}')\n",
        "\n",
        "        if (left == right):\n",
        "             break\n",
        "        print(f'패스 {i + 1}')\n",
        "        i += 1\n",
        "        for j in range(left, right):\n",
        "            for m in range(0, n - 1):\n",
        "               print(f'{a[m]:2}' + ('  ' if m != j else\n",
        "                                    ' +' if a[j] > a[j + 1] else ' -'),\n",
        "                     end='')\n",
        "            print(f'{a[n - 1]:2}')\n",
        "            ccnt += 1\n",
        "            if a[j] > a[j + 1]:\n",
        "                scnt += 1\n",
        "                a[j], a[j + 1] = a[j + 1], a[j]\n",
        "                last = j\n",
        "        right = last\n",
        "        for m in range(0, n - 1):\n",
        "           print(f'{a[m]:2}', end='  ')\n",
        "        print(f'{a[n - 1]:2}')\n",
        "    print(f'비교를 {ccnt}번 했습니다.')\n",
        "    print(f'교환을 {scnt}번 했습니다.')\n",
        "\n",
        "if __name__ == '__main__':\n",
        "    print('셰이커 정렬을 수행합니다.')\n",
        "    num = int(input('원소 수를 입력하세요.: '))\n",
        "    x = [None] * num  # 원소 수 num인 배열을 생성\n",
        "\n",
        "    for i in range(num):\n",
        "        x[i] = int(input(f'x[{i}] : '))\n",
        "\n",
        "    shaker_sort_verbose(x)  # 배열 x를 단순 교환 정렬\n",
        "\n",
        "    print('오름차순으로 정렬했습니다.')\n",
        "    for i in range(num):\n",
        "        print(f'x[{i}] = {x[i]}')"
      ],
      "metadata": {
        "colab": {
          "base_uri": "https://localhost:8080/"
        },
        "id": "1yNMZNK_Dabl",
        "outputId": "a1b15fd2-74a9-4713-ed59-88ce4db73db1"
      },
      "execution_count": 27,
      "outputs": [
        {
          "output_type": "stream",
          "name": "stdout",
          "text": [
            "셰이커 정렬을 수행합니다.\n",
            "원소 수를 입력하세요.: 7\n",
            "x[0] : 9\n",
            "x[1] : 1\n",
            "x[2] : 3\n",
            "x[3] : 4\n",
            "x[4] : 6\n",
            "x[5] : 7\n",
            "x[6] : 8\n",
            "패스1\n",
            " 9   1   3   4   6   7 - 8\n",
            " 9   1   3   4   6 - 7   8\n",
            " 9   1   3   4 - 6   7   8\n",
            " 9   1   3 - 4   6   7   8\n",
            " 9   1 - 3   4   6   7   8\n",
            " 9 + 1   3   4   6   7   8\n",
            " 1   9   3   4   6   7   8\n",
            "패스 2\n",
            " 1   9 + 3   4   6   7   8\n",
            " 1   3   9 + 4   6   7   8\n",
            " 1   3   4   9 + 6   7   8\n",
            " 1   3   4   6   9 + 7   8\n",
            " 1   3   4   6   7   9 + 8\n",
            " 1   3   4   6   7   8   9\n",
            "패스3\n",
            " 1   3   4   6   7 - 8   9\n",
            " 1   3   4   6 - 7   8   9\n",
            " 1   3   4 - 6   7   8   9\n",
            " 1   3 - 4   6   7   8   9\n",
            " 1   3   4   6   7   8   9\n",
            "비교를 15번 했습니다.\n",
            "교환을 6번 했습니다.\n",
            "오름차순으로 정렬했습니다.\n",
            "x[0] = 1\n",
            "x[1] = 3\n",
            "x[2] = 4\n",
            "x[3] = 6\n",
            "x[4] = 7\n",
            "x[5] = 8\n",
            "x[6] = 9\n"
          ]
        }
      ]
    }
  ]
}