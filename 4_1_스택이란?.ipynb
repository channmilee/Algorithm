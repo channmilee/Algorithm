{
  "nbformat": 4,
  "nbformat_minor": 0,
  "metadata": {
    "colab": {
      "provenance": [],
      "toc_visible": true,
      "authorship_tag": "ABX9TyMiqPhiGZYUM0pTYojm4YL3",
      "include_colab_link": true
    },
    "kernelspec": {
      "name": "python3",
      "display_name": "Python 3"
    },
    "language_info": {
      "name": "python"
    }
  },
  "cells": [
    {
      "cell_type": "markdown",
      "metadata": {
        "id": "view-in-github",
        "colab_type": "text"
      },
      "source": [
        "<a href=\"https://colab.research.google.com/github/channmilee/Algorithm/blob/master/4_1_%EC%8A%A4%ED%83%9D%EC%9D%B4%EB%9E%80%3F.ipynb\" target=\"_parent\"><img src=\"https://colab.research.google.com/assets/colab-badge.svg\" alt=\"Open In Colab\"/></a>"
      ]
    },
    {
      "cell_type": "markdown",
      "source": [
        "## 스택 알아보기"
      ],
      "metadata": {
        "id": "NoYJgc4JlhzO"
      }
    },
    {
      "cell_type": "markdown",
      "source": [
        "* 스택(stack) \n",
        "  * 데이터를 임시 저장할 때 사용하는 자료 구조\n",
        "  * 데이터의 입력과 출력 순서는 선입선출 (LIFO) 방식\n",
        "  * 푸시 (push) : 데이터를 넣는 작업\n",
        "  * 팝 (pop) : 데이터를 꺼내는 작업\n",
        "  * 꼭대기 (top) & 바닥 (bottom)"
      ],
      "metadata": {
        "id": "uhxGid4gldG5"
      }
    },
    {
      "cell_type": "markdown",
      "source": [
        "## 스택 구현하기"
      ],
      "metadata": {
        "id": "rBCRUA7FpV4S"
      }
    },
    {
      "cell_type": "markdown",
      "source": [
        "* `스택 배열 : stk` -- 푸시한 데이터를 저장하는 스택 본체인 list. \n",
        "  * 가장 먼저 푸시하여 데이터를 저장하는 곳은 stk[0]\n",
        "* `스택 크기 : capacity` -- 스택의 최대 크기를 나타내는 int형 정수 = len(stk)\n",
        "* `스택 포인터 : ptr` -- 스택에 쌓여 있는 데이터 개수를 나타내는 정수값\n",
        "  * 스택이 비어있으면 **ptr = 0**\n",
        "  * 스택이 가득 차 있으면 **ptr = capacity**\n",
        "  * 가장 마지막에 푸시한 **데이터 stk[ptr-1]**"
      ],
      "metadata": {
        "id": "ufQz0jZspVRg"
      }
    },
    {
      "cell_type": "markdown",
      "source": [
        "### 실습 4-1."
      ],
      "metadata": {
        "id": "o3EnMa3RptX2"
      }
    },
    {
      "cell_type": "markdown",
      "source": [
        "* 고정 길이 스택 클래스 FixedStack 구현하기"
      ],
      "metadata": {
        "id": "1MnTlrdAqky0"
      }
    },
    {
      "cell_type": "markdown",
      "source": [
        "**-- 예외 처리 클래스 `Empty`**\n",
        "* pop() 함수 또는 peek() 함수를 호출할 때 스택이 비어 있으면 내보내는 예외처리\n",
        "\n",
        "**-- 예외 처리 클래스 `Full`**\n",
        "* push() 함수를 호출할 때 스택이 가득 차 있으면 내보내는 예외처리\n",
        "\n",
        "**-- 초기화하는 `__init__() 함수`**\n",
        "* 스택 배열을 생성하는 등의 준비 작업 수행\n",
        "* 원소 수가 capacity이고 모든 원소가 None인 리스트형 stk 생성\n",
        "* 이때 스택이 비어 있으므로 스팩 포인터 ptr 값은 0\n",
        "\n",
        "**-- 쌓여 있는 데이터 개수를 알아내는 `__len__() 함수`**\n",
        "* 스택 포인터 ptr = len(stk)\n",
        "\n",
        "**-- 스택이 비어 있는지를 판단하는 `is_empty() 함수`**\n",
        "* 스택이 비어있으면 True, 그렇지 않으면 False\n",
        "\n",
        "**-- 스택이 가득 차 있는지를 판단하는 `is_full() 함수`**\n",
        "* 스택이 가득 차 있으면 True, 그렇지 않으면 False\n",
        "\n",
        "**-- 데이터 푸시하는 `push() 함수`**\n",
        "* 스택이 가득 찬 경우 : FixedStack.Full을 통하여 예외 처리\n",
        "* 스택이 가득 차 있지 않은 경우 : 전달 받은 value를 배열 원소 stk[ptr]에 저장하고 스택 포인터 ptr을 1 증가\n",
        "\n",
        "**-- 데이터 팝하는 `pop() 함수`**\n",
        "* 스택이 비어 있는 경우 : FixedStack.Empty를 통하여 예외 처리\n",
        "* 스택이 비어 있지 않은 경우 : 스택 포인터 ptr으 값을 1로 감소 시키고 stk[ptr]에 저장된 값 반환\n",
        "\n",
        "**-- 데이터를 들여다보는 `peek() 함수`**\n",
        "* 스택이 비어 있는 경우 : FixedStack.Empty를 통하여 예외 처리\n",
        "* 스택이 비어 있지 않은 경우 : 꼭대기 원소 stk[ptr - 1] 반환\n",
        "* 데이터 입출력이 없으므로 ptr 값은 변화하지 않음\n",
        "\n",
        "**-- 스택의 모든 데이터 삭제 `clear() 함수`**\n",
        "* 스택 포인터 ptr의 값을 0으로 변경\n",
        "\n",
        "**-- 데이터 검색 `find() 함수`**\n",
        "* 먼저 pop 할 데이터를 찾기 위해 꼭대기부터 바닥으로 데이터를 찾음\n",
        "\n",
        "**-- 데이터 개수를 세는 `count() 함수`**\n",
        "* 스택에 쌓여 있는 데이터 개수를 구하여 반환\n",
        "\n",
        "**-- 데이터가 포함되어 있는지 판단하는 `__contains__() 함수`**\n",
        "* 데이터가 있으면 True, 없으면 False\n",
        "\n",
        "**-- 스택의 모든 데이터 출력 `dump() 함수`**\n",
        "* 스택에 쌓여있는 ptr개의 데이터를 바닥부터 꼭대기까지 출력"
      ],
      "metadata": {
        "id": "PFJgcChfSQRR"
      }
    },
    {
      "cell_type": "code",
      "source": [
        "from typing import Any\n",
        "\n",
        "class FixedStack:\n",
        "  \"\"\"고정 길이 스택 클래스\"\"\"\n",
        "\n",
        "  class Empty(Exception):\n",
        "    \"\"\"비어 있는 FixedStack에 팝 또는 피크할 때 내보내는 예외 처리\"\"\"\n",
        "    pass\n",
        "  \n",
        "  class Full(Exception):\n",
        "    \"\"\"가득 찬 FixedStack에 푸시할 때 내보내는 예외 처리\"\"\"\n",
        "    pass\n",
        "  \n",
        "  def __init__(self, capacity: int = 256) -> None:\n",
        "    \"\"\"스택 초기화\"\"\"\n",
        "    self.stk = [None] * capacity   # 스택 본체\n",
        "    self.capacity = capacity       # 스택의 크기\n",
        "    self.ptr = 0                   # 스택 포인터\n",
        "\n",
        "  def __len__(self) -> int:\n",
        "    \"\"\"스택에 쌓여 있는 데이터 개수를 반환\"\"\"\n",
        "    return self.ptr\n",
        "  \n",
        "  def is_empty(self) -> int:\n",
        "    \"\"\"스택이 비어 있는지 판단\"\"\"\n",
        "    return self.ptr <= 0\n",
        "  \n",
        "  def is_full(self) -> bool:\n",
        "    \"\"\"스택이 가득 차 있는지 판단\"\"\"\n",
        "    return self.ptr >= self.capacity\n",
        "  \n",
        "  def push(self, value: Any) -> None:\n",
        "    \"\"\"스택에 value를 푸시(데이터를 넣음)\"\"\"\n",
        "    if self.is_full():           # 스택이 가득 차 있는 경우\n",
        "      raise FixedStack.Full      # 예외 처리 발생\n",
        "    self.stk[self.ptr] = value\n",
        "    self.ptr += 1\n",
        "  \n",
        "  def pop(self) -> Any:\n",
        "    \"\"\"스택에서 데이터를 팝(꼭대기 데이터를 꺼냄)\"\"\"\n",
        "    if self.is_empty():          # 스택이 비어 있는 경우\n",
        "      raise FixedStack.Empty     # 예외 처리 발생\n",
        "    self.ptr -= 1\n",
        "    return self.stk[self.ptr]\n",
        "  \n",
        "  def peek(self) -> Any:\n",
        "    \"\"\"스택에서 데이터를 피크(꼭대기 데이터를 들여다봄)\"\"\"\n",
        "    if self.is_empty():          # 스택이 비어 있는 경우\n",
        "      raise FixedStack.Empty     # 예외 처리 발생\n",
        "    return self.stk[self.ptr - 1]\n",
        "  \n",
        "  def clear(self) -> None:\n",
        "    \"\"\"스택을 비움(모든 데이터를 삭제)\"\"\"\n",
        "    self.ptr = 0\n",
        "\n",
        "  def find(self, value: Any) -> Any:\n",
        "    \"\"\"스택에서 value를 찾아 인덱스를 반환(없으면 -1 반환)\"\"\"\n",
        "    for i in range(self.ptr -1, -1, -1):       # 꼭대기에서 선형 검색\n",
        "      if self.stk[i] == value:\n",
        "        return i                  # 검색 성공\n",
        "    return -1                     # 검색 실패\n",
        "  \n",
        "  def count(self, value: Any) -> Any:\n",
        "    \"\"\"스택에 있는 value의 개수 반환\"\"\"\n",
        "    c = 0\n",
        "    for i in range(self.ptr):                  # 바닥 쪽부터 선형 검색\n",
        "      if self.stk[i] == value:\n",
        "        c += 1\n",
        "    return c\n",
        "  \n",
        "  def __contains__(self, value: Any) -> bool:\n",
        "    \"\"\"스택에 value가 있는지 판단\"\"\"\n",
        "    return self.count(value)\n",
        "  \n",
        "  def dump(self) -> None:\n",
        "    \"\"\"덤프(스택 안의 모든 데이터를 바닥부터 꼭대기 순으로 출력)\"\"\"\n",
        "    if self.is_empty():            # 스택이 비어 있음\n",
        "      print('스택이 비어 있습니다.')\n",
        "    else:\n",
        "      print(self.stk[:self.ptr])\n"
      ],
      "metadata": {
        "id": "tK5h2LCcqoDe"
      },
      "execution_count": 4,
      "outputs": []
    },
    {
      "cell_type": "markdown",
      "source": [
        "* is_empty, is_full 함수는 다음과 같이 정의할 수 있음\n",
        "  * 하지만 프로그램 오류 등으로 ptr 값이 0보다 작아지거나 capacity보다 커질 가능성이 있기 때문에 비추천"
      ],
      "metadata": {
        "id": "MRGBvTmXTvZ1"
      }
    },
    {
      "cell_type": "markdown",
      "source": [
        "\n",
        "\n",
        "```\n",
        "def is_empty(self) -> int:\n",
        "  \"\"\"스택이 비어 있는지 판단\"\"\"\n",
        "  return self.ptr == 0\n",
        "\n",
        "def is_full(self) -> bool:\n",
        "  \"\"\"스택이 가득 차 있는지 판단\"\"\"\n",
        "  return self.ptr == self.capacity\n",
        "```\n",
        "\n"
      ],
      "metadata": {
        "id": "q8FcoTkGSMK3"
      }
    },
    {
      "cell_type": "markdown",
      "source": [
        "* `__len__()`\n",
        "  * 클래스형의 인스턴스를 `__len__()` 함수에 전달\n",
        "  * 클래스형의 인스턴스 obj에 대한 `__len__()` 함수 호출하는 `obj.__len__()`를 `len(obj)`로 작성 가능\n",
        "* `__contains__()`\n",
        "  * 클래스형의 인스턴스에 멤버십 판단 연산자인 in 사용 가능\n",
        "  * 클래스형의 인스턴스 obj에 대한 `__contains__()` 함수 호출하는 `obj.__contains__()`를 `x in obj`로 작성 가능"
      ],
      "metadata": {
        "id": "Q6RNphZNahMo"
      }
    },
    {
      "cell_type": "markdown",
      "source": [
        "## 스택 프로그램 만들기"
      ],
      "metadata": {
        "id": "Is03PRxGcG7z"
      }
    },
    {
      "cell_type": "markdown",
      "source": [
        "### 실습 4-2."
      ],
      "metadata": {
        "id": "F_YzaoDibxFJ"
      }
    },
    {
      "cell_type": "markdown",
      "source": [
        "* 고정 길이 스택 클래스 (FixedStack) 사용하기"
      ],
      "metadata": {
        "id": "rR5LKJVjcL2Z"
      }
    },
    {
      "cell_type": "code",
      "source": [
        "from google.colab import drive\n",
        "drive.mount('/content/drive')"
      ],
      "metadata": {
        "colab": {
          "base_uri": "https://localhost:8080/"
        },
        "id": "Y91ElvVQdcXa",
        "outputId": "2515b65f-ecad-4f04-9ee8-82d6efd2ff5f"
      },
      "execution_count": 10,
      "outputs": [
        {
          "output_type": "stream",
          "name": "stdout",
          "text": [
            "Mounted at /content/drive\n"
          ]
        }
      ]
    },
    {
      "cell_type": "code",
      "source": [
        "cd '/content/drive/MyDrive/Colab Notebooks/study/자료구조 알고리즘/[예제소스]/chap04'"
      ],
      "metadata": {
        "colab": {
          "base_uri": "https://localhost:8080/"
        },
        "id": "Tt2w09I9du4Z",
        "outputId": "5f8cae96-a7ac-4583-ae2a-21c4ce1604db"
      },
      "execution_count": 11,
      "outputs": [
        {
          "output_type": "stream",
          "name": "stdout",
          "text": [
            "/content/drive/MyDrive/Colab Notebooks/study/자료구조 알고리즘/[예제소스]/chap04\n"
          ]
        }
      ]
    },
    {
      "cell_type": "code",
      "source": [
        "from enum import Enum\n",
        "from fixed_stack import FixedStack\n",
        "\n",
        "Menu = Enum('Menu', ['푸시','팝','피크','검색','덤프','종료'])\n",
        "\n",
        "def select_menu() -> Menu:\n",
        "  \"\"\"메뉴 선택\"\"\"\n",
        "  s = [f'({m.value}){m.name}' for m in Menu]\n",
        "  while True:\n",
        "    print(*s, sep = '   ', end = '')\n",
        "    n = int(input(':  '))\n",
        "    if 1 <= n <= len(Menu):\n",
        "      return Menu(n)\n",
        "\n",
        "s = FixedStack(64)           # 최대 64개를 푸시할 수 있는 스택\n",
        "\n",
        "while True:\n",
        "  print(f'현재 데이터 개수 : {len(s)} / {s.capacity}')\n",
        "  menu = select_menu()      # 메뉴 선택\n",
        "  \n",
        "  ### 푸시 ###\n",
        "  if menu == Menu.푸시:\n",
        "    x = int(input('푸시할 데이터를 입력하세요 : '))\n",
        "    try:\n",
        "      s.push(x)\n",
        "    except FixedStack.Full:\n",
        "      print('스택이 가득 차 있습니다.')\n",
        "  \n",
        "  ### 팝 ###\n",
        "  elif menu == Menu.팝:\n",
        "    try:\n",
        "      x = s.pop()\n",
        "      print(f'팝 한 데이터는 {x} 입니다.')\n",
        "    except FixedStack.Empty:\n",
        "      print('스택이 비어 있습니다.')\n",
        "  \n",
        "  ### 피크 ###\n",
        "  elif menu == Menu.피크:\n",
        "    try:\n",
        "      x = s.peek()\n",
        "      print(f'피크한 데이터는 {x}입니다.')\n",
        "    except FixedStack.Empty:\n",
        "      print('스택이 비어 있습니다.')\n",
        "  \n",
        "  ### 검색 ###\n",
        "  elif menu == Menu.검색:\n",
        "    x = int(input(\"검색할 값을 입력하세요 : \"))\n",
        "    if x in s:\n",
        "      print(f'{s.count(x)}개 포함되고 맨 앞의 위치는 {s.find(x)}입니다.')\n",
        "    else:\n",
        "      print('검색 값을 찾을 수 없습니다.')\n",
        "  \n",
        "  ### 덤프 ###\n",
        "  elif menu == Menu.덤프:\n",
        "    s.dump()\n",
        "  \n",
        "  else:\n",
        "    break"
      ],
      "metadata": {
        "colab": {
          "base_uri": "https://localhost:8080/"
        },
        "id": "R2SzrsqncPnR",
        "outputId": "aeca96ab-7bac-4ef5-c141-22fba3bd05cb"
      },
      "execution_count": 12,
      "outputs": [
        {
          "name": "stdout",
          "output_type": "stream",
          "text": [
            "현재 데이터 개수 : 0 / 64\n",
            "(1)푸시   (2)팝   (3)피크   (4)검색   (5)덤프   (6)종료:  1\n",
            "푸시할 데이터를 입력하세요 : 1\n",
            "현재 데이터 개수 : 1 / 64\n",
            "(1)푸시   (2)팝   (3)피크   (4)검색   (5)덤프   (6)종료:  1\n",
            "푸시할 데이터를 입력하세요 : 2\n",
            "현재 데이터 개수 : 2 / 64\n",
            "(1)푸시   (2)팝   (3)피크   (4)검색   (5)덤프   (6)종료:  1\n",
            "푸시할 데이터를 입력하세요 : 3\n",
            "현재 데이터 개수 : 3 / 64\n",
            "(1)푸시   (2)팝   (3)피크   (4)검색   (5)덤프   (6)종료:  1\n",
            "푸시할 데이터를 입력하세요 : 1\n",
            "현재 데이터 개수 : 4 / 64\n",
            "(1)푸시   (2)팝   (3)피크   (4)검색   (5)덤프   (6)종료:  1\n",
            "푸시할 데이터를 입력하세요 : 5\n",
            "현재 데이터 개수 : 5 / 64\n",
            "(1)푸시   (2)팝   (3)피크   (4)검색   (5)덤프   (6)종료:  4\n",
            "검색할 값을 입력하세요 : 1\n",
            "2개 포함되고 맨 앞의 위치는 3입니다.\n",
            "현재 데이터 개수 : 5 / 64\n",
            "(1)푸시   (2)팝   (3)피크   (4)검색   (5)덤프   (6)종료:  3\n",
            "피크한 데이터는 5입니다.\n",
            "현재 데이터 개수 : 5 / 64\n",
            "(1)푸시   (2)팝   (3)피크   (4)검색   (5)덤프   (6)종료:  2\n",
            "팝 한 데이터는 5 입니다.\n",
            "현재 데이터 개수 : 4 / 64\n",
            "(1)푸시   (2)팝   (3)피크   (4)검색   (5)덤프   (6)종료:  2\n",
            "팝 한 데이터는 1 입니다.\n",
            "현재 데이터 개수 : 3 / 64\n",
            "(1)푸시   (2)팝   (3)피크   (4)검색   (5)덤프   (6)종료:  5\n",
            "[1, 2, 3]\n",
            "현재 데이터 개수 : 3 / 64\n",
            "(1)푸시   (2)팝   (3)피크   (4)검색   (5)덤프   (6)종료:  6\n"
          ]
        }
      ]
    },
    {
      "cell_type": "markdown",
      "source": [
        "### collection.deque 사용하여 스택 구현"
      ],
      "metadata": {
        "id": "zweKdG7mhK1u"
      }
    },
    {
      "cell_type": "markdown",
      "source": [
        "#### 실습 4C-1"
      ],
      "metadata": {
        "id": "dbD8XW5AhRZB"
      }
    },
    {
      "cell_type": "markdown",
      "source": [
        "* collection.deque 같은 표준 라이브러리를 사용하면 빠른 동작을 기대할 수 있고 프로그램이 간단하다는 점에서 FixedStack보다 우수"
      ],
      "metadata": {
        "id": "nuC3DCT_hjep"
      }
    },
    {
      "cell_type": "code",
      "source": [
        "from typing import Any\n",
        "from collections import deque\n",
        "\n",
        "class Stack:\n",
        "    \"\"\"고정 길이 스택 클래스(collections.deque를 사용)\"\"\"\n",
        "\n",
        "    def __init__(self, maxlen: int = 256) -> None:\n",
        "        \"\"\"초기화 선언\"\"\"\n",
        "        self.capacity = maxlen\n",
        "        self.__stk = deque([], maxlen)\n",
        "\n",
        "    def __len__(self) -> int:\n",
        "        \"\"\"스택에 쌓여있는 데이터 개수를 반환\"\"\"\n",
        "        return len(self.__stk)\n",
        "\n",
        "    def is_empty(self) -> bool:\n",
        "        \"\"\"스택이 비어 있는지 판단\"\"\"\n",
        "        return not self.__stk\n",
        "\n",
        "    def is_full(self) -> bool:\n",
        "        \"\"\"스택이 가득 찼는지 판단\"\"\"\n",
        "        return len(self.__stk) == self.__stk.maxlen\n",
        "\n",
        "    def push(self, value: Any) -> None:\n",
        "        \"\"\"스택에 value를 푸시\"\"\"\n",
        "        self.__stk.append(value)\n",
        "\n",
        "    def pop(self) -> Any:\n",
        "        \"\"\"스택에서 데이터를 팝\"\"\"\n",
        "        return self.__stk.pop()\n",
        "\n",
        "    def peek(self) -> Any:\n",
        "        \"\"\"스택에서 데이터를 피크\"\"\"\n",
        "        return self.__stk[-1]\n",
        "\n",
        "    def clear(self) -> None:\n",
        "        \"\"\"스택을 비웁니다\"\"\"\n",
        "        self.__stk.clear()\n",
        "\n",
        "    def find(self, value: Any) -> Any:\n",
        "        \"\"\"스택에서 value를 찾아 인덱스(없으면 -1)를 반환\"\"\"\n",
        "        try:\n",
        "            return self.__stk.index(value)\n",
        "        except ValueError:\n",
        "            return -1\n",
        "\n",
        "    def count(self, value: Any) -> int:\n",
        "        \"\"\"스택에 포함된 value의 개수를 반환\"\"\"\n",
        "        return self.__stk.count(value)\n",
        "\n",
        "    def __contains__(self, value: Any) -> bool:\n",
        "        \"\"\"스택에 value가 포함되어 있는지 판단\"\"\"\n",
        "        return self.count(value)\n",
        "\n",
        "    def dump(self) -> int:\n",
        "        \"\"\"스택 안에 있는 모든 데이터를 나열\"\"\"\n",
        "        print(list(self.__stk))"
      ],
      "metadata": {
        "id": "PeaCYwsUf3Vr"
      },
      "execution_count": 13,
      "outputs": []
    }
  ]
}