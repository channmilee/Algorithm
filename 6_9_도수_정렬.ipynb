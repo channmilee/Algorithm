{
  "nbformat": 4,
  "nbformat_minor": 0,
  "metadata": {
    "colab": {
      "provenance": [],
      "authorship_tag": "ABX9TyMBN0dbUPkkAxaPYYxHMFBA",
      "include_colab_link": true
    },
    "kernelspec": {
      "name": "python3",
      "display_name": "Python 3"
    },
    "language_info": {
      "name": "python"
    }
  },
  "cells": [
    {
      "cell_type": "markdown",
      "metadata": {
        "id": "view-in-github",
        "colab_type": "text"
      },
      "source": [
        "<a href=\"https://colab.research.google.com/github/channmilee/Algorithm/blob/master/6_9_%EB%8F%84%EC%88%98_%EC%A0%95%EB%A0%AC.ipynb\" target=\"_parent\"><img src=\"https://colab.research.google.com/assets/colab-badge.svg\" alt=\"Open In Colab\"/></a>"
      ]
    },
    {
      "cell_type": "markdown",
      "source": [
        "## 도수 정렬 알아보기"
      ],
      "metadata": {
        "id": "Ikb5BIAsT9jB"
      }
    },
    {
      "cell_type": "markdown",
      "source": [
        "* **도수 정렬**\n",
        "  * 원소의 대소 관계를 판단하지 않고 빠르게 정렬하는 알고리즘\n",
        "  * 분포수 세기 정렬"
      ],
      "metadata": {
        "id": "n9_NQM_NT3qa"
      }
    },
    {
      "cell_type": "markdown",
      "source": [
        "### 실습 6-17"
      ],
      "metadata": {
        "id": "Gr-YrxD1VJNU"
      }
    },
    {
      "cell_type": "markdown",
      "source": [
        "* 도수 정렬 알고리즘 구현"
      ],
      "metadata": {
        "id": "xLmmk2S2VI6z"
      }
    },
    {
      "cell_type": "code",
      "source": [
        "from typing import MutableSequence\n",
        "\n",
        "def fsort(a:MutableSequence, max: int) -> None:\n",
        "  \"\"\"도수 정렬(배열 원솟값은 0 이상 max 이하)\"\"\"\n",
        "  n = len(a)\n",
        "  f = [0] * (max + 1)            # 누적 도수 분포표 배열 f\n",
        "  b = [0] * n                    # 작업용 배열 b\n",
        "\n",
        "  for i in range(n):            f[a[i]] += 1\n",
        "  for i in range(1, max + 1):   f[i] += f[i - 1]\n",
        "  for i in range(n-1, -1, -1):  f[a[i]] -= 1; b[f[a[i]]] = a[i]\n",
        "  for i in range(n):            a[i] = b[i]\n",
        "\n",
        "def counting_sort(a: MutableSequence) -> None:\n",
        "  \"\"\"도수 정렬\"\"\"\n",
        "  fsort(a, max(a))\n",
        "\n",
        "if __name__ == '__main__':\n",
        "  print('도수 정렬을 수행합니다')\n",
        "  num = int(input('원소 수를 입력하세요 : '))\n",
        "  x = [None] * num\n",
        "\n",
        "  for i in range(num):\n",
        "    while True:\n",
        "      x[i] = int(input(f'x[{i}] : '))\n",
        "      if x[i] >= 0 : break     # 양수만 입력 받도록 제한\n",
        "  \n",
        "  counting_sort(x)\n",
        "\n",
        "  print('오름차순으로 정렬했습니다.')\n",
        "\n",
        "  for i in range(num):\n",
        "    print(f'x[{i}] = {x[i]}')"
      ],
      "metadata": {
        "colab": {
          "base_uri": "https://localhost:8080/"
        },
        "id": "bqb6U8yIVNuY",
        "outputId": "dc602ac9-bf84-40b3-f4f8-b7e1e5cbc0f4"
      },
      "execution_count": 1,
      "outputs": [
        {
          "output_type": "stream",
          "name": "stdout",
          "text": [
            "도수 정렬을 수행합니다\n",
            "원소 수를 입력하세요 : 7\n",
            "x[0] : 22\n",
            "x[1] : 5\n",
            "x[2] : 11\n",
            "x[3] : 32\n",
            "x[4] : 99\n",
            "x[5] : 68\n",
            "x[6] : 70\n",
            "오름차순으로 정렬했습니다.\n",
            "x[0] = 5\n",
            "x[1] = 11\n",
            "x[2] = 22\n",
            "x[3] = 32\n",
            "x[4] = 68\n",
            "x[5] = 70\n",
            "x[6] = 99\n"
          ]
        }
      ]
    }
  ]
}