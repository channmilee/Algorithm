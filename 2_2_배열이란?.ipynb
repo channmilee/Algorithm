{
  "nbformat": 4,
  "nbformat_minor": 0,
  "metadata": {
    "colab": {
      "provenance": [],
      "toc_visible": true,
      "authorship_tag": "ABX9TyM5otfZB37q9SJ5vbQFkq7z",
      "include_colab_link": true
    },
    "kernelspec": {
      "name": "python3",
      "display_name": "Python 3"
    },
    "language_info": {
      "name": "python"
    }
  },
  "cells": [
    {
      "cell_type": "markdown",
      "metadata": {
        "id": "view-in-github",
        "colab_type": "text"
      },
      "source": [
        "<a href=\"https://colab.research.google.com/github/channmilee/Algorithm/blob/master/2_2_%EB%B0%B0%EC%97%B4%EC%9D%B4%EB%9E%80%3F.ipynb\" target=\"_parent\"><img src=\"https://colab.research.google.com/assets/colab-badge.svg\" alt=\"Open In Colab\"/></a>"
      ]
    },
    {
      "cell_type": "markdown",
      "source": [
        "### 배열 원소의 최댓값 구하기"
      ],
      "metadata": {
        "id": "ZKaWEVUbEgMo"
      }
    },
    {
      "cell_type": "markdown",
      "source": [
        "* 스캔 : 배열 원소를 하나씩 차례대로 주목하여 살펴보는 방식 (주사 또는 프래버스 라고도 함)"
      ],
      "metadata": {
        "id": "Kvu2NyJMFPFr"
      }
    },
    {
      "cell_type": "code",
      "execution_count": null,
      "metadata": {
        "id": "WdPxn7UTEPqA"
      },
      "outputs": [],
      "source": [
        "# list a 원소를 처음부터 끝까지 \"스캔\"해서 살펴 봄\n",
        "def max_of(a):\n",
        "  maximum = a[0]\n",
        "  for i in range(1, len(a)):\n",
        "    if a[i] > maximum:\n",
        "      maximum = a[i]"
      ]
    },
    {
      "cell_type": "markdown",
      "source": [
        "### 배열 원소의 최댓값을 구하는 함수 구현하기"
      ],
      "metadata": {
        "id": "Lsq8XYbOFV3f"
      }
    },
    {
      "cell_type": "markdown",
      "source": [
        "#### 실습 2-2."
      ],
      "metadata": {
        "id": "1eMvT56dE6IN"
      }
    },
    {
      "cell_type": "markdown",
      "source": [
        "* 시퀀스 원소의 최댓값 출력하기"
      ],
      "metadata": {
        "id": "qjPISf6MFbQ_"
      }
    },
    {
      "cell_type": "code",
      "source": [
        "from typing import Any, Sequence\n",
        "\n",
        "def max_of(a: Sequence) -> Any:\n",
        "  \"\"\"시퀀스 형 a 원소의 최댓값 반환\"\"\"\n",
        "  maximum = a[0]\n",
        "  for i in range(1, len(a)):\n",
        "    if a[i] > maximum :\n",
        "      maximum = a[i]\n",
        "  return maximum\n",
        "\n",
        "if __name__ == '__main__':\n",
        "  print('배열의 최댓값을 구합니다.')\n",
        "  num = int(input('원소 수를 입력하세요 : '))\n",
        "  x = [None] * num\n",
        "\n",
        "  for i in range(num):\n",
        "    x[i] = int(input(f'x[{i}]값을 입력하세요 : '))\n",
        "  print(f'최댓값은 {max_of(x)}입니다.')"
      ],
      "metadata": {
        "colab": {
          "base_uri": "https://localhost:8080/"
        },
        "id": "TJoM-mIDFdwy",
        "outputId": "dda78a31-fba2-40db-d6e4-17a3f46fa129"
      },
      "execution_count": null,
      "outputs": [
        {
          "output_type": "stream",
          "name": "stdout",
          "text": [
            "배열의 최댓값을 구합니다.\n",
            "원소 수를 입력하세요 : 5\n",
            "x[0]값을 입력하세요 : 1\n",
            "x[1]값을 입력하세요 : 2\n",
            "x[2]값을 입력하세요 : 3\n",
            "x[3]값을 입력하세요 : 4\n",
            "x[4]값을 입력하세요 : 5\n",
            "최댓값은 5입니다.\n"
          ]
        }
      ]
    },
    {
      "cell_type": "markdown",
      "source": [
        "##### **-- 주석과 자료형 힌트**"
      ],
      "metadata": {
        "id": "qlw6zc9jMzlA"
      }
    },
    {
      "cell_type": "markdown",
      "source": [
        "* from typing import Any, Sequence\n",
        "  * Any : 제약이 없는 임의의 자료형을 의미\n",
        "  * Sequence : 시퀀스형을 의미 (리스트형, 바이트 배열형, 문자열형, 튜플형, 바이트열형이 있음)\n",
        "* def max_of(a: Sequence) -> Any:\n",
        "  * 건네받는 매개변수 a의 자료형은 Sequence\n",
        "  * 반환하는 것은 임의의 자료형인 Any\n",
        "* max_of() 함수의 특성\n",
        "  * 함수 안에서는 배열 a의 원솟값을 변경하지 않음\n",
        "  * 호출하는 쪽이 넘겨주는 실제 인수의 자료형은 뮤터블, 이뮤터블에 상관없이 시퀀스 자료형이면 됨\n",
        "  * 인수의 원소를 비교 연산자 > 로 비교할 수 있다면 int, float 형이 섞여있어도 됨\n",
        "  * 최댓값의 원소가 int 형 원소이면 int 형 원소 반환. float 형 원소이면 float 형 반환"
      ],
      "metadata": {
        "id": "OjgGsL-aIJxs"
      }
    },
    {
      "cell_type": "markdown",
      "source": [
        "##### **-- 재사용할 수 있는 모듈 작성**"
      ],
      "metadata": {
        "id": "r363kK9OM3gu"
      }
    },
    {
      "cell_type": "markdown",
      "source": [
        "* 모듈\n",
        "  * 하나의 스크립트 프로그램\n",
        "  * 실습 2-2 프로그램 파일의 이름은 max임\n",
        "  * 모듈은 프로그램이 처음 임포트 되는 시점에 그 모듈 객체가 생성되면서 초기화되는 구조\n",
        "  * 따라서 실습 2-2 프로그램에서 if 문은 `max.py`를 직접 시작한 경우에만 참이되어 실행 가능  \n",
        "  다른 스크립트 프로그램에서 임포트한 경우에는 거짓이기 때문에 실행 불가능"
      ],
      "metadata": {
        "id": "zvBBSW-eKvqC"
      }
    },
    {
      "cell_type": "code",
      "source": [
        "if __name__ == '__main__':\n",
        "  # 왼쪽 피연산자 __name__은 모듈 이름을 나타내는 변수"
      ],
      "metadata": {
        "id": "KA6v7MrdNNeG"
      },
      "execution_count": null,
      "outputs": []
    },
    {
      "cell_type": "markdown",
      "source": [
        "* 스크립트 프로그램이 직접 실행될 때 변수 `__name__` 은 `'__main__'`\n",
        "* 스크립프 프로그램이 임포트될 때 변수  `__name__`은 원래의 모듈 이름"
      ],
      "metadata": {
        "id": "SaFoCeKpNU4m"
      }
    },
    {
      "cell_type": "markdown",
      "source": [
        "#### 실습 2-3."
      ],
      "metadata": {
        "id": "8UZQmClPWuz1"
      }
    },
    {
      "cell_type": "markdown",
      "source": [
        "* 배열 원소의 최댓값을 구해서 출력하기 (원솟값을 입력 받음)"
      ],
      "metadata": {
        "id": "4V_iARc-WwkQ"
      }
    },
    {
      "cell_type": "code",
      "source": [
        "from google.colab import drive\n",
        "drive.mount('/content/drive')"
      ],
      "metadata": {
        "colab": {
          "base_uri": "https://localhost:8080/"
        },
        "id": "KC8GFr9gZVro",
        "outputId": "80af8c28-2477-4f31-eac1-6882c577d056"
      },
      "execution_count": null,
      "outputs": [
        {
          "output_type": "stream",
          "name": "stdout",
          "text": [
            "Mounted at /content/drive\n"
          ]
        }
      ]
    },
    {
      "cell_type": "code",
      "source": [
        "cd '/content/drive/MyDrive/Colab Notebooks/study/자료구조 알고리즘/[예제소스]/chap02'"
      ],
      "metadata": {
        "colab": {
          "base_uri": "https://localhost:8080/"
        },
        "id": "H-vUWpGfZlTI",
        "outputId": "6dbe8e9b-3175-4350-c449-08daa0a0f71f"
      },
      "execution_count": null,
      "outputs": [
        {
          "output_type": "stream",
          "name": "stdout",
          "text": [
            "/content/drive/MyDrive/Colab Notebooks/study/자료구조 알고리즘/[예제소스]/chap02\n"
          ]
        }
      ]
    },
    {
      "cell_type": "code",
      "source": [
        "from max import max_of\n",
        "\n",
        "print('배열의 최댓값을 구합니다.')\n",
        "print('주의: \"End\"를 입력하면 종료합니다.')\n",
        "\n",
        "number = 0\n",
        "x = []\n",
        "\n",
        "while True:\n",
        "  s = input(f'x[{number}]값을 입력하세요 : ')\n",
        "  if s == 'End':\n",
        "    break\n",
        "  x.append(int(s))\n",
        "  number += 1\n",
        "\n",
        "print(f'{number}개를 입력했습니다.')\n",
        "print(f'최댓값은 {max_of(x)}입니다.')"
      ],
      "metadata": {
        "colab": {
          "base_uri": "https://localhost:8080/"
        },
        "id": "zGuZ8h7UW0hz",
        "outputId": "8726157a-9bdb-49a8-c6da-3601a6dc9dc1"
      },
      "execution_count": null,
      "outputs": [
        {
          "output_type": "stream",
          "name": "stdout",
          "text": [
            "배열의 최댓값을 구합니다.\n",
            "주의: \"End\"를 입력하면 종료합니다.\n",
            "x[0]값을 입력하세요 : 15\n",
            "x[1]값을 입력하세요 : 72\n",
            "x[2]값을 입력하세요 : 64\n",
            "x[3]값을 입력하세요 : 7\n",
            "x[4]값을 입력하세요 : End\n",
            "4개를 입력했습니다.\n",
            "최댓값은 72입니다.\n"
          ]
        }
      ]
    },
    {
      "cell_type": "markdown",
      "source": [
        "* max 모듈을 임포트하지만 max.py 파일 내에서 if문은 실행되지 않음.  \n",
        "다른 프로그램(모듈)에서 임포트될 때 `__name__ == '__main__'`이 성립하지 않기 때문"
      ],
      "metadata": {
        "id": "-ZpFSPVCayGh"
      }
    },
    {
      "cell_type": "markdown",
      "source": [
        "#### 실습 2-4."
      ],
      "metadata": {
        "id": "MW5mQH3zbGfS"
      }
    },
    {
      "cell_type": "markdown",
      "source": [
        "* 배열 원소의 최댓값을 구해서 출력하기(원솟값을 난수로 생성)"
      ],
      "metadata": {
        "id": "XVe6p1g-XdOh"
      }
    },
    {
      "cell_type": "code",
      "source": [
        "import random\n",
        "from max import max_of\n",
        "\n",
        "print('난수의 최댓값을 구합니다.')\n",
        "num = int(input('난수의 개수를 입력하세요 : '))\n",
        "lo = int(input('난수의 최솟값을 입력하세요 : '))\n",
        "hi = int(input('난수의 최댓값을 입력하세요 : '))\n",
        "x = [None] * num\n",
        "\n",
        "for i in range(num):\n",
        "  x[i] = random.randint(lo, hi)\n",
        "\n",
        "print(x)\n",
        "print(f'이 가운데 최댓값은 {max_of(x)} 입니다.')"
      ],
      "metadata": {
        "colab": {
          "base_uri": "https://localhost:8080/"
        },
        "id": "lMEN37sFbLX7",
        "outputId": "4c48fc3d-4100-46d0-92eb-97eaaf5d3195"
      },
      "execution_count": null,
      "outputs": [
        {
          "output_type": "stream",
          "name": "stdout",
          "text": [
            "난수의 최댓값을 구합니다.\n",
            "난수의 개수를 입력하세요 : 5\n",
            "난수의 최솟값을 입력하세요 : 10\n",
            "난수의 최댓값을 입력하세요 : 99\n",
            "[36, 68, 30, 91, 97]\n",
            "이 가운데 최댓값은 97 입니다.\n"
          ]
        }
      ]
    },
    {
      "cell_type": "markdown",
      "source": [
        "#### 실습 2-5. "
      ],
      "metadata": {
        "id": "UwqSlCescLpw"
      }
    },
    {
      "cell_type": "markdown",
      "source": [
        "* 각 배열 원소의 최댓값을 구해서 출력하기 (튜플, 문자열, 문자열 리스트)"
      ],
      "metadata": {
        "id": "iVL2LbidcDH5"
      }
    },
    {
      "cell_type": "code",
      "source": [
        "from max import max_of\n",
        "\n",
        "t = (4, 7, 5.6, 2, 3.14, 1)\n",
        "s = 'string'\n",
        "a = ['DTS', 'AAC', 'FLAC']\n",
        "\n",
        "print(f'{t}의 최댓값은 {max_of(t)} 입니다.\\n')\n",
        "print(f'{s}의 최댓값은 {max_of(s)} 입니다.\\n')\n",
        "print(f'{a}의 최댓값은 {max_of(a)} 입니다.')"
      ],
      "metadata": {
        "colab": {
          "base_uri": "https://localhost:8080/"
        },
        "id": "gAoDA1yMcSoC",
        "outputId": "49bca44e-00c2-4a4b-fd0e-fe8ab5248e38"
      },
      "execution_count": null,
      "outputs": [
        {
          "output_type": "stream",
          "name": "stdout",
          "text": [
            "(4, 7, 5.6, 2, 3.14, 1)의 최댓값은 7 입니다.\n",
            "\n",
            "string의 최댓값은 t 입니다.\n",
            "\n",
            "['DTS', 'AAC', 'FLAC']의 최댓값은 FLAC 입니다.\n"
          ]
        }
      ]
    },
    {
      "cell_type": "markdown",
      "source": [
        "### 배열 원소를 역순으로 정렬하기"
      ],
      "metadata": {
        "id": "RjCDhgVojtiW"
      }
    },
    {
      "cell_type": "markdown",
      "source": [
        "#### 실습 2-6."
      ],
      "metadata": {
        "id": "2nGV6ZZMj50T"
      }
    },
    {
      "cell_type": "markdown",
      "source": [
        "* 뮤터블 시퀀스 원소를 역순으로 정렬"
      ],
      "metadata": {
        "id": "JAXN6SDbjrqr"
      }
    },
    {
      "cell_type": "code",
      "source": [
        "for i in range(len(a)//2):\n",
        "  # a[i]와 a[n-i-1]의 값을 교환"
      ],
      "metadata": {
        "id": "CfYUTh5BkYRI"
      },
      "execution_count": null,
      "outputs": []
    },
    {
      "cell_type": "code",
      "source": [
        "from typing import Any, MutableSequence\n",
        "\n",
        "def reverse_array(a : MutableSequence) -> None:\n",
        "  \"\"\"뮤터블 시퀀스 a의 원소를 역순으로 정렬\"\"\"\n",
        "  n = len(a)\n",
        "  for i in range( n // 2):\n",
        "    a[i], a[n-i-1] = a[n-i-1], a[i]\n",
        "\n",
        "if __name__ == '__main__':\n",
        "  print('배열 원소를 역순으로 정렬합니다.')\n",
        "  nx = int(input('원소 수를 입력하세요 : '))\n",
        "  x = [None] * nx\n",
        "\n",
        "  for i in range(nx):\n",
        "    x[i] = int(input(f'x[{i}] 값을 입력하세요 : '))\n",
        "\n",
        "  reverse_array(x)\n",
        "\n",
        "  print()\n",
        "  print('배열 원소를 역순으로 정렬했습니다.')\n",
        "  for i in range(nx):\n",
        "    print(f'x[{i}] = {x[i]}')"
      ],
      "metadata": {
        "colab": {
          "base_uri": "https://localhost:8080/"
        },
        "id": "uINO6Qp8keTU",
        "outputId": "d7c2d8b6-77b6-4e6a-9304-9c5bd002e393"
      },
      "execution_count": null,
      "outputs": [
        {
          "output_type": "stream",
          "name": "stdout",
          "text": [
            "배열 원소를 역순으로 정렬합니다.\n",
            "원소 수를 입력하세요 : 5\n",
            "x[0] 값을 입력하세요 : 1\n",
            "x[1] 값을 입력하세요 : 2\n",
            "x[2] 값을 입력하세요 : 3\n",
            "x[3] 값을 입력하세요 : 4\n",
            "x[4] 값을 입력하세요 : 5\n",
            "\n",
            "배열 원소를 역순으로 정렬했습니다.\n",
            "x[0] = 5\n",
            "x[1] = 4\n",
            "x[2] = 3\n",
            "x[3] = 2\n",
            "x[4] = 1\n"
          ]
        }
      ]
    },
    {
      "cell_type": "markdown",
      "source": [
        "### 기수 변환하기 (n 진수 구하기)"
      ],
      "metadata": {
        "id": "fP9LysG_n2I0"
      }
    },
    {
      "cell_type": "markdown",
      "source": [
        "#### 기수 개념"
      ],
      "metadata": {
        "id": "ydH41NQmu38I"
      }
    },
    {
      "cell_type": "markdown",
      "source": [
        "* 기수\n",
        "  * 수를 나타내는 기초\n",
        "  * 10진법에서는 0~9까지 정수를 의미\n",
        "* 서수 \n",
        "  * 사물의 순서를 나타냄\n",
        "  * 첫째, 둘째, 셋째"
      ],
      "metadata": {
        "id": "PBd5HLo1tqXQ"
      }
    },
    {
      "cell_type": "markdown",
      "source": [
        "* 10진수 (decimal)\n",
        "  * 0 1 2 3 4 5 6 7 8 9\n",
        "  * **1자릿수** : 0 ~ 9\n",
        "  * **2자릿수** : 10 ~ 99\n",
        "  * **3자릿수** : 100 ~ 999"
      ],
      "metadata": {
        "id": "i1l0uedUnKD4"
      }
    },
    {
      "cell_type": "markdown",
      "source": [
        "* 8진수 (octal)\n",
        "  * 0 1 2 3 4 5 6 7\n",
        "  * **1자릿수** : 0 ~ 7\n",
        "  * **2자릿수** : 10 ~ 77\n",
        "  * **3자릿수** : 100 ~ 777"
      ],
      "metadata": {
        "id": "uuIH8ENvuA_b"
      }
    },
    {
      "cell_type": "markdown",
      "source": [
        "* 16진수(hexadecimal)\n",
        "  * 0 1 2 3 4 5 6 7 8 9 A B C D E F\n",
        "  * **1자릿수** : 0 ~ F\n",
        "  * **2자릿수** : 10 ~ FF\n",
        "  * **3자릿수** : 100 ~ FFF"
      ],
      "metadata": {
        "id": "1gDzQVk9ugSC"
      }
    },
    {
      "cell_type": "markdown",
      "source": [
        "#### 실습 2-7. [A]"
      ],
      "metadata": {
        "id": "lIHghlueu8DG"
      }
    },
    {
      "cell_type": "markdown",
      "source": [
        "* 10진수 정숫값을 입력받아 2~36진수로 변환하여 출력하기"
      ],
      "metadata": {
        "id": "HrWvbKS3uGrW"
      }
    },
    {
      "cell_type": "code",
      "source": [
        "def card_conv(x: int, r:int) -> str:\n",
        "  \"\"\" 정숫값 x를 r진수로 변환한 뒤 그 수를 나타내는 문자열을 반환\"\"\"\n",
        "\n",
        "  d = \"\"   # 반환 후의 문자열\n",
        "  dchar = '01234566789ABCDEFGHIJKLMNOPQRSTUVWXYZ'\n",
        "\n",
        "  while x > 0:\n",
        "    d += dchar[x % r] # 해당하는 문자를 꺼내 결합\n",
        "    x //= r\n",
        "\n",
        "  return d[::-1] # 역순으로 반환"
      ],
      "metadata": {
        "id": "tarnJ9QLvGoO"
      },
      "execution_count": null,
      "outputs": []
    },
    {
      "cell_type": "markdown",
      "source": [
        "* x가 0이 될 때까지 반복. 이때 x를 r로 나눈 나머지의 값 위치에 있는 문자를 d에 결합하므로 문자열 d의 맨 앞은 마지막으로 구한 문자가 됨. 따라서 변환된 문자열 d는 역순으로 출력해야 함"
      ],
      "metadata": {
        "id": "3468U4s4wXDy"
      }
    },
    {
      "cell_type": "markdown",
      "source": [
        "#### 실습 2-7. [A]-보충"
      ],
      "metadata": {
        "id": "PN2GjDSTzd6Q"
      }
    },
    {
      "cell_type": "code",
      "source": [
        "def card_conv2(x: int, r:int) -> str:\n",
        "  \"\"\" 정숫값 x를 r진수로 변환한 뒤 그 수를 나타내는 문자열을 반환\"\"\"\n",
        "\n",
        "  d = \"\"   # 반환 후의 문자열\n",
        "  dchar = '01234566789ABCDEFGHIJKLMNOPQRSTUVWXYZ'\n",
        "  n = len(str(x))\n",
        "\n",
        "  print(f'{r:2} | {x:{n}d}')\n",
        "\n",
        "  while x > 0:\n",
        "    print('  +' + (n + 2) * '-')\n",
        "    if x // r :\n",
        "      print(f'{r:2} | {x // r:{n}d} ... {x % r}')\n",
        "    else:\n",
        "      print(f'  {x // r:{n}d} ... {x % r}')\n",
        "    d += dchar[x % r] # 해당하는 문자를 꺼내 결합\n",
        "    x //= r\n",
        "\n",
        "  return d[::-1] # 역순으로 반환"
      ],
      "metadata": {
        "id": "h5qyQrg1zbc1"
      },
      "execution_count": null,
      "outputs": []
    },
    {
      "cell_type": "markdown",
      "source": [
        "#### 실습 2-7. [B]"
      ],
      "metadata": {
        "id": "cWQmneX3wmLM"
      }
    },
    {
      "cell_type": "code",
      "source": [
        "if __name__ == '__main__':\n",
        "  print('10진수를 n진수로 변환합니다.')\n",
        "\n",
        "  while True:\n",
        "    while True: # 음이 아닌 정수를 입력 받음\n",
        "      no = int(input('변환할 값으로 음이 아닌 정수를 입력하세요 : '))\n",
        "      if no > 0:\n",
        "        break\n",
        "    \n",
        "    while True: # 2~36진수의 정숫값을 입력 받음\n",
        "      cd = int(input('어떤 진수로 변환할까요? : '))\n",
        "      if 2 <= cd <= 36:\n",
        "        break\n",
        "    \n",
        "    print(f'{cd} 진수로는 {card_conv(no, cd)} 입니다.')\n",
        "\n",
        "    retry = input(\"한 번 더 변환할까요? (Y = 예 / N = 아니요) : \")\n",
        "    if retry in {'N', 'n'}:\n",
        "      break"
      ],
      "metadata": {
        "colab": {
          "base_uri": "https://localhost:8080/"
        },
        "id": "Rx1OKN-3wLum",
        "outputId": "8c7112a4-fbb7-44a6-f590-b44e1e86a2c4"
      },
      "execution_count": null,
      "outputs": [
        {
          "name": "stdout",
          "output_type": "stream",
          "text": [
            "10진수를 n진수로 변환합니다.\n",
            "변환할 값으로 음이 아닌 정수를 입력하세요 : 29\n",
            "어떤 진수로 변환할까요? : 2\n",
            "2 진수로는 11101 입니다.\n",
            "한 번 더 변환할까요? (Y = 예 / N = 아니요) : N\n"
          ]
        }
      ]
    },
    {
      "cell_type": "markdown",
      "source": [
        "#### 실습 2-7. [B]-보충"
      ],
      "metadata": {
        "id": "D7Raz8_00kgt"
      }
    },
    {
      "cell_type": "code",
      "source": [
        "if __name__ == '__main__':\n",
        "  print('10진수를 n진수로 변환합니다.')\n",
        "\n",
        "  while True:\n",
        "    while True: # 음이 아닌 정수를 입력 받음\n",
        "      no = int(input('변환할 값으로 음이 아닌 정수를 입력하세요 : '))\n",
        "      if no > 0:\n",
        "        break\n",
        "    \n",
        "    while True: # 2~36진수의 정숫값을 입력 받음\n",
        "      cd = int(input('어떤 진수로 변환할까요? : '))\n",
        "      if 2 <= cd <= 36:\n",
        "        break\n",
        "    \n",
        "    print(f'{cd} 진수로는 {card_conv2(no, cd)} 입니다.')\n",
        "\n",
        "    retry = input(\"한 번 더 변환할까요? (Y = 예 / N = 아니요) : \")\n",
        "    if retry in {'N', 'n'}:\n",
        "      break"
      ],
      "metadata": {
        "colab": {
          "base_uri": "https://localhost:8080/"
        },
        "id": "hzCearxdygk4",
        "outputId": "6927c787-2257-45d9-d3e6-d4b1ef45f4c8"
      },
      "execution_count": null,
      "outputs": [
        {
          "name": "stdout",
          "output_type": "stream",
          "text": [
            "10진수를 n진수로 변환합니다.\n",
            "변환할 값으로 음이 아닌 정수를 입력하세요 : 29\n",
            "어떤 진수로 변환할까요? : 2\n",
            " 2 | 29\n",
            "  +----\n",
            " 2 | 14 ... 1\n",
            "  +----\n",
            " 2 |  7 ... 0\n",
            "  +----\n",
            " 2 |  3 ... 1\n",
            "  +----\n",
            " 2 |  1 ... 1\n",
            "  +----\n",
            "   0 ... 1\n",
            "2 진수로는 11101 입니다.\n",
            "한 번 더 변환할까요? (Y = 예 / N = 아니요) : n\n"
          ]
        }
      ]
    },
    {
      "cell_type": "markdown",
      "source": [
        "### 소수 나열하기"
      ],
      "metadata": {
        "id": "cksv3EkU36l1"
      }
    },
    {
      "cell_type": "markdown",
      "source": [
        "#### 실습 2-8."
      ],
      "metadata": {
        "id": "QaldFAb60UX7"
      }
    },
    {
      "cell_type": "markdown",
      "source": [
        "* 100 이하의 소수 나열하기"
      ],
      "metadata": {
        "id": "Vk_2Z31K36Df"
      }
    },
    {
      "cell_type": "code",
      "source": [
        "counter = 0\n",
        "\n",
        "for n in range(2, 101):\n",
        "  for i in range(2, n):\n",
        "    counter += 1\n",
        "    if n % i == 0 : # 나누어 떨어지면 소수가 아님\n",
        "      break\n",
        "  else:\n",
        "    print(n)\n",
        "\n",
        "print(f'나눗셈 실행 횟수 : {counter}')"
      ],
      "metadata": {
        "colab": {
          "base_uri": "https://localhost:8080/"
        },
        "id": "A5ilCMuk4tm6",
        "outputId": "14b26e6a-0f83-40c8-ce06-b1828944ab38"
      },
      "execution_count": null,
      "outputs": [
        {
          "output_type": "stream",
          "name": "stdout",
          "text": [
            "3\n",
            "5\n",
            "5\n",
            "5\n",
            "7\n",
            "7\n",
            "7\n",
            "7\n",
            "7\n",
            "9\n",
            "11\n",
            "11\n",
            "11\n",
            "11\n",
            "11\n",
            "11\n",
            "11\n",
            "11\n",
            "11\n",
            "13\n",
            "13\n",
            "13\n",
            "13\n",
            "13\n",
            "13\n",
            "13\n",
            "13\n",
            "13\n",
            "13\n",
            "13\n",
            "15\n",
            "17\n",
            "17\n",
            "17\n",
            "17\n",
            "17\n",
            "17\n",
            "17\n",
            "17\n",
            "17\n",
            "17\n",
            "17\n",
            "17\n",
            "17\n",
            "17\n",
            "17\n",
            "19\n",
            "19\n",
            "19\n",
            "19\n",
            "19\n",
            "19\n",
            "19\n",
            "19\n",
            "19\n",
            "19\n",
            "19\n",
            "19\n",
            "19\n",
            "19\n",
            "19\n",
            "19\n",
            "19\n",
            "21\n",
            "23\n",
            "23\n",
            "23\n",
            "23\n",
            "23\n",
            "23\n",
            "23\n",
            "23\n",
            "23\n",
            "23\n",
            "23\n",
            "23\n",
            "23\n",
            "23\n",
            "23\n",
            "23\n",
            "23\n",
            "23\n",
            "23\n",
            "23\n",
            "23\n",
            "25\n",
            "25\n",
            "25\n",
            "27\n",
            "29\n",
            "29\n",
            "29\n",
            "29\n",
            "29\n",
            "29\n",
            "29\n",
            "29\n",
            "29\n",
            "29\n",
            "29\n",
            "29\n",
            "29\n",
            "29\n",
            "29\n",
            "29\n",
            "29\n",
            "29\n",
            "29\n",
            "29\n",
            "29\n",
            "29\n",
            "29\n",
            "29\n",
            "29\n",
            "29\n",
            "29\n",
            "31\n",
            "31\n",
            "31\n",
            "31\n",
            "31\n",
            "31\n",
            "31\n",
            "31\n",
            "31\n",
            "31\n",
            "31\n",
            "31\n",
            "31\n",
            "31\n",
            "31\n",
            "31\n",
            "31\n",
            "31\n",
            "31\n",
            "31\n",
            "31\n",
            "31\n",
            "31\n",
            "31\n",
            "31\n",
            "31\n",
            "31\n",
            "31\n",
            "31\n",
            "33\n",
            "35\n",
            "35\n",
            "35\n",
            "37\n",
            "37\n",
            "37\n",
            "37\n",
            "37\n",
            "37\n",
            "37\n",
            "37\n",
            "37\n",
            "37\n",
            "37\n",
            "37\n",
            "37\n",
            "37\n",
            "37\n",
            "37\n",
            "37\n",
            "37\n",
            "37\n",
            "37\n",
            "37\n",
            "37\n",
            "37\n",
            "37\n",
            "37\n",
            "37\n",
            "37\n",
            "37\n",
            "37\n",
            "37\n",
            "37\n",
            "37\n",
            "37\n",
            "37\n",
            "37\n",
            "39\n",
            "41\n",
            "41\n",
            "41\n",
            "41\n",
            "41\n",
            "41\n",
            "41\n",
            "41\n",
            "41\n",
            "41\n",
            "41\n",
            "41\n",
            "41\n",
            "41\n",
            "41\n",
            "41\n",
            "41\n",
            "41\n",
            "41\n",
            "41\n",
            "41\n",
            "41\n",
            "41\n",
            "41\n",
            "41\n",
            "41\n",
            "41\n",
            "41\n",
            "41\n",
            "41\n",
            "41\n",
            "41\n",
            "41\n",
            "41\n",
            "41\n",
            "41\n",
            "41\n",
            "41\n",
            "41\n",
            "43\n",
            "43\n",
            "43\n",
            "43\n",
            "43\n",
            "43\n",
            "43\n",
            "43\n",
            "43\n",
            "43\n",
            "43\n",
            "43\n",
            "43\n",
            "43\n",
            "43\n",
            "43\n",
            "43\n",
            "43\n",
            "43\n",
            "43\n",
            "43\n",
            "43\n",
            "43\n",
            "43\n",
            "43\n",
            "43\n",
            "43\n",
            "43\n",
            "43\n",
            "43\n",
            "43\n",
            "43\n",
            "43\n",
            "43\n",
            "43\n",
            "43\n",
            "43\n",
            "43\n",
            "43\n",
            "43\n",
            "43\n",
            "45\n",
            "47\n",
            "47\n",
            "47\n",
            "47\n",
            "47\n",
            "47\n",
            "47\n",
            "47\n",
            "47\n",
            "47\n",
            "47\n",
            "47\n",
            "47\n",
            "47\n",
            "47\n",
            "47\n",
            "47\n",
            "47\n",
            "47\n",
            "47\n",
            "47\n",
            "47\n",
            "47\n",
            "47\n",
            "47\n",
            "47\n",
            "47\n",
            "47\n",
            "47\n",
            "47\n",
            "47\n",
            "47\n",
            "47\n",
            "47\n",
            "47\n",
            "47\n",
            "47\n",
            "47\n",
            "47\n",
            "47\n",
            "47\n",
            "47\n",
            "47\n",
            "47\n",
            "47\n",
            "49\n",
            "49\n",
            "49\n",
            "49\n",
            "49\n",
            "51\n",
            "53\n",
            "53\n",
            "53\n",
            "53\n",
            "53\n",
            "53\n",
            "53\n",
            "53\n",
            "53\n",
            "53\n",
            "53\n",
            "53\n",
            "53\n",
            "53\n",
            "53\n",
            "53\n",
            "53\n",
            "53\n",
            "53\n",
            "53\n",
            "53\n",
            "53\n",
            "53\n",
            "53\n",
            "53\n",
            "53\n",
            "53\n",
            "53\n",
            "53\n",
            "53\n",
            "53\n",
            "53\n",
            "53\n",
            "53\n",
            "53\n",
            "53\n",
            "53\n",
            "53\n",
            "53\n",
            "53\n",
            "53\n",
            "53\n",
            "53\n",
            "53\n",
            "53\n",
            "53\n",
            "53\n",
            "53\n",
            "53\n",
            "53\n",
            "53\n",
            "55\n",
            "55\n",
            "55\n",
            "57\n",
            "59\n",
            "59\n",
            "59\n",
            "59\n",
            "59\n",
            "59\n",
            "59\n",
            "59\n",
            "59\n",
            "59\n",
            "59\n",
            "59\n",
            "59\n",
            "59\n",
            "59\n",
            "59\n",
            "59\n",
            "59\n",
            "59\n",
            "59\n",
            "59\n",
            "59\n",
            "59\n",
            "59\n",
            "59\n",
            "59\n",
            "59\n",
            "59\n",
            "59\n",
            "59\n",
            "59\n",
            "59\n",
            "59\n",
            "59\n",
            "59\n",
            "59\n",
            "59\n",
            "59\n",
            "59\n",
            "59\n",
            "59\n",
            "59\n",
            "59\n",
            "59\n",
            "59\n",
            "59\n",
            "59\n",
            "59\n",
            "59\n",
            "59\n",
            "59\n",
            "59\n",
            "59\n",
            "59\n",
            "59\n",
            "59\n",
            "59\n",
            "61\n",
            "61\n",
            "61\n",
            "61\n",
            "61\n",
            "61\n",
            "61\n",
            "61\n",
            "61\n",
            "61\n",
            "61\n",
            "61\n",
            "61\n",
            "61\n",
            "61\n",
            "61\n",
            "61\n",
            "61\n",
            "61\n",
            "61\n",
            "61\n",
            "61\n",
            "61\n",
            "61\n",
            "61\n",
            "61\n",
            "61\n",
            "61\n",
            "61\n",
            "61\n",
            "61\n",
            "61\n",
            "61\n",
            "61\n",
            "61\n",
            "61\n",
            "61\n",
            "61\n",
            "61\n",
            "61\n",
            "61\n",
            "61\n",
            "61\n",
            "61\n",
            "61\n",
            "61\n",
            "61\n",
            "61\n",
            "61\n",
            "61\n",
            "61\n",
            "61\n",
            "61\n",
            "61\n",
            "61\n",
            "61\n",
            "61\n",
            "61\n",
            "61\n",
            "63\n",
            "65\n",
            "65\n",
            "65\n",
            "67\n",
            "67\n",
            "67\n",
            "67\n",
            "67\n",
            "67\n",
            "67\n",
            "67\n",
            "67\n",
            "67\n",
            "67\n",
            "67\n",
            "67\n",
            "67\n",
            "67\n",
            "67\n",
            "67\n",
            "67\n",
            "67\n",
            "67\n",
            "67\n",
            "67\n",
            "67\n",
            "67\n",
            "67\n",
            "67\n",
            "67\n",
            "67\n",
            "67\n",
            "67\n",
            "67\n",
            "67\n",
            "67\n",
            "67\n",
            "67\n",
            "67\n",
            "67\n",
            "67\n",
            "67\n",
            "67\n",
            "67\n",
            "67\n",
            "67\n",
            "67\n",
            "67\n",
            "67\n",
            "67\n",
            "67\n",
            "67\n",
            "67\n",
            "67\n",
            "67\n",
            "67\n",
            "67\n",
            "67\n",
            "67\n",
            "67\n",
            "67\n",
            "67\n",
            "67\n",
            "67\n",
            "67\n",
            "67\n",
            "67\n",
            "67\n",
            "69\n",
            "71\n",
            "71\n",
            "71\n",
            "71\n",
            "71\n",
            "71\n",
            "71\n",
            "71\n",
            "71\n",
            "71\n",
            "71\n",
            "71\n",
            "71\n",
            "71\n",
            "71\n",
            "71\n",
            "71\n",
            "71\n",
            "71\n",
            "71\n",
            "71\n",
            "71\n",
            "71\n",
            "71\n",
            "71\n",
            "71\n",
            "71\n",
            "71\n",
            "71\n",
            "71\n",
            "71\n",
            "71\n",
            "71\n",
            "71\n",
            "71\n",
            "71\n",
            "71\n",
            "71\n",
            "71\n",
            "71\n",
            "71\n",
            "71\n",
            "71\n",
            "71\n",
            "71\n",
            "71\n",
            "71\n",
            "71\n",
            "71\n",
            "71\n",
            "71\n",
            "71\n",
            "71\n",
            "71\n",
            "71\n",
            "71\n",
            "71\n",
            "71\n",
            "71\n",
            "71\n",
            "71\n",
            "71\n",
            "71\n",
            "71\n",
            "71\n",
            "71\n",
            "71\n",
            "71\n",
            "71\n",
            "73\n",
            "73\n",
            "73\n",
            "73\n",
            "73\n",
            "73\n",
            "73\n",
            "73\n",
            "73\n",
            "73\n",
            "73\n",
            "73\n",
            "73\n",
            "73\n",
            "73\n",
            "73\n",
            "73\n",
            "73\n",
            "73\n",
            "73\n",
            "73\n",
            "73\n",
            "73\n",
            "73\n",
            "73\n",
            "73\n",
            "73\n",
            "73\n",
            "73\n",
            "73\n",
            "73\n",
            "73\n",
            "73\n",
            "73\n",
            "73\n",
            "73\n",
            "73\n",
            "73\n",
            "73\n",
            "73\n",
            "73\n",
            "73\n",
            "73\n",
            "73\n",
            "73\n",
            "73\n",
            "73\n",
            "73\n",
            "73\n",
            "73\n",
            "73\n",
            "73\n",
            "73\n",
            "73\n",
            "73\n",
            "73\n",
            "73\n",
            "73\n",
            "73\n",
            "73\n",
            "73\n",
            "73\n",
            "73\n",
            "73\n",
            "73\n",
            "73\n",
            "73\n",
            "73\n",
            "73\n",
            "73\n",
            "73\n",
            "75\n",
            "77\n",
            "77\n",
            "77\n",
            "77\n",
            "77\n",
            "79\n",
            "79\n",
            "79\n",
            "79\n",
            "79\n",
            "79\n",
            "79\n",
            "79\n",
            "79\n",
            "79\n",
            "79\n",
            "79\n",
            "79\n",
            "79\n",
            "79\n",
            "79\n",
            "79\n",
            "79\n",
            "79\n",
            "79\n",
            "79\n",
            "79\n",
            "79\n",
            "79\n",
            "79\n",
            "79\n",
            "79\n",
            "79\n",
            "79\n",
            "79\n",
            "79\n",
            "79\n",
            "79\n",
            "79\n",
            "79\n",
            "79\n",
            "79\n",
            "79\n",
            "79\n",
            "79\n",
            "79\n",
            "79\n",
            "79\n",
            "79\n",
            "79\n",
            "79\n",
            "79\n",
            "79\n",
            "79\n",
            "79\n",
            "79\n",
            "79\n",
            "79\n",
            "79\n",
            "79\n",
            "79\n",
            "79\n",
            "79\n",
            "79\n",
            "79\n",
            "79\n",
            "79\n",
            "79\n",
            "79\n",
            "79\n",
            "79\n",
            "79\n",
            "79\n",
            "79\n",
            "79\n",
            "79\n",
            "79\n",
            "79\n",
            "79\n",
            "79\n",
            "79\n",
            "79\n",
            "81\n",
            "83\n",
            "83\n",
            "83\n",
            "83\n",
            "83\n",
            "83\n",
            "83\n",
            "83\n",
            "83\n",
            "83\n",
            "83\n",
            "83\n",
            "83\n",
            "83\n",
            "83\n",
            "83\n",
            "83\n",
            "83\n",
            "83\n",
            "83\n",
            "83\n",
            "83\n",
            "83\n",
            "83\n",
            "83\n",
            "83\n",
            "83\n",
            "83\n",
            "83\n",
            "83\n",
            "83\n",
            "83\n",
            "83\n",
            "83\n",
            "83\n",
            "83\n",
            "83\n",
            "83\n",
            "83\n",
            "83\n",
            "83\n",
            "83\n",
            "83\n",
            "83\n",
            "83\n",
            "83\n",
            "83\n",
            "83\n",
            "83\n",
            "83\n",
            "83\n",
            "83\n",
            "83\n",
            "83\n",
            "83\n",
            "83\n",
            "83\n",
            "83\n",
            "83\n",
            "83\n",
            "83\n",
            "83\n",
            "83\n",
            "83\n",
            "83\n",
            "83\n",
            "83\n",
            "83\n",
            "83\n",
            "83\n",
            "83\n",
            "83\n",
            "83\n",
            "83\n",
            "83\n",
            "83\n",
            "83\n",
            "83\n",
            "83\n",
            "83\n",
            "83\n",
            "85\n",
            "85\n",
            "85\n",
            "87\n",
            "89\n",
            "89\n",
            "89\n",
            "89\n",
            "89\n",
            "89\n",
            "89\n",
            "89\n",
            "89\n",
            "89\n",
            "89\n",
            "89\n",
            "89\n",
            "89\n",
            "89\n",
            "89\n",
            "89\n",
            "89\n",
            "89\n",
            "89\n",
            "89\n",
            "89\n",
            "89\n",
            "89\n",
            "89\n",
            "89\n",
            "89\n",
            "89\n",
            "89\n",
            "89\n",
            "89\n",
            "89\n",
            "89\n",
            "89\n",
            "89\n",
            "89\n",
            "89\n",
            "89\n",
            "89\n",
            "89\n",
            "89\n",
            "89\n",
            "89\n",
            "89\n",
            "89\n",
            "89\n",
            "89\n",
            "89\n",
            "89\n",
            "89\n",
            "89\n",
            "89\n",
            "89\n",
            "89\n",
            "89\n",
            "89\n",
            "89\n",
            "89\n",
            "89\n",
            "89\n",
            "89\n",
            "89\n",
            "89\n",
            "89\n",
            "89\n",
            "89\n",
            "89\n",
            "89\n",
            "89\n",
            "89\n",
            "89\n",
            "89\n",
            "89\n",
            "89\n",
            "89\n",
            "89\n",
            "89\n",
            "89\n",
            "89\n",
            "89\n",
            "89\n",
            "89\n",
            "89\n",
            "89\n",
            "89\n",
            "89\n",
            "89\n",
            "91\n",
            "91\n",
            "91\n",
            "91\n",
            "91\n",
            "93\n",
            "95\n",
            "95\n",
            "95\n",
            "97\n",
            "97\n",
            "97\n",
            "97\n",
            "97\n",
            "97\n",
            "97\n",
            "97\n",
            "97\n",
            "97\n",
            "97\n",
            "97\n",
            "97\n",
            "97\n",
            "97\n",
            "97\n",
            "97\n",
            "97\n",
            "97\n",
            "97\n",
            "97\n",
            "97\n",
            "97\n",
            "97\n",
            "97\n",
            "97\n",
            "97\n",
            "97\n",
            "97\n",
            "97\n",
            "97\n",
            "97\n",
            "97\n",
            "97\n",
            "97\n",
            "97\n",
            "97\n",
            "97\n",
            "97\n",
            "97\n",
            "97\n",
            "97\n",
            "97\n",
            "97\n",
            "97\n",
            "97\n",
            "97\n",
            "97\n",
            "97\n",
            "97\n",
            "97\n",
            "97\n",
            "97\n",
            "97\n",
            "97\n",
            "97\n",
            "97\n",
            "97\n",
            "97\n",
            "97\n",
            "97\n",
            "97\n",
            "97\n",
            "97\n",
            "97\n",
            "97\n",
            "97\n",
            "97\n",
            "97\n",
            "97\n",
            "97\n",
            "97\n",
            "97\n",
            "97\n",
            "97\n",
            "97\n",
            "97\n",
            "97\n",
            "97\n",
            "97\n",
            "97\n",
            "97\n",
            "97\n",
            "97\n",
            "97\n",
            "97\n",
            "97\n",
            "97\n",
            "97\n",
            "97\n",
            "97\n",
            "97\n",
            "97\n",
            "97\n",
            "97\n",
            "99\n",
            "나눗셈 실행 횟수 : 1133\n"
          ]
        }
      ]
    },
    {
      "cell_type": "markdown",
      "source": [
        "* n이 **소수**일 때 : for문은 마지막가지 실행됨. else 문을 통해 n값 출력\n",
        "* n이 **합성수**일 때 : for문 중단"
      ],
      "metadata": {
        "id": "PwLsi4uc5rul"
      }
    },
    {
      "cell_type": "markdown",
      "source": [
        "#### 실습 2-9."
      ],
      "metadata": {
        "id": "qrW8xpT36Fyr"
      }
    },
    {
      "cell_type": "markdown",
      "source": [
        "* 100 이하의 소수를 나열하기 (알고리즘 개선 1)"
      ],
      "metadata": {
        "id": "w_E3p7nl6IX6"
      }
    },
    {
      "cell_type": "code",
      "source": [
        "counter = 0            # 나눗셈 횟수 카운트\n",
        "ptr = 0                # 이미 찾은 소수의 개수\n",
        "prime = [None] * 500   # 소수를 저장하는 배열\n",
        "\n",
        "prime[ptr] = 2         # 2는 소수이므로 초깃값으로 지정\n",
        "ptr += 1\n",
        "\n",
        "for n in range(3, 101, 2):   # 홀수만을 대상으로 설정 (4 이상 짝수는 2로 나누어 떨어지기 때문에 소수가 아님)\n",
        "  for i in range(1, ptr):    # 이미 찾은 소수로 나눔  (판단 대상이 홀수 이므로 prime[0] = 2는 나눌 필요가 없어서 prime[1]부터 시작)\n",
        "    counter += 1\n",
        "    if n % prime[i] == 0:    # 나누어 떨어지면 소수가 아님\n",
        "      break                  # 반복 중단\n",
        "  else:                      # 끝까지 나누어 떨어지지 않았다면\n",
        "    prime[ptr] = n           # 소수로 배열에 등록\n",
        "    ptr += 1\n",
        "\n",
        "for i in range(ptr):\n",
        "  print(prime[i])\n",
        "print(f'나눗셈 실행 횟수 : {counter}')"
      ],
      "metadata": {
        "id": "N9U_4zD34tjv",
        "colab": {
          "base_uri": "https://localhost:8080/"
        },
        "outputId": "b8b0c620-029a-4f88-8eff-e35257f0b9fa"
      },
      "execution_count": null,
      "outputs": [
        {
          "output_type": "stream",
          "name": "stdout",
          "text": [
            "2\n",
            "3\n",
            "5\n",
            "7\n",
            "11\n",
            "13\n",
            "17\n",
            "19\n",
            "23\n",
            "29\n",
            "31\n",
            "37\n",
            "41\n",
            "43\n",
            "47\n",
            "53\n",
            "59\n",
            "61\n",
            "67\n",
            "71\n",
            "73\n",
            "79\n",
            "83\n",
            "89\n",
            "97\n",
            "나눗셈 실행 횟수 : 313\n"
          ]
        }
      ]
    },
    {
      "cell_type": "markdown",
      "source": [
        "1. n = 3일 때\n",
        "  * 이중 for문의 안쪽 for문은 실행되지 않음.  \n",
        "  else문에서 n 값 3을 prime[1]에 대입\n",
        "\n",
        "2. n = 9일 때\n",
        "  * prime[1]에 저장한 3으로 나눗셈을 실행하면 나누어 떨어지기 때문에 안쪽 for문이 중단되어 else문은 실행되지 않음"
      ],
      "metadata": {
        "id": "xqZli0lokNRR"
      }
    },
    {
      "cell_type": "markdown",
      "source": [
        "#### 실습 2-10."
      ],
      "metadata": {
        "id": "ie8_R1j4lIke"
      }
    },
    {
      "cell_type": "markdown",
      "source": [
        "* 100 이하의 소수를 나열하기 (알고리즘 개선 2)"
      ],
      "metadata": {
        "id": "OR62ZnghlLOL"
      }
    },
    {
      "cell_type": "markdown",
      "source": [
        "* `n의 제곱근 이하의 어떤 소수로도 나누어 떨어지지 않음` 을 만족하면 소수\n",
        "  * prime[i] * prime[i] <= n 에서는 prime[i]가 n보다 작거나 같은지를 곱셈을 이용해 판단.  \n",
        "  n의 제곱근을 구하는 것보다 제곱을 구하는 것이 간단하고 빠름"
      ],
      "metadata": {
        "id": "S6c-2nZHla5I"
      }
    },
    {
      "cell_type": "code",
      "source": [
        "counter = 0            # 곱셈과 나눗셈을 합한 횟수\n",
        "ptr = 0                # 이미 찾은 소수의 개수\n",
        "prime = [None] * 500   # 소수를 저장하는 배열\n",
        "\n",
        "prime[ptr] = 2         # 2는 소수\n",
        "ptr += 1\n",
        "\n",
        "prime[ptr] = 3         # 3은 소수\n",
        "ptr += 1\n",
        "\n",
        "for n in range(5, 101, 2):  \n",
        "  i = 1\n",
        "  while prime[i] * prime[i] <= n:\n",
        "    counter += 2\n",
        "    if n % prime[i] == 0:\n",
        "      break\n",
        "    i += 1\n",
        "  else:\n",
        "    prime[ptr] = n\n",
        "    ptr += 1\n",
        "    counter += 1\n",
        "\n",
        "for i in range(ptr):\n",
        "  print(prime[i])\n",
        "print(f'곱셈과 나눗셈을 실행한 횟수 : {counter}')"
      ],
      "metadata": {
        "colab": {
          "base_uri": "https://localhost:8080/"
        },
        "id": "yQKcL2TVlY0y",
        "outputId": "c3880286-b891-4e50-96eb-32e58cdb496a"
      },
      "execution_count": null,
      "outputs": [
        {
          "output_type": "stream",
          "name": "stdout",
          "text": [
            "2\n",
            "3\n",
            "5\n",
            "7\n",
            "11\n",
            "13\n",
            "17\n",
            "19\n",
            "23\n",
            "29\n",
            "31\n",
            "37\n",
            "41\n",
            "43\n",
            "47\n",
            "53\n",
            "59\n",
            "61\n",
            "67\n",
            "71\n",
            "73\n",
            "79\n",
            "83\n",
            "89\n",
            "97\n",
            "곱셈과 나눗셈을 실행한 횟수 : 191\n"
          ]
        }
      ]
    },
    {
      "cell_type": "markdown",
      "source": [
        "* counter : 알고리즘이 계산 비용을 얼마나 요구하는지 저장하는 변수\n",
        "  * **곱셈** : prime[i] * prime[1] <= n\n",
        "  * **나눗셈** : n % prime[i]\n",
        "  * prime[i] * prime[1] <= n 가 성립하지 않으면 곱셈 횟수는 계산되지 않음. else문에서 1 증가."
      ],
      "metadata": {
        "id": "eyPNIbVqoOA2"
      }
    },
    {
      "cell_type": "markdown",
      "source": [
        "* 100 이하의 소수를 나열하기(알고리즘 개선 2) - 배열의 원솟수를 미리 결정하지 않음"
      ],
      "metadata": {
        "id": "f-IELbF9uw7w"
      }
    },
    {
      "cell_type": "code",
      "source": [
        "counter = 0             # 곱셈과 나눗셈을 합한 횟수\n",
        "prime = [2, 3]          # 소수를 저장하는 배열\n",
        "\n",
        "for n in range(5, 101, 2):     # 홀수만을 대상으로 설정\n",
        "    i = 1\n",
        "    while prime[i] * prime[i] <= n:\n",
        "        counter += 2\n",
        "        if n % prime[i] == 0:   # 나누어 떨어지므로 소수가 아님\n",
        "            break               # 반복 중단\n",
        "        i += 1\n",
        "    else:                       # 끝까지 나누어 떨어지지 않았다면\n",
        "        prime += [n]            # 소수로 배열에 등록 (등록 방법이 달라짐)\n",
        "        counter += 1\n",
        "\n",
        "for i in prime:                 # 소수를 출력\n",
        "    print(i)\n",
        "print(f'곱셈과 나눗셈을 실행한 횟수: {counter}')"
      ],
      "metadata": {
        "colab": {
          "base_uri": "https://localhost:8080/"
        },
        "id": "J6dzjdmEuugp",
        "outputId": "d48f5b37-8d75-4977-dcd4-84e1901a09ab"
      },
      "execution_count": null,
      "outputs": [
        {
          "output_type": "stream",
          "name": "stdout",
          "text": [
            "2\n",
            "3\n",
            "5\n",
            "7\n",
            "11\n",
            "13\n",
            "17\n",
            "19\n",
            "23\n",
            "29\n",
            "31\n",
            "37\n",
            "41\n",
            "43\n",
            "47\n",
            "53\n",
            "59\n",
            "61\n",
            "67\n",
            "71\n",
            "73\n",
            "79\n",
            "83\n",
            "89\n",
            "97\n",
            "곱셈과 나눗셈을 실행한 횟수: 191\n"
          ]
        }
      ]
    },
    {
      "cell_type": "code",
      "source": [
        "a = [1,2,3,4]\n",
        "a += [5]\n",
        "a"
      ],
      "metadata": {
        "colab": {
          "base_uri": "https://localhost:8080/"
        },
        "id": "DRLzem4zvGjr",
        "outputId": "3e6de3da-bd0e-41f1-d92a-0f71505a266c"
      },
      "execution_count": null,
      "outputs": [
        {
          "output_type": "execute_result",
          "data": {
            "text/plain": [
              "[1, 2, 3, 4, 5]"
            ]
          },
          "metadata": {},
          "execution_count": 55
        }
      ]
    },
    {
      "cell_type": "markdown",
      "source": [
        "* 2-10 더 자세하게 이해하기"
      ],
      "metadata": {
        "id": "3_Mo_A_OrKJN"
      }
    },
    {
      "cell_type": "code",
      "source": [
        "counter = 0            # 곱셈과 나눗셈을 합한 횟수\n",
        "ptr = 0                # 이미 찾은 소수의 개수\n",
        "prime = [None] * 10    # 소수를 저장하는 배열\n",
        "\n",
        "prime[ptr] = 2         # 2는 소수\n",
        "ptr += 1\n",
        "\n",
        "prime[ptr] = 3         # 3은 소수\n",
        "ptr += 1\n",
        "\n",
        "for n in range(5, 13, 2):  \n",
        "  i = 1\n",
        "  while prime[i] * prime[i] <= n:\n",
        "    counter += 2\n",
        "    if n % prime[i] == 0:\n",
        "      print(f'----- n이 {n}일 때')\n",
        "      print(f'{n}일 때 {n} % {prime[i]} == 0이 성립하기 때문에 break')\n",
        "      print(f'이때 곱셈과 나눗셈 실행 횟수 = {counter} \\n')\n",
        "      break\n",
        "    i += 1\n",
        "  else:\n",
        "    print(f'----- n이 {n}일 때')\n",
        "    print(f'prime[{i}] * prime[{i}] <= {n}이 성립하지 않음({prime[i]} * {prime[i]} = {prime[i] * prime[i]}). while문 실행 x ')\n",
        "    print(f'따라서 {n} 값이 prime 리스트에 추가됨')\n",
        "    prime[ptr] = n\n",
        "    print('지금까지 prime 리스트 상황 : ', prime[:ptr+1])\n",
        "    ptr += 1\n",
        "    counter += 1\n",
        "    print(f'지금까지 곱셈과 나눗셈 실행 횟수 = {counter}','\\n')\n",
        "    \n",
        "\n",
        "print(prime)\n",
        "print(f'곱셈과 나눗셈을 실행한 횟수 : {counter}')"
      ],
      "metadata": {
        "colab": {
          "base_uri": "https://localhost:8080/"
        },
        "id": "4lsT6pPppQsn",
        "outputId": "b7481738-f26d-4c70-bb91-94a7707dd95d"
      },
      "execution_count": null,
      "outputs": [
        {
          "output_type": "stream",
          "name": "stdout",
          "text": [
            "----- n이 5일 때\n",
            "prime[1] * prime[1] <= 5이 성립하지 않음(3 * 3 = 9). while문 실행 x \n",
            "따라서 5 값이 prime 리스트에 추가됨\n",
            "지금까지 prime 리스트 상황 :  [2, 3, 5]\n",
            "지금까지 곱셈과 나눗셈 실행 횟수 = 1 \n",
            "\n",
            "----- n이 7일 때\n",
            "prime[1] * prime[1] <= 7이 성립하지 않음(3 * 3 = 9). while문 실행 x \n",
            "따라서 7 값이 prime 리스트에 추가됨\n",
            "지금까지 prime 리스트 상황 :  [2, 3, 5, 7]\n",
            "지금까지 곱셈과 나눗셈 실행 횟수 = 2 \n",
            "\n",
            "----- n이 9일 때\n",
            "9일 때 9 % 3 == 0이 성립하기 때문에 break\n",
            "이때 곱셈과 나눗셈 실행 횟수 = 4 \n",
            "\n",
            "----- n이 11일 때\n",
            "prime[2] * prime[2] <= 11이 성립하지 않음(5 * 5 = 25). while문 실행 x \n",
            "따라서 11 값이 prime 리스트에 추가됨\n",
            "지금까지 prime 리스트 상황 :  [2, 3, 5, 7, 11]\n",
            "지금까지 곱셈과 나눗셈 실행 횟수 = 7 \n",
            "\n",
            "[2, 3, 5, 7, 11, None, None, None, None, None]\n",
            "곱셈과 나눗셈을 실행한 횟수 : 7\n"
          ]
        }
      ]
    },
    {
      "cell_type": "markdown",
      "source": [
        "### 보충) 리스트와 튜플"
      ],
      "metadata": {
        "id": "RbeKzikCd89S"
      }
    },
    {
      "cell_type": "markdown",
      "source": [
        "##### 따로 생성한 리스트, 튜플의 동일성 판단하기"
      ],
      "metadata": {
        "id": "3WaW8v_GdkJg"
      }
    },
    {
      "cell_type": "code",
      "source": [
        "list1 = [1,2,3,4,5]\n",
        "list2 = [1,2,3,4,5]\n",
        "list1 is list2"
      ],
      "metadata": {
        "id": "LjZIqlwXcuEy",
        "colab": {
          "base_uri": "https://localhost:8080/"
        },
        "outputId": "b3e19be1-a686-4931-ca24-4cf681b8c7cb"
      },
      "execution_count": null,
      "outputs": [
        {
          "output_type": "execute_result",
          "data": {
            "text/plain": [
              "False"
            ]
          },
          "metadata": {},
          "execution_count": 18
        }
      ]
    },
    {
      "cell_type": "markdown",
      "source": [
        "* 같은 리스트를 생성한 것처럼 보이지만 고정된 값(literal)이 아니기 때문에 False 출력됨"
      ],
      "metadata": {
        "id": "byKEvV8RdtiI"
      }
    },
    {
      "cell_type": "markdown",
      "source": [
        "##### 리스트, 튜플의 대입"
      ],
      "metadata": {
        "id": "7clV2bBUeBfU"
      }
    },
    {
      "cell_type": "code",
      "source": [
        "lst1 = [1,2,3,4,5]\n",
        "lst2 = lst1\n",
        "lst1 is lst2"
      ],
      "metadata": {
        "colab": {
          "base_uri": "https://localhost:8080/"
        },
        "id": "o158JnWQd2Uz",
        "outputId": "a7ae3a37-1388-40ac-9661-7e3ae17ad84a"
      },
      "execution_count": null,
      "outputs": [
        {
          "output_type": "execute_result",
          "data": {
            "text/plain": [
              "True"
            ]
          },
          "metadata": {},
          "execution_count": 19
        }
      ]
    },
    {
      "cell_type": "code",
      "source": [
        "lst1[2] = 9\n",
        "lst1"
      ],
      "metadata": {
        "colab": {
          "base_uri": "https://localhost:8080/"
        },
        "id": "xyafTb16eKdl",
        "outputId": "c74e46d8-9fdd-4f5d-9aca-33e6f0eddb22"
      },
      "execution_count": null,
      "outputs": [
        {
          "output_type": "execute_result",
          "data": {
            "text/plain": [
              "[1, 2, 9, 4, 5]"
            ]
          },
          "metadata": {},
          "execution_count": 20
        }
      ]
    },
    {
      "cell_type": "code",
      "source": [
        "lst2"
      ],
      "metadata": {
        "colab": {
          "base_uri": "https://localhost:8080/"
        },
        "id": "NfXxHUNueVfA",
        "outputId": "36d0b084-7507-4439-f86f-f342a420017d"
      },
      "execution_count": null,
      "outputs": [
        {
          "output_type": "execute_result",
          "data": {
            "text/plain": [
              "[1, 2, 9, 4, 5]"
            ]
          },
          "metadata": {},
          "execution_count": 21
        }
      ]
    },
    {
      "cell_type": "markdown",
      "source": [
        "* 리스트 2개를 선언하여 서로 대입해도 원소 자체는 복사되지 않음. 대입에서 복사되는 것은 값이 아니라 참조하는 곳이기 때문  \n",
        "* 대입식 lst2 = lst1 에서 lst2 는 lst1 을 참조"
      ],
      "metadata": {
        "id": "R8FpuFRkeXoQ"
      }
    },
    {
      "cell_type": "markdown",
      "source": [
        "##### 리스트 스캔"
      ],
      "metadata": {
        "id": "dff9APulfJ4a"
      }
    },
    {
      "cell_type": "markdown",
      "source": [
        "* 실습 2c-1\n",
        "  * 리스트의 모든 원소를 스캔하기 (원소 수를 미리 파악)"
      ],
      "metadata": {
        "id": "lSqhYsejfeQq"
      }
    },
    {
      "cell_type": "code",
      "source": [
        "x = ['John', 'George', 'Paul', 'Ringo']\n",
        "\n",
        "for i in range(len(x)):\n",
        "  print(f'x[{i}] = {x[i]}')"
      ],
      "metadata": {
        "colab": {
          "base_uri": "https://localhost:8080/"
        },
        "id": "xMEiHAgeeWnd",
        "outputId": "0f5491ca-44dd-4987-afb2-a8a71c9690ca"
      },
      "execution_count": null,
      "outputs": [
        {
          "output_type": "stream",
          "name": "stdout",
          "text": [
            "x[0] = John\n",
            "x[1] = George\n",
            "x[2] = Paul\n",
            "x[3] = Ringo\n"
          ]
        }
      ]
    },
    {
      "cell_type": "markdown",
      "source": [
        "* 실습 2c-2\n",
        "  * 리스트의 모든 원소를 enumerate() 함수로 스캔하기"
      ],
      "metadata": {
        "id": "28eg3Toff_ra"
      }
    },
    {
      "cell_type": "code",
      "source": [
        "x = ['John', 'George', 'Paul', 'Ringo']\n",
        "\n",
        "for i, name in enumerate(x):\n",
        "  print(f'x[{i}] = {name}')"
      ],
      "metadata": {
        "colab": {
          "base_uri": "https://localhost:8080/"
        },
        "id": "ca20AUkzf-gj",
        "outputId": "0a15bf64-ec6a-4922-8e0a-63e285fb0873"
      },
      "execution_count": null,
      "outputs": [
        {
          "output_type": "stream",
          "name": "stdout",
          "text": [
            "x[0] = John\n",
            "x[1] = George\n",
            "x[2] = Paul\n",
            "x[3] = Ringo\n"
          ]
        }
      ]
    },
    {
      "cell_type": "markdown",
      "source": [
        "* 실습 2c-3\n",
        "  * 리스트의 모든 원소를 enumarate() 함수로 스캔하기 (1부터 카운트)"
      ],
      "metadata": {
        "id": "WDw2mwCcgOv1"
      }
    },
    {
      "cell_type": "code",
      "source": [
        "x = ['John', 'George', 'Paul', 'Ringo']\n",
        "\n",
        "for i, name in enumerate(x, 1):\n",
        "  print(f'{i}번째 = {name}')"
      ],
      "metadata": {
        "colab": {
          "base_uri": "https://localhost:8080/"
        },
        "id": "k5CAJ73hgNcv",
        "outputId": "7024e65c-c6ce-44f9-c0a3-560a7a916a17"
      },
      "execution_count": null,
      "outputs": [
        {
          "output_type": "stream",
          "name": "stdout",
          "text": [
            "1번째 = John\n",
            "2번째 = George\n",
            "3번째 = Paul\n",
            "4번째 = Ringo\n"
          ]
        }
      ]
    },
    {
      "cell_type": "markdown",
      "source": [
        "* 실습 2c-4\n",
        "  * 리스트의 모든 원소를 스캔하기 (인덱스 값을 사용하지 않고)"
      ],
      "metadata": {
        "id": "zKTXgtqagfF7"
      }
    },
    {
      "cell_type": "code",
      "source": [
        "x = ['John', 'George', 'Paul', 'Ringo']\n",
        "\n",
        "for i in x:\n",
        "  print(i)"
      ],
      "metadata": {
        "colab": {
          "base_uri": "https://localhost:8080/"
        },
        "id": "gc4cxHuLgd4q",
        "outputId": "5d13fe14-53e5-4999-cc73-7e51490d3ca2"
      },
      "execution_count": null,
      "outputs": [
        {
          "output_type": "stream",
          "name": "stdout",
          "text": [
            "John\n",
            "George\n",
            "Paul\n",
            "Ringo\n"
          ]
        }
      ]
    },
    {
      "cell_type": "markdown",
      "source": [
        "##### 튜플의 스캔"
      ],
      "metadata": {
        "id": "zRirCLDKgnzH"
      }
    },
    {
      "cell_type": "markdown",
      "source": [
        "* 실습 2c-1\n",
        "  * 튜플의 모든 원소를 스캔하기 (원소 수를 미리 파악)"
      ],
      "metadata": {
        "id": "IEFLpe7DhN6H"
      }
    },
    {
      "cell_type": "code",
      "source": [
        "x = ('John', 'George', 'Paul', 'Ringo')\n",
        "\n",
        "for i in range(len(x)):\n",
        "  print(f'x[{i}] = {x[i]}')"
      ],
      "metadata": {
        "colab": {
          "base_uri": "https://localhost:8080/"
        },
        "id": "dY5qRgNOgmiK",
        "outputId": "5422bf4c-f46e-4492-b714-7fe3818ffb91"
      },
      "execution_count": null,
      "outputs": [
        {
          "output_type": "stream",
          "name": "stdout",
          "text": [
            "x[0] = John\n",
            "x[1] = George\n",
            "x[2] = Paul\n",
            "x[3] = Ringo\n"
          ]
        }
      ]
    },
    {
      "cell_type": "markdown",
      "source": [
        "* 실습 2c-2\n",
        "  * 튜플의 모든 원소를 enumerate() 함수로 스캔하기"
      ],
      "metadata": {
        "id": "06qfWyFxhhiC"
      }
    },
    {
      "cell_type": "code",
      "source": [
        "x = ('John', 'George', 'Paul', 'Ringo')\n",
        "\n",
        "for i, name in enumerate(x):\n",
        "  print(f'x[{i}] = {name}')"
      ],
      "metadata": {
        "colab": {
          "base_uri": "https://localhost:8080/"
        },
        "id": "BfiBKtcOhbog",
        "outputId": "ff4fc58c-c034-4e39-bf7a-20406cb7e6cb"
      },
      "execution_count": null,
      "outputs": [
        {
          "output_type": "stream",
          "name": "stdout",
          "text": [
            "x[0] = John\n",
            "x[1] = George\n",
            "x[2] = Paul\n",
            "x[3] = Ringo\n"
          ]
        }
      ]
    },
    {
      "cell_type": "markdown",
      "source": [
        "* 실습 2c-3\n",
        "  * 튜플의 모든 원소를 enumarate() 함수로 스캔하기 (1부터 카운트)"
      ],
      "metadata": {
        "id": "Jy82td-QhtVJ"
      }
    },
    {
      "cell_type": "code",
      "source": [
        "x = ('John', 'George', 'Paul', 'Ringo')\n",
        "\n",
        "for i, name in enumerate(x,1):\n",
        "  print(f'{i}번째 = {name}')"
      ],
      "metadata": {
        "colab": {
          "base_uri": "https://localhost:8080/"
        },
        "id": "TJ8UU42Nhrvu",
        "outputId": "4c6ca261-c59f-4f54-f123-87fcfa011983"
      },
      "execution_count": null,
      "outputs": [
        {
          "output_type": "stream",
          "name": "stdout",
          "text": [
            "1번째 = John\n",
            "2번째 = George\n",
            "3번째 = Paul\n",
            "4번째 = Ringo\n"
          ]
        }
      ]
    },
    {
      "cell_type": "markdown",
      "source": [
        "* 실습 2c-4\n",
        "  * 리스트의 모든 원소를 스캔하기 (인덱스 값을 사용하지 않고)"
      ],
      "metadata": {
        "id": "QphQ-88DiHXL"
      }
    },
    {
      "cell_type": "code",
      "source": [
        "x = ('John', 'George', 'Paul', 'Ringo')\n",
        "\n",
        "for i in x:\n",
        "  print(i)"
      ],
      "metadata": {
        "colab": {
          "base_uri": "https://localhost:8080/"
        },
        "id": "mA1YFvxgh3hZ",
        "outputId": "374d3792-1e28-4872-bfa4-f20fa6fa303c"
      },
      "execution_count": null,
      "outputs": [
        {
          "output_type": "stream",
          "name": "stdout",
          "text": [
            "John\n",
            "George\n",
            "Paul\n",
            "Ringo\n"
          ]
        }
      ]
    },
    {
      "cell_type": "markdown",
      "source": [
        "##### 이터러블"
      ],
      "metadata": {
        "id": "20TCWFRoinHY"
      }
    },
    {
      "cell_type": "markdown",
      "source": [
        "* 문자열, 리스트, 튜플, 딕셔너리, 집합 등의 자료형 객체는 모두 이터러블( 반복 가능)함\n",
        "* 이터러블 객체는 원소를 하나씩 꺼내는 구조\n",
        "* 이터러블 객체를 내장 함수인 iter()의 인수로 전달하면 그 객체에 대한 이터레이터(반복자)를 반환\n",
        "* 이터레이터는 데이터의 나열을 표현하는 객체\n",
        "* 이터레이터의 `__next__` 함수를 호출하거나 내장 함수인 `next()` 함수에 이터레이터를 전달하면 원소를 순차적으로 꺼낼 수 있음\n",
        "* 꺼낼 원소가 더 이상 없는 경우에는 StopIteration으로 예외 발생 시킴"
      ],
      "metadata": {
        "id": "L5LDWnfHi7ML"
      }
    },
    {
      "cell_type": "markdown",
      "source": [
        "##### 리스트 역순"
      ],
      "metadata": {
        "id": "usCC35zonapX"
      }
    },
    {
      "cell_type": "code",
      "source": [
        "x = ['John', 'George', 'Paul', 'Ringo']\n",
        "\n",
        "x.reverse()\n",
        "x"
      ],
      "metadata": {
        "colab": {
          "base_uri": "https://localhost:8080/"
        },
        "id": "Ac9ybtcOnco-",
        "outputId": "9471633c-9b8c-4416-aa0a-a5156d93bb95"
      },
      "execution_count": null,
      "outputs": [
        {
          "output_type": "execute_result",
          "data": {
            "text/plain": [
              "['Ringo', 'Paul', 'George', 'John']"
            ]
          },
          "metadata": {},
          "execution_count": 48
        }
      ]
    },
    {
      "cell_type": "code",
      "source": [
        "y = list(reversed(x))\n",
        "y"
      ],
      "metadata": {
        "colab": {
          "base_uri": "https://localhost:8080/"
        },
        "id": "nK27rn71npRH",
        "outputId": "ba307ade-2536-4e53-efcf-f03849e2eeb9"
      },
      "execution_count": null,
      "outputs": [
        {
          "output_type": "execute_result",
          "data": {
            "text/plain": [
              "['John', 'George', 'Paul', 'Ringo']"
            ]
          },
          "metadata": {},
          "execution_count": 49
        }
      ]
    },
    {
      "cell_type": "markdown",
      "source": [
        "##### 리스트의 원소 복사"
      ],
      "metadata": {
        "id": "RtcYBWDEwnNU"
      }
    },
    {
      "cell_type": "markdown",
      "source": [
        "* 얕은 복사 (shallow copy)\n",
        "  * 리스트 안의 모든 원소가 참조하는 곳까지 복사됨\n",
        "  * 객체가 갖는 멤버의 값을 새로운 객체로 복사할 때 객체가 참조 자료형의 멤버를 포함하는 경우\n",
        "  * 참조값만 복사하는 방식"
      ],
      "metadata": {
        "id": "eZcNDHqKw97K"
      }
    },
    {
      "cell_type": "code",
      "source": [
        "x= [[1,2,3], [4,5,6]]\n",
        "print('변경 전 list x = ', x)\n",
        "y = x.copy()\n",
        "x[0][1] = 0\n",
        "print('변경 후 list x = ', x)\n",
        "print('변경 후 list y = ', y)"
      ],
      "metadata": {
        "colab": {
          "base_uri": "https://localhost:8080/"
        },
        "id": "tg_StpwVwq4R",
        "outputId": "24bad3cf-a29f-4aa5-ed56-b0d707b36371"
      },
      "execution_count": null,
      "outputs": [
        {
          "output_type": "stream",
          "name": "stdout",
          "text": [
            "변경 전 list x =  [[1, 2, 3], [4, 5, 6]]\n",
            "변경 후 list x =  [[1, 0, 3], [4, 5, 6]]\n",
            "변경 후 list y =  [[1, 0, 3], [4, 5, 6]]\n"
          ]
        }
      ]
    },
    {
      "cell_type": "markdown",
      "source": [
        "* 깊은 복사 (deep copy)\n",
        "  * 참조값 뿐만 아니라 참조하는 객체 자체를 복사하는 방식\n",
        "  * 객체가 갖는 모든 멤버(값과 참조 형식 모두)를 복사 = 전체 복사"
      ],
      "metadata": {
        "id": "5WUUnthFxBUM"
      }
    },
    {
      "cell_type": "code",
      "source": [
        "import copy \n",
        "\n",
        "x= [[1,2,3], [4,5,6]]\n",
        "print('변경 전 list x = ', x)\n",
        "y = copy.deepcopy(x)\n",
        "x[0][1] = 0\n",
        "print('변경 후 list x = ', x)\n",
        "print('변경 후 list y = ', y)"
      ],
      "metadata": {
        "colab": {
          "base_uri": "https://localhost:8080/"
        },
        "id": "hzk_FgfYxE2K",
        "outputId": "d8bc54e2-7b34-4c3a-f209-b69ac9f7bdde"
      },
      "execution_count": null,
      "outputs": [
        {
          "output_type": "stream",
          "name": "stdout",
          "text": [
            "변경 전 list x =  [[1, 2, 3], [4, 5, 6]]\n",
            "변경 후 list x =  [[1, 0, 3], [4, 5, 6]]\n",
            "변경 후 list y =  [[1, 2, 3], [4, 5, 6]]\n"
          ]
        }
      ]
    },
    {
      "cell_type": "markdown",
      "source": [
        "### 보충) 함수 사이에 인수 주고 받기"
      ],
      "metadata": {
        "id": "cBdaA4Y11wzX"
      }
    },
    {
      "cell_type": "markdown",
      "source": [
        "1. **인수가 이뮤터블일 때** : 실습 2c-5\n",
        "  * 함수 안에서 매개 변수의 값을 변경하면 다른 객체를 생성하고 그 객체에 대한 참조로 업데이트 됨. 따라서 매개변수의 값을 변경해도 호출하는 쪽의 실제 인수에는 영향을 주지 않음\n",
        "\n",
        "2. **인수가 뮤터블일 때** : 실습 2c-6\n",
        "  * 함수 안에서 매개변수의 값을 변경하면 객체 자체가 없데이트. 따라서 매개변수의 값을 변경하면 호출하는 쪽의 실제 인수는 값이 변경됨."
      ],
      "metadata": {
        "id": "zFrkuktC2aic"
      }
    },
    {
      "cell_type": "markdown",
      "source": [
        "#### 실습 2c-5."
      ],
      "metadata": {
        "id": "ZM0a9Fuw10q4"
      }
    },
    {
      "cell_type": "markdown",
      "source": [
        "* 1부터 n까지 정수의 합 구하기"
      ],
      "metadata": {
        "id": "1_tXH39T14Cp"
      }
    },
    {
      "cell_type": "code",
      "source": [
        "def sum_1ton(n):\n",
        "  \"\"\"1부터 n까지 정수의 합\"\"\"\n",
        "  s = 0\n",
        "  while n > 0:\n",
        "    s += n\n",
        "    n -= 1\n",
        "  return s\n",
        "\n",
        "x = int(input('x의 값을 입력하세요 : '))\n",
        "print(f'1부터 {x}까지 정수의 합은 {sum_1ton(x)}입니다.')"
      ],
      "metadata": {
        "colab": {
          "base_uri": "https://localhost:8080/"
        },
        "id": "ih5i3wYF17k3",
        "outputId": "2c388215-22d2-414a-ecdd-3bfdcea0b296"
      },
      "execution_count": null,
      "outputs": [
        {
          "output_type": "stream",
          "name": "stdout",
          "text": [
            "x의 값을 입력하세요 : 5\n",
            "1부터 5까지 정수의 합은 15입니다.\n"
          ]
        }
      ]
    },
    {
      "cell_type": "markdown",
      "source": [
        "* 매개변수 n으로 실제 인수 x의 값이 복사되었다고 생각하면 안됨.  \n",
        "함수 종료 시점에 x = 5, n = 0임"
      ],
      "metadata": {
        "id": "3UE0sNK62-i9"
      }
    },
    {
      "cell_type": "markdown",
      "source": [
        "#### 실습 2c-6."
      ],
      "metadata": {
        "id": "RXK0hHhF3Lop"
      }
    },
    {
      "cell_type": "markdown",
      "source": [
        "* 리스트에서 임의의 원솟값을 업데이트하기"
      ],
      "metadata": {
        "id": "vqcGWGhw3QLJ"
      }
    },
    {
      "cell_type": "code",
      "source": [
        "def change(lst, idx, val):\n",
        "  \"\"\"lst[idx]의 값을 val로 업데이트\"\"\"\n",
        "  lst[idx] = val\n",
        "\n",
        "x = [11,22,33,44,55]\n",
        "print('x = ', x)\n",
        "\n",
        "index = int(input('업데이트 할 인덱스 선택 : '))\n",
        "value = int(input('새로운 값 입력 : '))\n",
        "\n",
        "change(x, index, value)\n",
        "print(f'x = {x}')"
      ],
      "metadata": {
        "colab": {
          "base_uri": "https://localhost:8080/"
        },
        "id": "0S_N54JF2ROX",
        "outputId": "2dcea8e6-37f3-4a40-eafa-feae56d968a1"
      },
      "execution_count": null,
      "outputs": [
        {
          "output_type": "stream",
          "name": "stdout",
          "text": [
            "x =  [11, 22, 33, 44, 55]\n",
            "업데이트 할 인덱스 선택 : 2\n",
            "새로운 값 입력 : 99\n",
            "x = [11, 22, 99, 44, 55]\n"
          ]
        }
      ]
    }
  ]
}