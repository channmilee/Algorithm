{
  "nbformat": 4,
  "nbformat_minor": 0,
  "metadata": {
    "colab": {
      "provenance": [],
      "authorship_tag": "ABX9TyO3jdKEiBeX8WRaY2lZtA+3",
      "include_colab_link": true
    },
    "kernelspec": {
      "name": "python3",
      "display_name": "Python 3"
    },
    "language_info": {
      "name": "python"
    }
  },
  "cells": [
    {
      "cell_type": "markdown",
      "metadata": {
        "id": "view-in-github",
        "colab_type": "text"
      },
      "source": [
        "<a href=\"https://colab.research.google.com/github/channmilee/Algorithm/blob/master/6_4_%EB%8B%A8%EC%88%9C_%EC%82%BD%EC%9E%85_%EC%A0%95%EB%A0%AC.ipynb\" target=\"_parent\"><img src=\"https://colab.research.google.com/assets/colab-badge.svg\" alt=\"Open In Colab\"/></a>"
      ]
    },
    {
      "cell_type": "markdown",
      "source": [
        "## 단순 삽입 정렬 알아보기"
      ],
      "metadata": {
        "id": "e1_U-hnyKBkp"
      }
    },
    {
      "cell_type": "markdown",
      "source": [
        "* **단순 삽입 정렬** : 주목한 원소보다 더 앞족에서 알맞은 위치로 삽입하며 정렬하는 알고리즘\n",
        "* 값이 가장 작은 원소를 선택하지 않는다는 점이 단순 선택 정렬과 다름\n",
        "* [단순 삽입 정렬 알고리즘 알아보기](https://ddrt44al.tistory.com/52)\n",
        "\n",
        "\n",
        "\n",
        "> **단순 삽입 정렬 교환 과정**\n",
        "  * 아직 정렬되지 않은 부분의 맨 앞 원소를 정렬된 부분의 알맞은 위치에 삽입\n",
        "```\n",
        "for i in range(1, n):\n",
        "tmp <- a[i] \n",
        "tmp를 a[0], ... , a[i-1]의 알맞은 위치에 삽입\n",
        "```\n",
        "**종료 조건**\n",
        "1. 정렬된 배열의 왼쪽 끝에 도달한 경우\n",
        "2. tmp보다 작거나 키값이 같은 원소 a[j - 1]을 발견한 경우  \n",
        "**계속 조건**\n",
        "1. j가 0보다 큰 경우\n",
        "2. a[j - 1]의 값이 tmp보다 큰 경우\n",
        "\n",
        "\n"
      ],
      "metadata": {
        "id": "TXvbDGzzIvee"
      }
    },
    {
      "cell_type": "markdown",
      "source": [
        "### 실습 6-7."
      ],
      "metadata": {
        "id": "T4z6VKmZTcxV"
      }
    },
    {
      "cell_type": "markdown",
      "source": [
        "* 단순 삽입 정렬 알고리즘 구현하기"
      ],
      "metadata": {
        "id": "pfzd2BP-Kr_Q"
      }
    },
    {
      "cell_type": "code",
      "source": [
        "from typing import MutableSequence\n",
        "\n",
        "def insertion_sort(a: MutableSequence) -> None:\n",
        "  \"\"\"단순 삽입 정렬\"\"\"\n",
        "  n = len(a)\n",
        "  for i in range(1, n):\n",
        "    j = i\n",
        "    tmp = a[i]\n",
        "    while j > 0 and a[j - 1] > tmp:\n",
        "      a[j] = a[j - 1]\n",
        "      j -= 1\n",
        "    a[j] = tmp\n",
        "\n",
        "if __name__ == '__main__':\n",
        "  print('단순 삽입 정렬을 수행합니다.')\n",
        "  num = int(input('원소 수를 입력하세요 : '))\n",
        "  x = [None] * num\n",
        "\n",
        "  for i in range(num):\n",
        "    x[i] = int(input(f'x[{i}] : '))\n",
        "\n",
        "  insertion_sort(x)       # 배열 x를 단순 삽입 정렬\n",
        "\n",
        "  print('오름차순으로 정렬했습니다.')\n",
        "  for i in range(num):\n",
        "    print(f'x[{i}] = {x[i]}')"
      ],
      "metadata": {
        "colab": {
          "base_uri": "https://localhost:8080/"
        },
        "id": "tir9cJGbTgIx",
        "outputId": "c87c1d60-39b3-47e9-d67e-31f7342dfa0d"
      },
      "execution_count": 1,
      "outputs": [
        {
          "output_type": "stream",
          "name": "stdout",
          "text": [
            "단순 삽입 정렬을 수행합니다.\n",
            "원소 수를 입력하세요 : 7\n",
            "x[0] : 6\n",
            "x[1] : 4\n",
            "x[2] : 3\n",
            "x[3] : 7\n",
            "x[4] : 1\n",
            "x[5] : 9\n",
            "x[6] : 8\n",
            "오름차순으로 정렬했습니다.\n",
            "x[0] = 1\n",
            "x[1] = 3\n",
            "x[2] = 4\n",
            "x[3] = 6\n",
            "x[4] = 7\n",
            "x[5] = 8\n",
            "x[6] = 9\n"
          ]
        }
      ]
    },
    {
      "cell_type": "markdown",
      "source": [
        "* 서로 떨어져 있는 원소를 교환하지 않으므로 안정적인 알고리즘\n",
        "* 원소 비교 횟수, 교환 횟수 = n^2 / 2"
      ],
      "metadata": {
        "id": "32s1JPinY4ma"
      }
    },
    {
      "cell_type": "markdown",
      "source": [
        "* 단순 삽입 알고리즘 자세히 알아보기"
      ],
      "metadata": {
        "id": "vUTbDrjldW_K"
      }
    },
    {
      "cell_type": "code",
      "source": [
        "a = [6,4,3,7,1,9,8]\n",
        "n = len(a)\n",
        "\n",
        "for i in range(1, n):\n",
        "  j = i\n",
        "  tmp = a[i]\n",
        "  print(f'--- i = {i}, tmp = {a[i]}')\n",
        "  while j > 0 and a[j - 1] > tmp:\n",
        "    print(f'* j = {j} --> a[j - 1] = {a[j - 1]} | a[j] = {a[j]}')\n",
        "    a[j] = a[j - 1]\n",
        "    print(a, '\\n')\n",
        "    j -= 1\n",
        "  a[j] = tmp\n",
        "  print(f'* a[{j}] = {tmp}')\n",
        "  print('정렬 후 리스트', a, '\\n')\n"
      ],
      "metadata": {
        "colab": {
          "base_uri": "https://localhost:8080/"
        },
        "id": "hwkAqS0Xc9e5",
        "outputId": "0e3d8f1b-06b2-486f-c72e-990faa60fc31"
      },
      "execution_count": 16,
      "outputs": [
        {
          "output_type": "stream",
          "name": "stdout",
          "text": [
            "--- i = 1, tmp = 4\n",
            "* j = 1 --> a[j - 1] = 6 | a[j] = 4\n",
            "[6, 6, 3, 7, 1, 9, 8] \n",
            "\n",
            "* a[0] = 4\n",
            "정렬 후 리스트 [4, 6, 3, 7, 1, 9, 8] \n",
            "\n",
            "--- i = 2, tmp = 3\n",
            "* j = 2 --> a[j - 1] = 6 | a[j] = 3\n",
            "[4, 6, 6, 7, 1, 9, 8] \n",
            "\n",
            "* j = 1 --> a[j - 1] = 4 | a[j] = 6\n",
            "[4, 4, 6, 7, 1, 9, 8] \n",
            "\n",
            "* a[0] = 3\n",
            "정렬 후 리스트 [3, 4, 6, 7, 1, 9, 8] \n",
            "\n",
            "--- i = 3, tmp = 7\n",
            "* a[3] = 7\n",
            "정렬 후 리스트 [3, 4, 6, 7, 1, 9, 8] \n",
            "\n",
            "--- i = 4, tmp = 1\n",
            "* j = 4 --> a[j - 1] = 7 | a[j] = 1\n",
            "[3, 4, 6, 7, 7, 9, 8] \n",
            "\n",
            "* j = 3 --> a[j - 1] = 6 | a[j] = 7\n",
            "[3, 4, 6, 6, 7, 9, 8] \n",
            "\n",
            "* j = 2 --> a[j - 1] = 4 | a[j] = 6\n",
            "[3, 4, 4, 6, 7, 9, 8] \n",
            "\n",
            "* j = 1 --> a[j - 1] = 3 | a[j] = 4\n",
            "[3, 3, 4, 6, 7, 9, 8] \n",
            "\n",
            "* a[0] = 1\n",
            "정렬 후 리스트 [1, 3, 4, 6, 7, 9, 8] \n",
            "\n",
            "--- i = 5, tmp = 9\n",
            "* a[5] = 9\n",
            "정렬 후 리스트 [1, 3, 4, 6, 7, 9, 8] \n",
            "\n",
            "--- i = 6, tmp = 8\n",
            "* j = 6 --> a[j - 1] = 9 | a[j] = 8\n",
            "[1, 3, 4, 6, 7, 9, 9] \n",
            "\n",
            "* a[5] = 8\n",
            "정렬 후 리스트 [1, 3, 4, 6, 7, 8, 9] \n",
            "\n"
          ]
        }
      ]
    },
    {
      "cell_type": "markdown",
      "source": [
        "## 이진 삽입 정렬"
      ],
      "metadata": {
        "id": "qD73ZnMGZVXT"
      }
    },
    {
      "cell_type": "markdown",
      "source": [
        "* 단순 삽입 정렬은 배열 원소 수가 많아지면 원소 삽입에 필요한 비교, 교환 비용이 커짐\n",
        "* **이진 검색법**을 사용하여 삽입 정렬을 하면 이미 정렬을 마친 배열을 제외하고 원소를 삽입해야 할 위치를 검사하므로 비용을 줄일 수 있음"
      ],
      "metadata": {
        "id": "BA6szbkDUVId"
      }
    },
    {
      "cell_type": "markdown",
      "source": [
        "### 실습 6c-1"
      ],
      "metadata": {
        "id": "3iOaMzA6Zp6H"
      }
    },
    {
      "cell_type": "markdown",
      "source": [
        "* 이진 삽입 정렬 알고리즘 구현하기"
      ],
      "metadata": {
        "id": "wtZi8im-Zom9"
      }
    },
    {
      "cell_type": "code",
      "source": [
        "from typing import MutableSequence\n",
        "\n",
        "def binary_insertion_sort(a: MutableSequence) -> None:\n",
        "    \"\"\"이진 삽입 정렬\"\"\"\n",
        "    n = len(a)\n",
        "    for i in range(1, n):\n",
        "        key = a[i]\n",
        "        pl = 0      # 검색 범위의 맨 앞 원소 인덱스\n",
        "        pr = i - 1  # 검색 범위의 맨 끝 원소 인덱스\n",
        "\n",
        "        while True:\n",
        "            pc = (pl + pr) // 2  # 검색 범위의 중앙 원소 인덱스\n",
        "            if a[pc] == key:     # 검색 성공\n",
        "                break\n",
        "            elif a[pc] < key:\n",
        "                pl = pc + 1\n",
        "            else:\n",
        "                pr = pc - 1\n",
        "            if pl > pr:\n",
        "                break\n",
        "    \n",
        "        pd = pc + 1 if pl <= pr else pr + 1  # 삽입할 위치의 인덱스\n",
        "\n",
        "        for j in range(i, pd, -1):\n",
        "            a[j] = a[j - 1]\n",
        "        a[pd] = key\n",
        "\n",
        "if __name__ == \"__main__\":\n",
        "    print(\"이진 삽입 정렬을 수행합니다.\")\n",
        "    num = int(input(\"원소 수를 입력하세요.: \"))\n",
        "    x = [None] * num          # 원소 수가 num인 배열을 생성\n",
        "\n",
        "    for i in range(num):\n",
        "        x[i] = int(input(f\"x[{i}]: \"))\n",
        "\n",
        "    binary_insertion_sort(x)  # 배열 x를 이진 삽입 정렬\n",
        "\n",
        "    print(\"오름차순으로 정렬했습니다.\")\n",
        "    for i in range(num):\n",
        "        print(f\"x[{i}] = {x[i]}\")"
      ],
      "metadata": {
        "colab": {
          "base_uri": "https://localhost:8080/"
        },
        "id": "hPFkIgn_Ztjf",
        "outputId": "8dd5a9a6-4e01-4b0d-d032-b43de0b67019"
      },
      "execution_count": 17,
      "outputs": [
        {
          "output_type": "stream",
          "name": "stdout",
          "text": [
            "이진 삽입 정렬을 수행합니다.\n",
            "원소 수를 입력하세요.: 7\n",
            "x[0]: 6\n",
            "x[1]: 4\n",
            "x[2]: 3\n",
            "x[3]: 7\n",
            "x[4]: 1\n",
            "x[5]: 9\n",
            "x[6]: 8\n",
            "오름차순으로 정렬했습니다.\n",
            "x[0] = 1\n",
            "x[1] = 3\n",
            "x[2] = 4\n",
            "x[3] = 6\n",
            "x[4] = 7\n",
            "x[5] = 8\n",
            "x[6] = 9\n"
          ]
        }
      ]
    },
    {
      "cell_type": "markdown",
      "source": [
        "### 실습 6c-2"
      ],
      "metadata": {
        "id": "edpEarjFqwXe"
      }
    },
    {
      "cell_type": "markdown",
      "source": [
        "* 이진 삽입 정렬 알고리즘 구현(bisect.insort 사용)"
      ],
      "metadata": {
        "id": "yGAVuW2PbHYI"
      }
    },
    {
      "cell_type": "markdown",
      "source": [
        "* bisect.insort(a, x, lo, hi)\n",
        "  * a가 이미 정렬된 상태를 유지하면서 a[lo] ~ a[hi]사이에 x를 삽입\n",
        "  * 만약 a안에 x와 같은 값을 갖는 원소가 여러 개 있으면 가장 오른쪽 위치에 삽입"
      ],
      "metadata": {
        "id": "GQkyoWmDrUkk"
      }
    },
    {
      "cell_type": "code",
      "source": [
        "from typing import MutableSequence\n",
        "import bisect\n",
        "\n",
        "def binary_insertion_sort(a:MutableSequence) -> None:\n",
        "  \"\"\"이진 삽입 정렬(bisect.insort 사용)\"\"\"\n",
        "  for i in range(1, len(a)):\n",
        "    bisect.insort(a, a.pop(i), 0, i)\n",
        "\n",
        "if __name__ == '__main__':\n",
        "    print('이진 삽입 정렬을 수행합니다.')\n",
        "    num = int(input('원소 수를 입력하세요.: '))\n",
        "    x = [None] * num            # 원소 수가 num인 배열을 생성\n",
        "\n",
        "    for i in range(num):\n",
        "        x[i] = int(input(f'x[{i}]: '))\n",
        "\n",
        "    binary_insertion_sort(x)    # 배열 x를 이진 삽입 정렬\n",
        "\n",
        "    print('오름차순으로 정렬했습니다.')\n",
        "    for i in range(num):\n",
        "        print(f'x[{i}] = {x[i]}')"
      ],
      "metadata": {
        "colab": {
          "base_uri": "https://localhost:8080/"
        },
        "id": "4vDn0VG3q18k",
        "outputId": "ca6d4347-d510-47a2-a0ef-a5dce29e9076"
      },
      "execution_count": 18,
      "outputs": [
        {
          "output_type": "stream",
          "name": "stdout",
          "text": [
            "이진 삽입 정렬을 수행합니다.\n",
            "원소 수를 입력하세요.: 7\n",
            "x[0]: 6\n",
            "x[1]: 4\n",
            "x[2]: 3\n",
            "x[3]: 7\n",
            "x[4]: 1\n",
            "x[5]: 9\n",
            "x[6]: 8\n",
            "오름차순으로 정렬했습니다.\n",
            "x[0] = 1\n",
            "x[1] = 3\n",
            "x[2] = 4\n",
            "x[3] = 6\n",
            "x[4] = 7\n",
            "x[5] = 8\n",
            "x[6] = 9\n"
          ]
        }
      ]
    }
  ]
}