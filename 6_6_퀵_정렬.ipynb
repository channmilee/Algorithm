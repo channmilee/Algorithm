{
  "nbformat": 4,
  "nbformat_minor": 0,
  "metadata": {
    "colab": {
      "provenance": [],
      "authorship_tag": "ABX9TyNthssiM53vKCMu2NJEcsnV",
      "include_colab_link": true
    },
    "kernelspec": {
      "name": "python3",
      "display_name": "Python 3"
    },
    "language_info": {
      "name": "python"
    }
  },
  "cells": [
    {
      "cell_type": "markdown",
      "metadata": {
        "id": "view-in-github",
        "colab_type": "text"
      },
      "source": [
        "<a href=\"https://colab.research.google.com/github/channmilee/Algorithm/blob/master/6_6_%ED%80%B5_%EC%A0%95%EB%A0%AC.ipynb\" target=\"_parent\"><img src=\"https://colab.research.google.com/assets/colab-badge.svg\" alt=\"Open In Colab\"/></a>"
      ]
    },
    {
      "cell_type": "markdown",
      "source": [
        "## 퀵 정렬 알아보기"
      ],
      "metadata": {
        "id": "w_9Q1ZA8RFb_"
      }
    },
    {
      "cell_type": "markdown",
      "source": [
        "* 가장 빠른 정렬 알고리즘으로 알려져 있음\n",
        "* [퀵 정렬 알아보기](https://ddrt44al.tistory.com/54)"
      ],
      "metadata": {
        "id": "qhc24LDTRAxJ"
      }
    },
    {
      "cell_type": "markdown",
      "source": [
        "## 배열을 두 그룹으로 나누기"
      ],
      "metadata": {
        "id": "IsAwsfMHRNPh"
      }
    },
    {
      "cell_type": "markdown",
      "source": [
        "### 실습 6-10"
      ],
      "metadata": {
        "id": "HcZpJifHRPMT"
      }
    },
    {
      "cell_type": "markdown",
      "source": [
        "* 배열을 두 그룹으로 나누기"
      ],
      "metadata": {
        "id": "3O8MsapqRTUJ"
      }
    },
    {
      "cell_type": "code",
      "source": [
        "from typing import MutableSequence\n",
        "\n",
        "def partition(a: MutableSequence) -> None:\n",
        "  \"\"\"배열을 나누어 출력\"\"\"\n",
        "  n = len(a)\n",
        "  pl = 0         # 왼쪽 커서\n",
        "  pr = n - 1     # 오른쪽 커서\n",
        "  x = a[n//2]    # 피벗\n",
        "\n",
        "  while pl <= pr:\n",
        "    while a[pl] < x : pl += 1\n",
        "    while a[pr] > x : pr -= 1\n",
        "    if pl <= pr:\n",
        "      a[pl], a[pr] = a[pr], a[pl]\n",
        "      pl += 1\n",
        "      pr -= 1\n",
        "  \n",
        "  print(f'피벗은 {x}입니다.')\n",
        "\n",
        "  print('피벗 이하인 그룹입니다.')\n",
        "  print(*a[0:pl])        # a[0] ~ a[pl - 1]\n",
        "  \n",
        "  if pl > pr + 1:\n",
        "    print('피벗과 일치하는 그룹입니다.')\n",
        "    print(*a[pr+1:pl])   # a[pr + 1] ~ a[pl - 1]\n",
        "  \n",
        "  print('피벗 이상인 그룹입니다.')\n",
        "  print(*a[pr+1:n])      # a[pr + 1] ~ a[n - 1]\n",
        "\n",
        "\n",
        "if __name__ == '__main__':\n",
        "  print('배열을 나눕니다.')\n",
        "  num = int(input('원소 수를 입력하세요 : '))\n",
        "  x = [None] * num\n",
        "\n",
        "  for i in range(num):\n",
        "    x[i] = int(input(f'x[{i}] : '))\n",
        "  \n",
        "  partition(x)"
      ],
      "metadata": {
        "id": "P6BWEdJLRVCK",
        "colab": {
          "base_uri": "https://localhost:8080/"
        },
        "outputId": "9ce328bd-a4ea-4ad8-ee16-d45cc95d1844"
      },
      "execution_count": 1,
      "outputs": [
        {
          "output_type": "stream",
          "name": "stdout",
          "text": [
            "배열을 나눕니다.\n",
            "원소 수를 입력하세요 : 9\n",
            "x[0] : 1\n",
            "x[1] : 8\n",
            "x[2] : 7\n",
            "x[3] : 4\n",
            "x[4] : 5\n",
            "x[5] : 2\n",
            "x[6] : 6\n",
            "x[7] : 3\n",
            "x[8] : 9\n",
            "피벗은 5입니다.\n",
            "피벗 이하인 그룹입니다.\n",
            "1 3 2 4 5\n",
            "피벗과 일치하는 그룹입니다.\n",
            "5\n",
            "피벗 이상인 그룹입니다.\n",
            "5 7 6 8 9\n"
          ]
        }
      ]
    },
    {
      "cell_type": "markdown",
      "source": [
        "## 퀵 정렬 만들기"
      ],
      "metadata": {
        "id": "PlkxAE508HQk"
      }
    },
    {
      "cell_type": "markdown",
      "source": [
        "### 실습 6-11"
      ],
      "metadata": {
        "id": "S_dCcqWt2RGv"
      }
    },
    {
      "cell_type": "markdown",
      "source": [
        "* 퀵 정렬 알고리즘 구현하기"
      ],
      "metadata": {
        "id": "8uJjBREF8KNE"
      }
    },
    {
      "cell_type": "code",
      "source": [
        "from typing import MutableSequence\n",
        "\n",
        "def qsort(a: MutableSequence, left: int, right: int) -> None:\n",
        "  \"\"\"a[left] ~ a[right]를 퀵 정렬\"\"\"\n",
        "  pl = left         # 왼쪽 커서\n",
        "  pr = right        # 오른쪽 커서\n",
        "  x = a[(left + right) // 2]    # 피벗\n",
        "\n",
        "  while pl <= pr:\n",
        "    while a[pl] < x : pl += 1\n",
        "    while a[pr] > x : pr -= 1\n",
        "    if pl <= pr:\n",
        "      a[pl], a[pr] = a[pr], a[pl]\n",
        "      pl += 1\n",
        "      pr -= 1\n",
        "  \n",
        "  ## 재귀 호출 ##\n",
        "  if left < pr : qsort(a, left, pr)     \n",
        "  if pl < right : qsort(a, pl, right)\n",
        "\n",
        "def quick_sort(a: MutableSequence) -> None:\n",
        "  \"\"\"퀵 정렬\"\"\"\n",
        "  qsort(a, 0, len(a) - 1)\n",
        "\n",
        "if __name__ == '__main__':\n",
        "  print('배열을 나눕니다.')\n",
        "  num = int(input('원소 수를 입력하세요 : '))\n",
        "  x = [None] * num\n",
        "\n",
        "  for i in range(num):\n",
        "    x[i] = int(input(f'x[{i}] : '))\n",
        "  \n",
        "  quick_sort(x)   # 배열 x를 퀵 정렬\n",
        "\n",
        "  print('오름차순으로 정렬했습니다.')\n",
        "  for i in range(num):\n",
        "    print(f'x[{i}] = {x[i]}')"
      ],
      "metadata": {
        "colab": {
          "base_uri": "https://localhost:8080/"
        },
        "id": "COpXanoB8L0o",
        "outputId": "f3bf6f41-e978-4303-9ffc-7018508b7063"
      },
      "execution_count": 3,
      "outputs": [
        {
          "output_type": "stream",
          "name": "stdout",
          "text": [
            "배열을 나눕니다.\n",
            "원소 수를 입력하세요 : 9\n",
            "x[0] : 5\n",
            "x[1] : 8\n",
            "x[2] : 4\n",
            "x[3] : 2\n",
            "x[4] : 6\n",
            "x[5] : 1\n",
            "x[6] : 3\n",
            "x[7] : 9\n",
            "x[8] : 7\n",
            "오름차순으로 정렬했습니다.\n",
            "x[0] = 1\n",
            "x[1] = 2\n",
            "x[2] = 3\n",
            "x[3] = 4\n",
            "x[4] = 5\n",
            "x[5] = 6\n",
            "x[6] = 7\n",
            "x[7] = 8\n",
            "x[8] = 9\n"
          ]
        }
      ]
    },
    {
      "cell_type": "markdown",
      "source": [
        "* qsort() 함수는 3개의 인수를 전달 받는데 인수를 1개 전달받는 quick_sort 함수로부터 다시 qsort() 함수를 호출하는 구조 -> 함수를 호출할 때 일관성 유지 가능\n",
        "  * qsort(a, 0, len(a) - 1)에 의해 매개변수 left는 맨 앞 원소의 인덱스(0), right는 맨 끝 원소 인덱스(len(a)-1) 전달\n",
        "* 퀵 정렬은 서로 이웃하지 않는 원소를 교환하기 때문에 안정적이지 않음"
      ],
      "metadata": {
        "id": "jTq4mEOw-mjp"
      }
    },
    {
      "cell_type": "markdown",
      "source": [
        "## 퀵 정렬 과정 출력하기"
      ],
      "metadata": {
        "id": "0ip8ALaS_fbn"
      }
    },
    {
      "cell_type": "markdown",
      "source": [
        "### 실습 6c - 3"
      ],
      "metadata": {
        "id": "eIoqlQv096HF"
      }
    },
    {
      "cell_type": "markdown",
      "source": [
        "* 퀵 정렬 알고리즘 구현하기 (배열을 나누는 과정 출력)"
      ],
      "metadata": {
        "id": "eVYAgUR1_lTt"
      }
    },
    {
      "cell_type": "code",
      "source": [
        "from typing import MutableSequence\n",
        "\n",
        "def qsort(a: MutableSequence, left: int, right: int) -> None:\n",
        "  \"\"\"a[left] ~ a[right]를 퀵 정렬(배열을 나누는 과정 출력)\"\"\"\n",
        "  pl = left\n",
        "  pr = right\n",
        "  x = a[(left + right) // 2]\n",
        "\n",
        "  print(f'a[{left}] ~ a[{right}] : ', *a[left:right+1])\n",
        "\n",
        "  while pl <= pr:\n",
        "    while a[pl] < x : pl += 1\n",
        "    while a[pr] > x : pr -= 1\n",
        "    if pl <= pr:\n",
        "      a[pl], a[pr] = a[pr], a[pl]\n",
        "      pl += 1\n",
        "      pr -= 1\n",
        "  \n",
        "  if left < pr: qsort(a, left, pr)\n",
        "  if pl < right: qsort(a, pl, right)\n",
        "\n",
        "def quick_sort(a: MutableSequence) -> None:\n",
        "    \"\"\"퀵 정렬\"\"\"\n",
        "    qsort(a, 0, len(a) - 1)\n",
        "\n",
        "if __name__ == '__main__':\n",
        "    print('퀵 정렬을 수행합니다(배열을 나누는 과정 출력).')\n",
        "    num = int(input('원소 수를 입력하세요.: '))\n",
        "    x = [None] * num    # 원소 수가 num인 배열을 생성\n",
        "\n",
        "    for i in range(num):\n",
        "        x[i] = int(input(f'x[{i}]: '))\n",
        "\n",
        "    quick_sort(x)       # 배열 x를 퀵 정렬\n",
        "\n",
        "    print('오름차순으로 정렬했습니다.')\n",
        "    for i in range(num):\n",
        "        print(f'x[{i}] = {x[i]}')"
      ],
      "metadata": {
        "colab": {
          "base_uri": "https://localhost:8080/"
        },
        "id": "X3oM4GUJ_pRp",
        "outputId": "9b7ab44b-5a5b-46f5-ed82-3d98e45ab834"
      },
      "execution_count": 4,
      "outputs": [
        {
          "output_type": "stream",
          "name": "stdout",
          "text": [
            "퀵 정렬을 수행합니다(배열을 나누는 과정 출력).\n",
            "원소 수를 입력하세요.: 9\n",
            "x[0]: 5\n",
            "x[1]: 8\n",
            "x[2]: 4\n",
            "x[3]: 2\n",
            "x[4]: 6\n",
            "x[5]: 1\n",
            "x[6]: 3\n",
            "x[7]: 9\n",
            "x[8]: 7\n",
            "a[0] ~ a[8] :  5 8 4 2 6 1 3 9 7\n",
            "a[0] ~ a[4] :  5 3 4 2 1\n",
            "a[0] ~ a[2] :  1 3 2\n",
            "a[0] ~ a[1] :  1 2\n",
            "a[3] ~ a[4] :  4 5\n",
            "a[5] ~ a[8] :  6 8 9 7\n",
            "a[5] ~ a[6] :  6 7\n",
            "a[7] ~ a[8] :  9 8\n",
            "오름차순으로 정렬했습니다.\n",
            "x[0] = 1\n",
            "x[1] = 2\n",
            "x[2] = 3\n",
            "x[3] = 4\n",
            "x[4] = 5\n",
            "x[5] = 6\n",
            "x[6] = 7\n",
            "x[7] = 8\n",
            "x[8] = 9\n"
          ]
        }
      ]
    },
    {
      "cell_type": "markdown",
      "source": [
        "## 비재귀적 퀵 정렬 만들기"
      ],
      "metadata": {
        "id": "lLPd8GAxCkyg"
      }
    },
    {
      "cell_type": "markdown",
      "source": [
        "### 실습 6-12"
      ],
      "metadata": {
        "id": "UugDTAvHCnQo"
      }
    },
    {
      "cell_type": "markdown",
      "source": [
        "* 비재귀적 퀵 정렬 구현하기\n",
        "  * 스택에 푸시한 값은 나눠야 할 배열의 맨 앞 원소와 맨 끝 원소의 인덱스\n",
        "  * 배열을 나누는 작업을 완료하면 왼쪽 그룹의 인덱스와 오른쪽 그룹의 인덱스 범위를 푸쉬\n",
        "  * 다시 스택에서 팝한 범위를 나누는 작업을 반복하여 정렬 수행"
      ],
      "metadata": {
        "id": "uUSWvbAXCpbq"
      }
    },
    {
      "cell_type": "code",
      "source": [
        "from google.colab import drive\n",
        "drive.mount('/content/drive')"
      ],
      "metadata": {
        "colab": {
          "base_uri": "https://localhost:8080/"
        },
        "id": "buZAEaNHCrjo",
        "outputId": "44e9d9fe-aec0-4970-ed5d-67a5698c6ee7"
      },
      "execution_count": 6,
      "outputs": [
        {
          "output_type": "stream",
          "name": "stdout",
          "text": [
            "Mounted at /content/drive\n"
          ]
        }
      ]
    },
    {
      "cell_type": "code",
      "source": [
        "cd '/content/drive/MyDrive/Colab Notebooks/study/자료구조 알고리즘/[예제소스]/chap04'"
      ],
      "metadata": {
        "colab": {
          "base_uri": "https://localhost:8080/"
        },
        "id": "LzB3q5ifCyAS",
        "outputId": "c2762db4-a41f-4680-9539-e7e62a5211b2"
      },
      "execution_count": 7,
      "outputs": [
        {
          "output_type": "stream",
          "name": "stdout",
          "text": [
            "/content/drive/MyDrive/Colab Notebooks/study/자료구조 알고리즘/[예제소스]/chap04\n"
          ]
        }
      ]
    },
    {
      "cell_type": "code",
      "source": [
        "from stack import Stack\n",
        "from typing import MutableSequence\n",
        "\n",
        "def qsort(a: MutableSequence, left: int, right: int) -> None:\n",
        "  \"\"\"a[left] ~ a[right]를 퀵 정렬(비재귀적인 퀵 정렬)\"\"\"\n",
        "  range = Stack(right - left + 1)           # 스택 생성(나누는 배열의 원소 수와 같음)\n",
        "\n",
        "  range.push((left, right))\n",
        "\n",
        "  while not range.is_empty():\n",
        "    pl, pr = left, right = range.pop()      # 왼쪽, 오른쪽 커서를 꺼냄\n",
        "    x = a[(left + right) // 2]              # 피벗\n",
        "    while pl <= pr:\n",
        "        while a[pl] < x: pl += 1\n",
        "        while a[pr] > x: pr -= 1\n",
        "        if pl <= pr:                      \n",
        "            a[pl], a[pr] = a[pr], a[pl]\n",
        "            pl += 1\n",
        "            pr -= 1\n",
        "\n",
        "    if left < pr: range.push((left, pr))    # 왼쪽 그룹의 커서를 저장\n",
        "    if pl < right: range.push((pl, right))  # 오른쪽 그룹의 커서를 저장\n",
        "\n",
        "def quick_sort(a: MutableSequence) -> None:\n",
        "    \"\"\"퀵 정렬\"\"\"\n",
        "    qsort(a, 0, len(a) - 1)\n",
        "\n",
        "if __name__ == '__main__':\n",
        "    print('비재귀적인 퀵 정렬')\n",
        "    num = int(input('원소 수를 입력하세요.: '))\n",
        "    x = [None] * num    # 원소 수가 num인 배열을 생성\n",
        "\n",
        "    for i in range(num):\n",
        "        x[i] = int(input(f'x[{i}]: '))\n",
        "\n",
        "    quick_sort(x)       # 배열 x를 퀵 정렬\n",
        "\n",
        "    print('오름차순으로 정렬했습니다.')\n",
        "    for i in range(num):\n",
        "        print(f'x[{i}] = {x[i]}')"
      ],
      "metadata": {
        "colab": {
          "base_uri": "https://localhost:8080/"
        },
        "id": "pX_kSIRmDI-7",
        "outputId": "ac81ed71-afc0-42ea-8d49-1d4fd183539b"
      },
      "execution_count": 8,
      "outputs": [
        {
          "output_type": "stream",
          "name": "stdout",
          "text": [
            "비재귀적인 퀵 정렬\n",
            "원소 수를 입력하세요.: 9\n",
            "x[0]: 5\n",
            "x[1]: 8\n",
            "x[2]: 4\n",
            "x[3]: 2\n",
            "x[4]: 6\n",
            "x[5]: 1\n",
            "x[6]: 3\n",
            "x[7]: 9\n",
            "x[8]: 7\n",
            "오름차순으로 정렬했습니다.\n",
            "x[0] = 1\n",
            "x[1] = 2\n",
            "x[2] = 3\n",
            "x[3] = 4\n",
            "x[4] = 5\n",
            "x[5] = 6\n",
            "x[6] = 7\n",
            "x[7] = 8\n",
            "x[8] = 9\n"
          ]
        }
      ]
    },
    {
      "cell_type": "markdown",
      "source": [
        "## 퀵 정렬의 시간 복잡도"
      ],
      "metadata": {
        "id": "ecqIy8i5W2g7"
      }
    },
    {
      "cell_type": "markdown",
      "source": [
        "* 시간 복잡도 : O(n log n)\n",
        "* 매번 1개의 원소와 나머지 원소로 나누어진다면 n번의 분할 필요 -> 시간 복잡도 : O (n ^ 2)"
      ],
      "metadata": {
        "id": "NT4YD8DPXDtl"
      }
    },
    {
      "cell_type": "markdown",
      "source": [
        "### 실습 6-13"
      ],
      "metadata": {
        "id": "enJJDCPeNupZ"
      }
    },
    {
      "cell_type": "markdown",
      "source": [
        "* 퀵 정렬 알고리즘 구현하기 (원소 수가 9 미만이면 단순 삽입 정렬)"
      ],
      "metadata": {
        "id": "ia8wYayqW72W"
      }
    },
    {
      "cell_type": "code",
      "source": [
        "from typing import MutableSequence\n",
        "\n",
        "def sort3(a: MutableSequence, idx1: int, idx2: int, idx3: int):\n",
        "    \"\"\"a[idx1], a[idx2], a[idx3]을 오름차순으로 정렬하고 가운데 값의 인덱스를 반환\"\"\"\n",
        "    if a[idx2] < a[idx1]: a[idx2], a[idx1] = a[idx1], a[idx2]\n",
        "    if a[idx3] < a[idx2]: a[idx3], a[idx2] = a[idx2], a[idx3]\n",
        "    if a[idx2] < a[idx1]: a[idx2], a[idx1] = a[idx1], a[idx2]\n",
        "    return idx2\n",
        "\n",
        "def insertion_sort(a: MutableSequence, left: int, right: int) -> None:\n",
        "    \"\"\"a[left] ~ a[right]를 단순 삽입 정렬\"\"\"\n",
        "    for i in range(left + 1, right + 1):\n",
        "        j = i\n",
        "        tmp = a[i]\n",
        "        while j > 0 and a[j - 1] > tmp:\n",
        "            a[j] = a[j - 1]\n",
        "            j -= 1\n",
        "        a[j] = tmp\n",
        "\n",
        "def qsort(a: MutableSequence, left: int, right: int) -> None:\n",
        "    \"\"\"a[left] ~ a[right]를 퀵 정렬\"\"\"\n",
        "    if right - left < 9:            # 원소 수가 9개 미만이면 단순 삽입 정렬을 호출\n",
        "        insertion_sort(a, left, right)\n",
        "    else:                           # 원소 수가 9개 이상이면 퀵 정렬을 수행\n",
        "        pl = left                   # 왼쪽 커서\n",
        "        pr = right                  # 오른쪽 커서\n",
        "        m = sort3(a, pl, (pl + pr) // 2, pr)\n",
        "        x = a[m]\n",
        "\n",
        "        a[m], a[pr - 1] = a[pr - 1], a[m]\n",
        "        pl += 1\n",
        "        pr -= 2\n",
        "        while pl <= pr:\n",
        "            while a[pl] < x: pl += 1\n",
        "            while a[pr] > x: pr -= 1\n",
        "            if pl <= pr:\n",
        "                a[pl], a[pr] = a[pr], a[pl]\n",
        "                pl += 1\n",
        "                pr -= 1\n",
        "\n",
        "        if left < pr: qsort(a, left, pr)\n",
        "        if pl < right: qsort(a, pl, right)\n",
        "\n",
        "def quick_sort(a: MutableSequence) -> None:\n",
        "    \"\"\"퀵 정렬\"\"\"\n",
        "    qsort(a, 0, len(a) - 1)\n",
        "\n",
        "if __name__ == '__main__':\n",
        "    print('퀵 정렬을 합니다(원소 수가 9개 미만이면 단순 삽입 정렬).')\n",
        "    num = int(input('원소 수를 입력하세요.: '))\n",
        "    x = [None] * num    # 원소 수가 num인 배열을 생성\n",
        "\n",
        "    for i in range(num):\n",
        "        x[i] = int(input(f'x[{i}]: '))\n",
        "\n",
        "    quick_sort(x)       # 배열 x를 퀵 정렬\n",
        "\n",
        "    print('오름차순으로 정렬했습니다.')\n",
        "    for i in range(num):\n",
        "        print(f'x[{i}] = {x[i]}')"
      ],
      "metadata": {
        "colab": {
          "base_uri": "https://localhost:8080/"
        },
        "id": "REN5VpeDXAAz",
        "outputId": "ece91772-41de-4268-b542-855875a76ba9"
      },
      "execution_count": 9,
      "outputs": [
        {
          "output_type": "stream",
          "name": "stdout",
          "text": [
            "퀵 정렬을 합니다(원소 수가 9개 미만이면 단순 삽입 정렬).\n",
            "원소 수를 입력하세요.: 12\n",
            "x[0]: 5\n",
            "x[1]: 8\n",
            "x[2]: 4\n",
            "x[3]: 2\n",
            "x[4]: 6\n",
            "x[5]: 1\n",
            "x[6]: 3\n",
            "x[7]: 9\n",
            "x[8]: 7\n",
            "x[9]: 0\n",
            "x[10]: 3\n",
            "x[11]: 5\n",
            "오름차순으로 정렬했습니다.\n",
            "x[0] = 0\n",
            "x[1] = 1\n",
            "x[2] = 2\n",
            "x[3] = 3\n",
            "x[4] = 3\n",
            "x[5] = 4\n",
            "x[6] = 5\n",
            "x[7] = 5\n",
            "x[8] = 6\n",
            "x[9] = 7\n",
            "x[10] = 8\n",
            "x[11] = 9\n"
          ]
        }
      ]
    },
    {
      "cell_type": "markdown",
      "source": [
        "## sort 함수"
      ],
      "metadata": {
        "id": "TGU0-wmkYD-8"
      }
    },
    {
      "cell_type": "markdown",
      "source": [
        "### 실습 6c-4"
      ],
      "metadata": {
        "id": "nGg55GdwXhDl"
      }
    },
    {
      "cell_type": "code",
      "source": [
        "print('sort() 함수를 사용하여 정렬')\n",
        "num = int(input('원소 수를 입력하세요 : '))\n",
        "x = [None] * num\n",
        "\n",
        "for i in range(num):\n",
        "  x[i] = int(input(f'x[{i}] : '))\n",
        "\n",
        "## 오름차순 ##\n",
        "x = sorted(x)\n",
        "print('--- 오름차순')\n",
        "for i in range(num):\n",
        "  print(f'x[{i}] = {x[i]}')\n",
        "\n",
        "## 내림차순 ##\n",
        "x = sorted(x, reverse = True)\n",
        "print('--- 내림차순')\n",
        "for i in range(num):\n",
        "  print(f'x[{i}] = {x[i]}')"
      ],
      "metadata": {
        "colab": {
          "base_uri": "https://localhost:8080/"
        },
        "id": "VQJFrpzpYNZX",
        "outputId": "c2c919f4-47ac-4449-df33-e1ca29011789"
      },
      "execution_count": 11,
      "outputs": [
        {
          "output_type": "stream",
          "name": "stdout",
          "text": [
            "sort() 함수를 사용하여 정렬\n",
            "원소 수를 입력하세요 : 4\n",
            "x[0] : 6\n",
            "x[1] : 9\n",
            "x[2] : 3\n",
            "x[3] : 0\n",
            "--- 오름차순\n",
            "x[0] = 0\n",
            "x[1] = 3\n",
            "x[2] = 6\n",
            "x[3] = 9\n",
            "--- 내림차순\n",
            "x[0] = 9\n",
            "x[1] = 6\n",
            "x[2] = 3\n",
            "x[3] = 0\n"
          ]
        }
      ]
    }
  ]
}