{
  "nbformat": 4,
  "nbformat_minor": 0,
  "metadata": {
    "colab": {
      "provenance": [],
      "toc_visible": true,
      "authorship_tag": "ABX9TyM7vSehTpAEVWZ2A9LT78qz",
      "include_colab_link": true
    },
    "kernelspec": {
      "name": "python3",
      "display_name": "Python 3"
    },
    "language_info": {
      "name": "python"
    }
  },
  "cells": [
    {
      "cell_type": "markdown",
      "metadata": {
        "id": "view-in-github",
        "colab_type": "text"
      },
      "source": [
        "<a href=\"https://colab.research.google.com/github/channmilee/Algorithm/blob/master/1_2_%EB%B0%98%EB%B3%B5%ED%95%98%EB%8A%94_%EC%95%8C%EA%B3%A0%EB%A6%AC%EC%A6%98.ipynb\" target=\"_parent\"><img src=\"https://colab.research.google.com/assets/colab-badge.svg\" alt=\"Open In Colab\"/></a>"
      ]
    },
    {
      "cell_type": "markdown",
      "source": [
        "## 1-2. 반복하는 알고리즘"
      ],
      "metadata": {
        "id": "gsbhg0Jv2J9t"
      }
    },
    {
      "cell_type": "markdown",
      "source": [
        "### 1부터 n까지 정수의 합 구하기"
      ],
      "metadata": {
        "id": "6zEUmoFEAAFt"
      }
    },
    {
      "cell_type": "markdown",
      "source": [
        "#### 실습 1-7."
      ],
      "metadata": {
        "id": "sJi8GUWDAIUS"
      }
    },
    {
      "cell_type": "markdown",
      "source": [
        "* 1부터 n까지 정수의 합 구하기 1 (while문)"
      ],
      "metadata": {
        "id": "RJ9SimmxAO--"
      }
    },
    {
      "cell_type": "code",
      "execution_count": null,
      "metadata": {
        "colab": {
          "base_uri": "https://localhost:8080/"
        },
        "id": "_QIAEtKEFA7P",
        "outputId": "20ea8707-509f-4f3e-dbc7-2f744887b6da"
      },
      "outputs": [
        {
          "output_type": "stream",
          "name": "stdout",
          "text": [
            "1부터 n까지 정수의 합을 구합니다.\n",
            "n 값을 입력하세요: 5\n",
            "1부터 5까지 정수의 합은 15입니다.\n"
          ]
        }
      ],
      "source": [
        "print('1부터 n까지 정수의 합을 구합니다.')\n",
        "\n",
        "n = int(input('n 값을 입력하세요: '))\n",
        "\n",
        "sum = 0\n",
        "i = 1\n",
        "\n",
        "while i <= n:\n",
        "  sum += i\n",
        "  i += 1\n",
        "\n",
        "print(f'1부터 {n}까지 정수의 합은 {sum}입니다.')"
      ]
    },
    {
      "cell_type": "code",
      "source": [
        "# i 값 확인\n",
        "print('1부터 n까지 정수의 합을 구합니다.')\n",
        "\n",
        "n = int(input('n 값을 입력하세요: '))\n",
        "\n",
        "sum = 0\n",
        "i = 1\n",
        "\n",
        "while i <= n:\n",
        "  sum += i\n",
        "  i += 1\n",
        "\n",
        "print(f'1부터 {n}까지 정수의 합은 {sum}입니다.')\n",
        "print(f'i 값은 {i} 입니다.')"
      ],
      "metadata": {
        "colab": {
          "base_uri": "https://localhost:8080/"
        },
        "id": "Wu1XKWY-BYcV",
        "outputId": "de9bf785-7e84-44fa-e2e2-707d89e11760"
      },
      "execution_count": null,
      "outputs": [
        {
          "output_type": "stream",
          "name": "stdout",
          "text": [
            "1부터 n까지 정수의 합을 구합니다.\n",
            "n 값을 입력하세요: 5\n",
            "1부터 5까지 정수의 합은 15입니다.\n",
            "i 값은 6 입니다.\n"
          ]
        }
      ]
    },
    {
      "cell_type": "markdown",
      "source": [
        "#### 실습 1-8."
      ],
      "metadata": {
        "id": "qrz6Wpk_CNJx"
      }
    },
    {
      "cell_type": "markdown",
      "source": [
        "* 1부터 n까지 정수의 합 구하기 (for문)"
      ],
      "metadata": {
        "id": "lAWbyaSRCQ7a"
      }
    },
    {
      "cell_type": "code",
      "source": [
        "print('1부터 n까지 정수의 합을 구합니다.')\n",
        "\n",
        "n = int(input('n 값을 입력하세요: '))\n",
        "\n",
        "sum = 0\n",
        "for i in range(1, n+1):\n",
        "  sum += i\n",
        "\n",
        "print(f'1부터 {n}까지 정수의 합은 {sum}입니다.')"
      ],
      "metadata": {
        "colab": {
          "base_uri": "https://localhost:8080/"
        },
        "id": "FChBD5U5B8f8",
        "outputId": "1fc8e005-1029-4506-bad2-5a45af5726e2"
      },
      "execution_count": null,
      "outputs": [
        {
          "output_type": "stream",
          "name": "stdout",
          "text": [
            "1부터 n까지 정수의 합을 구합니다.\n",
            "n 값을 입력하세요: 5\n",
            "1부터 5까지 정수의 합은 15입니다.\n"
          ]
        }
      ]
    },
    {
      "cell_type": "markdown",
      "source": [
        "* 가우스의 덧셈으로 1부터 n까지 정수 합 구하기"
      ],
      "metadata": {
        "id": "otQ8SaOCDmKJ"
      }
    },
    {
      "cell_type": "code",
      "source": [
        "print('1부터 n까지 정수의 합을 구합니다.')\n",
        "\n",
        "n = int(input('n 값을 입력하세요: '))\n",
        "\n",
        "sum = n * (n + 1) // 2\n",
        "\n",
        "print(f'1부터 {n}까지 정수의 합은 {sum}입니다.')"
      ],
      "metadata": {
        "colab": {
          "base_uri": "https://localhost:8080/"
        },
        "id": "jzq10zyACf9K",
        "outputId": "c5e4319b-c2e4-430d-e514-b95266984726"
      },
      "execution_count": null,
      "outputs": [
        {
          "output_type": "stream",
          "name": "stdout",
          "text": [
            "1부터 n까지 정수의 합을 구합니다.\n",
            "n 값을 입력하세요: 5\n",
            "1부터 5까지 정수의 합은 15입니다.\n"
          ]
        }
      ]
    },
    {
      "cell_type": "markdown",
      "source": [
        "### 연속하는 정수의 합을 구하기 위해 값 정렬하기"
      ],
      "metadata": {
        "id": "RWiOxHQtyEmA"
      }
    },
    {
      "cell_type": "markdown",
      "source": [
        "#### 실습 1-9."
      ],
      "metadata": {
        "id": "B81ZfjEvyILF"
      }
    },
    {
      "cell_type": "markdown",
      "source": [
        "* a부터 b까지 정수의 합 구하기 (for문)"
      ],
      "metadata": {
        "id": "sLmJps8FyRGV"
      }
    },
    {
      "cell_type": "code",
      "source": [
        "print('a부터 b까지 정수의 합을 구합니다.')\n",
        "a = int(input('정수 a를 입력하세요 : '))\n",
        "b = int(input('정수 b를 입력하세요 : '))\n",
        "\n",
        "if a > b :\n",
        "  a,b = b,a   # a,b 오름차순 정렬\n",
        "\n",
        "sum = 0\n",
        "for i in range(a, b + 1):\n",
        "  sum += i\n",
        "\n",
        "print(f'{a}부터 {b}까지 정수의 합은 {sum}입니다.')"
      ],
      "metadata": {
        "colab": {
          "base_uri": "https://localhost:8080/"
        },
        "id": "kafXcdpHDxmN",
        "outputId": "96eb12c1-347a-4d2b-9f14-240fe9dccf42"
      },
      "execution_count": null,
      "outputs": [
        {
          "output_type": "stream",
          "name": "stdout",
          "text": [
            "a부터 b까지 정수의 합을 구합니다.\n",
            "정수 a를 입력하세요 : 8\n",
            "정수 b를 입력하세요 : 3\n",
            "3부터 8까지 정수의 합은 33입니다.\n"
          ]
        }
      ]
    },
    {
      "cell_type": "code",
      "source": [
        "print('a부터 b까지 정수의 합을 구합니다.')\n",
        "a = int(input('정수 a를 입력하세요 : '))\n",
        "b = int(input('정수 b를 입력하세요 : '))\n",
        "\n",
        "if a > b :\n",
        "  a,b = b,a   # a,b 오름차순 정렬\n",
        "\n",
        "sum = 0\n",
        "for i in range(a, b + 1):\n",
        "  sum += i\n",
        "\n",
        "print(f'{a}부터 {b}까지 정수의 합은 {sum}입니다.')"
      ],
      "metadata": {
        "colab": {
          "base_uri": "https://localhost:8080/"
        },
        "id": "VgYfYt4Xz_A2",
        "outputId": "d4e39a49-d6c8-46e9-dcdf-1173a0c58bbb"
      },
      "execution_count": null,
      "outputs": [
        {
          "output_type": "stream",
          "name": "stdout",
          "text": [
            "a부터 b까지 정수의 합을 구합니다.\n",
            "정수 a를 입력하세요 : 3\n",
            "정수 b를 입력하세요 : 8\n",
            "3부터 8까지 정수의 합은 33입니다.\n"
          ]
        }
      ]
    },
    {
      "cell_type": "markdown",
      "source": [
        "### 반복 과정에서 조건 판단하기 1"
      ],
      "metadata": {
        "id": "Fy-iCvlozG8t"
      }
    },
    {
      "cell_type": "markdown",
      "source": [
        "#### 실습 1-10."
      ],
      "metadata": {
        "id": "3YIC-guizJGQ"
      }
    },
    {
      "cell_type": "markdown",
      "source": [
        "* a부터 b까지 정수의 합 구하기 1 (합을 구하는 과정과 최종값 출력하는 프로그램)\n",
        "  * for문 반복 n 번, if문 판단은  n번"
      ],
      "metadata": {
        "id": "thh2og6zzKzo"
      }
    },
    {
      "cell_type": "code",
      "source": [
        "print('a부터 b까지 정수의 합을 구합니다.')\n",
        "a = int(input('정수 a를 입력하세요 : '))\n",
        "b = int(input('정수 b를 입력하세요 : '))\n",
        "\n",
        "if a > b :\n",
        "  a,b = b,a\n",
        "\n",
        "sum = 0\n",
        "for i in range(a, b + 1):\n",
        "  if i < b : # i가 b보다 작으면 합을 구하는 과정 출력\n",
        "    print(f'{i} + ', end = '')\n",
        "  else:      # i가 b보다 크거나 같으면 최종값 출력을 위해 i= 출력 (마지막 숫자 뒤에는 + 가 아니라 = 이 올 수 있도록)\n",
        "    print(f'{i} = ', end = '')\n",
        "  sum += i\n",
        "\n",
        "print(sum)"
      ],
      "metadata": {
        "colab": {
          "base_uri": "https://localhost:8080/"
        },
        "id": "u2K4tKgby118",
        "outputId": "18bafaae-2328-4fa8-f0c1-77688b116170"
      },
      "execution_count": null,
      "outputs": [
        {
          "output_type": "stream",
          "name": "stdout",
          "text": [
            "a부터 b까지 정수의 합을 구합니다.\n",
            "정수 a를 입력하세요 : 3\n",
            "정수 b를 입력하세요 : 3\n",
            "3 = 3\n"
          ]
        }
      ]
    },
    {
      "cell_type": "code",
      "source": [
        "print('a부터 b까지 정수의 합을 구합니다.')\n",
        "a = int(input('정수 a를 입력하세요 : '))\n",
        "b = int(input('정수 b를 입력하세요 : '))\n",
        "\n",
        "if a > b :\n",
        "  a,b = b,a\n",
        "\n",
        "sum = 0\n",
        "for i in range(a, b + 1):\n",
        "  if i < b : # i가 b보다 작으면 합을 구하는 과정 출력\n",
        "    print(f'{i} + ', end = '')\n",
        "  else:      # i가 b보다 크거나 같으면 최종값 출력을 위해 i= 출력\n",
        "    print(f'{i} = ', end = '')\n",
        "  sum += i\n",
        "\n",
        "print(sum)"
      ],
      "metadata": {
        "colab": {
          "base_uri": "https://localhost:8080/"
        },
        "id": "oHUQyI4yz7f1",
        "outputId": "f5fb1ccc-9bca-40cd-dc42-a6378511d1ba"
      },
      "execution_count": null,
      "outputs": [
        {
          "output_type": "stream",
          "name": "stdout",
          "text": [
            "a부터 b까지 정수의 합을 구합니다.\n",
            "정수 a를 입력하세요 : 3\n",
            "정수 b를 입력하세요 : 4\n",
            "3 + 4 = 7\n"
          ]
        }
      ]
    },
    {
      "cell_type": "code",
      "source": [
        "print('a부터 b까지 정수의 합을 구합니다.')\n",
        "a = int(input('정수 a를 입력하세요 : '))\n",
        "b = int(input('정수 b를 입력하세요 : '))\n",
        "\n",
        "if a > b :\n",
        "  a,b = b,a\n",
        "\n",
        "sum = 0\n",
        "for i in range(a, b + 1):\n",
        "  if i < b : # i가 b보다 작으면 합을 구하는 과정 출력\n",
        "    print(f'{i} + ', end = '')\n",
        "  else:      # i가 b보다 크거나 같으면 최종값 출력을 위해 i= 출력\n",
        "    print(f'{i} = ', end = '')\n",
        "  sum += i\n",
        "\n",
        "print(sum)"
      ],
      "metadata": {
        "colab": {
          "base_uri": "https://localhost:8080/"
        },
        "id": "zWUVw1p90BrH",
        "outputId": "09aad240-ec7d-4f10-ba74-f0b3fb834676"
      },
      "execution_count": null,
      "outputs": [
        {
          "output_type": "stream",
          "name": "stdout",
          "text": [
            "a부터 b까지 정수의 합을 구합니다.\n",
            "정수 a를 입력하세요 : 3\n",
            "정수 b를 입력하세요 : 7\n",
            "3 + 4 + 5 + 6 + 7 = 25\n"
          ]
        }
      ]
    },
    {
      "cell_type": "markdown",
      "source": [
        "* 실습 1-10에서 사용한 if문은 거짓인 else 행이 한 번 수행되기 때문에 추천하지 않음 -> 실습 1-11"
      ],
      "metadata": {
        "id": "dKsqCotH0p4h"
      }
    },
    {
      "cell_type": "markdown",
      "source": [
        "#### 실습 1-11."
      ],
      "metadata": {
        "id": "NosVALhr1LC3"
      }
    },
    {
      "cell_type": "markdown",
      "source": [
        "* a부터 b까지 정수의 합 구하기 2  \n",
        "  * for문 반복 n - 1번, if문 판단은 0번"
      ],
      "metadata": {
        "id": "2l8B5uDC1NZM"
      }
    },
    {
      "cell_type": "code",
      "source": [
        "print('a부터 b까지 정수의 합을 구합니다.')\n",
        "a = int(input('정수 a를 입력하세요 : '))\n",
        "b = int(input('정수 b를 입력하세요 : '))\n",
        "\n",
        "if a > b :\n",
        "  a, b = b, a\n",
        "\n",
        "sum = 0\n",
        "for i in range(a, b):\n",
        "  print(f'{i} + ', end = '')\n",
        "  sum += i\n",
        "\n",
        "print(f'{b} = ', end = '')\n",
        "sum += b\n",
        "\n",
        "print(sum)"
      ],
      "metadata": {
        "colab": {
          "base_uri": "https://localhost:8080/"
        },
        "id": "tz9H9Wc00H7e",
        "outputId": "4e31d5c5-6b12-4d2b-edc5-e517e8e1c1fa"
      },
      "execution_count": null,
      "outputs": [
        {
          "output_type": "stream",
          "name": "stdout",
          "text": [
            "a부터 b까지 정수의 합을 구합니다.\n",
            "정수 a를 입력하세요 : 3\n",
            "정수 b를 입력하세요 : 7\n",
            "3 + 4 + 5 + 6 + 7 = 25\n"
          ]
        }
      ]
    },
    {
      "cell_type": "markdown",
      "source": [
        "### 반복 과정에서 조건 판단하기 2"
      ],
      "metadata": {
        "id": "mt5pvlpW2Ojp"
      }
    },
    {
      "cell_type": "markdown",
      "source": [
        "#### 실습 1-12."
      ],
      "metadata": {
        "id": "5p05ruE52W9A"
      }
    },
    {
      "cell_type": "markdown",
      "source": [
        "* '+' 와 '-' 를 번갈아 출력하기 1\n",
        "  * for문 반복은 n번, 나눗셈은 n번, if문 판단은 n번"
      ],
      "metadata": {
        "id": "SWDHv5n92Y-a"
      }
    },
    {
      "cell_type": "code",
      "source": [
        "print('+와 -를 번갈아 출력합니다.')\n",
        "n = int(input('몇 개를 출력할까요? : '))\n",
        "\n",
        "for i in range(n):\n",
        "  if i % 2 :              # 홀수일 때 - 출력\n",
        "    print('-', end = '')\n",
        "  else:                   # 짝수일 때 + 출력\n",
        "    print('+', end = '')\n",
        "\n",
        "print()"
      ],
      "metadata": {
        "colab": {
          "base_uri": "https://localhost:8080/"
        },
        "id": "QE3iOXMP1sVD",
        "outputId": "24108afe-a4ad-4617-fb44-af997ac618bd"
      },
      "execution_count": null,
      "outputs": [
        {
          "output_type": "stream",
          "name": "stdout",
          "text": [
            "+와 -를 번갈아 출력합니다.\n",
            "몇 개를 출력할까요? : 12\n",
            "+-+-+-+-+-+-\n"
          ]
        }
      ]
    },
    {
      "cell_type": "markdown",
      "source": [
        "* 실습 1-12 문제점 -- 개선 --> 실습 1-13\n",
        "  * for 문 반복할 때마다 if 문 수행\n",
        "  * 상황에 따라 유연하게 수정하기 어려움 (range 범위 변경하고 print 순서도 바꿔야 함)"
      ],
      "metadata": {
        "id": "gvD5zpXO46BW"
      }
    },
    {
      "cell_type": "code",
      "source": [
        "print('+와 -를 번갈아 출력합니다.')\n",
        "n = int(input('몇 개를 출력할까요? : '))\n",
        "\n",
        "for i in range(1, n + 1):\n",
        "  if i % 2 :              # 홀수일 때 + 출력\n",
        "    print('+', end = '')\n",
        "  else:                   # 짝수일 때 - 출력\n",
        "    print('-', end = '')\n",
        "\n",
        "print()"
      ],
      "metadata": {
        "colab": {
          "base_uri": "https://localhost:8080/"
        },
        "id": "i-70ydEY6QBV",
        "outputId": "593f06ef-fbfa-4c56-f067-c3e211928b84"
      },
      "execution_count": null,
      "outputs": [
        {
          "output_type": "stream",
          "name": "stdout",
          "text": [
            "+와 -를 번갈아 출력합니다.\n",
            "몇 개를 출력할까요? : 12\n",
            "+-+-+-+-+-+-\n"
          ]
        }
      ]
    },
    {
      "cell_type": "markdown",
      "source": [
        "#### 실습 1-13."
      ],
      "metadata": {
        "id": "RacqmQK65I0A"
      }
    },
    {
      "cell_type": "markdown",
      "source": [
        "* '+' 와 '-' 를 번갈아 출력하기 2\n",
        "  * for문 반복은 n//2번, if문 판단은 1번"
      ],
      "metadata": {
        "id": "dvi3eK4V5Lbw"
      }
    },
    {
      "cell_type": "code",
      "source": [
        "print('+와 -를 번갈아 출력합니다.')\n",
        "n = int(input('몇 개를 출력할까요? : '))\n",
        "\n",
        "for _ in range(n // 2):\n",
        "  print('+-', end = '')     # +-를 n//2개 출력\n",
        "\n",
        "if n % 2 :\n",
        "  print('+', end = '')      # n이 홀수일 때만 + 출력\n",
        "\n",
        "print()"
      ],
      "metadata": {
        "colab": {
          "base_uri": "https://localhost:8080/"
        },
        "id": "yNnR-j_45DLs",
        "outputId": "dc1641d3-7aaa-414b-dda8-7fa0db74db4a"
      },
      "execution_count": null,
      "outputs": [
        {
          "output_type": "stream",
          "name": "stdout",
          "text": [
            "+와 -를 번갈아 출력합니다.\n",
            "몇 개를 출력할까요? : 12\n",
            "+-+-+-+-+-+-\n"
          ]
        }
      ]
    },
    {
      "cell_type": "markdown",
      "source": [
        "* range() 범위만 바꾸면 됨"
      ],
      "metadata": {
        "id": "BBCj8ZAO63xj"
      }
    },
    {
      "cell_type": "code",
      "source": [
        "print('+와 -를 번갈아 출력합니다.')\n",
        "n = int(input('몇 개를 출력할까요? : '))\n",
        "\n",
        "for _ in range(1, n // 2 + 1):\n",
        "  print('+-', end = '')\n",
        "\n",
        "if n % 2 :\n",
        "  print('+', end = '')\n",
        "\n",
        "print()"
      ],
      "metadata": {
        "colab": {
          "base_uri": "https://localhost:8080/"
        },
        "id": "MvAek_RL5jhk",
        "outputId": "9fe45c02-3afe-4c73-de3e-6d92f0b0dcf6"
      },
      "execution_count": null,
      "outputs": [
        {
          "output_type": "stream",
          "name": "stdout",
          "text": [
            "+와 -를 번갈아 출력합니다.\n",
            "몇 개를 출력할까요? : 12\n",
            "+-+-+-+-+-+-\n"
          ]
        }
      ]
    },
    {
      "cell_type": "markdown",
      "source": [
        "* for 문에 언더스코어(_)를 사용한 이유 : for 문에서 range() 함수가 for 문을 순환하며 반환하는 값(인덱스)을 사용할 필요가 없기 때문"
      ],
      "metadata": {
        "id": "hT_KmTjpZs11"
      }
    },
    {
      "cell_type": "markdown",
      "source": [
        "### 반복 과정에서 조건 판단하기 3"
      ],
      "metadata": {
        "id": "oZUhln8m67s6"
      }
    },
    {
      "cell_type": "markdown",
      "source": [
        "#### 실습 1-14."
      ],
      "metadata": {
        "id": "fIxTIMQo7AdF"
      }
    },
    {
      "cell_type": "markdown",
      "source": [
        "* '*'를 n개 출력하되 w개마다 줄바꿈하기 1"
      ],
      "metadata": {
        "id": "HpnDO29i7CTL"
      }
    },
    {
      "cell_type": "code",
      "source": [
        "print('*를 출력합니다.')\n",
        "n = int(input('몇 개를 출력할까요? : '))\n",
        "w = int(input('몇 개마다 줄바꿈할까요? : '))\n",
        "\n",
        "for i in range(n):\n",
        "  print('*', end = '')\n",
        "  if i % w == w - 1 :   # n번 판단\n",
        "    print()             # 줄 바꿈\n",
        "\n",
        "\n",
        "### n이 w의 배수가 아니면 줄 바꿈을 for문 밖에서 따로 수행해야 함 ###\n",
        "\n",
        "if n % w :              # 1번 판단\n",
        "  print()               # 줄 바꿈"
      ],
      "metadata": {
        "colab": {
          "base_uri": "https://localhost:8080/"
        },
        "id": "nrf7KiY062Fq",
        "outputId": "968d359c-06ff-4068-a399-65e4cc4f1640"
      },
      "execution_count": null,
      "outputs": [
        {
          "output_type": "stream",
          "name": "stdout",
          "text": [
            "*를 출력합니다.\n",
            "몇 개를 출력할까요? : 14\n",
            "몇 개마다 줄바꿈할까요? : 5\n",
            "*****\n",
            "*****\n",
            "****\n"
          ]
        }
      ]
    },
    {
      "cell_type": "markdown",
      "source": [
        "* w가 5이면 i가 4, 9, 14일 때 줄 바꿈. 따라서 n이 w의 배수가 아니라면 마지막 *를 출력한 다음 for문 밖에서 따로 줄을 바꿔야 함"
      ],
      "metadata": {
        "id": "XstcuXVm9WqA"
      }
    },
    {
      "cell_type": "markdown",
      "source": [
        "#### 실습 1-15."
      ],
      "metadata": {
        "id": "338U78TQ9zkx"
      }
    },
    {
      "cell_type": "markdown",
      "source": [
        "* '*'를 n개 출력하되 w개마다 줄바꿈하기 2"
      ],
      "metadata": {
        "id": "s9_gQZ1t93LI"
      }
    },
    {
      "cell_type": "code",
      "source": [
        "print('*를 출력합니다.')\n",
        "n = int(input('몇 개를 출력할까요? : '))\n",
        "w = int(input('몇 개마다 줄바꿈할까요? : '))\n",
        "\n",
        "for _ in range(n // w) :  # n//w번 반복\n",
        "  print('*' * w)\n",
        "\n",
        "rest = n % w\n",
        "if rest:     # if문 판단 1번\n",
        "  print('*' * rest)"
      ],
      "metadata": {
        "colab": {
          "base_uri": "https://localhost:8080/"
        },
        "id": "7-XLjg0y7r3y",
        "outputId": "ffa8ba5a-54bb-43d8-e71e-0b563765641d"
      },
      "execution_count": null,
      "outputs": [
        {
          "output_type": "stream",
          "name": "stdout",
          "text": [
            "*를 출력합니다.\n",
            "몇 개를 출력할까요? : 14\n",
            "몇 개마다 줄바꿈할까요? : 5\n",
            "*****\n",
            "*****\n",
            "****\n"
          ]
        }
      ]
    },
    {
      "cell_type": "markdown",
      "source": [
        "1.  n//w번 출력하기  \n",
        "  마지막 줄 바꿈 포함하여 '*'를 n//w번 반복 출력.  \n",
        "  예를 들어 n = 15, w = 5 라면 ***** 3번 출력  \n",
        "  n = 14, w = 5 라면 ***** 2번 출력\n",
        "\n",
        "2.  n % w번 출력하기  \n",
        "  n이 w의 배수가 아닌 경우, rest에 n을 w로 나눈 나머지 저장하고 rest만큼 '*' 출력\n",
        "\n",
        "\n",
        " "
      ],
      "metadata": {
        "id": "GmkOk7n5_xAJ"
      }
    },
    {
      "cell_type": "markdown",
      "source": [
        "### 양수만 입력받기"
      ],
      "metadata": {
        "id": "xt0kpV2CA362"
      }
    },
    {
      "cell_type": "markdown",
      "source": [
        "#### 실습 1-16."
      ],
      "metadata": {
        "id": "nRRKcHAdBAaW"
      }
    },
    {
      "cell_type": "markdown",
      "source": [
        "* 1부터 n까지 정수의 합 구하기 (n값은 양수만 입력받음)"
      ],
      "metadata": {
        "id": "6OL0Qd_2BC-D"
      }
    },
    {
      "cell_type": "code",
      "source": [
        "print('1부터 n까지 정수의 합을 구합니다.')\n",
        "\n",
        "while True:\n",
        "  n = int(input('n값을 입력하세요 : '))\n",
        "  if n > 0:\n",
        "    break # n이 0보다 커질 때까지 반복\n",
        "\n",
        "sum = 0\n",
        "i = 1\n",
        "\n",
        "for i in range(1, n + 1):\n",
        "  sum += i\n",
        "  i += 1\n",
        "\n",
        "print(f'1부터 {i}까지 정수의 합은 {sum}입니다.')"
      ],
      "metadata": {
        "colab": {
          "base_uri": "https://localhost:8080/"
        },
        "id": "CvtSwLmA-ejl",
        "outputId": "74a086a6-4b0e-4f5d-be57-c35d6b0dd1f0"
      },
      "execution_count": null,
      "outputs": [
        {
          "output_type": "stream",
          "name": "stdout",
          "text": [
            "1부터 n까지 정수의 합을 구합니다.\n",
            "n값을 입력하세요 : -6\n",
            "n값을 입력하세요 : -9\n",
            "n값을 입력하세요 : 5\n",
            "1부터 6까지 정수의 합은 15입니다.\n"
          ]
        }
      ]
    },
    {
      "cell_type": "markdown",
      "source": [
        "### 직사각형 넓이로 변의 길이 구하기"
      ],
      "metadata": {
        "id": "6Nr_JVaSCKgk"
      }
    },
    {
      "cell_type": "markdown",
      "source": [
        "#### 실습 1-17."
      ],
      "metadata": {
        "id": "3d4WxQdGCNW2"
      }
    },
    {
      "cell_type": "markdown",
      "source": [
        "* 가로, 세로 길이가 정수이고 넓이가 area인 직사각형에서 변의 길이 나열하기"
      ],
      "metadata": {
        "id": "r4WJQunKCSZc"
      }
    },
    {
      "cell_type": "code",
      "source": [
        "area = int(input('직사각형의 넓이를 입력하세요 : '))\n",
        "\n",
        "for i in range(1, area + 1):\n",
        "  if i * i > area : break\n",
        "  if area % i : continue     # area % i 나머지가 0이 아니면(False) continue -> 명령문 건너뛰고 조건식으로 넘어감\n",
        "  print(f'{i} x {area//i}')  # 짧은 변, 긴 변의 순서로 출력"
      ],
      "metadata": {
        "colab": {
          "base_uri": "https://localhost:8080/"
        },
        "id": "Qs7v4KpkBg-r",
        "outputId": "7df1dc41-9e6b-43d2-beae-947620fb3d31"
      },
      "execution_count": null,
      "outputs": [
        {
          "output_type": "stream",
          "name": "stdout",
          "text": [
            "직사각형의 넓이를 입력하세요 : 32\n",
            "1 x 32\n",
            "2 x 16\n",
            "4 x 8\n"
          ]
        }
      ]
    },
    {
      "cell_type": "markdown",
      "source": [
        "#### 실습 1-18."
      ],
      "metadata": {
        "id": "cP2MVRA7Eest"
      }
    },
    {
      "cell_type": "markdown",
      "source": [
        "* 10~99 사이의 난수 n개 생성하기 (13이 나오면 중단)"
      ],
      "metadata": {
        "id": "yfpRpVowEhof"
      }
    },
    {
      "cell_type": "code",
      "source": [
        "import random\n",
        "\n",
        "n = int(input('난수의 개수를 입력하세요 : '))\n",
        "\n",
        "for _ in range(n):\n",
        "  r = random.randint(10,99)\n",
        "  print(r, end = ' ')\n",
        "  if r == 13:\n",
        "    print('\\n13이 출력되어 프로그램을 중단합니다.')\n",
        "    break\n",
        "else:\n",
        "  print('\\n난수 생성을 종료합니다. ')"
      ],
      "metadata": {
        "colab": {
          "base_uri": "https://localhost:8080/"
        },
        "id": "V1GmsY9tEhOk",
        "outputId": "3ff67a00-7b7d-4df9-dba9-5824107d5131"
      },
      "execution_count": null,
      "outputs": [
        {
          "output_type": "stream",
          "name": "stdout",
          "text": [
            "난수의 개수를 입력하세요 : 5\n",
            "12 31 96 13 \n",
            "13이 출력되어 프로그램을 중단합니다.\n"
          ]
        }
      ]
    },
    {
      "cell_type": "markdown",
      "source": [
        "* while 문 이나 for 문 등 반복문의 끝부분에는 else를 둘 수 있음. else문은 조건식에 의해 반복문이 종료되는 경우 실행"
      ],
      "metadata": {
        "id": "f2nGmhb6FJuP"
      }
    },
    {
      "cell_type": "markdown",
      "source": [
        "### 반복문 건너뛰기와 여러 범위 스캔하기"
      ],
      "metadata": {
        "id": "P0N4-X8jRUql"
      }
    },
    {
      "cell_type": "markdown",
      "source": [
        "#### 실습 1-19."
      ],
      "metadata": {
        "id": "DaKgl55vRX1S"
      }
    },
    {
      "cell_type": "markdown",
      "source": [
        "* 1~12까지 8을 건너뛰고 출력하기 1"
      ],
      "metadata": {
        "id": "T0N66zDyRa25"
      }
    },
    {
      "cell_type": "code",
      "source": [
        "for i in range(1,13):\n",
        "  if i == 8:\n",
        "    continue\n",
        "  print(i, end = ' ')\n",
        "print()"
      ],
      "metadata": {
        "id": "syWIYdB2E7pl",
        "colab": {
          "base_uri": "https://localhost:8080/"
        },
        "outputId": "9173764e-8b7e-436e-e306-8156018c9460"
      },
      "execution_count": 4,
      "outputs": [
        {
          "output_type": "stream",
          "name": "stdout",
          "text": [
            "1 2 3 4 5 6 7 9 10 11 12 \n"
          ]
        }
      ]
    },
    {
      "cell_type": "markdown",
      "source": [
        "* 숫자 하나를 건너뛰기 위해 출력해야 하는 범위만큼 판단해야 하기 때문에 비효율적임  -> 실습 1-20  \n",
        "(예를 들어 100,000까지 출력해야 한다면 if문을 100,000번 실행해야 함)"
      ],
      "metadata": {
        "id": "FnIM4SBHSGor"
      }
    },
    {
      "cell_type": "markdown",
      "source": [
        "#### 실습 1-20."
      ],
      "metadata": {
        "id": "5SqQw2PsSuCQ"
      }
    },
    {
      "cell_type": "markdown",
      "source": [
        "* 1~12까지 8을 건너뛰고 출력하기 2"
      ],
      "metadata": {
        "id": "hQp0fEzISx20"
      }
    },
    {
      "cell_type": "code",
      "source": [
        "for i in list(range(1,8)) + list(range(9,13)):\n",
        "  print(i, end = ' ')\n",
        "print()"
      ],
      "metadata": {
        "colab": {
          "base_uri": "https://localhost:8080/"
        },
        "id": "y718oRGFRtRv",
        "outputId": "d6675f11-ea17-49a9-9d21-bfff3a5a9970"
      },
      "execution_count": 6,
      "outputs": [
        {
          "output_type": "stream",
          "name": "stdout",
          "text": [
            "1 2 3 4 5 6 7 9 10 11 12 \n"
          ]
        }
      ]
    },
    {
      "cell_type": "markdown",
      "source": [
        "* 단순 리스트를 사용해 8을 건너 뛰었지만 for문은 리스트 원소를 하나씩 꺼내 반복함. 반복을 위한 연산 비용은 여전히 존재"
      ],
      "metadata": {
        "id": "wrcCDcFvT556"
      }
    },
    {
      "cell_type": "markdown",
      "source": [
        "#### 실습 1c-3."
      ],
      "metadata": {
        "id": "RYl7uEFFU_hk"
      }
    },
    {
      "cell_type": "markdown",
      "source": [
        "* 비교 연산자를 연속으로 사용하는 방법과 드모르간의 법칙"
      ],
      "metadata": {
        "id": "PR6GGN7iVCxi"
      }
    },
    {
      "cell_type": "code",
      "source": [
        "print('2자리 양수를 입력하세요')\n",
        "\n",
        "while True:\n",
        "  no = int(input('값을 입력하세요 : '))\n",
        "  if no >= 10 and no <= 99:\n",
        "    break\n",
        "\n",
        "print(f'입력 받은 양수는 {no}입니다.')"
      ],
      "metadata": {
        "colab": {
          "base_uri": "https://localhost:8080/"
        },
        "id": "zXhTlxcqS7W5",
        "outputId": "d62cd8df-e333-45c6-a4d8-d27379922a4b"
      },
      "execution_count": 7,
      "outputs": [
        {
          "output_type": "stream",
          "name": "stdout",
          "text": [
            "2자리 양수를 입력하세요\n",
            "값을 입력하세요 : 9\n",
            "값을 입력하세요 : 120\n",
            "값을 입력하세요 : 54\n",
            "입력 받은 양수는 54입니다.\n"
          ]
        }
      ]
    },
    {
      "cell_type": "code",
      "source": [
        "# 비교 연산자를 연속으로 사용한 방법\n",
        "while True:\n",
        "  if 10 <= no <= 99:\n",
        "    break\n",
        "\n",
        "# 드모르간의 법칙을 사용한 방법\n",
        "while True:\n",
        "  if not(no < 10 or no > 99):\n",
        "    break"
      ],
      "metadata": {
        "id": "-zR8VcFxWSHQ"
      },
      "execution_count": null,
      "outputs": []
    },
    {
      "cell_type": "markdown",
      "source": [
        "### 다중 루프 알아보기"
      ],
      "metadata": {
        "id": "y0BHHxz_WrwJ"
      }
    },
    {
      "cell_type": "markdown",
      "source": [
        "#### 실습 1-21."
      ],
      "metadata": {
        "id": "g2qoQYTnWbhC"
      }
    },
    {
      "cell_type": "markdown",
      "source": [
        "* 구구단 곱셈표 출력하기"
      ],
      "metadata": {
        "id": "5GSmXs5RW3N5"
      }
    },
    {
      "cell_type": "code",
      "source": [
        "print('-' * 27)\n",
        "\n",
        "for i in range(1,10):\n",
        "  for j in range(1,10):\n",
        "    print(f'{i * j :3}', end = '')   # i * j 를 3자리로 출력\n",
        "  print() # 행 변경\n",
        "\n",
        "print('-' * 27)"
      ],
      "metadata": {
        "colab": {
          "base_uri": "https://localhost:8080/"
        },
        "id": "7Q761UzmXccz",
        "outputId": "08b6e5db-6fa0-44b0-ce7f-27f1775dad24"
      },
      "execution_count": 10,
      "outputs": [
        {
          "output_type": "stream",
          "name": "stdout",
          "text": [
            "---------------------------\n",
            "  1  2  3  4  5  6  7  8  9\n",
            "  2  4  6  8 10 12 14 16 18\n",
            "  3  6  9 12 15 18 21 24 27\n",
            "  4  8 12 16 20 24 28 32 36\n",
            "  5 10 15 20 25 30 35 40 45\n",
            "  6 12 18 24 30 36 42 48 54\n",
            "  7 14 21 28 35 42 49 56 63\n",
            "  8 16 24 32 40 48 56 64 72\n",
            "  9 18 27 36 45 54 63 72 81\n",
            "---------------------------\n"
          ]
        }
      ]
    },
    {
      "cell_type": "markdown",
      "source": [
        "#### 실습 1-22."
      ],
      "metadata": {
        "id": "qfNtya1xYPHX"
      }
    },
    {
      "cell_type": "markdown",
      "source": [
        "* 왼쪽 아래가 직각인 이등변 삼각형으로 * 출력하기"
      ],
      "metadata": {
        "id": "CG0vcjHLX181"
      }
    },
    {
      "cell_type": "code",
      "source": [
        "print('왼쪽 아래가 직각인 이등변 삼각형을 출력합니다.')\n",
        "\n",
        "n = int(input('짧은 변의 길이를 입력하세요 : '))\n",
        "\n",
        "for i in range(n):\n",
        "  for j in range(i + 1):\n",
        "    print('*', end = '')\n",
        "  print()   # 행 변경"
      ],
      "metadata": {
        "colab": {
          "base_uri": "https://localhost:8080/"
        },
        "id": "XywfcfpGYV_P",
        "outputId": "4ae6d0b1-6772-4f9d-c44a-dcaa6954eb31"
      },
      "execution_count": 12,
      "outputs": [
        {
          "output_type": "stream",
          "name": "stdout",
          "text": [
            "왼쪽 아래가 직각인 이등변 삼각형을 출력합니다.\n",
            "짧은 변의 길이를 입력하세요 : 5\n",
            "*\n",
            "**\n",
            "***\n",
            "****\n",
            "*****\n"
          ]
        }
      ]
    },
    {
      "cell_type": "markdown",
      "source": [
        "#### 실습 1-23."
      ],
      "metadata": {
        "id": "V_2Jj2v4Y6En"
      }
    },
    {
      "cell_type": "markdown",
      "source": [
        "* 오른쪽 아래가 직각인 이등변 삼각형으로 * 출력하기"
      ],
      "metadata": {
        "id": "-9n7j5trYsQh"
      }
    },
    {
      "cell_type": "code",
      "source": [
        "print('오른쪽 아래가 직각인 이등변 삼각형을 출력합니다.')\n",
        "\n",
        "n = int(input('짧은 변의 길이를 입력하세요 : '))\n",
        "\n",
        "for i in range(n):\n",
        "  for _ in range(n - i - 1):    # 공백 출력\n",
        "    print(' ', end = '')\n",
        "  for _ in range(i + 1):        # * 출력\n",
        "    print('*', end = '')\n",
        "  print()   # 행 변경"
      ],
      "metadata": {
        "colab": {
          "base_uri": "https://localhost:8080/"
        },
        "id": "eApkSgFAZARM",
        "outputId": "847ac002-5bd2-416e-86c9-1d4b45998c26"
      },
      "execution_count": 13,
      "outputs": [
        {
          "output_type": "stream",
          "name": "stdout",
          "text": [
            "오른쪽 아래가 직각인 이등변 삼각형을 출력합니다.\n",
            "짧은 변의 길이를 입력하세요 : 5\n",
            "    *\n",
            "   **\n",
            "  ***\n",
            " ****\n",
            "*****\n"
          ]
        }
      ]
    },
    {
      "cell_type": "markdown",
      "source": [
        "### 보충 수업) 파이썬의 변수 알아보기"
      ],
      "metadata": {
        "id": "CODZ4jJ1beya"
      }
    },
    {
      "cell_type": "markdown",
      "source": [
        "* 파이썬에서 객체의 의미\n",
        "  * 데이터, 함수, 클래스, 모튤, 패키지 등은 모두 객체로 취급함\n",
        "  * 객체는 자료형(data type)을 가지며 메모리(저장 공간)을 차지함\n",
        "  * 파이썬 변수는 값을 갖지 않음\n",
        "\n",
        "* 파이썬에서 변수와 객체\n",
        "  * 변수는 객체를 참조하는 객체에 연결된 이름에 불과\n",
        "  * 모든 객체는 메모리를 차지하고, 자료형 뿐만 아니라 식별 번호를 가짐\n"
      ],
      "metadata": {
        "id": "XMTikQp8bode"
      }
    },
    {
      "cell_type": "code",
      "source": [
        "n = 17"
      ],
      "metadata": {
        "id": "g_VNjg4PaBje"
      },
      "execution_count": 14,
      "outputs": []
    },
    {
      "cell_type": "code",
      "source": [
        "id(17)"
      ],
      "metadata": {
        "colab": {
          "base_uri": "https://localhost:8080/"
        },
        "id": "1fCDAsBXajd4",
        "outputId": "4d829dd1-a8ee-4d3f-be7a-d2f2ffe4634f"
      },
      "execution_count": 15,
      "outputs": [
        {
          "output_type": "execute_result",
          "data": {
            "text/plain": [
              "11531424"
            ]
          },
          "metadata": {},
          "execution_count": 15
        }
      ]
    },
    {
      "cell_type": "code",
      "source": [
        "id(n)"
      ],
      "metadata": {
        "colab": {
          "base_uri": "https://localhost:8080/"
        },
        "id": "bfDaoNAZak-k",
        "outputId": "3697c662-5cef-4c87-950a-1c7d03ddd0f8"
      },
      "execution_count": 16,
      "outputs": [
        {
          "output_type": "execute_result",
          "data": {
            "text/plain": [
              "11531424"
            ]
          },
          "metadata": {},
          "execution_count": 16
        }
      ]
    },
    {
      "cell_type": "markdown",
      "source": [
        "* 정수 리터럴 17의 식별 번호와 n의 식별 번호가 같음\n",
        "  * n = 17이 값을 복사항 대입하지 않음\n",
        "  * 값 17의 int형 객체를 참고하는 n이라는 이름을 결합"
      ],
      "metadata": {
        "id": "sOlFpEBxcfsU"
      }
    },
    {
      "cell_type": "markdown",
      "source": [
        "#### 실습 1c-4."
      ],
      "metadata": {
        "id": "B-6Jj67Cce_a"
      }
    },
    {
      "cell_type": "markdown",
      "source": [
        "* 함수 내부, 외부에서 정의한 변수와 객체의 식별 번호 출력하기"
      ],
      "metadata": {
        "id": "XwqHmIdacov6"
      }
    },
    {
      "cell_type": "code",
      "source": [
        "n = 1    # 전역 변수 (함수 내부, 외부에서 사용)\n",
        "\n",
        "def put_id():\n",
        "  x = 1  # 지역 변수 (함수 내부에서만 사용)\n",
        "  print(f'id(x) = {id(x)}')\n",
        "\n",
        "print(f'id(1) = {id(1)}')\n",
        "print(f'id(n) = {id(n)}')\n",
        "put_id()"
      ],
      "metadata": {
        "colab": {
          "base_uri": "https://localhost:8080/"
        },
        "id": "I1wOHx0Maml4",
        "outputId": "4fba829d-11f9-42c5-bb43-7a6a42847357"
      },
      "execution_count": 17,
      "outputs": [
        {
          "output_type": "stream",
          "name": "stdout",
          "text": [
            "id(1) = 11530912\n",
            "id(n) = 11530912\n",
            "id(x) = 11530912\n"
          ]
        }
      ]
    },
    {
      "cell_type": "markdown",
      "source": [
        "* n, x는 모두 int형 객체 1을 참조하는 이름에 불과"
      ],
      "metadata": {
        "id": "sqvh1AQhdJLV"
      }
    }
  ]
}