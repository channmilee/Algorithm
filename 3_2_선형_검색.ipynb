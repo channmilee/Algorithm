{
  "nbformat": 4,
  "nbformat_minor": 0,
  "metadata": {
    "colab": {
      "provenance": [],
      "toc_visible": true,
      "authorship_tag": "ABX9TyOrTKZ7s2ooU7MASndEfnFN",
      "include_colab_link": true
    },
    "kernelspec": {
      "name": "python3",
      "display_name": "Python 3"
    },
    "language_info": {
      "name": "python"
    }
  },
  "cells": [
    {
      "cell_type": "markdown",
      "metadata": {
        "id": "view-in-github",
        "colab_type": "text"
      },
      "source": [
        "<a href=\"https://colab.research.google.com/github/channmilee/Algorithm/blob/master/3_2_%EC%84%A0%ED%98%95_%EA%B2%80%EC%83%89.ipynb\" target=\"_parent\"><img src=\"https://colab.research.google.com/assets/colab-badge.svg\" alt=\"Open In Colab\"/></a>"
      ]
    },
    {
      "cell_type": "markdown",
      "source": [
        "## 선형 검색"
      ],
      "metadata": {
        "id": "cTZy4jMJYK0I"
      }
    },
    {
      "cell_type": "markdown",
      "source": [
        "* 직선 모양(선형)으로 늘어선 배열에서 검색하는 경우 원하는 키 값을 가진 원소를 찾을 때까지 맨 앞에서부터 스캔하여 순서대로 검색하는 알고리즘\n",
        "* **배열 스캔의 종료 조건**\n",
        "  1. 검색할 값을 찾지 못하고 배열의 맨 끝을 지나간 경우 -- 검색 실패\n",
        "  2. 검색할 값과 같은 원소를 찾는 경우 -- 검색 성공"
      ],
      "metadata": {
        "id": "e0KsHCxfYWvF"
      }
    },
    {
      "cell_type": "code",
      "source": [
        "i = 0\n",
        "\n",
        "while True:\n",
        "  if i == len(a):\n",
        "    print('배열 스캔 종료 조건 1번에 해당. 검색 실패')\n",
        "  if a[i] == key:\n",
        "    print('배열 스캔 종료 조건 2번에 해당. 검색 성공')"
      ],
      "metadata": {
        "id": "uUSrnJSPZcQj"
      },
      "execution_count": null,
      "outputs": []
    },
    {
      "cell_type": "markdown",
      "source": [
        "### 실습 3-1."
      ],
      "metadata": {
        "id": "sy39EL4HaBbX"
      }
    },
    {
      "cell_type": "markdown",
      "source": [
        "* while 문으로 작성한 선형 검색 알고리즘"
      ],
      "metadata": {
        "id": "F-RKxrSCaE_N"
      }
    },
    {
      "cell_type": "code",
      "source": [
        "from typing import Any, Sequence\n",
        "\n",
        "def seq_search(a: Sequence, key:Any) -> int:\n",
        "  \"\"\"시퀀스 a에서 key와 값이 같은 원소를 선형 검색(while문)\"\"\"\n",
        "  i = 0\n",
        "\n",
        "  while True:\n",
        "    if i == len(a):\n",
        "      return -1           # 검색에 실패하여 -1을 반환\n",
        "    if a[i] == key:\n",
        "      return i            # 검색에 성공하여 현재 검사한 배열의 인덱스를 반환\n",
        "    i += 1\n",
        "\n",
        "if __name__ ==  '__main__':\n",
        "  num = int(input('원소 수를 입력하세요 : '))\n",
        "  x = [None] * num\n",
        "\n",
        "  for i in range(num):\n",
        "    x[i] = int(input(f'x[{i}] : '))\n",
        "  \n",
        "  ky = int(input('검색할 값을 입력하세요 : '))\n",
        "\n",
        "  idx = seq_search(x, ky) # ky와 값이 같은 원소를 x에서 검색\n",
        "\n",
        "  if idx == -1 :\n",
        "    print('검색 값을 갖는 원소가 존재하지 않습니다.')\n",
        "  else:\n",
        "    print(f'검색값은 x[{idx}]에 위치합니다.')"
      ],
      "metadata": {
        "colab": {
          "base_uri": "https://localhost:8080/"
        },
        "id": "13cfdpi2aAt6",
        "outputId": "5e3f454b-ff9d-4e21-ad57-9e79df3ffcc7"
      },
      "execution_count": 4,
      "outputs": [
        {
          "output_type": "stream",
          "name": "stdout",
          "text": [
            "원소 수를 입력하세요 : 7\n",
            "x[0] : 6\n",
            "x[1] : 4\n",
            "x[2] : 3\n",
            "x[3] : 2\n",
            "x[4] : 1\n",
            "x[5] : 2\n",
            "x[6] : 8\n",
            "검색할 값을 입력하세요 : 2\n",
            "검색값은 x[3]에 위치합니다.\n"
          ]
        }
      ]
    },
    {
      "cell_type": "markdown",
      "source": [
        "### 실습 3-2."
      ],
      "metadata": {
        "id": "6TzBukDfblME"
      }
    },
    {
      "cell_type": "markdown",
      "source": [
        "* for문으로 작성한 선형 검색 알고리즘"
      ],
      "metadata": {
        "id": "mHDHxJArbZ5A"
      }
    },
    {
      "cell_type": "code",
      "source": [
        "from typing import Any, Sequence\n",
        "\n",
        "def seq_search(a: Sequence, key:Any) -> int:\n",
        "  \"\"\"시퀀스 a에서 key와 값이 같은 원소를 선형 검색(while문)\"\"\"\n",
        "  i = 0\n",
        "  for i in range(len(a)):\n",
        "    if a[i] == key:\n",
        "      return i  # 검색 성공 (인덱스 반환)\n",
        "  return -1     # 검색 실패 (-1 반환)\n",
        "\n",
        "if __name__ == '__main__':\n",
        "  num = int(input('원소 수를 입력하세요 : '))\n",
        "  x = [None] * num\n",
        "\n",
        "  for i in range(num):\n",
        "    x[i] = int(input(f'x[{i}] : '))\n",
        "  \n",
        "  ky = int(input('검색할 값을 입력하세요 : '))\n",
        "\n",
        "  idx = seq_search(x, ky)\n",
        "\n",
        "  if idx == -1:\n",
        "    print('검색 값을 갖는 원소가 존재하지 않습니다.')\n",
        "  else:\n",
        "    print(f'검색값은 x[{idx}]에 있습니다.')"
      ],
      "metadata": {
        "colab": {
          "base_uri": "https://localhost:8080/"
        },
        "id": "2khPIQfobo0n",
        "outputId": "59ebb28f-9de4-4dc7-ad2d-99771e5cde54"
      },
      "execution_count": 5,
      "outputs": [
        {
          "output_type": "stream",
          "name": "stdout",
          "text": [
            "원소 수를 입력하세요 : 7\n",
            "x[0] : 6\n",
            "x[1] : 4\n",
            "x[2] : 3\n",
            "x[3] : 2\n",
            "x[4] : 1\n",
            "x[5] : 2\n",
            "x[6] : 8\n",
            "검색할 값을 입력하세요 : 2\n",
            "검색값은 x[3]에 있습니다.\n"
          ]
        }
      ]
    },
    {
      "cell_type": "markdown",
      "source": [
        "## 보충 수업) 다양한 자료형인 시퀀스에서 검색"
      ],
      "metadata": {
        "id": "s7hYX85Ade0K"
      }
    },
    {
      "cell_type": "markdown",
      "source": [
        "### 실습 3c-1."
      ],
      "metadata": {
        "id": "uSzkEU7WdkHq"
      }
    },
    {
      "cell_type": "markdown",
      "source": [
        "* seq_search() 함수를 사용하여 실수 검색하기"
      ],
      "metadata": {
        "id": "RzbbjytxdnD_"
      }
    },
    {
      "cell_type": "code",
      "source": [
        "from google.colab import drive\n",
        "drive.mount('/content/drive')"
      ],
      "metadata": {
        "colab": {
          "base_uri": "https://localhost:8080/"
        },
        "id": "8QKeEC3Eckc8",
        "outputId": "bf95e3b2-863c-490c-9a9c-03c9da686fec"
      },
      "execution_count": 6,
      "outputs": [
        {
          "output_type": "stream",
          "name": "stdout",
          "text": [
            "Mounted at /content/drive\n"
          ]
        }
      ]
    },
    {
      "cell_type": "code",
      "source": [
        "cd '/content/drive/MyDrive/Colab Notebooks/study/자료구조 알고리즘/[예제소스]/chap03'"
      ],
      "metadata": {
        "colab": {
          "base_uri": "https://localhost:8080/"
        },
        "id": "6bWqr3v8dyQA",
        "outputId": "6ca03dac-53c4-4e40-ce96-c8634896eb67"
      },
      "execution_count": 7,
      "outputs": [
        {
          "output_type": "stream",
          "name": "stdout",
          "text": [
            "/content/drive/MyDrive/Colab Notebooks/study/자료구조 알고리즘/[예제소스]/chap03\n"
          ]
        }
      ]
    },
    {
      "cell_type": "code",
      "source": [
        "from ssearch_while import seq_search\n",
        "\n",
        "print('실수를 검색합니다.')\n",
        "print('주의 : \"End\"를 입력하면 종료합니다.')\n",
        "\n",
        "num = 0\n",
        "x = []\n",
        "\n",
        "while True:\n",
        "  s = input(f'x[{num}] : ')\n",
        "  if s == 'End':\n",
        "    break\n",
        "  x.append(float(s))\n",
        "  num += 1\n",
        "\n",
        "ky = float(input('검색할 값을 입력하세요 : '))\n",
        "\n",
        "idx = seq_search(x, ky)\n",
        "\n",
        "if idx == -1:\n",
        "  print('검색 값을 갖는 원소가 존재하지 않습니다.')\n",
        "else:\n",
        "  print(f'검색 값은 x[{idx}]에 있습니다.')"
      ],
      "metadata": {
        "colab": {
          "base_uri": "https://localhost:8080/"
        },
        "id": "N4ztogLcd7pk",
        "outputId": "5e533fbf-871e-4efd-b46a-37b9b90aa2fa"
      },
      "execution_count": 9,
      "outputs": [
        {
          "output_type": "stream",
          "name": "stdout",
          "text": [
            "실수를 검색합니다.\n",
            "주의 : \"End\"를 입력하면 종료합니다.\n",
            "x[0] : 12.7\n",
            "x[1] : 3.14\n",
            "x[2] : 6.4\n",
            "x[3] : 7.2\n",
            "x[4] : End\n",
            "검색할 값을 입력하세요 : 6.4\n",
            "검색 값은 x[2]에 있습니다.\n"
          ]
        }
      ]
    },
    {
      "cell_type": "markdown",
      "source": [
        "### 실습 3c-2."
      ],
      "metadata": {
        "id": "7OqlSVJCe0_6"
      }
    },
    {
      "cell_type": "markdown",
      "source": [
        "* seq_search() 함수를 사용하여 특정 인덱스 검색하기"
      ],
      "metadata": {
        "id": "bm2aRhU9em0f"
      }
    },
    {
      "cell_type": "code",
      "source": [
        "from ssearch_while import seq_search\n",
        "\n",
        "t = (4, 7, 5.6, 2, 3.14, 1)\n",
        "s = 'string'\n",
        "a = ['DTS', 'AAC', 'FLAC']\n",
        "\n",
        "print(f'{t}에서 5.6의 인덱스는 {seq_search(t, 5.6)}입니다.')\n",
        "print(f'{s}에서 \"n\"의 인덱스는 {seq_search(s, \"n\")}입니다.')\n",
        "print(f'{a}에서 5.6의 인덱스는 {seq_search(a, \"DTS\")}입니다.')"
      ],
      "metadata": {
        "colab": {
          "base_uri": "https://localhost:8080/"
        },
        "id": "UfF44CVxe7XA",
        "outputId": "b01fd821-e6f1-4ee3-e1d2-d6227caafdfb"
      },
      "execution_count": 10,
      "outputs": [
        {
          "output_type": "stream",
          "name": "stdout",
          "text": [
            "(4, 7, 5.6, 2, 3.14, 1)에서 5.6의 인덱스는 2입니다.\n",
            "string에서 \"n\"의 인덱스는 4입니다.\n",
            "['DTS', 'AAC', 'FLAC']에서 5.6의 인덱스는 0입니다.\n"
          ]
        }
      ]
    },
    {
      "cell_type": "markdown",
      "source": [
        "## 보초법"
      ],
      "metadata": {
        "id": "qbaXPPZrflDR"
      }
    },
    {
      "cell_type": "markdown",
      "source": [
        "* 찾고자 하는 값을 배열의 맨 끝에 저장. 이때 저장하는 값을 보초(sentinel)라고 함.\n",
        "* 앞서 살펴본 선형 검색 종료 조건 중 **'검색할 값을 찾지 못하고 배열의 맨 끝을 지나갔습니까?'**는 판단할 필요가 없음.\n",
        "* 배열의 맨 마지막에 보초값이 존재하므로 **'검색할 값과 같은 원소를 찾았습니까?'**에 해당하기 때문"
      ],
      "metadata": {
        "id": "btflJ7g3f16V"
      }
    },
    {
      "cell_type": "markdown",
      "source": [
        "### 실습 3-3."
      ],
      "metadata": {
        "id": "MIaZkhi1hERO"
      }
    },
    {
      "cell_type": "markdown",
      "source": [
        "* 선형 검색 알고리즘(실습 3-1)을 보초법으로 수정"
      ],
      "metadata": {
        "id": "ko5RvW18fbJM"
      }
    },
    {
      "cell_type": "code",
      "source": [
        "from typing import Any, Sequence\n",
        "import copy\n",
        "\n",
        "def seq_search(seq:Sequence, key:Any) -> int:\n",
        "  \"\"\"시퀀스 seq에서 key와 일치하는 원소를 선형 검색(보초법)\"\"\"\n",
        "  a = copy.deepcopy(seq)  # seq 복사\n",
        "  a.append(key)           # 맨 마지막에 보초 key 추가\n",
        "\n",
        "  i = 0\n",
        "  while True:\n",
        "    if a[i] == key:\n",
        "      break               # 검색에 성공하면 while문 종료\n",
        "    i += 1\n",
        "  return -1 if i == len(seq) else i    # i 값이 len(seq)와 같으면 보초이므로 검색 실패 = -1, 그렇지 않으면 i 반환 \n",
        "\n",
        "if __name__ == '__main__':\n",
        "  num = int(input('원소 수를 입력하세요 : '))\n",
        "  x = [None] * num\n",
        "\n",
        "  for i in range(num):\n",
        "    x[i] = int(input(f'x[{i}] : '))\n",
        "  \n",
        "  ky = int(input('검색할 값을 입력하세요 : '))\n",
        "\n",
        "  idx = seq_search(x, ky)\n",
        "  if idx == -1:\n",
        "    print('검색 값을 갖는 원소가 존재하지 않음')\n",
        "  else:\n",
        "    print(f'검색 값은 x[{idx}]에 있습니다.')"
      ],
      "metadata": {
        "colab": {
          "base_uri": "https://localhost:8080/"
        },
        "id": "fLjZwPB9hLbX",
        "outputId": "76d710ec-f8c4-4f4a-acb1-bb613b1ae673"
      },
      "execution_count": 16,
      "outputs": [
        {
          "output_type": "stream",
          "name": "stdout",
          "text": [
            "원소 수를 입력하세요 : 7\n",
            "x[0] : 6\n",
            "x[1] : 4\n",
            "x[2] : 3\n",
            "x[3] : 2\n",
            "x[4] : 1\n",
            "x[5] : 2\n",
            "x[6] : 2\n",
            "검색할 값을 입력하세요 : 2\n",
            "검색 값은 x[3]에 있습니다.\n"
          ]
        }
      ]
    }
  ]
}