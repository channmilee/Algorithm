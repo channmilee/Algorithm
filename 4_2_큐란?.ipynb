{
  "nbformat": 4,
  "nbformat_minor": 0,
  "metadata": {
    "colab": {
      "provenance": [],
      "authorship_tag": "ABX9TyMWrOttOQGkRTvwhRiJdR7w",
      "include_colab_link": true
    },
    "kernelspec": {
      "name": "python3",
      "display_name": "Python 3"
    },
    "language_info": {
      "name": "python"
    }
  },
  "cells": [
    {
      "cell_type": "markdown",
      "metadata": {
        "id": "view-in-github",
        "colab_type": "text"
      },
      "source": [
        "<a href=\"https://colab.research.google.com/github/channmilee/Algorithm/blob/master/4_2_%ED%81%90%EB%9E%80%3F.ipynb\" target=\"_parent\"><img src=\"https://colab.research.google.com/assets/colab-badge.svg\" alt=\"Open In Colab\"/></a>"
      ]
    },
    {
      "cell_type": "markdown",
      "source": [
        "## 큐 알아보기"
      ],
      "metadata": {
        "id": "yGA9LEvFibaU"
      }
    },
    {
      "cell_type": "markdown",
      "source": [
        "* 큐(queue)\n",
        "  * 데이터를 임시 저장하는 자료 구조\n",
        "  * 가장 먼저 넣은 데이터를 가장 먼저 꺼내는 선입선출 FIFO 구조\n",
        "  * 인큐 (enqueue) : 데이터를 추가하는 작업\n",
        "  * 디큐 (dequeque) : 데이터를 꺼내는 작업\n",
        "  * 프런트 (front) : 데이터를 꺼내는 쪽\n",
        "  * 리어 (rear) : 데이터를 넣는 쪽\n",
        "  * [큐 그림으로 이해하기](https://ddrt44al.tistory.com/47)"
      ],
      "metadata": {
        "id": "zOF6hVxKiu3R"
      }
    },
    {
      "cell_type": "markdown",
      "source": [
        "### 실습 4-3."
      ],
      "metadata": {
        "id": "P6K3Zd4tS_XQ"
      }
    },
    {
      "cell_type": "markdown",
      "source": [
        "* 고정 길이 큐 클래스 FixedQueue 구현하기"
      ],
      "metadata": {
        "id": "PaW92Cdbi3I_"
      }
    },
    {
      "cell_type": "markdown",
      "source": [
        "**-- 예외 처리 클래스 `Empty`와 `Full`**\n",
        "* 큐가 비어 있을 때 deque(), peek() 함수 호출할 경우 내보내는 예외처리  \n",
        "\n",
        "**-- 초기화하는 `__init__() 함수`**\n",
        "* que : 큐의 배열로서 밀어 넣는 데이터를 저장하는 list형 배열\n",
        "* capacity : 큐의 최대 크기를 나타내는 int형 정수\n",
        "* front : 큐에 넣은 데이터 중에 가장 처음에 넣은 맨 앞 원소의 인덱스\n",
        "* rear : 다음에 인큐할 때 데이터를 저장하는 원소의 인덱스\n",
        "* no : 큐에 쌓여 있는 데이터 개수를 나타내는 int형 정수  \n",
        "      front와 rear의 값이 같을 경우 큐가 비어 있는지, 가득 차 있는지 구별하기 위해 필요\n",
        "      큐가 비어 있으면 no = 0\n",
        "      큐가 가득 차 있으면 no = capacity  \n",
        "\n",
        "**-- 추가한 데이터 개수 알아내는 `__len__() 함수`**\n",
        "* 큐에 추가한 데이터 개수 반환. no 값을 그대로 반환  \n",
        "\n",
        "\n",
        "**-- 큐가 비어 있는지 판단하는 `is_empty() 함수`**\n",
        "* 큐가 비어 있으면 True, 그렇지 않으면 False  \n",
        "\n",
        "**-- 큐가 가득 차 있는지 판단하는 `is_full() 함수`**\n",
        "* 큐가 가득 차 있으면 True, 그렇지 않으면 False  \n",
        "\n",
        "**-- 데이터 넣는 `enque() 함수`**  \n",
        "\n",
        "**-- 데이터 꺼내는 `deque() 함수`**  \n",
        "\n",
        "**-- 데이터 들여다보는 `peek() 함수`**\n",
        "* 맨 앞 데이터, 즉 다음 디큐에서 꺼낼 데이터를 들여다봄  \n",
        "\n",
        "**-- 검색하는 `find() 함수`**\n",
        "* 맨 앞에서 맨 끝쪽으로 선형 검색\n",
        "* 따라서 맨 앞 원소인 front 부터 시작  \n",
        "\n",
        "**-- 데이터 개수 세는 `count() 함수`**\n",
        "* 큐에 있는 데이터의 개수를 구하여 반환  \n",
        "\n",
        "**-- 데이터 포함 여부 판단 `__contains__() 함수`**\n",
        "* 큐에 데이터가 들어 있으면 True, 그렇지 않으면 False  \n",
        "\n",
        "**-- 큐의 전체 원소 삭제하는 `clear() 함수`**\n",
        "* 인큐와 디큐는 no, front, rear의 값을 바탕으로 수행. 모든 값을 0으로 하면 됨  \n",
        "\n",
        "**-- 큐 전체 데이터 출력하는 `dump() 함수`**\n",
        "* 큐에 들어 있는 모든 데이터를 맨 앞부터 맨 끝 쪽으로 순서대로 출력\n"
      ],
      "metadata": {
        "id": "XA4E1ZRSV-OC"
      }
    },
    {
      "cell_type": "code",
      "source": [
        "from typing import Any\n",
        "\n",
        "class FixedQueue:\n",
        "\n",
        "  class Empty(Exception):\n",
        "    \"\"\"비어 있는 FixedQueue에서 디큐 또는 피크할 때 내보내는 예외 처리\"\"\"\n",
        "    pass\n",
        "  \n",
        "  class Full(Exception):\n",
        "    \"\"\"가득 차 있는 FixedQueue에서 인큐할 때 내보내는 예외 처리\"\"\"\n",
        "    pass\n",
        "  \n",
        "  def __init__(self, capacity: int) -> None:\n",
        "    \"\"\"큐 초기화\"\"\"\n",
        "    self.no = 0                    # 현재 데이터 개수\n",
        "    self.front = 0                 # 맨 앞 원소 커서\n",
        "    self.rear = 0                  # 맨 끝 원소 커서\n",
        "    self.capacity = capacity       # 큐의 크기\n",
        "    self.que = [None] * capacity   # 큐의 본체\n",
        "\n",
        "  def __len__(self) -> int:\n",
        "    \"\"\"큐에 있는 모든 데이터 개수 반환\"\"\"\n",
        "    return self.no\n",
        "  \n",
        "  def is_empty(self) -> bool:\n",
        "    \"\"\"큐가 비어 있는지 판단\"\"\"\n",
        "    return self.no <= 0\n",
        "  \n",
        "  def is_full(self) -> bool:\n",
        "    \"\"\"큐가 가득 차 있는지 판단\"\"\"\n",
        "    return self.no >= self.capacity\n",
        "  \n",
        "  def enque(self, x: Any) -> None:\n",
        "    \"\"\"데이터 x를 인큐\"\"\"\n",
        "    if self.is_full():\n",
        "      raise FixedQueue.Full      # 큐가 가득 차 있는 경우 예외 처리 발생\n",
        "    self.que[self.rear] = x\n",
        "    self.rear += 1\n",
        "    self.no += 1\n",
        "    if self.rear == self.capacity:\n",
        "      self.rear = 0\n",
        "  \n",
        "  def deque(self) -> Any:\n",
        "    \"\"\"데이터 디큐\"\"\"\n",
        "    if self.is_empty():\n",
        "      raise FixedQueue.Empty     # 큐가 비어 있는 경우 예외 처리 발생\n",
        "    x = self.que[self.front]\n",
        "    self.front +=  1\n",
        "    self.no -= 1\n",
        "    if self.front == self.capacity:\n",
        "      self.front = 0\n",
        "    return x\n",
        "  \n",
        "  def peek(self) -> Any:\n",
        "    \"\"\"큐에서 데이터를 피크(맨 앞 데이터를 들여다봄)\"\"\"\n",
        "    if self.is_empty():\n",
        "      raise FixedQueue.Empty     # 큐가 비어 있는 경우 예외 처리 발생\n",
        "    return self.que[self.front]\n",
        "\n",
        "  def fint(self, value: Any) -> Any:\n",
        "    \"\"\"큐에서 value를 찾아 인덱스 반환(없으면 -1 반환)\"\"\"\n",
        "    for i in range(self.no):\n",
        "      idx = (i + self.front) % self.capacity\n",
        "      if self.que[idx] == value:     # 검색 성공\n",
        "        return idx\n",
        "    return -1                        # 검색 실패\n",
        "  \n",
        "  def count(self, value: Any) -> bool:\n",
        "    \"\"\"큐에 있는 value 개수 반환\"\"\"\n",
        "    c = 0\n",
        "    for i in range(self.no):         # 큐 데이터를 선형 검색\n",
        "      idx = (i + self.front) % self.capacity\n",
        "      if self.que[idx] == value:     # 검색 성공\n",
        "        c += 1\n",
        "    return c\n",
        "    \n",
        "  def __contains__(self, value: Any) -> bool:\n",
        "    \"\"\"큐에 value가 있는지 판단\"\"\"\n",
        "    return self.count(value)\n",
        "  \n",
        "  def clear(self) -> None:\n",
        "    \"\"\"큐의 모든 데이터를 비움\"\"\"\n",
        "    self.no = self.front = self.rear = 0\n",
        "  \n",
        "  def dump(self) -> None:\n",
        "    \"\"\"모든 데이터를 맨 앞부터 맨 끝 순으로 출력\"\"\"\n",
        "    if self.is_empty():\n",
        "      print('큐가 비었습니다.')\n",
        "    else:\n",
        "      for i in range(self.no):\n",
        "        print(self.que[(i + self.front) % self.capacity], end = \"\")\n",
        "      print()"
      ],
      "metadata": {
        "id": "RIzp55ZvTFpd"
      },
      "execution_count": 1,
      "outputs": []
    },
    {
      "cell_type": "markdown",
      "source": [
        "## 링 버퍼로 큐 프로그램 만들기"
      ],
      "metadata": {
        "id": "ostvvqSskvW_"
      }
    },
    {
      "cell_type": "markdown",
      "source": [
        "### 실습 4-4"
      ],
      "metadata": {
        "id": "47S8Q5dulCxS"
      }
    },
    {
      "cell_type": "markdown",
      "source": [
        "* 고정 길이 큐 클래스(FixedQueue) 사용하기"
      ],
      "metadata": {
        "id": "SdrOA3xkiFP3"
      }
    },
    {
      "cell_type": "code",
      "source": [
        "from google.colab import drive\n",
        "drive.mount('/content/drive')"
      ],
      "metadata": {
        "colab": {
          "base_uri": "https://localhost:8080/"
        },
        "id": "kb6DZPFpk1Ng",
        "outputId": "c26199da-6fcb-47c0-888d-9e8b99834a0a"
      },
      "execution_count": 2,
      "outputs": [
        {
          "output_type": "stream",
          "name": "stdout",
          "text": [
            "Mounted at /content/drive\n"
          ]
        }
      ]
    },
    {
      "cell_type": "code",
      "source": [
        "cd '/content/drive/MyDrive/Colab Notebooks/study/자료구조 알고리즘/[예제소스]/chap04'"
      ],
      "metadata": {
        "colab": {
          "base_uri": "https://localhost:8080/"
        },
        "id": "NyezOVRAk92r",
        "outputId": "c66a2755-ad0e-4db2-c4e3-bb87fbcfcee7"
      },
      "execution_count": 3,
      "outputs": [
        {
          "output_type": "stream",
          "name": "stdout",
          "text": [
            "/content/drive/MyDrive/Colab Notebooks/study/자료구조 알고리즘/[예제소스]/chap04\n"
          ]
        }
      ]
    },
    {
      "cell_type": "code",
      "source": [
        "from enum import Enum\n",
        "from fixed_queue import FixedQueue\n",
        "\n",
        "Menu = Enum('Menu', ['인큐', '디큐', '피크', '검색', '덤프', '종료'])\n",
        "\n",
        "def select_menu() -> Menu:\n",
        "  \"\"\"메뉴 선택\"\"\"\n",
        "  s = [f'({m.value}){m.name}' for m in Menu]\n",
        "  while True:\n",
        "    print(*s, sep = '   ', end = '')\n",
        "    n = int(input(': '))\n",
        "    if 1 <= n <= len(Menu):\n",
        "      return Menu(n)\n",
        "\n",
        "### 최대 64개를 인큐할 수 있는 큐\n",
        "q = FixedQueue(64)\n",
        "\n",
        "while True:\n",
        "  print(f'현재 데이터 개수 : {len(q)} / {q.capacity}')\n",
        "  menu = select_menu()       # 메뉴 선택\n",
        "\n",
        "  ### 인큐 ###\n",
        "  if menu == Menu.인큐:\n",
        "    x = int(input('인큐할 데이터를 입력하세요 : '))\n",
        "    try:\n",
        "      q.enque(x)\n",
        "    except FixedQueue.Full:\n",
        "      print('큐가 가득 찼습니다.')\n",
        "    \n",
        "  ### 디큐 ###\n",
        "  elif menu == Menu.디큐:\n",
        "    try:\n",
        "      x = q.deque()\n",
        "      print(f'디큐한 데이터는 {x}입니다.')\n",
        "    except FixedQueue.Empty:\n",
        "      print('큐가 비어 있습니다.')\n",
        "  \n",
        "  ### 피크 ###\n",
        "  elif menu == Menu.피크:\n",
        "    try:\n",
        "      x = q.peek()\n",
        "      print(f'피크할 데이터는 {x} 입니다.')\n",
        "    except FixedQueue.Empty:\n",
        "      print('큐가 비었습니다.')\n",
        "  \n",
        "  ### 검색 ###\n",
        "  elif menu == Menu.검색:\n",
        "    x = int(input('검색할 값을 입력하세요 : '))\n",
        "    if x in q:\n",
        "      print(f'{q.count(x)}개 포함되고, 맨 앞의 위치는 {q.find(x)} 입니다.')\n",
        "    else:\n",
        "      print('검색 값을 찾을 수 없습니다.')\n",
        "  \n",
        "  ### 덤프 ###\n",
        "  elif menu == Menu.덤프:\n",
        "    q.dump()\n",
        "  else:\n",
        "    break"
      ],
      "metadata": {
        "colab": {
          "base_uri": "https://localhost:8080/"
        },
        "id": "modIVdOalJp9",
        "outputId": "7bedfed4-c675-4694-95a5-a76819235d24"
      },
      "execution_count": 7,
      "outputs": [
        {
          "name": "stdout",
          "output_type": "stream",
          "text": [
            "현재 데이터 개수 : 0 / 64\n",
            "(1)인큐   (2)디큐   (3)피크   (4)검색   (5)덤프   (6)종료: 1\n",
            "인큐할 데이터를 입력하세요 : 1\n",
            "현재 데이터 개수 : 1 / 64\n",
            "(1)인큐   (2)디큐   (3)피크   (4)검색   (5)덤프   (6)종료: 1\n",
            "인큐할 데이터를 입력하세요 : 2\n",
            "현재 데이터 개수 : 2 / 64\n",
            "(1)인큐   (2)디큐   (3)피크   (4)검색   (5)덤프   (6)종료: 1\n",
            "인큐할 데이터를 입력하세요 : 3\n",
            "현재 데이터 개수 : 3 / 64\n",
            "(1)인큐   (2)디큐   (3)피크   (4)검색   (5)덤프   (6)종료: 1\n",
            "인큐할 데이터를 입력하세요 : 1\n",
            "현재 데이터 개수 : 4 / 64\n",
            "(1)인큐   (2)디큐   (3)피크   (4)검색   (5)덤프   (6)종료: 1\n",
            "인큐할 데이터를 입력하세요 : 5\n",
            "현재 데이터 개수 : 5 / 64\n",
            "(1)인큐   (2)디큐   (3)피크   (4)검색   (5)덤프   (6)종료: 5\n",
            "1 2 3 1 5 \n",
            "현재 데이터 개수 : 5 / 64\n",
            "(1)인큐   (2)디큐   (3)피크   (4)검색   (5)덤프   (6)종료: 4\n",
            "검색할 값을 입력하세요 : 1\n",
            "2개 포함되고, 맨 앞의 위치는 0 입니다.\n",
            "현재 데이터 개수 : 5 / 64\n",
            "(1)인큐   (2)디큐   (3)피크   (4)검색   (5)덤프   (6)종료: 3\n",
            "피크할 데이터는 1 입니다.\n",
            "현재 데이터 개수 : 5 / 64\n",
            "(1)인큐   (2)디큐   (3)피크   (4)검색   (5)덤프   (6)종료: 2\n",
            "디큐한 데이터는 1입니다.\n",
            "현재 데이터 개수 : 4 / 64\n",
            "(1)인큐   (2)디큐   (3)피크   (4)검색   (5)덤프   (6)종료: 2\n",
            "디큐한 데이터는 2입니다.\n",
            "현재 데이터 개수 : 3 / 64\n",
            "(1)인큐   (2)디큐   (3)피크   (4)검색   (5)덤프   (6)종료: 5\n",
            "3 1 5 \n",
            "현재 데이터 개수 : 3 / 64\n",
            "(1)인큐   (2)디큐   (3)피크   (4)검색   (5)덤프   (6)종료: 6\n"
          ]
        }
      ]
    },
    {
      "cell_type": "markdown",
      "source": [
        "### 링 버퍼 활용"
      ],
      "metadata": {
        "id": "MR1fVRFSoyrt"
      }
    },
    {
      "cell_type": "markdown",
      "source": [
        "#### 실습 4c-2"
      ],
      "metadata": {
        "id": "eWPFZKianSqJ"
      }
    },
    {
      "cell_type": "markdown",
      "source": [
        "* 원하는 개수(n)만큼 값을 입력받아 마지막 n개 저장"
      ],
      "metadata": {
        "id": "9rPFLMxHo4Xw"
      }
    },
    {
      "cell_type": "code",
      "source": [
        "n = int(input('정수를 몇 개 저장할까요? '))\n",
        "a = [None] * n              # 입력 받은 값을 저장하는 배열\n",
        "\n",
        "cnt = 0                     # 정수를 입력받은 개수\n",
        "while True:\n",
        "  a[cnt % n] = int(input((f'{cnt + 1}번째 정수를 입력하세요 : ')))\n",
        "  cnt += 1\n",
        "\n",
        "  retry = input(f'계속 할까요? (Y --- yes / N --- no) : ')\n",
        "  if retry in {'N', 'n'}:\n",
        "    break\n",
        "\n",
        "i = cnt - n\n",
        "if i < 0: i = 0\n",
        "\n",
        "while i < cnt:\n",
        "  print(f'{i + 1}번째 = {a[i % n]}')\n",
        "  i += 1"
      ],
      "metadata": {
        "colab": {
          "base_uri": "https://localhost:8080/"
        },
        "id": "y4WEJotxpNe3",
        "outputId": "3b886b23-a496-4b3c-f9eb-4ce094928cdd"
      },
      "execution_count": 10,
      "outputs": [
        {
          "output_type": "stream",
          "name": "stdout",
          "text": [
            "정수를 몇 개 저장할까요? 10\n",
            "1번째 정수를 입력하세요 : 15\n",
            "계속 할까요? (Y --- yes / N --- no) : Y\n",
            "2번째 정수를 입력하세요 : 17\n",
            "계속 할까요? (Y --- yes / N --- no) : Y\n",
            "3번째 정수를 입력하세요 : 38\n",
            "계속 할까요? (Y --- yes / N --- no) : Y\n",
            "4번째 정수를 입력하세요 : 28\n",
            "계속 할까요? (Y --- yes / N --- no) : Y\n",
            "5번째 정수를 입력하세요 : 19\n",
            "계속 할까요? (Y --- yes / N --- no) : Y\n",
            "6번째 정수를 입력하세요 : 3\n",
            "계속 할까요? (Y --- yes / N --- no) : Y\n",
            "7번째 정수를 입력하세요 : 20\n",
            "계속 할까요? (Y --- yes / N --- no) : Y\n",
            "8번째 정수를 입력하세요 : 48\n",
            "계속 할까요? (Y --- yes / N --- no) : Y\n",
            "9번째 정수를 입력하세요 : 83\n",
            "계속 할까요? (Y --- yes / N --- no) : Y\n",
            "10번째 정수를 입력하세요 : 27\n",
            "계속 할까요? (Y --- yes / N --- no) : Y\n",
            "11번째 정수를 입력하세요 : 83\n",
            "계속 할까요? (Y --- yes / N --- no) : Y\n",
            "12번째 정수를 입력하세요 : 64\n",
            "계속 할까요? (Y --- yes / N --- no) : N\n",
            "3번째 = 38\n",
            "4번째 = 28\n",
            "5번째 = 19\n",
            "6번째 = 3\n",
            "7번째 = 20\n",
            "8번째 = 48\n",
            "9번째 = 83\n",
            "10번째 = 27\n",
            "11번째 = 83\n",
            "12번째 = 64\n"
          ]
        }
      ]
    },
    {
      "cell_type": "code",
      "source": [],
      "metadata": {
        "id": "MsMBbcNWu6m1"
      },
      "execution_count": null,
      "outputs": []
    }
  ]
}