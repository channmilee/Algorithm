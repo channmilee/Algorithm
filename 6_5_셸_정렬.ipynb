{
  "nbformat": 4,
  "nbformat_minor": 0,
  "metadata": {
    "colab": {
      "provenance": [],
      "authorship_tag": "ABX9TyPdXsS5VObufsnLO9XrNhZP",
      "include_colab_link": true
    },
    "kernelspec": {
      "name": "python3",
      "display_name": "Python 3"
    },
    "language_info": {
      "name": "python"
    }
  },
  "cells": [
    {
      "cell_type": "markdown",
      "metadata": {
        "id": "view-in-github",
        "colab_type": "text"
      },
      "source": [
        "<a href=\"https://colab.research.google.com/github/channmilee/Algorithm/blob/master/6_5_%EC%85%B8_%EC%A0%95%EB%A0%AC.ipynb\" target=\"_parent\"><img src=\"https://colab.research.google.com/assets/colab-badge.svg\" alt=\"Open In Colab\"/></a>"
      ]
    },
    {
      "cell_type": "markdown",
      "source": [
        "## 셸 정렬 알아보기"
      ],
      "metadata": {
        "id": "AFnAhvw08pb_"
      }
    },
    {
      "cell_type": "markdown",
      "source": [
        "* **셸 정렬** \n",
        "  * 먼저 정렬한 배열의 원소를 그룹으로 나눠 각 그룹별로 정렬을 수행\n",
        "  * 그 후 정렬된 그룹을 합치는 작업을 반복하여 원소의 이동 횟수를 줄임\n",
        "  * [셸 정렬 알아보기](https://ddrt44al.tistory.com/53)"
      ],
      "metadata": {
        "id": "Ywfx1qLW8t72"
      }
    },
    {
      "cell_type": "markdown",
      "source": [
        "### 실습 6-8"
      ],
      "metadata": {
        "id": "6TM13paUGudz"
      }
    },
    {
      "cell_type": "markdown",
      "source": [
        "* 셸 정렬 알고리즘 구현하기"
      ],
      "metadata": {
        "id": "-qYFazxm8lu8"
      }
    },
    {
      "cell_type": "code",
      "source": [
        "from typing import MutableSequence\n",
        "\n",
        "def shell_sort(a:MutableSequence) -> None:\n",
        "  \"\"\"셸 정렬\"\"\"\n",
        "  n = len(a)\n",
        "  h = n//2\n",
        "\n",
        "  while h > 0:\n",
        "    for i in range(h, n):\n",
        "      j = i - h\n",
        "      tmp = a[i]\n",
        "      while j >= 0 and a[j] > tmp:\n",
        "        a[j + h] = a[j]\n",
        "        j -= h\n",
        "      a[j + h] = tmp\n",
        "    h //= 2 \n",
        "\n",
        "if __name__ == '__main__':\n",
        "  print('셸 정렬을 수행합니다.')\n",
        "  num = int(input('원소 수를 입력하세요 : '))\n",
        "  x = [None] * num      \n",
        "\n",
        "  for i in range(num):\n",
        "    x [i] = int(input(f'x[{i}] : '))\n",
        "  \n",
        "  shell_sort(x)\n",
        "\n",
        "  print('오름차순으로 정렬했습니다.')\n",
        "  for i in range(num):\n",
        "    print(f'x[{i}] = {x[i]}')"
      ],
      "metadata": {
        "colab": {
          "base_uri": "https://localhost:8080/"
        },
        "id": "artXhmOAGyVe",
        "outputId": "b358afa2-ab64-4c7c-b4ea-f4ed9629ede8"
      },
      "execution_count": 2,
      "outputs": [
        {
          "output_type": "stream",
          "name": "stdout",
          "text": [
            "셸 정렬을 수행합니다.\n",
            "원소 수를 입력하세요 : 8\n",
            "x[0] : 8\n",
            "x[1] : 1\n",
            "x[2] : 4\n",
            "x[3] : 2\n",
            "x[4] : 7\n",
            "x[5] : 6\n",
            "x[6] : 3\n",
            "x[7] : 5\n",
            "오름차순으로 정렬했습니다.\n",
            "x[0] = 1\n",
            "x[1] = 2\n",
            "x[2] = 3\n",
            "x[3] = 4\n",
            "x[4] = 5\n",
            "x[5] = 6\n",
            "x[6] = 7\n",
            "x[7] = 8\n"
          ]
        }
      ]
    },
    {
      "cell_type": "markdown",
      "source": [
        "### 실습 6-9"
      ],
      "metadata": {
        "id": "t7f-8eLS5TJ3"
      }
    },
    {
      "cell_type": "markdown",
      "source": [
        "* 셸 정렬 알고리즘 구현하기 (h * 3 + 1의 수열 사용)"
      ],
      "metadata": {
        "id": "d6Za2eDpH-2m"
      }
    },
    {
      "cell_type": "code",
      "source": [
        "from typing import MutableSequence\n",
        "\n",
        "def shell_sort(a: MutableSequence) -> None:\n",
        "  \"\"\"셸 정렬(h * 3 + 1 의 수열 사용)\"\"\"\n",
        "  n = len(a)\n",
        "  h = 1\n",
        "\n",
        "  while n < n // 9:\n",
        "    h = h * 3 + 1\n",
        "\n",
        "  while h > 0:\n",
        "    for i in range(h, n):\n",
        "      j = i - h\n",
        "      tmp = a[i]\n",
        "      while j >= 0 and a[j] > tmp:\n",
        "        a[j + h] = a[j]\n",
        "        j -= h\n",
        "      a[j + h] = tmp\n",
        "    h //= 3\n",
        "\n",
        "if __name__ == '__main__':\n",
        "  print('셀 정렬을 수행합니다. (h * 3 + 1의 수열 사용)')\n",
        "  num = int(input('원소 수를 입력하세요 : '))\n",
        "  x = [None] * num\n",
        "\n",
        "  for i in range(num):\n",
        "    x[i] = int(input(f'x[{i}] : '))\n",
        "\n",
        "  shell_sort(x)\n",
        "\n",
        "  print('오름차순으로 정렬했습니다.')\n",
        "  \n",
        "  for i in range(num):\n",
        "    print(f'x[{i}] = {x[i]}')"
      ],
      "metadata": {
        "colab": {
          "base_uri": "https://localhost:8080/"
        },
        "id": "9CZhHXeV5aYV",
        "outputId": "239ea040-52a3-44f6-9e19-ab694ec05aad"
      },
      "execution_count": 1,
      "outputs": [
        {
          "output_type": "stream",
          "name": "stdout",
          "text": [
            "셀 정렬을 수행합니다. (h * 3 + 1의 수열 사용)\n",
            "원소 수를 입력하세요 : 8\n",
            "x[0] : 8\n",
            "x[1] : 1\n",
            "x[2] : 4\n",
            "x[3] : 2\n",
            "x[4] : 7\n",
            "x[5] : 6\n",
            "x[6] : 3\n",
            "x[7] : 5\n",
            "오름차순으로 정렬했습니다.\n",
            "x[0] = 1\n",
            "x[1] = 2\n",
            "x[2] = 3\n",
            "x[3] = 4\n",
            "x[4] = 5\n",
            "x[5] = 6\n",
            "x[6] = 7\n",
            "x[7] = 8\n"
          ]
        }
      ]
    },
    {
      "cell_type": "markdown",
      "source": [
        "* 셸 정렬의 시간 복잡도는 단순 정렬의 시간 복잡도보다 매우 빠름\n",
        "* 하지만 이웃하지 않고 떨어져 있는 원소를 서로 교환하므로 안정적이지 않음"
      ],
      "metadata": {
        "id": "3i1l1YR1Crte"
      }
    }
  ]
}