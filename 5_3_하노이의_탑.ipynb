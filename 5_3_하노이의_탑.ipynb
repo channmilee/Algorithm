{
  "nbformat": 4,
  "nbformat_minor": 0,
  "metadata": {
    "colab": {
      "provenance": [],
      "authorship_tag": "ABX9TyNIZcooX2STalp3ybsW1KiG",
      "include_colab_link": true
    },
    "kernelspec": {
      "name": "python3",
      "display_name": "Python 3"
    },
    "language_info": {
      "name": "python"
    }
  },
  "cells": [
    {
      "cell_type": "markdown",
      "metadata": {
        "id": "view-in-github",
        "colab_type": "text"
      },
      "source": [
        "<a href=\"https://colab.research.google.com/github/channmilee/Algorithm/blob/master/5_3_%ED%95%98%EB%85%B8%EC%9D%B4%EC%9D%98_%ED%83%91.ipynb\" target=\"_parent\"><img src=\"https://colab.research.google.com/assets/colab-badge.svg\" alt=\"Open In Colab\"/></a>"
      ]
    },
    {
      "cell_type": "markdown",
      "source": [
        "## 하노이의 탑 알아보기"
      ],
      "metadata": {
        "id": "ZaFzYk8kh-Uk"
      }
    },
    {
      "cell_type": "markdown",
      "source": [
        "### 실습 5-6."
      ],
      "metadata": {
        "id": "ow4sNr8ph4kq"
      }
    },
    {
      "cell_type": "markdown",
      "source": [
        "* 하노이의 탑 구현하기\n",
        "  * 기둥 번호를 정수 1,2,3 으로 나타냄. 기둥 번호의 합이 6이기 때문에 중간 기둥은 (6 - x - y)"
      ],
      "metadata": {
        "id": "kDEBPeIGiCqq"
      }
    },
    {
      "cell_type": "code",
      "source": [
        "def move(no: int, x: int, y: int) -> None:\n",
        "  \"\"\"원반 no개를 x기둥에서 y기둥으로 옮김\"\"\"\n",
        "\n",
        "  if no > 1:\n",
        "    move(no - 1, x, 6 - x - y)\n",
        "  \n",
        "  print(f'원반 [{no}]을(를) {x} 기둥에서 {y} 기둥으로 옮깁니다.')\n",
        "\n",
        "  if no > 1:\n",
        "    move(no -1, 6 - x - y, y)\n",
        "  \n",
        "print('하노이의 탑을 구현합니다.')\n",
        "n = int(input('원반 개수를 입력하세요 : '))\n",
        "\n",
        "move(n, 1, 3)  # 1기둥에 쌓인 원반 n개를 3기둥으로 옮김"
      ],
      "metadata": {
        "colab": {
          "base_uri": "https://localhost:8080/"
        },
        "id": "jJE_bg2tiEDu",
        "outputId": "d0e37f37-9bba-46a5-c328-1304ae72f22f"
      },
      "execution_count": null,
      "outputs": [
        {
          "output_type": "stream",
          "name": "stdout",
          "text": [
            "하노이의 탑을 구현합니다.\n",
            "원반 개수를 입력하세요 : 3\n",
            "원반 [1]을(를) 1 기둥에서 3 기둥으로 옮깁니다.\n",
            "원반 [2]을(를) 1 기둥에서 2 기둥으로 옮깁니다.\n",
            "원반 [1]을(를) 3 기둥에서 2 기둥으로 옮깁니다.\n",
            "원반 [3]을(를) 1 기둥에서 3 기둥으로 옮깁니다.\n",
            "원반 [1]을(를) 2 기둥에서 1 기둥으로 옮깁니다.\n",
            "원반 [2]을(를) 2 기둥에서 3 기둥으로 옮깁니다.\n",
            "원반 [1]을(를) 1 기둥에서 3 기둥으로 옮깁니다.\n"
          ]
        }
      ]
    }
  ]
}