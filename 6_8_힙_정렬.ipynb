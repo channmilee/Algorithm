{
  "nbformat": 4,
  "nbformat_minor": 0,
  "metadata": {
    "colab": {
      "provenance": [],
      "authorship_tag": "ABX9TyNcOKOmLbJ1zxL39HWoNw/i",
      "include_colab_link": true
    },
    "kernelspec": {
      "name": "python3",
      "display_name": "Python 3"
    },
    "language_info": {
      "name": "python"
    }
  },
  "cells": [
    {
      "cell_type": "markdown",
      "metadata": {
        "id": "view-in-github",
        "colab_type": "text"
      },
      "source": [
        "<a href=\"https://colab.research.google.com/github/channmilee/Algorithm/blob/master/6_8_%ED%9E%99_%EC%A0%95%EB%A0%AC.ipynb\" target=\"_parent\"><img src=\"https://colab.research.google.com/assets/colab-badge.svg\" alt=\"Open In Colab\"/></a>"
      ]
    },
    {
      "cell_type": "markdown",
      "source": [
        "## 힙 정렬 알아보기"
      ],
      "metadata": {
        "id": "Mc6DrtsSHQFl"
      }
    },
    {
      "cell_type": "markdown",
      "source": [
        "* **힙 정렬**\n",
        "  * 힙 : 부모의 값이 자식의 값보다 항상 크다는 조건을 만족하는 완전 이진 트리\n",
        "  * 형제 사이의 대소 관계는 일정하지 않기 때문에 **부분 순서 트리**라고도 함\n",
        "\n",
        "\n",
        "> 원소 a[i]에서\n",
        "  * **부모** : a[(i-1) // 2]\n",
        "  * **왼쪽 자식** : a[i * 2 + 1]\n",
        "  * **오른쪽 자식** : a[i * 2 + 2]\n",
        "\n"
      ],
      "metadata": {
        "id": "GjuvhhzHHNBh"
      }
    },
    {
      "cell_type": "markdown",
      "source": [
        "* 힙에서 최댓값은 루트에 위치한다는 특징을 이용\n",
        "  1. 힙에서 최댓값인 루트를 꺼냄\n",
        "  2. 마지막 원소(가장 하단의 오른쪽에 위치한 원소)를 루트로 이동\n",
        "  3. 루트에서 시작하여 자신보다 값이 큰 자식과 자리를 바꾸고 아래쪽으로 내려가는 작업 반족\n",
        "  4. 자식의 값이 작거나 리프의 위치에 도달하면 종료"
      ],
      "metadata": {
        "id": "Zu9-k_kBNVR1"
      }
    },
    {
      "cell_type": "markdown",
      "source": [
        "* 힙 정렬 알고리즘\n",
        "  1. i 값을 n - 1로 초기화\n",
        "  2. a[0]과 a[i] 교환\n",
        "  3. a[0]. a[1]. ... , a[i-1]을 힙으로 만듦\n",
        "  4. i 값을 1씩 감소시켜 0이 되면 종료. 그렇지 않으면 2번으로 돌아감"
      ],
      "metadata": {
        "id": "Nf6MjpCsOgNv"
      }
    },
    {
      "cell_type": "markdown",
      "source": [
        "### 실습 6-16"
      ],
      "metadata": {
        "id": "sPvfLD8wPG5K"
      }
    },
    {
      "cell_type": "markdown",
      "source": [
        "* 힙 정렬 알고리즘 구현"
      ],
      "metadata": {
        "id": "qQjV-vuKJbD7"
      }
    },
    {
      "cell_type": "markdown",
      "source": [
        "-- **down_heap()** \n",
        "* a[left] ~ a[right] 원소를 힙으로 만듦\n",
        "* a[left] 이외에는 모두 힙 상태라고 가정하고 a[left]를 아랫부분의 알맞은 위치로 옮겨 힙 상태로 만듦\n",
        "\n",
        "-- **heap_sort()**\n",
        "* 1단계 : down_heap() 함수를 호출하여 배열 a를 힙으로 만듦\n",
        "* 2단계 : 최댓값인 루트 a[0]을 꺼내 배열의 마지막 원소와 교환. 배열의 남은 부분을 다시 힙으로 만드는 과정을 반복하여 정렬 수행"
      ],
      "metadata": {
        "id": "RMI6_7C_Q1Hb"
      }
    },
    {
      "cell_type": "code",
      "source": [
        "from typing import MutableSequence\n",
        "\n",
        "def heap_sort(a: MutableSequence) -> None:\n",
        "    \"\"\"힙 정렬\"\"\"\n",
        "\n",
        "    def down_heap(a: MutableSequence, left: int, right: int) -> None:\n",
        "        \"\"\"a[left] ~ a[right]를 힙으로 만들기\"\"\"\n",
        "        temp = a[left]      # 루트\n",
        "\n",
        "        parent = left\n",
        "        while parent < (right + 1) // 2:\n",
        "            cl = parent * 2 + 1     # 왼쪽 자식\n",
        "            cr = cl + 1             # 오른쪽 자식\n",
        "            child = cr if cr <= right and a[cr] > a[cl] else cl  # 큰 값을 선택합니다.\n",
        "            if temp >= a[child]:\n",
        "                break\n",
        "            a[parent] = a[child]\n",
        "            parent = child\n",
        "        a[parent] = temp\n",
        "\n",
        "    n = len(a)\n",
        "\n",
        "    ## 1단계 ##\n",
        "    for i in range((n - 1) // 2, -1, -1):   # a[i] ~ a[n-1]을 힙으로 만들기\n",
        "        down_heap(a, i, n - 1)\n",
        "\n",
        "    ## 2단계 ##\n",
        "    for i in range(n - 1, 0, -1):\n",
        "        a[0], a[i] = a[i], a[0]     # 최댓값인 a[0]과 마지막 원소 a[i]를 교환\n",
        "        down_heap(a, 0, i - 1)      # a[0] ~ a[i-1]을 힙으로 만들기\n",
        "\n",
        "if __name__ == '__main__':\n",
        "    print('힙 정렬을 수행합니다.')\n",
        "    num = int(input('원소 수를 입력하세요. : '))\n",
        "    x = [None] * num    # 원소 수가 num인 배열을 생성\n",
        "\n",
        "    for i in range(num):\n",
        "        x[i] = int(input(f'x[{i}] : '))\n",
        "\n",
        "    heap_sort(x)        # 배열 x를 힙 정렬\n",
        "\n",
        "    print('오름차순으로 정렬했습니다.')\n",
        "    for i in range(num):\n",
        "        print(f'x[{i}] = {x[i]}')"
      ],
      "metadata": {
        "id": "5WplHmYwPKmV",
        "colab": {
          "base_uri": "https://localhost:8080/"
        },
        "outputId": "cdb87948-42d9-4b9f-d719-0f01fc1ec8ac"
      },
      "execution_count": 2,
      "outputs": [
        {
          "output_type": "stream",
          "name": "stdout",
          "text": [
            "힙 정렬을 수행합니다.\n",
            "원소 수를 입력하세요. : 7\n",
            "x[0] : 6\n",
            "x[1] : 4\n",
            "x[2] : 3\n",
            "x[3] : 7\n",
            "x[4] : 1\n",
            "x[5] : 9\n",
            "x[6] : 8\n",
            "오름차순으로 정렬했습니다.\n",
            "x[0] = 1\n",
            "x[1] = 3\n",
            "x[2] = 4\n",
            "x[3] = 6\n",
            "x[4] = 7\n",
            "x[5] = 8\n",
            "x[6] = 9\n"
          ]
        }
      ]
    },
    {
      "cell_type": "markdown",
      "source": [
        "* 힙 정렬에서 원소를 선택하는 시간 복잡도 O(log n)\n",
        "* 힙 정렬은 원소의 개수만큼 작업을 반복 -> 전체 정렬에 걸리는 시간 복잡도는 O(n log n)"
      ],
      "metadata": {
        "id": "06Z94LOER-ad"
      }
    },
    {
      "cell_type": "markdown",
      "source": [
        "## heapq 모듈을 사용하는 힙 정렬"
      ],
      "metadata": {
        "id": "Xir2A862SofT"
      }
    },
    {
      "cell_type": "code",
      "source": [
        "import heapq\n",
        "from typing import MutableSequence\n",
        "\n",
        "def heap_sort(a: MutableSequence) -> None:\n",
        "  \"\"\"힙 정렬(heapq.push와 heapq.pop을 사용)\"\"\"\n",
        "\n",
        "  heap = []\n",
        "  for i in a:\n",
        "    heapq.heappush(heap, i)\n",
        "  \n",
        "  for i in range(len(a)):\n",
        "    a[i] = heapq.heappop(heap)\n",
        "\n",
        "if __name__ == '__main__':\n",
        "    print('힙 정렬을 수행합니다(heapq.push와 heapq.pop를 사용).')\n",
        "    num = int(input('원소 수를 입력하세요. : '))\n",
        "    x = [None] * num    # 원소 수가 num인 배열을 생성\n",
        "\n",
        "    for i in range(num):\n",
        "        x[i] = int(input(f'x[{i}] : '))\n",
        "\n",
        "    heap_sort(x)        # 배열 x를 힙 정렬\n",
        "\n",
        "    print('오름차순으로 정렬했습니다.')\n",
        "    for i in range(num):\n",
        "        print(f'x[{i}] = {x[i]}')"
      ],
      "metadata": {
        "colab": {
          "base_uri": "https://localhost:8080/"
        },
        "id": "aeBTVnYpSDiu",
        "outputId": "8b5b5582-c5b2-49f2-9b2c-6743b57da10a"
      },
      "execution_count": 3,
      "outputs": [
        {
          "output_type": "stream",
          "name": "stdout",
          "text": [
            "힙 정렬을 수행합니다(heapq.push와 heapq.pop를 사용).\n",
            "원소 수를 입력하세요. : 7\n",
            "x[0] : 6\n",
            "x[1] : 4\n",
            "x[2] : 3\n",
            "x[3] : 7\n",
            "x[4] : 1\n",
            "x[5] : 9\n",
            "x[6] : 8\n",
            "오름차순으로 정렬했습니다.\n",
            "x[0] = 1\n",
            "x[1] = 3\n",
            "x[2] = 4\n",
            "x[3] = 6\n",
            "x[4] = 7\n",
            "x[5] = 8\n",
            "x[6] = 9\n"
          ]
        }
      ]
    }
  ]
}