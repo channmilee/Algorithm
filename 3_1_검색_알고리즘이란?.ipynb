{
  "nbformat": 4,
  "nbformat_minor": 0,
  "metadata": {
    "colab": {
      "provenance": [],
      "authorship_tag": "ABX9TyM1Al7jzH5fyO4sP3uQmCBm",
      "include_colab_link": true
    },
    "kernelspec": {
      "name": "python3",
      "display_name": "Python 3"
    },
    "language_info": {
      "name": "python"
    }
  },
  "cells": [
    {
      "cell_type": "markdown",
      "metadata": {
        "id": "view-in-github",
        "colab_type": "text"
      },
      "source": [
        "<a href=\"https://colab.research.google.com/github/channmilee/Algorithm/blob/master/3_1_%EA%B2%80%EC%83%89_%EC%95%8C%EA%B3%A0%EB%A6%AC%EC%A6%98%EC%9D%B4%EB%9E%80%3F.ipynb\" target=\"_parent\"><img src=\"https://colab.research.google.com/assets/colab-badge.svg\" alt=\"Open In Colab\"/></a>"
      ]
    },
    {
      "cell_type": "markdown",
      "source": [
        "### 검색의 종류"
      ],
      "metadata": {
        "id": "48wLoZUGz2Wv"
      }
    },
    {
      "cell_type": "markdown",
      "source": [
        "1. 배열 검색\n",
        "  * 선형 검색 : 무작위로 늘어놓은 데이터 집합에서 검색 수행\n",
        "  * 이진 검색 : 일정한 규칙으로 늘어놓은 데이터 집합에서 아주 빠른 검색 수행\n",
        "  * 해시법 : 추가, 삭제가 자주 일어나는 데이터 집합에서 아주 빠른 검색 수행\n",
        "    * 체인법 : 같은 해시값 데이터를 연결 리스트로 연결\n",
        "    * 오픈 주소법: 데이터를 위한 해시값이 충돌할 때 재해시하는 방법\n",
        "2. 연결 리스트 검색\n",
        "3. 이진 검색 트리 검색"
      ],
      "metadata": {
        "id": "BbHvSSiMzyhN"
      }
    },
    {
      "cell_type": "markdown",
      "source": [
        "* 용도, 목적, 실행 속도, 자료 구조 등 여러 사항을 고려해 알고리즘을 선택해야 함"
      ],
      "metadata": {
        "id": "nr68j0MU2E58"
      }
    }
  ]
}